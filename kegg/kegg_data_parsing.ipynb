{
 "cells": [
  {
   "cell_type": "markdown",
   "id": "ec54f537",
   "metadata": {},
   "source": [
    "# Steps\n",
    "\n",
    "1. Get cofactors and vitamin information from KEGG\n",
    "2. Preprocess substrates to get rid of coenzymes. \n",
    "3. There are gene sequences for each ec, there are substrates for each ec. Need to map sequences to number of substrates."
   ]
  },
  {
   "cell_type": "code",
   "execution_count": 24,
   "id": "6946a421",
   "metadata": {},
   "outputs": [],
   "source": [
    "import requests\n",
    "import os"
   ]
  },
  {
   "cell_type": "code",
   "execution_count": 25,
   "id": "563ed498",
   "metadata": {},
   "outputs": [],
   "source": [
    "r = requests.get(\"http://rest.kegg.jp/get/br:br08001/json\")"
   ]
  },
  {
   "cell_type": "code",
   "execution_count": 26,
   "id": "9be0ee0a",
   "metadata": {
    "scrolled": true
   },
   "outputs": [
    {
     "data": {
      "text/plain": [
       "200"
      ]
     },
     "execution_count": 26,
     "metadata": {},
     "output_type": "execute_result"
    }
   ],
   "source": [
    "r.status_code"
   ]
  },
  {
   "cell_type": "code",
   "execution_count": 27,
   "id": "d47718b7",
   "metadata": {
    "scrolled": true
   },
   "outputs": [],
   "source": [
    "comp_dict = r.json()"
   ]
  },
  {
   "cell_type": "code",
   "execution_count": 28,
   "id": "b96f87b3",
   "metadata": {},
   "outputs": [],
   "source": [
    "fat_soluble_vitamins = [d[\"name\"] for d in comp_dict[\"children\"][5][\"children\"][0][\"children\"][0][\"children\"]]"
   ]
  },
  {
   "cell_type": "code",
   "execution_count": 29,
   "id": "4469a4c2",
   "metadata": {},
   "outputs": [],
   "source": [
    "water_soluble_vitamins = [d[\"name\"] for d in comp_dict[\"children\"][5][\"children\"][0][\"children\"][1][\"children\"]]"
   ]
  },
  {
   "cell_type": "code",
   "execution_count": 30,
   "id": "db4845a0",
   "metadata": {},
   "outputs": [],
   "source": [
    "vitamins = fat_soluble_vitamins + water_soluble_vitamins"
   ]
  },
  {
   "cell_type": "code",
   "execution_count": 31,
   "id": "dbe1528c",
   "metadata": {},
   "outputs": [],
   "source": [
    "co_factors = [d[\"name\"] for d in comp_dict[\"children\"][5][\"children\"][1][\"children\"][0][\"children\"]]"
   ]
  },
  {
   "cell_type": "code",
   "execution_count": 32,
   "id": "3c489096",
   "metadata": {},
   "outputs": [],
   "source": [
    "vit_id = [v.split()[0] for v in vitamins]\n",
    "vit_name = [v.split()[1] for v in vitamins]\n",
    "vitamins_dict = dict(zip(vit_id, vit_name))"
   ]
  },
  {
   "cell_type": "code",
   "execution_count": 33,
   "id": "ac7fd212",
   "metadata": {},
   "outputs": [],
   "source": [
    "cofac_id = [c.split()[0] for c in co_factors]\n",
    "cofac_name = [c.split()[1] for c in co_factors]\n",
    "cofactor_dict = dict(zip(cofac_id, cofac_name))"
   ]
  },
  {
   "cell_type": "code",
   "execution_count": 34,
   "id": "2969ba2f",
   "metadata": {},
   "outputs": [],
   "source": [
    "subs_dir = \"./data/ec_subs_info/\"\n",
    "subs_files = [subs_dir + f.name for f in os.scandir(subs_dir)]"
   ]
  },
  {
   "cell_type": "code",
   "execution_count": 35,
   "id": "383b5cde",
   "metadata": {},
   "outputs": [],
   "source": [
    "subs_file = \"./data/ec_subs_info/ec:1.1.1.1.txt\""
   ]
  },
  {
   "cell_type": "code",
   "execution_count": 36,
   "id": "79aadab5",
   "metadata": {},
   "outputs": [],
   "source": [
    "all_subs = []\n",
    "\n",
    "for subs_file in subs_files:\n",
    "    with open(subs_file, \"r\") as f:\n",
    "        for lines in f:\n",
    "            all_subs.append(lines.strip().strip(\";\"))"
   ]
  },
  {
   "cell_type": "code",
   "execution_count": 37,
   "id": "3dca73c6",
   "metadata": {},
   "outputs": [
    {
     "data": {
      "text/plain": [
       "3415"
      ]
     },
     "execution_count": 37,
     "metadata": {},
     "output_type": "execute_result"
    }
   ],
   "source": [
    "len(set(all_subs))"
   ]
  },
  {
   "cell_type": "code",
   "execution_count": 38,
   "id": "a92514f5",
   "metadata": {},
   "outputs": [],
   "source": [
    "all_subs_set = set(all_subs)"
   ]
  },
  {
   "cell_type": "code",
   "execution_count": 39,
   "id": "6c10fee5",
   "metadata": {},
   "outputs": [],
   "source": [
    "all_subs_set_list = list(all_subs_set)"
   ]
  },
  {
   "cell_type": "code",
   "execution_count": 41,
   "id": "f5119454",
   "metadata": {},
   "outputs": [],
   "source": [
    "# Create unique substrate file list\n",
    "uniq_subs_file = \"./data/subs_info/unique_subs.txt\"\n",
    "with open(uniq_subs_file, \"w\") as f:\n",
    "    for subs in all_subs_set_list:\n",
    "        f.write(subs + \";\\n\")"
   ]
  },
  {
   "cell_type": "markdown",
   "id": "ac39b979",
   "metadata": {},
   "source": [
    "# Annotate the list manually\n",
    "\n",
    "## Questions\n",
    "1. dATP a substrate?\n",
    "2. ATP, GDP substrates?\n",
    "3. side1 substrates?\n",
    "4. tRNA substrates?"
   ]
  },
  {
   "cell_type": "code",
   "execution_count": null,
   "id": "df814fe9",
   "metadata": {},
   "outputs": [],
   "source": []
  }
 ],
 "metadata": {
  "kernelspec": {
   "display_name": "Python 3",
   "language": "python",
   "name": "python3"
  },
  "language_info": {
   "codemirror_mode": {
    "name": "ipython",
    "version": 3
   },
   "file_extension": ".py",
   "mimetype": "text/x-python",
   "name": "python",
   "nbconvert_exporter": "python",
   "pygments_lexer": "ipython3",
   "version": "3.9.2"
  }
 },
 "nbformat": 4,
 "nbformat_minor": 5
}

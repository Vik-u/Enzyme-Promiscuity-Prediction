{
 "cells": [
  {
   "cell_type": "code",
   "execution_count": 1,
   "id": "50530a83",
   "metadata": {},
   "outputs": [],
   "source": [
    "import os"
   ]
  },
  {
   "cell_type": "code",
   "execution_count": 2,
   "id": "d8ca0bf5",
   "metadata": {},
   "outputs": [],
   "source": [
    "try_seq = 'MRAVRLVEIGKPLSLQEIGVPKPKGPQVLIKVEAAGVCHSDVHMRQGRFGNLRIVEDLGVKLPVTLGHEIAGKIEEVGDEVVGYSKGDLVAVNPWQGEGNCYYCRIGEEHLCDSPRWLGINFDGAYAEYVIVPHYKYMYKLRRLNAVEAAPLTCSGITTYRAVRKASLDPTKTLLVVGAGGGLGTMAVQIAKAVSGATIIGVDVREEAVEAAKRAGADYVINASMQDPLAEIRRITESKGVDAVIDLNNSEKTLSVYPKALAKQGKYVMVGLFGADLHYHAPLITLSEIQFVGSLVGNQSDFLGIMRLAEAGKVKPMITKTMKLEEANEAIDNLENFKAIGRQVLIP'"
   ]
  },
  {
   "cell_type": "code",
   "execution_count": 3,
   "id": "6c68eb41",
   "metadata": {},
   "outputs": [],
   "source": [
    "def get_mol_sig(prot_seq, p_dist=5):\n",
    "    \"\"\"Get the molecular signatures for a protein sequence\"\"\"\n",
    "    \n",
    "    psig = []\n",
    "\n",
    "    len_seq = len(prot_seq)\n",
    "\n",
    "    for i in range(len_seq):\n",
    "        if i < p_dist:\n",
    "            psig.append(prot_seq[0:i+p_dist + 1])\n",
    "        elif len_seq - i <= p_dist:\n",
    "            psig.append(prot_seq[i-p_dist:len_seq])\n",
    "        else:\n",
    "            psig.append(prot_seq[i-p_dist:i+p_dist + 1])\n",
    "    \n",
    "    return psig"
   ]
  },
  {
   "cell_type": "markdown",
   "id": "47905d04",
   "metadata": {},
   "source": [
    "# Sequences in Kegg"
   ]
  },
  {
   "cell_type": "code",
   "execution_count": 4,
   "id": "c18cc191",
   "metadata": {},
   "outputs": [],
   "source": [
    "seq_dir = \"./data/gene_info/\"\n",
    "\n",
    "total_sequences = 0\n",
    "\n",
    "for f in os.scandir(seq_dir):\n",
    "    filename = f.name\n",
    "    if filename.endswith(\".txt\"):\n",
    "        stream = open(seq_dir + filename)\n",
    "        lines = stream.readlines()\n",
    "        sequences = len(lines)/2\n",
    "        total_sequences += sequences"
   ]
  },
  {
   "cell_type": "code",
   "execution_count": 5,
   "id": "9174a54e",
   "metadata": {},
   "outputs": [
    {
     "data": {
      "text/plain": [
       "40870.0"
      ]
     },
     "execution_count": 5,
     "metadata": {},
     "output_type": "execute_result"
    }
   ],
   "source": [
    "total_sequences"
   ]
  },
  {
   "cell_type": "code",
   "execution_count": 6,
   "id": "ff5b2c29",
   "metadata": {},
   "outputs": [
    {
     "data": {
      "text/plain": [
       "3452"
      ]
     },
     "execution_count": 6,
     "metadata": {},
     "output_type": "execute_result"
    }
   ],
   "source": [
    "len([f.name for f in os.scandir(seq_dir)])"
   ]
  },
  {
   "cell_type": "code",
   "execution_count": 10,
   "id": "02d5b6ab",
   "metadata": {},
   "outputs": [
    {
     "name": "stdout",
     "output_type": "stream",
     "text": [
      "*********"
     ]
    }
   ],
   "source": [
    "seq_num = 0\n",
    "\n",
    "ec_name = []\n",
    "enz_name = []\n",
    "enz_sig = []\n",
    "\n",
    "for f in os.scandir(seq_dir):\n",
    "    filename = f.name\n",
    "    if filename.endswith(\".txt\"):\n",
    "        stream = open(seq_dir + filename)\n",
    "        lines = stream.readlines()\n",
    "        for line in lines:\n",
    "            \n",
    "            parsed_line = line.strip()\n",
    "            if line.startswith(\">\"):\n",
    "                enz_name.append(parsed_line)\n",
    "                ec_name.append(f.name[:-4])\n",
    "            else:\n",
    "                seq_sig = get_mol_sig(parsed_line)\n",
    "                enz_sig.append(seq_sig)\n",
    "                \n",
    "            seq_num += 1\n",
    "            \n",
    "            curr_progress = seq_num/total_sequences\n",
    "            if curr_progress in [0.1, 0.2, 0.3, 0.4, 0.5, 0.6, 0.7, 0.8, 0.9]:\n",
    "                print(\"\", end=\"*\")"
   ]
  }
 ],
 "metadata": {
  "kernelspec": {
   "display_name": "Python 3",
   "language": "python",
   "name": "python3"
  },
  "language_info": {
   "codemirror_mode": {
    "name": "ipython",
    "version": 3
   },
   "file_extension": ".py",
   "mimetype": "text/x-python",
   "name": "python",
   "nbconvert_exporter": "python",
   "pygments_lexer": "ipython3",
   "version": "3.9.2"
  }
 },
 "nbformat": 4,
 "nbformat_minor": 5
}

{
 "cells": [
  {
   "cell_type": "code",
   "execution_count": 1,
   "id": "47f69d69",
   "metadata": {},
   "outputs": [],
   "source": [
    "import os\n",
    "import json\n",
    "import itertools"
   ]
  },
  {
   "cell_type": "markdown",
   "id": "c2934fde",
   "metadata": {},
   "source": [
    "Given an enzyme file\n",
    "\n",
    "1. Parse the EC number\n",
    "2. Get all genes and their sequence for that EC number\n",
    "3. Encode all sequences as molecular signature\n",
    "4. Get compound ids for that EC number\n",
    "5. Get molecular signature for the compounds\n",
    "6. Cross product sequences and compunds molecular signature"
   ]
  },
  {
   "cell_type": "code",
   "execution_count": 2,
   "id": "86f013a6",
   "metadata": {},
   "outputs": [],
   "source": [
    "ec2seq_dir_path = \"./data/gene_info/\"\n",
    "all_ec2seq_files = [os.path.join(ec2seq_dir_path, f.name) for f in os.scandir(ec2seq_dir_path) if f.name.endswith(\".txt\")] "
   ]
  },
  {
   "cell_type": "code",
   "execution_count": 3,
   "id": "e0459d33",
   "metadata": {},
   "outputs": [],
   "source": [
    "ec2subs_file_path = \"./data/primary_substrate_cid_byECid.json\"\n",
    "ec2subs_file = json.load(open(ec2subs_file_path, \"r\"))"
   ]
  },
  {
   "cell_type": "code",
   "execution_count": 4,
   "id": "70c9e959",
   "metadata": {},
   "outputs": [
    {
     "name": "stdout",
     "output_type": "stream",
     "text": [
      "**********"
     ]
    }
   ],
   "source": [
    "training_datafile = open(\"./data/training_raw.csv\", \"w\")\n",
    "training_fastafile = open(\"./data/training_fasta.fa\", \"w\")\n",
    "\n",
    "i = 0\n",
    "i100 = len(all_ec2seq_files)\n",
    "i10 = i100//10\n",
    "progress = list(range(i10, i100, i10))\n",
    "fasta_set = set()\n",
    "\n",
    "for ec2seqfile in all_ec2seq_files:\n",
    "    \n",
    "    if i in progress:\n",
    "        print(\"*\", end=\"\")\n",
    "    \n",
    "    # getting all the sequences mapped to an ec\n",
    "    seq_file_stream = open(ec2seqfile, \"r\")\n",
    "    seq_name = []\n",
    "    seq = []\n",
    "    for line in seq_file_stream.readlines():\n",
    "        if line.startswith(\">\"):\n",
    "            parsed_line = line.strip().replace(\">\", \"\")\n",
    "            seq_name.append(parsed_line)\n",
    "        else:\n",
    "            parsed_line = line.strip()\n",
    "            if len(parsed_line) > 50:\n",
    "                seq.append(parsed_line)\n",
    "            else:\n",
    "                print(len(seq))\n",
    "                _ = seq_name.pop()\n",
    "            \n",
    "    \n",
    "    ec_num = os.path.basename(ec2seqfile).replace(\"ec:\", \"\").replace(\".txt\", \"\")\n",
    "    subs = ec2subs_file[ec_num]\n",
    "    enz_info = zip(seq_name, seq)\n",
    "    \n",
    "    training_info = list(itertools.product(enz_info, subs))\n",
    "    \n",
    "    for info in training_info:\n",
    "        seq_name = info[0][0]\n",
    "        seq = info[0][1]\n",
    "        subs = info [1]\n",
    "        \n",
    "        training_datafile.write(f\"{seq_name},{seq},{subs}\\n\")\n",
    "        if seq_name not in fasta_set:\n",
    "            fasta_set.add(seq_name)\n",
    "            training_fastafile.write(f\">{seq_name}\\n{seq}\\n\")\n",
    "    \n",
    "    i+=1\n",
    "\n",
    "training_datafile.close()    "
   ]
  },
  {
   "cell_type": "code",
   "execution_count": 5,
   "id": "52104546",
   "metadata": {},
   "outputs": [],
   "source": [
    "training_fastafile.close()"
   ]
  },
  {
   "cell_type": "code",
   "execution_count": 3,
   "id": "95f1d951",
   "metadata": {},
   "outputs": [],
   "source": [
    "with open(\"./data/training_fasta.fa\", \"r\") as f:\n",
    "    for line in f:\n",
    "        if line.startswith(\">\"):\n",
    "            pass\n",
    "        else:\n",
    "            parsed_line = line.strip()\n",
    "            if len(parsed_line) < 50:\n",
    "                print(parsed_line)"
   ]
  },
  {
   "cell_type": "code",
   "execution_count": null,
   "id": "116d38e8",
   "metadata": {},
   "outputs": [],
   "source": []
  }
 ],
 "metadata": {
  "kernelspec": {
   "display_name": "Python 3",
   "language": "python",
   "name": "python3"
  },
  "language_info": {
   "codemirror_mode": {
    "name": "ipython",
    "version": 3
   },
   "file_extension": ".py",
   "mimetype": "text/x-python",
   "name": "python",
   "nbconvert_exporter": "python",
   "pygments_lexer": "ipython3",
   "version": "3.9.4"
  }
 },
 "nbformat": 4,
 "nbformat_minor": 5
}

{
 "cells": [
  {
   "cell_type": "code",
   "execution_count": 2,
   "id": "53d4f2c5",
   "metadata": {},
   "outputs": [],
   "source": [
    "from sklearn.model_selection import train_test_split\n",
    "\n",
    "import pandas as pd\n",
    "\n",
    "import numpy as np\n",
    "\n",
    "from scipy.sparse import coo_matrix\n",
    "\n",
    "from sklearn.neighbors import KernelDensity\n",
    "\n",
    "from ifeatpro.features import get_feature, get_all_features"
   ]
  },
  {
   "cell_type": "markdown",
   "id": "c2eb28ec",
   "metadata": {},
   "source": [
    "1. Get training data\n",
    "2. Create training and validation set\n",
    "3. Create molecular signature for train protein sequences\n",
    "4. Get substrate molecular signature file\n",
    "5. Get substrate molecular signature\n",
    "6. Encode into a single vector\n",
    "7. Train KDE model\n",
    "8. Create random substrate-enzyme pairs\n",
    "9. Evaluate model"
   ]
  },
  {
   "cell_type": "code",
   "execution_count": 2,
   "id": "c7c8b53d",
   "metadata": {},
   "outputs": [],
   "source": [
    "# substrate encoding\n",
    "subs_encoding_file= \"./data/MolecularSignatureKEGGComp/mol_sig_matrix_kegg_comp.csv\"\n",
    "\n",
    "df_subs = pd.read_csv(subs_encoding_file, index_col=0).T"
   ]
  },
  {
   "cell_type": "markdown",
   "id": "46cead68",
   "metadata": {},
   "source": [
    "# Sequence Encoding\n",
    "\n",
    "1. encode them as all ifeature encodings"
   ]
  },
  {
   "cell_type": "code",
   "execution_count": 3,
   "id": "e28206e2",
   "metadata": {
    "scrolled": true
   },
   "outputs": [
    {
     "name": "stdout",
     "output_type": "stream",
     "text": [
      "Help on function get_feature in module ifeatpro.features:\n",
      "\n",
      "get_feature(protein_fasta_file, feature_type, output_dir)\n",
      "    A function to create numerically encoded feature of a specific type for protein sequences\n",
      "    :param protein_fasta_file: The path to a file that contains all the protein sequences in fasta format\n",
      "    :param feature_type: The feature encoding type. Must be one of the 21 types mentioned in README\n",
      "    :param output_dir: The path to a directory where the feature encoded files will be stored\n",
      "    :return: Name of the output file where the features are stored\n",
      "\n"
     ]
    }
   ],
   "source": [
    "help(get_feature)"
   ]
  },
  {
   "cell_type": "code",
   "execution_count": null,
   "id": "158b3f8d",
   "metadata": {},
   "outputs": [
    {
     "name": "stdout",
     "output_type": "stream",
     "text": [
      "Descriptor type: moran\n"
     ]
    }
   ],
   "source": [
    "\"\"\"\n",
    "moran\n",
    "geary\n",
    "nmbroto\n",
    "ctdc\n",
    "ctdt\n",
    "ctdd\n",
    "ctriad\n",
    "ksctriad\n",
    "socnumber\n",
    "qsorder\n",
    "paac\n",
    "apaac\n",
    "\"\"\"\n",
    "\n",
    "get_feature(\"./data/training_fasta.fa\", \"moran\", \"./data/enz_ifeatures/\")"
   ]
  },
  {
   "cell_type": "code",
   "execution_count": 5,
   "id": "0b1c04c6",
   "metadata": {
    "scrolled": true
   },
   "outputs": [],
   "source": [
    "# get_all_features(\"./data/training_fasta.fa\", \"./data/enz_ifeatures/\")"
   ]
  },
  {
   "cell_type": "code",
   "execution_count": 6,
   "id": "7781fcc8",
   "metadata": {},
   "outputs": [],
   "source": [
    "train_filepath = \"./data/training_raw.csv\"\n",
    "train_file = open(train_filepath, \"r\")\n",
    "\n",
    "X_raw = []\n",
    "for i,line in enumerate(train_file):\n",
    "    name, seq, subs = line.strip().split(\",\")\n",
    "    X_raw.append((name, seq, subs))\n"
   ]
  },
  {
   "cell_type": "code",
   "execution_count": 7,
   "id": "68366448",
   "metadata": {},
   "outputs": [],
   "source": [
    "X_train, X_valid = train_test_split(X_raw, random_state=10)"
   ]
  },
  {
   "cell_type": "code",
   "execution_count": 8,
   "id": "0e47860c",
   "metadata": {},
   "outputs": [],
   "source": [
    "# filter X_train and X_valid\n",
    "X_train = [x for x in X_train if x[2] in df_subs.index]\n",
    "X_valid = [x for x in X_valid if x[2] in df_subs.index]"
   ]
  },
  {
   "cell_type": "code",
   "execution_count": 9,
   "id": "1ba8e229",
   "metadata": {},
   "outputs": [
    {
     "data": {
      "text/plain": [
       "51994"
      ]
     },
     "execution_count": 9,
     "metadata": {},
     "output_type": "execute_result"
    }
   ],
   "source": [
    "len(X_train)"
   ]
  },
  {
   "cell_type": "code",
   "execution_count": 10,
   "id": "2297ced8",
   "metadata": {},
   "outputs": [
    {
     "data": {
      "text/plain": [
       "17415"
      ]
     },
     "execution_count": 10,
     "metadata": {},
     "output_type": "execute_result"
    }
   ],
   "source": [
    "len(X_valid)"
   ]
  },
  {
   "cell_type": "code",
   "execution_count": 11,
   "id": "1c3584d6",
   "metadata": {},
   "outputs": [],
   "source": [
    "X_train_name = [x[0] for x in X_train]\n",
    "X_train_seq = [x[1] for x in X_train]\n",
    "X_train_subs = [x[2] for x in X_train]\n",
    "\n",
    "X_valid_name = [x[0] for x in X_valid]\n",
    "X_valid_seq = [x[1] for x in X_valid]\n",
    "X_valid_subs = [x[2] for x in X_valid]"
   ]
  },
  {
   "cell_type": "code",
   "execution_count": 12,
   "id": "afcc1b75",
   "metadata": {},
   "outputs": [],
   "source": [
    "X_enc = pd.read_csv(\"./data/enz_ifeatures/dde.csv\", index_col=0)"
   ]
  },
  {
   "cell_type": "code",
   "execution_count": 13,
   "id": "4d419372",
   "metadata": {},
   "outputs": [],
   "source": [
    "X_enc_train = X_enc.loc[X_train_name, :]\n",
    "X_enc_valid = X_enc.loc[X_valid_name, :]"
   ]
  },
  {
   "cell_type": "code",
   "execution_count": 14,
   "id": "bc46d930",
   "metadata": {
    "scrolled": true
   },
   "outputs": [
    {
     "data": {
      "text/html": [
       "<div>\n",
       "<style scoped>\n",
       "    .dataframe tbody tr th:only-of-type {\n",
       "        vertical-align: middle;\n",
       "    }\n",
       "\n",
       "    .dataframe tbody tr th {\n",
       "        vertical-align: top;\n",
       "    }\n",
       "\n",
       "    .dataframe thead th {\n",
       "        text-align: right;\n",
       "    }\n",
       "</style>\n",
       "<table border=\"1\" class=\"dataframe\">\n",
       "  <thead>\n",
       "    <tr style=\"text-align: right;\">\n",
       "      <th></th>\n",
       "      <th>AA</th>\n",
       "      <th>AC</th>\n",
       "      <th>AD</th>\n",
       "      <th>AE</th>\n",
       "      <th>AF</th>\n",
       "      <th>AG</th>\n",
       "      <th>AH</th>\n",
       "      <th>AI</th>\n",
       "      <th>AK</th>\n",
       "      <th>AL</th>\n",
       "      <th>...</th>\n",
       "      <th>YM</th>\n",
       "      <th>YN</th>\n",
       "      <th>YP</th>\n",
       "      <th>YQ</th>\n",
       "      <th>YR</th>\n",
       "      <th>YS</th>\n",
       "      <th>YT</th>\n",
       "      <th>YV</th>\n",
       "      <th>YW</th>\n",
       "      <th>YY</th>\n",
       "    </tr>\n",
       "    <tr>\n",
       "      <th>#</th>\n",
       "      <th></th>\n",
       "      <th></th>\n",
       "      <th></th>\n",
       "      <th></th>\n",
       "      <th></th>\n",
       "      <th></th>\n",
       "      <th></th>\n",
       "      <th></th>\n",
       "      <th></th>\n",
       "      <th></th>\n",
       "      <th></th>\n",
       "      <th></th>\n",
       "      <th></th>\n",
       "      <th></th>\n",
       "      <th></th>\n",
       "      <th></th>\n",
       "      <th></th>\n",
       "      <th></th>\n",
       "      <th></th>\n",
       "      <th></th>\n",
       "      <th></th>\n",
       "    </tr>\n",
       "  </thead>\n",
       "  <tbody>\n",
       "    <tr>\n",
       "      <th>hsa:4976</th>\n",
       "      <td>-0.061009</td>\n",
       "      <td>-0.740270</td>\n",
       "      <td>-0.740270</td>\n",
       "      <td>2.048437</td>\n",
       "      <td>-0.043093</td>\n",
       "      <td>-1.541540</td>\n",
       "      <td>-0.740270</td>\n",
       "      <td>1.086292</td>\n",
       "      <td>-0.043093</td>\n",
       "      <td>0.731969</td>\n",
       "      <td>...</td>\n",
       "      <td>0.675085</td>\n",
       "      <td>-0.030455</td>\n",
       "      <td>-0.740270</td>\n",
       "      <td>1.940397</td>\n",
       "      <td>-1.191906</td>\n",
       "      <td>-1.191906</td>\n",
       "      <td>-0.740270</td>\n",
       "      <td>-1.437447</td>\n",
       "      <td>0.675085</td>\n",
       "      <td>0.954971</td>\n",
       "    </tr>\n",
       "    <tr>\n",
       "      <th>ggo:101128753</th>\n",
       "      <td>0.037596</td>\n",
       "      <td>-0.694715</td>\n",
       "      <td>-0.694715</td>\n",
       "      <td>-0.694715</td>\n",
       "      <td>0.747826</td>\n",
       "      <td>0.037596</td>\n",
       "      <td>0.747826</td>\n",
       "      <td>1.505623</td>\n",
       "      <td>-0.694715</td>\n",
       "      <td>-0.371230</td>\n",
       "      <td>...</td>\n",
       "      <td>-0.347077</td>\n",
       "      <td>-0.490973</td>\n",
       "      <td>-0.694715</td>\n",
       "      <td>-0.490973</td>\n",
       "      <td>-0.851307</td>\n",
       "      <td>0.327158</td>\n",
       "      <td>0.747826</td>\n",
       "      <td>-0.694715</td>\n",
       "      <td>2.535677</td>\n",
       "      <td>-0.490973</td>\n",
       "    </tr>\n",
       "    <tr>\n",
       "      <th>ptr:457477</th>\n",
       "      <td>0.442999</td>\n",
       "      <td>-0.568497</td>\n",
       "      <td>-0.568497</td>\n",
       "      <td>-0.568497</td>\n",
       "      <td>1.194317</td>\n",
       "      <td>-0.804844</td>\n",
       "      <td>2.957132</td>\n",
       "      <td>0.743469</td>\n",
       "      <td>-0.568497</td>\n",
       "      <td>1.053129</td>\n",
       "      <td>...</td>\n",
       "      <td>-0.284019</td>\n",
       "      <td>-0.401772</td>\n",
       "      <td>2.957132</td>\n",
       "      <td>-0.401772</td>\n",
       "      <td>-0.696639</td>\n",
       "      <td>0.743469</td>\n",
       "      <td>1.194317</td>\n",
       "      <td>-0.568497</td>\n",
       "      <td>-0.284019</td>\n",
       "      <td>2.089882</td>\n",
       "    </tr>\n",
       "    <tr>\n",
       "      <th>tac:Ta0619</th>\n",
       "      <td>3.387541</td>\n",
       "      <td>-0.787732</td>\n",
       "      <td>0.484469</td>\n",
       "      <td>0.484469</td>\n",
       "      <td>-0.787732</td>\n",
       "      <td>1.586435</td>\n",
       "      <td>-0.787732</td>\n",
       "      <td>-0.965291</td>\n",
       "      <td>-0.787732</td>\n",
       "      <td>0.104845</td>\n",
       "      <td>...</td>\n",
       "      <td>-0.393548</td>\n",
       "      <td>1.241485</td>\n",
       "      <td>1.756671</td>\n",
       "      <td>-0.556711</td>\n",
       "      <td>-0.965291</td>\n",
       "      <td>0.074017</td>\n",
       "      <td>0.484469</td>\n",
       "      <td>-0.787732</td>\n",
       "      <td>-0.393548</td>\n",
       "      <td>1.241485</td>\n",
       "    </tr>\n",
       "    <tr>\n",
       "      <th>pmex:H4W19_11290</th>\n",
       "      <td>3.525268</td>\n",
       "      <td>-0.392928</td>\n",
       "      <td>2.901909</td>\n",
       "      <td>4.549327</td>\n",
       "      <td>-1.216637</td>\n",
       "      <td>0.609874</td>\n",
       "      <td>2.078200</td>\n",
       "      <td>-1.490873</td>\n",
       "      <td>-1.216637</td>\n",
       "      <td>3.607328</td>\n",
       "      <td>...</td>\n",
       "      <td>-0.607827</td>\n",
       "      <td>0.304445</td>\n",
       "      <td>-0.392928</td>\n",
       "      <td>0.304445</td>\n",
       "      <td>-0.145036</td>\n",
       "      <td>-0.817955</td>\n",
       "      <td>0.430781</td>\n",
       "      <td>0.430781</td>\n",
       "      <td>-0.607827</td>\n",
       "      <td>-0.859829</td>\n",
       "    </tr>\n",
       "  </tbody>\n",
       "</table>\n",
       "<p>5 rows × 400 columns</p>\n",
       "</div>"
      ],
      "text/plain": [
       "                        AA        AC        AD        AE        AF        AG  \\\n",
       "#                                                                              \n",
       "hsa:4976         -0.061009 -0.740270 -0.740270  2.048437 -0.043093 -1.541540   \n",
       "ggo:101128753     0.037596 -0.694715 -0.694715 -0.694715  0.747826  0.037596   \n",
       "ptr:457477        0.442999 -0.568497 -0.568497 -0.568497  1.194317 -0.804844   \n",
       "tac:Ta0619        3.387541 -0.787732  0.484469  0.484469 -0.787732  1.586435   \n",
       "pmex:H4W19_11290  3.525268 -0.392928  2.901909  4.549327 -1.216637  0.609874   \n",
       "\n",
       "                        AH        AI        AK        AL  ...        YM  \\\n",
       "#                                                         ...             \n",
       "hsa:4976         -0.740270  1.086292 -0.043093  0.731969  ...  0.675085   \n",
       "ggo:101128753     0.747826  1.505623 -0.694715 -0.371230  ... -0.347077   \n",
       "ptr:457477        2.957132  0.743469 -0.568497  1.053129  ... -0.284019   \n",
       "tac:Ta0619       -0.787732 -0.965291 -0.787732  0.104845  ... -0.393548   \n",
       "pmex:H4W19_11290  2.078200 -1.490873 -1.216637  3.607328  ... -0.607827   \n",
       "\n",
       "                        YN        YP        YQ        YR        YS        YT  \\\n",
       "#                                                                              \n",
       "hsa:4976         -0.030455 -0.740270  1.940397 -1.191906 -1.191906 -0.740270   \n",
       "ggo:101128753    -0.490973 -0.694715 -0.490973 -0.851307  0.327158  0.747826   \n",
       "ptr:457477       -0.401772  2.957132 -0.401772 -0.696639  0.743469  1.194317   \n",
       "tac:Ta0619        1.241485  1.756671 -0.556711 -0.965291  0.074017  0.484469   \n",
       "pmex:H4W19_11290  0.304445 -0.392928  0.304445 -0.145036 -0.817955  0.430781   \n",
       "\n",
       "                        YV        YW        YY  \n",
       "#                                               \n",
       "hsa:4976         -1.437447  0.675085  0.954971  \n",
       "ggo:101128753    -0.694715  2.535677 -0.490973  \n",
       "ptr:457477       -0.568497 -0.284019  2.089882  \n",
       "tac:Ta0619       -0.787732 -0.393548  1.241485  \n",
       "pmex:H4W19_11290  0.430781 -0.607827 -0.859829  \n",
       "\n",
       "[5 rows x 400 columns]"
      ]
     },
     "execution_count": 14,
     "metadata": {},
     "output_type": "execute_result"
    }
   ],
   "source": [
    "X_enc_train.head()"
   ]
  },
  {
   "cell_type": "code",
   "execution_count": 15,
   "id": "80207869",
   "metadata": {},
   "outputs": [
    {
     "data": {
      "text/plain": [
       "(51994, 17415)"
      ]
     },
     "execution_count": 15,
     "metadata": {},
     "output_type": "execute_result"
    }
   ],
   "source": [
    "len(X_enc_train), len(X_enc_valid)"
   ]
  },
  {
   "cell_type": "markdown",
   "id": "25886b9b",
   "metadata": {},
   "source": [
    "# Substrate Encoding"
   ]
  },
  {
   "cell_type": "code",
   "execution_count": 16,
   "id": "4d8b0532",
   "metadata": {},
   "outputs": [
    {
     "data": {
      "text/plain": [
       "2178"
      ]
     },
     "execution_count": 16,
     "metadata": {},
     "output_type": "execute_result"
    }
   ],
   "source": [
    "len(set(df_subs.index).intersection(set(X_train_subs)))"
   ]
  },
  {
   "cell_type": "code",
   "execution_count": 17,
   "id": "55cd0951",
   "metadata": {},
   "outputs": [
    {
     "data": {
      "text/plain": [
       "2178"
      ]
     },
     "execution_count": 17,
     "metadata": {},
     "output_type": "execute_result"
    }
   ],
   "source": [
    "len(set(X_train_subs))"
   ]
  },
  {
   "cell_type": "code",
   "execution_count": 18,
   "id": "12c60dc4",
   "metadata": {},
   "outputs": [
    {
     "data": {
      "text/plain": [
       "(1963, 1963)"
      ]
     },
     "execution_count": 18,
     "metadata": {},
     "output_type": "execute_result"
    }
   ],
   "source": [
    "len(set(X_valid_subs)), len(set(df_subs.index).intersection(set(X_valid_subs)))"
   ]
  },
  {
   "cell_type": "code",
   "execution_count": 19,
   "id": "6e2a0406",
   "metadata": {},
   "outputs": [
    {
     "data": {
      "text/html": [
       "<div>\n",
       "<style scoped>\n",
       "    .dataframe tbody tr th:only-of-type {\n",
       "        vertical-align: middle;\n",
       "    }\n",
       "\n",
       "    .dataframe tbody tr th {\n",
       "        vertical-align: top;\n",
       "    }\n",
       "\n",
       "    .dataframe thead th {\n",
       "        text-align: right;\n",
       "    }\n",
       "</style>\n",
       "<table border=\"1\" class=\"dataframe\">\n",
       "  <thead>\n",
       "    <tr style=\"text-align: right;\">\n",
       "      <th></th>\n",
       "      <th>O</th>\n",
       "      <th>cN</th>\n",
       "      <th>cc(n)N</th>\n",
       "      <th>cc(c)n</th>\n",
       "      <th>cnc</th>\n",
       "      <th>ncn</th>\n",
       "      <th>cn(c)C</th>\n",
       "      <th>C[C@H](n)O</th>\n",
       "      <th>COC</th>\n",
       "      <th>C[C@H](C)O</th>\n",
       "      <th>...</th>\n",
       "      <th>[NH]N</th>\n",
       "      <th>[N]=N[NH]</th>\n",
       "      <th>CC(=C)[N+]</th>\n",
       "      <th>C/C(=C)N</th>\n",
       "      <th>co[nH]</th>\n",
       "      <th>c[nH]o</th>\n",
       "      <th>CS(=c)[O-]</th>\n",
       "      <th>CS(=c)O</th>\n",
       "      <th>[NH3+]CS</th>\n",
       "      <th>CC([n+])O</th>\n",
       "    </tr>\n",
       "  </thead>\n",
       "  <tbody>\n",
       "    <tr>\n",
       "      <th>C00001</th>\n",
       "      <td>1.0</td>\n",
       "      <td>0.0</td>\n",
       "      <td>0.0</td>\n",
       "      <td>0.0</td>\n",
       "      <td>0.0</td>\n",
       "      <td>0.0</td>\n",
       "      <td>0.0</td>\n",
       "      <td>0.0</td>\n",
       "      <td>0.0</td>\n",
       "      <td>0.0</td>\n",
       "      <td>...</td>\n",
       "      <td>0.0</td>\n",
       "      <td>0.0</td>\n",
       "      <td>0.0</td>\n",
       "      <td>0.0</td>\n",
       "      <td>0.0</td>\n",
       "      <td>0.0</td>\n",
       "      <td>0.0</td>\n",
       "      <td>0.0</td>\n",
       "      <td>0.0</td>\n",
       "      <td>0.0</td>\n",
       "    </tr>\n",
       "    <tr>\n",
       "      <th>C00002</th>\n",
       "      <td>0.0</td>\n",
       "      <td>1.0</td>\n",
       "      <td>1.0</td>\n",
       "      <td>1.0</td>\n",
       "      <td>3.0</td>\n",
       "      <td>2.0</td>\n",
       "      <td>1.0</td>\n",
       "      <td>1.0</td>\n",
       "      <td>1.0</td>\n",
       "      <td>3.0</td>\n",
       "      <td>...</td>\n",
       "      <td>0.0</td>\n",
       "      <td>0.0</td>\n",
       "      <td>0.0</td>\n",
       "      <td>0.0</td>\n",
       "      <td>0.0</td>\n",
       "      <td>0.0</td>\n",
       "      <td>0.0</td>\n",
       "      <td>0.0</td>\n",
       "      <td>0.0</td>\n",
       "      <td>0.0</td>\n",
       "    </tr>\n",
       "    <tr>\n",
       "      <th>C00003</th>\n",
       "      <td>0.0</td>\n",
       "      <td>1.0</td>\n",
       "      <td>1.0</td>\n",
       "      <td>1.0</td>\n",
       "      <td>3.0</td>\n",
       "      <td>2.0</td>\n",
       "      <td>1.0</td>\n",
       "      <td>1.0</td>\n",
       "      <td>2.0</td>\n",
       "      <td>6.0</td>\n",
       "      <td>...</td>\n",
       "      <td>0.0</td>\n",
       "      <td>0.0</td>\n",
       "      <td>0.0</td>\n",
       "      <td>0.0</td>\n",
       "      <td>0.0</td>\n",
       "      <td>0.0</td>\n",
       "      <td>0.0</td>\n",
       "      <td>0.0</td>\n",
       "      <td>0.0</td>\n",
       "      <td>0.0</td>\n",
       "    </tr>\n",
       "    <tr>\n",
       "      <th>C00004</th>\n",
       "      <td>0.0</td>\n",
       "      <td>1.0</td>\n",
       "      <td>1.0</td>\n",
       "      <td>1.0</td>\n",
       "      <td>3.0</td>\n",
       "      <td>2.0</td>\n",
       "      <td>1.0</td>\n",
       "      <td>1.0</td>\n",
       "      <td>2.0</td>\n",
       "      <td>6.0</td>\n",
       "      <td>...</td>\n",
       "      <td>0.0</td>\n",
       "      <td>0.0</td>\n",
       "      <td>0.0</td>\n",
       "      <td>0.0</td>\n",
       "      <td>0.0</td>\n",
       "      <td>0.0</td>\n",
       "      <td>0.0</td>\n",
       "      <td>0.0</td>\n",
       "      <td>0.0</td>\n",
       "      <td>0.0</td>\n",
       "    </tr>\n",
       "    <tr>\n",
       "      <th>C00005</th>\n",
       "      <td>0.0</td>\n",
       "      <td>1.0</td>\n",
       "      <td>1.0</td>\n",
       "      <td>1.0</td>\n",
       "      <td>3.0</td>\n",
       "      <td>2.0</td>\n",
       "      <td>1.0</td>\n",
       "      <td>1.0</td>\n",
       "      <td>2.0</td>\n",
       "      <td>5.0</td>\n",
       "      <td>...</td>\n",
       "      <td>0.0</td>\n",
       "      <td>0.0</td>\n",
       "      <td>0.0</td>\n",
       "      <td>0.0</td>\n",
       "      <td>0.0</td>\n",
       "      <td>0.0</td>\n",
       "      <td>0.0</td>\n",
       "      <td>0.0</td>\n",
       "      <td>0.0</td>\n",
       "      <td>0.0</td>\n",
       "    </tr>\n",
       "  </tbody>\n",
       "</table>\n",
       "<p>5 rows × 1439 columns</p>\n",
       "</div>"
      ],
      "text/plain": [
       "          O   cN  cc(n)N  cc(c)n  cnc  ncn  cn(c)C  C[C@H](n)O  COC  \\\n",
       "C00001  1.0  0.0     0.0     0.0  0.0  0.0     0.0         0.0  0.0   \n",
       "C00002  0.0  1.0     1.0     1.0  3.0  2.0     1.0         1.0  1.0   \n",
       "C00003  0.0  1.0     1.0     1.0  3.0  2.0     1.0         1.0  2.0   \n",
       "C00004  0.0  1.0     1.0     1.0  3.0  2.0     1.0         1.0  2.0   \n",
       "C00005  0.0  1.0     1.0     1.0  3.0  2.0     1.0         1.0  2.0   \n",
       "\n",
       "        C[C@H](C)O  ...  [NH]N  [N]=N[NH]  CC(=C)[N+]  C/C(=C)N  co[nH]  \\\n",
       "C00001         0.0  ...    0.0        0.0         0.0       0.0     0.0   \n",
       "C00002         3.0  ...    0.0        0.0         0.0       0.0     0.0   \n",
       "C00003         6.0  ...    0.0        0.0         0.0       0.0     0.0   \n",
       "C00004         6.0  ...    0.0        0.0         0.0       0.0     0.0   \n",
       "C00005         5.0  ...    0.0        0.0         0.0       0.0     0.0   \n",
       "\n",
       "        c[nH]o  CS(=c)[O-]  CS(=c)O  [NH3+]CS  CC([n+])O  \n",
       "C00001     0.0         0.0      0.0       0.0        0.0  \n",
       "C00002     0.0         0.0      0.0       0.0        0.0  \n",
       "C00003     0.0         0.0      0.0       0.0        0.0  \n",
       "C00004     0.0         0.0      0.0       0.0        0.0  \n",
       "C00005     0.0         0.0      0.0       0.0        0.0  \n",
       "\n",
       "[5 rows x 1439 columns]"
      ]
     },
     "execution_count": 19,
     "metadata": {},
     "output_type": "execute_result"
    }
   ],
   "source": [
    "df_subs.head()"
   ]
  },
  {
   "cell_type": "code",
   "execution_count": 20,
   "id": "560ef586",
   "metadata": {},
   "outputs": [
    {
     "data": {
      "text/plain": [
       "51994"
      ]
     },
     "execution_count": 20,
     "metadata": {},
     "output_type": "execute_result"
    }
   ],
   "source": [
    "len(X_train_subs)"
   ]
  },
  {
   "cell_type": "code",
   "execution_count": 21,
   "id": "336897ab",
   "metadata": {},
   "outputs": [
    {
     "data": {
      "text/plain": [
       "['C00001', 'C19586', 'C11088', 'C01286', 'C00565']"
      ]
     },
     "execution_count": 21,
     "metadata": {},
     "output_type": "execute_result"
    }
   ],
   "source": [
    "X_train_subs[:5]"
   ]
  },
  {
   "cell_type": "code",
   "execution_count": 22,
   "id": "90260408",
   "metadata": {
    "scrolled": true
   },
   "outputs": [],
   "source": [
    "X_train_subs_molsig = df_subs.loc[X_train_subs, :]\n",
    "X_valid_subs_molsig = df_subs.loc[X_valid_subs, :]"
   ]
  },
  {
   "cell_type": "code",
   "execution_count": 23,
   "id": "4c901639",
   "metadata": {},
   "outputs": [
    {
     "data": {
      "text/html": [
       "<div>\n",
       "<style scoped>\n",
       "    .dataframe tbody tr th:only-of-type {\n",
       "        vertical-align: middle;\n",
       "    }\n",
       "\n",
       "    .dataframe tbody tr th {\n",
       "        vertical-align: top;\n",
       "    }\n",
       "\n",
       "    .dataframe thead th {\n",
       "        text-align: right;\n",
       "    }\n",
       "</style>\n",
       "<table border=\"1\" class=\"dataframe\">\n",
       "  <thead>\n",
       "    <tr style=\"text-align: right;\">\n",
       "      <th></th>\n",
       "      <th>O</th>\n",
       "      <th>cN</th>\n",
       "      <th>cc(n)N</th>\n",
       "      <th>cc(c)n</th>\n",
       "      <th>cnc</th>\n",
       "      <th>ncn</th>\n",
       "      <th>cn(c)C</th>\n",
       "      <th>C[C@H](n)O</th>\n",
       "      <th>COC</th>\n",
       "      <th>C[C@H](C)O</th>\n",
       "      <th>...</th>\n",
       "      <th>[NH]N</th>\n",
       "      <th>[N]=N[NH]</th>\n",
       "      <th>CC(=C)[N+]</th>\n",
       "      <th>C/C(=C)N</th>\n",
       "      <th>co[nH]</th>\n",
       "      <th>c[nH]o</th>\n",
       "      <th>CS(=c)[O-]</th>\n",
       "      <th>CS(=c)O</th>\n",
       "      <th>[NH3+]CS</th>\n",
       "      <th>CC([n+])O</th>\n",
       "    </tr>\n",
       "  </thead>\n",
       "  <tbody>\n",
       "    <tr>\n",
       "      <th>C00001</th>\n",
       "      <td>1.0</td>\n",
       "      <td>0.0</td>\n",
       "      <td>0.0</td>\n",
       "      <td>0.0</td>\n",
       "      <td>0.0</td>\n",
       "      <td>0.0</td>\n",
       "      <td>0.0</td>\n",
       "      <td>0.0</td>\n",
       "      <td>0.0</td>\n",
       "      <td>0.0</td>\n",
       "      <td>...</td>\n",
       "      <td>0.0</td>\n",
       "      <td>0.0</td>\n",
       "      <td>0.0</td>\n",
       "      <td>0.0</td>\n",
       "      <td>0.0</td>\n",
       "      <td>0.0</td>\n",
       "      <td>0.0</td>\n",
       "      <td>0.0</td>\n",
       "      <td>0.0</td>\n",
       "      <td>0.0</td>\n",
       "    </tr>\n",
       "    <tr>\n",
       "      <th>C19586</th>\n",
       "      <td>0.0</td>\n",
       "      <td>0.0</td>\n",
       "      <td>0.0</td>\n",
       "      <td>0.0</td>\n",
       "      <td>0.0</td>\n",
       "      <td>0.0</td>\n",
       "      <td>0.0</td>\n",
       "      <td>0.0</td>\n",
       "      <td>2.0</td>\n",
       "      <td>0.0</td>\n",
       "      <td>...</td>\n",
       "      <td>0.0</td>\n",
       "      <td>0.0</td>\n",
       "      <td>0.0</td>\n",
       "      <td>0.0</td>\n",
       "      <td>0.0</td>\n",
       "      <td>0.0</td>\n",
       "      <td>0.0</td>\n",
       "      <td>0.0</td>\n",
       "      <td>0.0</td>\n",
       "      <td>0.0</td>\n",
       "    </tr>\n",
       "  </tbody>\n",
       "</table>\n",
       "<p>2 rows × 1439 columns</p>\n",
       "</div>"
      ],
      "text/plain": [
       "          O   cN  cc(n)N  cc(c)n  cnc  ncn  cn(c)C  C[C@H](n)O  COC  \\\n",
       "C00001  1.0  0.0     0.0     0.0  0.0  0.0     0.0         0.0  0.0   \n",
       "C19586  0.0  0.0     0.0     0.0  0.0  0.0     0.0         0.0  2.0   \n",
       "\n",
       "        C[C@H](C)O  ...  [NH]N  [N]=N[NH]  CC(=C)[N+]  C/C(=C)N  co[nH]  \\\n",
       "C00001         0.0  ...    0.0        0.0         0.0       0.0     0.0   \n",
       "C19586         0.0  ...    0.0        0.0         0.0       0.0     0.0   \n",
       "\n",
       "        c[nH]o  CS(=c)[O-]  CS(=c)O  [NH3+]CS  CC([n+])O  \n",
       "C00001     0.0         0.0      0.0       0.0        0.0  \n",
       "C19586     0.0         0.0      0.0       0.0        0.0  \n",
       "\n",
       "[2 rows x 1439 columns]"
      ]
     },
     "execution_count": 23,
     "metadata": {},
     "output_type": "execute_result"
    }
   ],
   "source": [
    "X_train_subs_molsig.head(2)"
   ]
  },
  {
   "cell_type": "code",
   "execution_count": 24,
   "id": "2f93c547",
   "metadata": {},
   "outputs": [],
   "source": [
    "# Training and Validation Concatenation of sequences and substrates\n",
    "\n",
    "X_tr = np.concatenate((X_enc_train.values, X_train_subs_molsig.values), axis=1)\n",
    "X_va = np.concatenate((X_enc_valid.values, X_valid_subs_molsig.values), axis=1)"
   ]
  },
  {
   "cell_type": "code",
   "execution_count": 25,
   "id": "e8e15d27",
   "metadata": {},
   "outputs": [
    {
     "data": {
      "text/plain": [
       "((51994, 1839), (17415, 1839))"
      ]
     },
     "execution_count": 25,
     "metadata": {},
     "output_type": "execute_result"
    }
   ],
   "source": [
    "X_tr.shape, X_va.shape"
   ]
  },
  {
   "cell_type": "code",
   "execution_count": 26,
   "id": "8c83082a",
   "metadata": {
    "scrolled": true
   },
   "outputs": [],
   "source": [
    "kde = KernelDensity(kernel='gaussian', bandwidth=0.35).fit(X_tr)"
   ]
  },
  {
   "cell_type": "code",
   "execution_count": 27,
   "id": "d58071a1",
   "metadata": {},
   "outputs": [
    {
     "data": {
      "text/plain": [
       "9201.602380817638"
      ]
     },
     "execution_count": 27,
     "metadata": {},
     "output_type": "execute_result"
    }
   ],
   "source": [
    "kde.score(X_tr[:40])"
   ]
  },
  {
   "cell_type": "code",
   "execution_count": 28,
   "id": "ab67e4e1",
   "metadata": {
    "scrolled": true
   },
   "outputs": [
    {
     "data": {
      "text/plain": [
       "array([3.63325713e+088, 1.29926260e-087, 2.09222438e+088, 1.10635832e+098,\n",
       "       2.64340398e+086, 3.15253760e+094, 9.18900170e+088, 5.32113436e+092,\n",
       "       7.39878546e+088, 3.10640065e+089, 0.00000000e+000, 1.06440807e+093,\n",
       "       5.29580355e+094, 8.99935319e+090, 8.98853778e+090, 6.55426889e+099,\n",
       "       1.12779218e+088, 8.98794150e+090, 1.96628083e+100, 8.35504192e+091,\n",
       "       4.88683902e+006, 1.30969581e+041, 6.55426996e+099, 1.45840923e+084,\n",
       "       2.82624853e+088, 6.32668511e+088, 1.17631340e+096, 7.19407471e+014,\n",
       "       3.52229928e+072, 6.55426889e+099, 1.51614600e+089, 1.51615329e+089,\n",
       "       6.55426889e+099, 5.94855460e+096, 3.11882924e+092, 1.31141403e+100,\n",
       "       5.34724714e+053, 1.86751104e+096, 2.05083917e+088, 1.96628067e+100,\n",
       "       1.51614600e+089, 1.87285618e+089, 1.46685579e+093, 2.76679041e+088,\n",
       "       6.12102141e-073, 1.31085443e+100, 1.31085378e+100, 1.89421139e+088,\n",
       "       6.55426996e+099, 4.31996221e+085])"
      ]
     },
     "execution_count": 28,
     "metadata": {},
     "output_type": "execute_result"
    }
   ],
   "source": [
    "np.exp(kde.score_samples(X_va[300:350]))"
   ]
  },
  {
   "cell_type": "code",
   "execution_count": 29,
   "id": "b74c0751",
   "metadata": {},
   "outputs": [],
   "source": [
    "scores_valid = np.exp(kde.score_samples(X_va))"
   ]
  },
  {
   "cell_type": "markdown",
   "id": "8ad0b432",
   "metadata": {},
   "source": [
    "# Validation Score statistics"
   ]
  },
  {
   "cell_type": "code",
   "execution_count": 30,
   "id": "d3fabddc",
   "metadata": {},
   "outputs": [],
   "source": [
    "def return_statistics(scores):\n",
    "    return np.mean(scores), np.median(scores), np.std(scores), np.min(scores), np.max(scores)"
   ]
  },
  {
   "cell_type": "code",
   "execution_count": 31,
   "id": "458fad46",
   "metadata": {},
   "outputs": [
    {
     "data": {
      "text/plain": [
       "(2.8733076705381054e+99,\n",
       " 1.5165779960624592e+89,\n",
       " 6.854667900218262e+99,\n",
       " 0.0,\n",
       " 8.520549562843725e+100)"
      ]
     },
     "execution_count": 31,
     "metadata": {},
     "output_type": "execute_result"
    }
   ],
   "source": [
    "return_statistics(scores_valid)"
   ]
  },
  {
   "cell_type": "markdown",
   "id": "e9723291",
   "metadata": {},
   "source": [
    "# Model Evaluation"
   ]
  },
  {
   "cell_type": "markdown",
   "id": "ecd0dfc7",
   "metadata": {},
   "source": [
    "## Entire feature space is derived from an uniform distribution"
   ]
  },
  {
   "cell_type": "code",
   "execution_count": 32,
   "id": "054812f6",
   "metadata": {},
   "outputs": [],
   "source": [
    "# Generating some random high dimensional data to see the scores on those samples\n",
    "X_random_1 = np.random.rand(*X_va.shape)"
   ]
  },
  {
   "cell_type": "code",
   "execution_count": 33,
   "id": "4848a666",
   "metadata": {},
   "outputs": [],
   "source": [
    "scores_random_1 = kde.score_samples(X_random_1)"
   ]
  },
  {
   "cell_type": "code",
   "execution_count": 34,
   "id": "18bb2abd",
   "metadata": {},
   "outputs": [],
   "source": [
    "scores_random_1 = np.exp(scores_random_1)"
   ]
  },
  {
   "cell_type": "code",
   "execution_count": 35,
   "id": "dfd3cf32",
   "metadata": {},
   "outputs": [
    {
     "data": {
      "text/plain": [
       "(0.0, 0.0, 0.0, 0.0, 0.0)"
      ]
     },
     "execution_count": 35,
     "metadata": {},
     "output_type": "execute_result"
    }
   ],
   "source": [
    "return_statistics(scores_random_1)"
   ]
  },
  {
   "cell_type": "markdown",
   "id": "d6cf1fe5",
   "metadata": {},
   "source": [
    "## First 20 derived from uniform, last 1439 is a random int between 0 and 68"
   ]
  },
  {
   "cell_type": "code",
   "execution_count": 36,
   "id": "c68669a5",
   "metadata": {},
   "outputs": [],
   "source": [
    "subs_feat_vals = X_va[:,20:].flatten()"
   ]
  },
  {
   "cell_type": "code",
   "execution_count": 37,
   "id": "74a442dd",
   "metadata": {},
   "outputs": [],
   "source": [
    "subs_uniq_counts = np.unique(subs_feat_vals, return_counts=True)"
   ]
  },
  {
   "cell_type": "code",
   "execution_count": 38,
   "id": "4b67d99b",
   "metadata": {},
   "outputs": [],
   "source": [
    "X_random_2 = np.random.choice(subs_uniq_counts[0], p=subs_uniq_counts[1]/sum(subs_uniq_counts[1]), size=X_va[:,20:].shape)\n",
    "X_random_2_tmp = np.random.rand(*X_va[:,:20].shape)\n",
    "X_random_2 = np.concatenate((X_random_2_tmp, X_random_2), axis=1)"
   ]
  },
  {
   "cell_type": "code",
   "execution_count": 39,
   "id": "169b29cf",
   "metadata": {},
   "outputs": [],
   "source": [
    "scores_random_2 = np.exp(kde.score_samples(X_random_2))"
   ]
  },
  {
   "cell_type": "code",
   "execution_count": 40,
   "id": "6beee021",
   "metadata": {},
   "outputs": [
    {
     "data": {
      "text/plain": [
       "(2.253e-320, 0.0, 0.0, 0.0, 3.92306374e-316)"
      ]
     },
     "execution_count": 40,
     "metadata": {},
     "output_type": "execute_result"
    }
   ],
   "source": [
    "return_statistics(scores_random_2)"
   ]
  },
  {
   "cell_type": "markdown",
   "id": "9346378d",
   "metadata": {},
   "source": [
    "## Random enzyme-substrate pairs"
   ]
  },
  {
   "cell_type": "code",
   "execution_count": 41,
   "id": "7ddc9c29",
   "metadata": {},
   "outputs": [],
   "source": [
    "X_va_enz = X_va[:,:20]\n",
    "X_va_subs = X_va[:, 20:]"
   ]
  },
  {
   "cell_type": "code",
   "execution_count": 42,
   "id": "ceb186e3",
   "metadata": {},
   "outputs": [],
   "source": [
    "np.random.shuffle(X_va_subs)"
   ]
  },
  {
   "cell_type": "code",
   "execution_count": 43,
   "id": "f8c9a7a7",
   "metadata": {},
   "outputs": [],
   "source": [
    "np.random.shuffle(X_va_enz)"
   ]
  },
  {
   "cell_type": "code",
   "execution_count": 44,
   "id": "41ef5ad5",
   "metadata": {},
   "outputs": [],
   "source": [
    "X_random_3 = np.concatenate((X_va_enz, X_va_subs), axis=1)"
   ]
  },
  {
   "cell_type": "code",
   "execution_count": 45,
   "id": "cb108d12",
   "metadata": {},
   "outputs": [],
   "source": [
    "scores_random_3 = np.exp(kde.score_samples(X_random_3))"
   ]
  },
  {
   "cell_type": "code",
   "execution_count": 46,
   "id": "b514ca22",
   "metadata": {},
   "outputs": [
    {
     "data": {
      "text/plain": [
       "(7.527155534208148e+95,\n",
       " 2.1671690844241843e+17,\n",
       " 7.023485252882159e+97,\n",
       " 0.0,\n",
       " 6.554271946516604e+99)"
      ]
     },
     "execution_count": 46,
     "metadata": {},
     "output_type": "execute_result"
    }
   ],
   "source": [
    "return_statistics(scores_random_3)"
   ]
  },
  {
   "cell_type": "code",
   "execution_count": 47,
   "id": "9fcfc810",
   "metadata": {},
   "outputs": [],
   "source": [
    "import matplotlib.pyplot as plt\n",
    "%matplotlib inline"
   ]
  },
  {
   "cell_type": "code",
   "execution_count": 51,
   "id": "ee9be383",
   "metadata": {},
   "outputs": [
    {
     "data": {
      "image/png": "[encoded data removed]",
      "text/plain": [
       "<Figure size 432x288 with 1 Axes>"
      ]
     },
     "metadata": {
      "needs_background": "light"
     },
     "output_type": "display_data"
    }
   ],
   "source": [
    "plt.scatter(range(len(scores_random_3)), scores_random_3)\n",
    "plt.yscale(\"log\")"
   ]
  },
  {
   "cell_type": "code",
   "execution_count": 52,
   "id": "6438b0b1",
   "metadata": {},
   "outputs": [
    {
     "data": {
      "image/png": "[encoded data removed]",
      "text/plain": [
       "<Figure size 432x288 with 1 Axes>"
      ]
     },
     "metadata": {
      "needs_background": "light"
     },
     "output_type": "display_data"
    }
   ],
   "source": [
    "plt.scatter(range(len(scores_valid)), scores_valid)\n",
    "plt.yscale(\"log\")"
   ]
  },
  {
   "cell_type": "code",
   "execution_count": 84,
   "id": "0d28ddbd",
   "metadata": {},
   "outputs": [
    {
     "data": {
      "image/png": "[encoded data removed]",
      "text/plain": [
       "<Figure size 432x288 with 1 Axes>"
      ]
     },
     "metadata": {
      "needs_background": "light"
     },
     "output_type": "display_data"
    }
   ],
   "source": [
    "plt.hist([np.log(sv) if sv!=0 else sv for sv in scores_valid ], bins = 15);"
   ]
  },
  {
   "cell_type": "code",
   "execution_count": 85,
   "id": "8eebcc84",
   "metadata": {},
   "outputs": [
    {
     "data": {
      "image/png": "[encoded data removed]",
      "text/plain": [
       "<Figure size 432x288 with 1 Axes>"
      ]
     },
     "metadata": {
      "needs_background": "light"
     },
     "output_type": "display_data"
    }
   ],
   "source": [
    "plt.hist([np.log(sr) if sr!=0 else sr for sr in scores_random_3 ], bins = 15);"
   ]
  },
  {
   "cell_type": "code",
   "execution_count": null,
   "id": "113c264d",
   "metadata": {},
   "outputs": [],
   "source": []
  }
 ],
 "metadata": {
  "kernelspec": {
   "display_name": "Python 3",
   "language": "python",
   "name": "python3"
  },
  "language_info": {
   "codemirror_mode": {
    "name": "ipython",
    "version": 3
   },
   "file_extension": ".py",
   "mimetype": "text/x-python",
   "name": "python",
   "nbconvert_exporter": "python",
   "pygments_lexer": "ipython3",
   "version": "3.9.4"
  }
 },
 "nbformat": 4,
 "nbformat_minor": 5
}

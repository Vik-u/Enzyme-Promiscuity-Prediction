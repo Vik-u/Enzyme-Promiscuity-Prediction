{
 "cells": [
  {
   "cell_type": "code",
   "execution_count": 1,
   "id": "b59b12d1",
   "metadata": {},
   "outputs": [],
   "source": [
    "import requests\n",
    "import re\n",
    "import os"
   ]
  },
  {
   "cell_type": "markdown",
   "id": "114a9f86",
   "metadata": {},
   "source": [
    "# Get all E.C. Numbers available in KEGG"
   ]
  },
  {
   "cell_type": "code",
   "execution_count": 17,
   "id": "0c703de2",
   "metadata": {},
   "outputs": [],
   "source": [
    "database = \"enzyme\"\n",
    "kegg_url = f\"http://rest.kegg.jp/list/{database}\""
   ]
  },
  {
   "cell_type": "code",
   "execution_count": 18,
   "id": "b4c18922",
   "metadata": {},
   "outputs": [],
   "source": [
    "r = requests.get(kegg_url)"
   ]
  },
  {
   "cell_type": "code",
   "execution_count": 19,
   "id": "1c8cf36b",
   "metadata": {},
   "outputs": [],
   "source": [
    "r_small = r.content[:5000]\n",
    "r_entire = r.content"
   ]
  },
  {
   "cell_type": "code",
   "execution_count": 20,
   "id": "d069e898",
   "metadata": {},
   "outputs": [
    {
     "name": "stdout",
     "output_type": "stream",
     "text": [
      "[b'ec:1.1.1.1']\n"
     ]
    }
   ],
   "source": [
    "pattern = b\"ec:[0-9]{1,2}\\.[0-9]{1,2}\\.[0-9]{1,2}\\.[0-9]{1,2}\"\n",
    "\n",
    "small_ecs = re.findall(pattern, b\"my_eyes ec:1.1.1.1 my eyes\")\n",
    "print(small_ecs)"
   ]
  },
  {
   "cell_type": "code",
   "execution_count": 21,
   "id": "59fb9458",
   "metadata": {},
   "outputs": [],
   "source": [
    "all_ecs = re.findall(pattern, r_entire)"
   ]
  },
  {
   "cell_type": "code",
   "execution_count": 22,
   "id": "d50cdc59",
   "metadata": {},
   "outputs": [
    {
     "data": {
      "text/plain": [
       "7813"
      ]
     },
     "execution_count": 22,
     "metadata": {},
     "output_type": "execute_result"
    }
   ],
   "source": [
    "len(all_ecs)"
   ]
  },
  {
   "cell_type": "code",
   "execution_count": 23,
   "id": "3367efba",
   "metadata": {},
   "outputs": [
    {
     "data": {
      "text/plain": [
       "5854"
      ]
     },
     "execution_count": 23,
     "metadata": {},
     "output_type": "execute_result"
    }
   ],
   "source": [
    "len(set(all_ecs))"
   ]
  },
  {
   "cell_type": "code",
   "execution_count": 3,
   "id": "46ed7977",
   "metadata": {},
   "outputs": [],
   "source": [
    "all_ec_file = \"./data/ECnumbers.txt\""
   ]
  },
  {
   "cell_type": "code",
   "execution_count": 24,
   "id": "dc0a9966",
   "metadata": {},
   "outputs": [],
   "source": [
    "with open(all_ec_file, \"wb\") as f:\n",
    "    for ecs in set(all_ecs):\n",
    "        f.write(ecs)\n",
    "        f.write(b\"\\n\")"
   ]
  },
  {
   "cell_type": "markdown",
   "id": "6b6397ae",
   "metadata": {},
   "source": [
    "# Get all gene identifiers from ECs"
   ]
  },
  {
   "cell_type": "code",
   "execution_count": 2,
   "id": "ec5e8e60",
   "metadata": {},
   "outputs": [],
   "source": [
    "def get_ec_content(ec_num):\n",
    "    ec_url = f\"http://rest.kegg.jp/get/{ec_num}\"\n",
    "    ec_req = requests.get(ec_url)\n",
    "    con = ec_req.content\n",
    "    return con\n",
    "    "
   ]
  },
  {
   "cell_type": "code",
   "execution_count": 10,
   "id": "8c6915b1",
   "metadata": {},
   "outputs": [],
   "source": [
    "def get_gene_content(content):\n",
    "    pattern_start = b\"GENES\"\n",
    "    pattern_end = b\"DBLINKS\"\n",
    "    m_start = re.search(pattern_start, content)\n",
    "    m_end = re.search(pattern_end, content)\n",
    "    if m_start is not None:\n",
    "        gene_start = m_start.end()\n",
    "        gene_end = m_end.start()\n",
    "        gene_content = content[gene_start:gene_end]\n",
    "        return gene_content\n",
    "    else:\n",
    "        return\n",
    "    "
   ]
  },
  {
   "cell_type": "code",
   "execution_count": 11,
   "id": "48a5633a",
   "metadata": {},
   "outputs": [],
   "source": [
    "def save_ec_file(gene_content, ec_num):\n",
    "    species_genes = gene_content.strip().split(b\"\\n\")\n",
    "    with open(\"./data/ec_gene_info/\" + ec_num + \".txt\", \"wb\") as f:\n",
    "        for sg in species_genes:\n",
    "            f.write(re.sub(b\"\\s+\", b\",\", sg.strip()))\n",
    "            f.write(b\"\\n\")\n",
    "    return"
   ]
  },
  {
   "cell_type": "code",
   "execution_count": 2,
   "id": "80e653a4",
   "metadata": {},
   "outputs": [],
   "source": [
    "def save_ec_files_gene_info(file):\n",
    "    stream = open(file)\n",
    "    no_info = set()\n",
    "    while True:\n",
    "        try:\n",
    "            line = next(stream)\n",
    "            ec_num = line.strip()\n",
    "            con = get_ec_content(ec_num)\n",
    "            gene_content = get_gene_content(con)\n",
    "            if gene_content is not None:\n",
    "                save_ec_file(gene_content, ec_num)\n",
    "            else:\n",
    "                no_info.add(ec_num)\n",
    "\n",
    "        except:\n",
    "            break\n",
    "\n",
    "    stream.close()\n",
    "    return no_info"
   ]
  },
  {
   "cell_type": "code",
   "execution_count": 1,
   "id": "52205562",
   "metadata": {},
   "outputs": [],
   "source": [
    "%%time\n",
    "save_ec_files_gene_info(all_ec_file)"
   ]
  },
  {
   "cell_type": "markdown",
   "id": "f23750c8",
   "metadata": {},
   "source": [
    "# Get all substrate identifiers from EC numbers"
   ]
  },
  {
   "cell_type": "code",
   "execution_count": 13,
   "id": "c05ed816",
   "metadata": {},
   "outputs": [],
   "source": [
    "def get_substrate_content(content):\n",
    "    pattern_start = b\"SUBSTRATE\"\n",
    "    pattern_end = b\"PRODUCT\"\n",
    "    m_start = re.search(pattern_start, content)\n",
    "    m_end = re.search(pattern_end, content)\n",
    "    if m_start is not None:\n",
    "        subs_start = m_start.end()\n",
    "        subs_end = m_end.start()\n",
    "        subs_content = content[subs_start:subs_end]\n",
    "        return subs_content\n",
    "    else:\n",
    "        return"
   ]
  },
  {
   "cell_type": "code",
   "execution_count": 14,
   "id": "446489cc",
   "metadata": {},
   "outputs": [],
   "source": [
    "def save_ec_subs_file(subs_content, ec_num):\n",
    "    subs = subs_content.strip().split(b\"\\n\")\n",
    "    with open(\"./data/ec_subs_info/\" + ec_num + \".txt\", \"wb\") as f:\n",
    "        for sub in subs:\n",
    "            f.write(sub.strip())\n",
    "            f.write(b\"\\n\")\n",
    "    return"
   ]
  },
  {
   "cell_type": "code",
   "execution_count": 15,
   "id": "cf4ef4f0",
   "metadata": {},
   "outputs": [],
   "source": [
    "def save_ec_subs_info(file):\n",
    "    stream = open(file)\n",
    "    no_info = set()\n",
    "    while True:\n",
    "        try:\n",
    "            line = next(stream)\n",
    "            ec_num = line.strip()\n",
    "            con = get_ec_content(ec_num)\n",
    "            subs_content = get_substrate_content(con)\n",
    "            if subs_content is not None:\n",
    "                save_ec_subs_file(subs_content, ec_num)\n",
    "            else:\n",
    "                no_info.add(ec_num)\n",
    "\n",
    "        except:\n",
    "            break\n",
    "\n",
    "    stream.close()\n",
    "    return no_info"
   ]
  },
  {
   "cell_type": "code",
   "execution_count": null,
   "id": "ecf9c04e",
   "metadata": {},
   "outputs": [],
   "source": [
    "%%time\n",
    "no_info_ec_subs = save_ec_subs_info(all_ec_file)"
   ]
  },
  {
   "cell_type": "markdown",
   "id": "8d34b8f1",
   "metadata": {},
   "source": [
    "# Download sequences for gene identifiers"
   ]
  },
  {
   "cell_type": "code",
   "execution_count": 9,
   "id": "9cdc9f3a",
   "metadata": {},
   "outputs": [],
   "source": [
    "def get_gene_content(gene_id):\n",
    "    url = f\"http://rest.kegg.jp/get/{gene_id}\"\n",
    "    r = requests.get(url)\n",
    "    if r.status_code != 200:\n",
    "        print(gene_id)\n",
    "    return r.content\n",
    "\n",
    "\n",
    "def get_aa_sequence(content):\n",
    "    pattern_start = b\"AASEQ\"\n",
    "    pattern_end = b\"NTSEQ\"\n",
    "    m_start = re.search(pattern_start, content)\n",
    "    m_end = re.search(pattern_end, content)\n",
    "    if m_start is not None:\n",
    "        aa_start = m_start.end()\n",
    "        aa_end = m_end.start()\n",
    "        aa_content = content[aa_start:aa_end]\n",
    "        return aa_content\n",
    "    else:\n",
    "        return\n",
    "\n",
    "    \n",
    "def save_aa_seq(file):\n",
    "    stream = open(file)\n",
    "    filename = os.path.basename(file)\n",
    "    lines = stream.readlines()\n",
    "    max_len = 5\n",
    "    curr_len = 0\n",
    "    with open(f\"./data/gene_info/{filename}\", \"wb+\") as f:\n",
    "        for line in lines:\n",
    "            if curr_len>max_len:\n",
    "                break\n",
    "\n",
    "            # one species for an ec\n",
    "            genes = line#next(stream)\n",
    "            all_genes = genes.strip().split(\",\")\n",
    "            prefix = all_genes[0].lower()\n",
    "\n",
    "            for gene_idx in all_genes[1:]:\n",
    "                # get rid of anything after \"()\"\n",
    "                pattern = \"\\(.+\\)\"\n",
    "                gene_idx = re.sub(pattern, \"\", gene_idx)\n",
    "                search_query = prefix + gene_idx\n",
    "                con = get_gene_content(search_query)\n",
    "                seq_info = get_aa_sequence(con).strip().split(b\"\\n\")\n",
    "                if seq_info is None:\n",
    "                    print(gene_idx)\n",
    "                seq_len = int(seq_info[0])\n",
    "                seq_list = list(map(lambda x:x.strip(), seq_info[1:]))\n",
    "                seq = b\"\".join(seq_list)\n",
    "#                assert len(seq) == seq_len\n",
    "                f.write(b\">\" + search_query.encode(\"utf-8\") + b\"\\n\")\n",
    "                f.write(seq)\n",
    "                f.write(b\"\\n\")\n",
    "                \n",
    "            curr_len+=1\n",
    "            \n",
    "    stream.close()\n",
    "    return"
   ]
  },
  {
   "cell_type": "code",
   "execution_count": 9,
   "id": "28b1d7de",
   "metadata": {},
   "outputs": [],
   "source": [
    "filename = \"./data/ec_gene_info/ec:1.1.1.2.txt\""
   ]
  },
  {
   "cell_type": "code",
   "execution_count": 10,
   "id": "52fd40c4",
   "metadata": {},
   "outputs": [
    {
     "name": "stdout",
     "output_type": "stream",
     "text": [
      "CPU times: user 18.5 ms, sys: 1.05 ms, total: 19.6 ms\n",
      "Wall time: 2.15 s\n"
     ]
    }
   ],
   "source": [
    "%%time\n",
    "save_aa_seq(filename)"
   ]
  },
  {
   "cell_type": "code",
   "execution_count": 3,
   "id": "d127b89b",
   "metadata": {},
   "outputs": [],
   "source": [
    "ec_info_dir = \"./data/ec_gene_info/\"\n",
    "all_files= [f.name for f in os.scandir(ec_info_dir)]\n"
   ]
  },
  {
   "cell_type": "code",
   "execution_count": 12,
   "id": "61b7680a",
   "metadata": {},
   "outputs": [],
   "source": [
    "%%time\n",
    "for f in all_files:\n",
    "    if f.endswith(\".txt\"):\n",
    "        # this is an ec file\n",
    "        filename = ec_info_dir + f\n",
    "        save_aa_seq(filename)"
   ]
  },
  {
   "cell_type": "markdown",
   "id": "9cc121c9",
   "metadata": {},
   "source": [
    "# Reaction IDs from ECs"
   ]
  },
  {
   "cell_type": "code",
   "execution_count": 107,
   "id": "95a9e42b",
   "metadata": {},
   "outputs": [],
   "source": [
    "def get_reaction_content(content):\n",
    "    pattern_start = b\"ALL_REAC\"\n",
    "    pattern_end = b\"SUBSTRATE\"\n",
    "    m_start = re.search(pattern_start, content)\n",
    "    m_end = re.search(pattern_end, content)\n",
    "    if m_start is not None and m_end is not None:\n",
    "        reac_start = m_start.end()\n",
    "        reac_end = m_end.start()\n",
    "        reac_content = content[reac_start:reac_end]\n",
    "        return reac_content\n",
    "    else:\n",
    "        return"
   ]
  },
  {
   "cell_type": "code",
   "execution_count": 112,
   "id": "30ec8d75",
   "metadata": {},
   "outputs": [],
   "source": [
    "def save_reaction_ids(file):\n",
    "    stream = open(file, \"rb\")\n",
    "    no_info = set()\n",
    "    reaction_id_pattern = re.compile(b\"R[0-9]{5}\")\n",
    "    write_stream = open(\"Reaction_ids_ec.txt\", \"wb\")\n",
    "    encoding = 'utf-8'\n",
    "\n",
    "    idx = 0\n",
    "    for line in stream.readlines():\n",
    "        ec_num = line.strip()\n",
    "        con = get_ec_content(str(ec_num, encoding))\n",
    "        if con:\n",
    "            reaction_content = get_reaction_content(con)\n",
    "        else:\n",
    "            reaction_content = None\n",
    "\n",
    "\n",
    "        if reaction_content is not None:\n",
    "            # write the ec_num\n",
    "            write_stream.write(ec_num + b\"\\n\")\n",
    "\n",
    "            # Split into multiple lines\n",
    "            all_reaction_lines = reaction_content.strip().split(b\"\\n\")\n",
    "            # parse through each line\n",
    "            for reaction_line in all_reaction_lines:\n",
    "                # check to see if '>' is present, that means there is a general-specific reaction division\n",
    "                if b\">\" in reaction_line:\n",
    "                    split_con = reaction_line.split(b\">\")\n",
    "                    general_con = split_con[0]\n",
    "                    specific_con = split_con[1]\n",
    "                    general_reaction_ids = re.findall(reaction_id_pattern, general_con)\n",
    "                    specific_reaction_ids = re.findall(reaction_id_pattern, specific_con)\n",
    "                    # writing the general reaction id\n",
    "                    if len(general_reaction_ids) != 1:\n",
    "                        print(ec_num, general_reaction_ids)\n",
    "                    write_stream.write(b\">\" + general_reaction_ids[0] + b\"\\n\")\n",
    "                    # writing the specific reaction id\n",
    "                    write_stream.write(b\",\".join(specific_reaction_ids))\n",
    "                    write_stream.write(b\"\\n\")\n",
    "\n",
    "                else:\n",
    "                    # no general or specific here just parse for reaction ids\n",
    "                    reaction_ids = re.findall(reaction_id_pattern, reaction_line)\n",
    "                    write_stream.write(b\",\".join(reaction_ids))\n",
    "                    write_stream.write(b\"\\n\")\n",
    "\n",
    "\n",
    "        else:\n",
    "            # no reaction info for these ec numbers\n",
    "            no_info.add(ec_num)\n",
    "\n",
    "        idx += 1\n",
    "        \n",
    "        \n",
    "        if idx/5000 in [i/10 for i in range(1, 9)]:\n",
    "            print(\"*\", end=\"\")\n",
    "\n",
    "\n",
    "    stream.close()\n",
    "    write_stream.close()\n",
    "    return no_info"
   ]
  },
  {
   "cell_type": "code",
   "execution_count": 113,
   "id": "eb792ba6",
   "metadata": {},
   "outputs": [
    {
     "name": "stdout",
     "output_type": "stream",
     "text": [
      "***b'ec:2.4.1.47' [b'R01500', b'R06277']\n",
      "***b'ec:2.4.1.15' [b'R00836', b'R06043']\n",
      "**b'ec:1.1.99.18' [b'R01443', b'R06246']\n",
      "b'ec:2.4.1.10' [b'R05140', b'R06079']\n"
     ]
    }
   ],
   "source": [
    "no_reaction_info = save_reaction_ids(all_ec_file)"
   ]
  },
  {
   "cell_type": "code",
   "execution_count": 101,
   "id": "be2651f5",
   "metadata": {},
   "outputs": [],
   "source": [
    "stream = open(all_ec_file)\n",
    "all_ecs = stream.readlines()"
   ]
  }
 ],
 "metadata": {
  "kernelspec": {
   "display_name": "Python 3",
   "language": "python",
   "name": "python3"
  },
  "language_info": {
   "codemirror_mode": {
    "name": "ipython",
    "version": 3
   },
   "file_extension": ".py",
   "mimetype": "text/x-python",
   "name": "python",
   "nbconvert_exporter": "python",
   "pygments_lexer": "ipython3",
   "version": "3.9.2"
  }
 },
 "nbformat": 4,
 "nbformat_minor": 5
}

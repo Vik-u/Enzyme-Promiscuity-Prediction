{
 "cells": [
  {
   "cell_type": "code",
   "execution_count": 1,
   "metadata": {},
   "outputs": [],
   "source": [
    "datafile = '../data/training_fasta_seq.fa'\n",
    "output_dir = '../featEngg/pssmMethods/temp/'"
   ]
  },
  {
   "cell_type": "code",
   "execution_count": 2,
   "metadata": {},
   "outputs": [],
   "source": [
    "def create_temporary_file(content,iter_number):\n",
    "    with open(output_dir+'temp_file'+str(iter_number)+'.fa','w') as f:\n",
    "        for lines in content:\n",
    "            f.write(lines)\n",
    "    return\n",
    "\n",
    "with open(datafile,'r') as fasta_file:\n",
    "    raw_content = []\n",
    "    iteration = 0\n",
    "    seq_number=0\n",
    "    reset_flag = False\n",
    "    for lines in fasta_file:\n",
    "        raw_content.append(lines)\n",
    "        if lines.startswith('>'):\n",
    "            seq_number+=1\n",
    "        \n",
    "        \n",
    "        if reset_flag:\n",
    "            create_temporary_file(raw_content,iteration)\n",
    "            raw_content=[]\n",
    "            reset_flag=False\n",
    "            iteration+=1\n",
    "\n",
    "        \n",
    "        if seq_number==600:\n",
    "            reset_flag = True\n",
    "            seq_number=0\n",
    "        \n",
    "        \n",
    "            \n",
    "    create_temporary_file(raw_content,iteration)"
   ]
  },
  {
   "cell_type": "code",
   "execution_count": null,
   "metadata": {},
   "outputs": [],
   "source": []
  }
 ],
 "metadata": {
  "kernelspec": {
   "display_name": "Python 3",
   "language": "python",
   "name": "python3"
  },
  "language_info": {
   "codemirror_mode": {
    "name": "ipython",
    "version": 3
   },
   "file_extension": ".py",
   "mimetype": "text/x-python",
   "name": "python",
   "nbconvert_exporter": "python",
   "pygments_lexer": "ipython3",
   "version": "3.8.3"
  }
 },
 "nbformat": 4,
 "nbformat_minor": 4
}

{
 "cells": [
  {
   "cell_type": "code",
   "execution_count": 1,
   "metadata": {},
   "outputs": [],
   "source": [
    "import os\n",
    "import pandas as pd\n",
    "import multiprocessing as mp"
   ]
  },
  {
   "cell_type": "code",
   "execution_count": 2,
   "metadata": {},
   "outputs": [],
   "source": [
    "enz_filename = '../data/enzyme_dataset.csv'\n",
    "fastafile = '../data/training_fasta_seq.fa'\n",
    "\n",
    "def file2fasta(seqfile,newfile):\n",
    "    with open(seqfile,'r') as f:\n",
    "        with open(newfile,'w') as nf:\n",
    "\n",
    "            for lines in f:\n",
    "                enz_vals = lines.strip('\\n').split(',')\n",
    "                nf.write(f'>{enz_vals[0]}')\n",
    "                nf.write('\\n')\n",
    "                nf.write(enz_vals[1])\n",
    "                nf.write('\\n')\n",
    "\n",
    "    return "
   ]
  },
  {
   "cell_type": "code",
   "execution_count": 3,
   "metadata": {},
   "outputs": [],
   "source": [
    "if __name__=='__main__':\n",
    "    file2fasta(enz_filename,fastafile)\n",
    "    enz_df = pd.read_csv(enz_filename,header=None)\n",
    "    enz_df.iloc[:,[0,1]].to_csv('../data/enz_sequence.csv',index=False,header=False)\n",
    "    enz_df.iloc[:,[0,2]].to_csv('../data/enz_labels.csv',index=False,header=False)\n",
    "    "
   ]
  }
 ],
 "metadata": {
  "kernelspec": {
   "display_name": "Python 3",
   "language": "python",
   "name": "python3"
  },
  "language_info": {
   "codemirror_mode": {
    "name": "ipython",
    "version": 3
   },
   "file_extension": ".py",
   "mimetype": "text/x-python",
   "name": "python",
   "nbconvert_exporter": "python",
   "pygments_lexer": "ipython3",
   "version": "3.8.3"
  }
 },
 "nbformat": 4,
 "nbformat_minor": 4
}

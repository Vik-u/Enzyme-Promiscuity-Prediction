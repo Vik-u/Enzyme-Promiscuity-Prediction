{
 "cells": [
  {
   "cell_type": "markdown",
   "metadata": {},
   "source": [
    "# Import Modules"
   ]
  },
  {
   "cell_type": "code",
   "execution_count": 1,
   "metadata": {},
   "outputs": [],
   "source": [
    "import os\n",
    "import sys\n",
    "import numpy as np\n",
    "import pandas as pd\n",
    "import matplotlib.pyplot as plt\n",
    "import multiprocessing as mp\n",
    "%matplotlib inline\n",
    "\n",
    "sys.path.append('../')\n",
    "from helper.scripts import read_fasta,read_pssm_profile"
   ]
  },
  {
   "cell_type": "markdown",
   "metadata": {},
   "source": [
    "# Read datafiles and get pssm profiles"
   ]
  },
  {
   "cell_type": "code",
   "execution_count": 2,
   "metadata": {},
   "outputs": [],
   "source": [
    "datadir = '../featEngg/offline/pssmMethods/data/pssmProfiles/trainfiles/'\n",
    "datafiles = [f.name for f in os.scandir(datadir) if f.name.endswith('.pssm')]\n",
    "pool_read = mp.Pool(mp.cpu_count())\n",
    "all_pssm_profiles = list(pool_read.map(read_pssm_profile,[datadir+f for f in datafiles]))"
   ]
  },
  {
   "cell_type": "markdown",
   "metadata": {},
   "source": [
    "# Make block matrices inspired by AB-PSSM"
   ]
  },
  {
   "cell_type": "code",
   "execution_count": 14,
   "metadata": {},
   "outputs": [],
   "source": [
    "def parse_pssm_matrix(matrix):\n",
    "    #keep only the last 20 columns\n",
    "    #change the object type to float \n",
    "    parsed_matrix = matrix[:,2:22].astype(float)\n",
    "    return parsed_matrix\n",
    "    \n",
    "    \n",
    "\n",
    "def make_block_matrix(matrix):\n",
    "    \n",
    "    matrix = parse_pssm_matrix(matrix)\n",
    "    \n",
    "    number_of_blocks = 20\n",
    "    matrix_length = matrix.shape[0]\n",
    "    elements_in_blocks = round(matrix_length/number_of_blocks)\n",
    "    i = 0\n",
    "    N = 1\n",
    "    block_matrix = []\n",
    "    while N<number_of_blocks:\n",
    "        curr_block_min = i\n",
    "        curr_block_max = min(matrix_length,i + elements_in_blocks)\n",
    "        curr_block = np.sum(matrix[curr_block_min:curr_block_max,:],axis=0)\n",
    "        i = curr_block_max\n",
    "        N+=1\n",
    "        block_matrix.append(curr_block)\n",
    "    \n",
    "\n",
    "    curr_block = np.sum(matrix[(N-1)*elements_in_blocks:matrix_length,:],axis=0)\n",
    "    block_matrix.append(curr_block)\n",
    "    return np.array(block_matrix)"
   ]
  },
  {
   "cell_type": "code",
   "execution_count": 15,
   "metadata": {},
   "outputs": [],
   "source": [
    "pool_makeblock = mp.Pool(mp.cpu_count()) \n",
    "block_pssm_profiles = list(pool_makeblock.map(make_block_matrix,all_pssm_profiles))"
   ]
  },
  {
   "cell_type": "code",
   "execution_count": 20,
   "metadata": {
    "scrolled": true
   },
   "outputs": [],
   "source": [
    "## check if all block matrices are of shape 20*20\n",
    "assert [b.shape for b in block_pssm_profiles] == [(20,20) for i in range(len(block_pssm_profiles))]"
   ]
  },
  {
   "cell_type": "markdown",
   "metadata": {},
   "source": [
    "# Make dataset"
   ]
  },
  {
   "cell_type": "code",
   "execution_count": 33,
   "metadata": {},
   "outputs": [],
   "source": [
    "#\n",
    "X_raw = np.array(block_pssm_profiles)"
   ]
  },
  {
   "cell_type": "code",
   "execution_count": 34,
   "metadata": {},
   "outputs": [],
   "source": [
    "enz_names = [en.replace('.pssm','') for en in datafiles]"
   ]
  },
  {
   "cell_type": "code",
   "execution_count": 38,
   "metadata": {},
   "outputs": [],
   "source": [
    "label_file = '../data/enz_labels.csv'\n",
    "label_dict = {}\n",
    "with open(label_file,'r') as f:\n",
    "    for lines in f:\n",
    "        vals = lines.strip().split(',')\n",
    "        label_dict[vals[0]] = vals[1]"
   ]
  },
  {
   "cell_type": "code",
   "execution_count": 42,
   "metadata": {},
   "outputs": [],
   "source": [
    "X = []\n",
    "y = []\n",
    "enzyme_names = []\n",
    "for enz_name,x in zip(enz_names,X_raw):\n",
    "    if enz_name in label_dict:\n",
    "        label = label_dict[enz_name]\n",
    "        X.append(x)\n",
    "        y.append(float(label))\n",
    "        enzyme_names.append(enz_name) "
   ]
  },
  {
   "cell_type": "code",
   "execution_count": 45,
   "metadata": {},
   "outputs": [],
   "source": [
    "assert len(X)==len(y)==len(enzyme_names)"
   ]
  },
  {
   "cell_type": "markdown",
   "metadata": {},
   "source": [
    "# Import pytorch "
   ]
  },
  {
   "cell_type": "code",
   "execution_count": null,
   "metadata": {},
   "outputs": [],
   "source": []
  }
 ],
 "metadata": {
  "kernelspec": {
   "display_name": "Python 3",
   "language": "python",
   "name": "python3"
  },
  "language_info": {
   "codemirror_mode": {
    "name": "ipython",
    "version": 3
   },
   "file_extension": ".py",
   "mimetype": "text/x-python",
   "name": "python",
   "nbconvert_exporter": "python",
   "pygments_lexer": "ipython3",
   "version": "3.8.3"
  }
 },
 "nbformat": 4,
 "nbformat_minor": 4
}

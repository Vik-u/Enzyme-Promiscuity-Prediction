{
 "cells": [
  {
   "cell_type": "code",
   "execution_count": 1,
   "metadata": {},
   "outputs": [],
   "source": [
    "import os\n",
    "import pandas as pd\n",
    "import multiprocessing as mp"
   ]
  },
  {
   "cell_type": "code",
   "execution_count": 3,
   "metadata": {},
   "outputs": [],
   "source": [
    "output_dir = '../featEngg/offline/ifeatMethods/data/featfile/trainfiles/'\n",
    "ifeature_filepath = '../../iFeature/iFeature.py'\n",
    "featvec_out_dir = '../featEngg/offline/ifeatMethods/data/featvec/trainfiles/'"
   ]
  },
  {
   "cell_type": "code",
   "execution_count": 4,
   "metadata": {},
   "outputs": [],
   "source": [
    "ftypes = ['AAC','CKSAAP','TPC','DPC','DDE','GAAC','CKSAAGP',\n",
    "          'GTPC','GDPC','Moran','Geary','NMBroto','CTDC','CTDT',\n",
    "          'CTDD','CTriad','KSCTriad','SOCNumber','QSOrder',\n",
    "          'PAAC','APAAC']"
   ]
  },
  {
   "cell_type": "code",
   "execution_count": 5,
   "metadata": {},
   "outputs": [],
   "source": [
    "def bash_func(ftype):\n",
    "    output_filename = output_dir+ftype+'.tsv'\n",
    "    !python $ifeature_filepath --file $fastafile --type $ftype --out $output_filename\n",
    "    return"
   ]
  },
  {
   "cell_type": "code",
   "execution_count": 6,
   "metadata": {},
   "outputs": [
    {
     "name": "stdout",
     "output_type": "stream",
     "text": [
      "saving to ../data/feat_file/\n",
      "Descriptor type: NMBroto\n",
      "Descriptor type: DDE\n",
      "Descriptor type: TPC\n",
      "Descriptor type: DPC\n",
      "Descriptor type: GAAC\n",
      "Descriptor type: QSOrder\n",
      "Descriptor type: CKSAAGP\n",
      "Descriptor type: CTDD\n",
      "Descriptor type: CTriad\n",
      "Descriptor type: CTDT\n",
      "Descriptor type: Geary\n",
      "Descriptor type: CTDC\n",
      "Descriptor type: GTPC\n",
      "Descriptor type: CKSAAP\n",
      "Descriptor type: GDPC\n",
      "Descriptor type: AAC\n",
      "Descriptor type: Moran\n",
      "Descriptor type: PAAC\n",
      "Descriptor type: SOCNumber\n",
      "Descriptor type: APAAC\n",
      "Descriptor type: KSCTriad\n"
     ]
    }
   ],
   "source": [
    "%%time\n",
    "if __name__=='__main__':\n",
    "    file2fasta(enz_filename,fastafile)\n",
    "    !mkdir -p $output_dir\n",
    "    !echo 'saving to '$output_dir\n",
    "    \n",
    "    pool = mp.Pool(mp.cpu_count())\n",
    "    pool.map(bash_func,ftypes)\n",
    "    \n",
    "    !mkdir -p $featvec_out_dir\n",
    "\n",
    "    for f in list(os.scandir(output_dir)):\n",
    "        if f.name.endswith('.tsv'):\n",
    "            filename = f.name\n",
    "            df = pd.read_csv(output_dir+filename,sep='\\t',header=None,skiprows=1)\n",
    "            new_filename = filename.replace('.tsv','.csv.gz')\n",
    "            df.to_csv(featvec_out_dir+new_filename,header=False,index=False,compression='gzip')\n",
    "    \n",
    "    "
   ]
  }
 ],
 "metadata": {
  "kernelspec": {
   "display_name": "Python 3",
   "language": "python",
   "name": "python3"
  },
  "language_info": {
   "codemirror_mode": {
    "name": "ipython",
    "version": 3
   },
   "file_extension": ".py",
   "mimetype": "text/x-python",
   "name": "python",
   "nbconvert_exporter": "python",
   "pygments_lexer": "ipython3",
   "version": "3.8.3"
  }
 },
 "nbformat": 4,
 "nbformat_minor": 4
}

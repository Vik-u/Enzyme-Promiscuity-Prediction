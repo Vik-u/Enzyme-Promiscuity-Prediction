{
 "cells": [
  {
   "cell_type": "code",
   "execution_count": 1,
   "metadata": {},
   "outputs": [],
   "source": [
    "import numpy as np\n",
    "from itertools import starmap"
   ]
  },
  {
   "cell_type": "markdown",
   "metadata": {},
   "source": [
    "# Get Sequence Files"
   ]
  },
  {
   "cell_type": "code",
   "execution_count": 2,
   "metadata": {},
   "outputs": [],
   "source": [
    "seqfile = '../data/enz_sequence.csv'\n",
    "\n",
    "enzyme_names = []\n",
    "X_raw = []\n",
    "\n",
    "with open(seqfile,'rt') as f:\n",
    "    for lines in f:\n",
    "        val = lines.strip().split(',')\n",
    "        enzyme_names.append(val[0])\n",
    "        X_raw.append(val[1])"
   ]
  },
  {
   "cell_type": "markdown",
   "metadata": {},
   "source": [
    "# Get integer encoded sequence"
   ]
  },
  {
   "cell_type": "code",
   "execution_count": 3,
   "metadata": {},
   "outputs": [],
   "source": [
    "AAs = ['A', 'C', 'D', 'E', 'F', 'G', 'H', 'I', 'K', 'L',\n",
    "         'M', 'N', 'P', 'Q', 'R', 'S', 'T', 'V', 'W', 'Y']\n",
    "\n",
    "AAdict = {aa:i+1 for i,aa in enumerate(AAs)}"
   ]
  },
  {
   "cell_type": "code",
   "execution_count": 4,
   "metadata": {},
   "outputs": [],
   "source": [
    "def get_integer_features(seq):\n",
    "    seq_int = []\n",
    "    for res in seq:\n",
    "        seq_int.append(AAdict[res])\n",
    "    return seq_int"
   ]
  },
  {
   "cell_type": "code",
   "execution_count": 5,
   "metadata": {},
   "outputs": [],
   "source": [
    "X_int_enc = list(map(get_integer_features,X_raw))"
   ]
  },
  {
   "cell_type": "markdown",
   "metadata": {},
   "source": [
    "# Trim/Pad sequences"
   ]
  },
  {
   "cell_type": "code",
   "execution_count": 6,
   "metadata": {},
   "outputs": [],
   "source": [
    "def pad_sequence(seq,length):\n",
    "    '''pads a variable length sequence into a sequence of length {length} with zeros'''\n",
    "    seq_length = len(seq)\n",
    "    delta = length - seq_length\n",
    "    pre_pad_length = delta//2\n",
    "    post_pad_length = delta - pre_pad_length\n",
    "    \n",
    "    pre_pad = np.zeros(pre_pad_length)\n",
    "    post_pad = np.zeros(post_pad_length)\n",
    "    \n",
    "    seq = np.array(seq)\n",
    "    \n",
    "    seq = np.insert(seq,0,pre_pad)\n",
    "    \n",
    "    seq = np.append(seq,post_pad)\n",
    "    return seq\n",
    "\n",
    "\n",
    "def trim_sequence(seq,length):\n",
    "    '''trims a variable length sequence into a sequence of equal length'''\n",
    "    seq_length = len(seq)\n",
    "    delta = seq_length - length\n",
    "    pre_trim_length = delta//2\n",
    "    post_trim_length = delta - pre_trim_length\n",
    "    \n",
    "    seq = np.array(seq)\n",
    "    \n",
    "    return seq[pre_trim_length:seq_length-post_trim_length]\n",
    "\n",
    "\n",
    "def process_sequence(seq,length):\n",
    "    '''modifies a sequence of variable length into an user-defined length'''\n",
    "    seq_length = len(seq)\n",
    "    if seq_length == length:\n",
    "        return np.array(seq)\n",
    "    \n",
    "    elif seq_length<length:\n",
    "        return pad_sequence(seq,length)\n",
    "    \n",
    "    elif seq_length>length:\n",
    "        return trim_sequence(seq,length)\n",
    "    \n",
    "    return"
   ]
  },
  {
   "cell_type": "code",
   "execution_count": 7,
   "metadata": {},
   "outputs": [],
   "source": [
    "# get median length of all seq\n",
    "all_seq_length = list(map(len,X_int_enc))\n",
    "median_len = np.median(all_seq_length)"
   ]
  },
  {
   "cell_type": "code",
   "execution_count": 8,
   "metadata": {},
   "outputs": [],
   "source": [
    "argument_iter = zip(X_int_enc,[int(median_len) for i in range(len(X_int_enc))])"
   ]
  },
  {
   "cell_type": "code",
   "execution_count": 9,
   "metadata": {},
   "outputs": [],
   "source": [
    "X_int_samelen = list(starmap(process_sequence,argument_iter))"
   ]
  },
  {
   "cell_type": "code",
   "execution_count": 10,
   "metadata": {},
   "outputs": [],
   "source": [
    "X_int_enc = np.array(X_int_samelen)"
   ]
  },
  {
   "cell_type": "code",
   "execution_count": 11,
   "metadata": {},
   "outputs": [
    {
     "data": {
      "text/plain": [
       "(6033, 408)"
      ]
     },
     "execution_count": 11,
     "metadata": {},
     "output_type": "execute_result"
    }
   ],
   "source": [
    "X_int_enc.shape"
   ]
  },
  {
   "cell_type": "markdown",
   "metadata": {},
   "source": [
    "# One Hot Encode"
   ]
  },
  {
   "cell_type": "code",
   "execution_count": 12,
   "metadata": {},
   "outputs": [],
   "source": [
    "from sklearn.preprocessing import OneHotEncoder"
   ]
  },
  {
   "cell_type": "code",
   "execution_count": 13,
   "metadata": {},
   "outputs": [],
   "source": [
    "ohe = OneHotEncoder()"
   ]
  },
  {
   "cell_type": "code",
   "execution_count": 14,
   "metadata": {},
   "outputs": [],
   "source": [
    "ohe.fit(X_int_enc)\n",
    "\n",
    "X = ohe.transform(X_int_enc).toarray()"
   ]
  },
  {
   "cell_type": "markdown",
   "metadata": {},
   "source": [
    "# Get Labels"
   ]
  },
  {
   "cell_type": "code",
   "execution_count": 15,
   "metadata": {},
   "outputs": [],
   "source": [
    "labelfile = '../data/enz_labels.csv'\n",
    "\n",
    "enzyme_namesy = []\n",
    "y_raw = []\n",
    "\n",
    "with open(labelfile,'rt') as f:\n",
    "    for lines in f:\n",
    "        val = lines.strip().split(',')\n",
    "        enzyme_namesy.append(val[0])\n",
    "        y_raw.append(int(val[1]))        "
   ]
  },
  {
   "cell_type": "code",
   "execution_count": 16,
   "metadata": {},
   "outputs": [],
   "source": [
    "assert enzyme_names == enzyme_namesy"
   ]
  },
  {
   "cell_type": "code",
   "execution_count": 17,
   "metadata": {},
   "outputs": [],
   "source": [
    "y = np.array(y_raw)"
   ]
  },
  {
   "cell_type": "code",
   "execution_count": 18,
   "metadata": {},
   "outputs": [],
   "source": [
    "enzyme_names = np.array(enzyme_names)"
   ]
  },
  {
   "cell_type": "markdown",
   "metadata": {},
   "source": [
    "# Make train test data"
   ]
  },
  {
   "cell_type": "code",
   "execution_count": 19,
   "metadata": {},
   "outputs": [],
   "source": [
    "y0_idx = np.argwhere(y==0).flatten()\n",
    "y1_idx = np.argwhere(y==1).flatten()\n",
    "\n",
    "train0_idx = np.random.choice(y0_idx,size=int(0.75*len(y0_idx)),replace=False)\n",
    "train1_idx = np.random.choice(y1_idx,size=int(0.45*len(y1_idx)),replace=False)\n",
    "\n",
    "valid0_idx = np.array([i for i in y0_idx if i not in train0_idx])\n",
    "valid1_idx = np.array([i for i in y1_idx if i not in train1_idx])\n",
    "\n",
    "train_idx = np.append(train0_idx,train1_idx)\n",
    "valid_idx = np.append(valid0_idx,valid1_idx)\n",
    "\n",
    "np.random.shuffle(train_idx)\n",
    "np.random.shuffle(valid_idx)\n",
    "\n",
    "X_train,X_valid = X[train_idx],X[valid_idx]\n",
    "y_train,y_valid = y[train_idx],y[valid_idx]\n",
    "enz_train,enz_valid = enzyme_names[train_idx],enzyme_names[valid_idx]\n",
    "\n",
    "assert len(enz_train) + len(enz_valid) == len(enzyme_names)\n",
    "assert len(X_train) + len(X_valid) == len(X)\n",
    "assert len(y_train) + len(y_valid) == len(y)\n",
    "\n",
    "X_train = X_train.reshape(-1,1,X.shape[1]).astype('float32')\n",
    "X_valid = X_valid.reshape(-1,1,X.shape[1]).astype('float32')\n",
    "y_train = y_train.reshape(-1,1).astype('float32')\n",
    "y_valid = y_valid.reshape(-1,1).astype('float32')"
   ]
  },
  {
   "cell_type": "markdown",
   "metadata": {},
   "source": [
    "# Pytorch"
   ]
  },
  {
   "cell_type": "code",
   "execution_count": 20,
   "metadata": {},
   "outputs": [],
   "source": [
    "import torch\n",
    "import torchvision\n",
    "import torch.nn as nn\n",
    "import torch.nn.functional as F\n",
    "import torch.optim as optim"
   ]
  },
  {
   "cell_type": "markdown",
   "metadata": {},
   "source": [
    "## DataLoader"
   ]
  },
  {
   "cell_type": "code",
   "execution_count": 21,
   "metadata": {},
   "outputs": [],
   "source": [
    "trainset = []\n",
    "for i in range(len(X_train)):\n",
    "    trainset.append([X_train[i],y_train[i]])\n",
    "\n",
    "validset = []\n",
    "for i in range(len(X_valid)):\n",
    "    validset.append([X_valid[i],y_valid[i]])\n",
    "    \n",
    "trainloader = torch.utils.data.DataLoader(trainset, batch_size=100,\n",
    "                                          shuffle=True, num_workers=4)\n",
    "validloader = torch.utils.data.DataLoader(validset, batch_size=500,\n",
    "                                          shuffle=True, num_workers=4)"
   ]
  },
  {
   "cell_type": "markdown",
   "metadata": {},
   "source": [
    "## Define model architecture"
   ]
  },
  {
   "cell_type": "code",
   "execution_count": 44,
   "metadata": {},
   "outputs": [],
   "source": [
    "class CNN(nn.Module):\n",
    "    def __init__(self):\n",
    "        super(CNN, self).__init__()\n",
    "\n",
    "\n",
    "        #Defining the layers\n",
    "        # CNN Layer\n",
    "        oc = 5\n",
    "        self.cnn =         self.convlayers = nn.Sequential(\n",
    "          nn.Conv1d(in_channels = 1, out_channels = oc, kernel_size = 21*5, stride = 1, padding = 0, dilation=1),\n",
    "          nn.ReLU(),\n",
    "          nn.Conv1d(in_channels = oc, out_channels = oc, kernel_size = 25, stride = 1, padding = 0, dilation=2),\n",
    "          nn.ReLU(),\n",
    "          nn.Conv1d(in_channels = oc, out_channels = oc, kernel_size = 25, stride = 1, padding = 0, dilation=4),\n",
    "          nn.ReLU(),\n",
    "          nn.Conv1d(in_channels = oc, out_channels = oc, kernel_size = 25, stride = 1, padding = 0, dilation=6),\n",
    "          nn.ReLU(),\n",
    "          nn.Conv1d(in_channels = oc, out_channels = oc, kernel_size = 25, stride = 1, padding = 0, dilation=8),\n",
    "          nn.ReLU(),\n",
    "          nn.Conv1d(in_channels = oc, out_channels = oc, kernel_size = 25, stride = 1, padding = 0, dilation=16),\n",
    "          nn.ReLU(),\n",
    "          nn.Conv1d(in_channels = oc, out_channels = oc, kernel_size = 25, stride = 1, padding = 0, dilation=32),\n",
    "          nn.ReLU(),\n",
    "          nn.Conv1d(in_channels = oc, out_channels = oc, kernel_size = 25, stride = 1, padding = 0, dilation=64),\n",
    "          nn.ReLU(),\n",
    "          nn.Conv1d(in_channels = oc, out_channels = oc, kernel_size = 25, stride = 1, padding = 0, dilation=128),\n",
    "          nn.ReLU())\n",
    "        # Fully connected layer\n",
    "        self.fc = nn.Sequential(\n",
    "          nn.Linear(10830,1200),\n",
    "          nn.ReLU(),\n",
    "          nn.Linear(1200,184),\n",
    "          nn.ReLU(),\n",
    "          nn.Linear(184,10),nn.ReLU(),nn.Linear(10,1))\n",
    "        \n",
    "    def forward(self, x):\n",
    "        \n",
    "        x = self.convlayers(x)\n",
    "        x = x.view(-1,10830)\n",
    "        x = self.fc(x)\n",
    "        x = torch.sigmoid(x)\n",
    "        return x\n",
    "\n",
    "\n",
    "cnn = CNN()"
   ]
  },
  {
   "cell_type": "code",
   "execution_count": 45,
   "metadata": {},
   "outputs": [],
   "source": [
    "# Define hyperparameters\n",
    "n_epochs = 2\n",
    "lr=0.001\n",
    "\n",
    "# Define Loss, Optimizer\n",
    "criterion = nn.BCELoss()\n",
    "optimizer = torch.optim.Adam(cnn.parameters(), lr=lr)\n",
    "\n"
   ]
  },
  {
   "cell_type": "code",
   "execution_count": 46,
   "metadata": {
    "scrolled": true
   },
   "outputs": [
    {
     "name": "stdout",
     "output_type": "stream",
     "text": [
      "Epoch: 0/2............. Loss: 0.691763\n"
     ]
    }
   ],
   "source": [
    "for epoch in range(0,n_epochs+1):\n",
    "    \n",
    "    \n",
    "    for i,data in enumerate(trainloader,0):\n",
    "        optimizer.zero_grad()\n",
    "        \n",
    "        input_ = data[0]\n",
    "        label = data[1]\n",
    "\n",
    "\n",
    "        ypred = cnn(input_)\n",
    "        \n",
    "        loss = criterion(ypred, label)\n",
    "        loss.backward()\n",
    "        optimizer.step()\n",
    "        \n",
    "    if epoch%10 == 0:\n",
    "        print('Epoch: {}/{}.............'.format(epoch, n_epochs), end=' ')\n",
    "        print(\"Loss: {:.6f}\".format(loss.item()))\n"
   ]
  },
  {
   "cell_type": "code",
   "execution_count": 49,
   "metadata": {},
   "outputs": [],
   "source": [
    "num_correct = 0\n",
    "all_labels = []\n",
    "all_preds = []\n",
    "\n",
    "for i,data in enumerate(validloader):\n",
    "    inputs, labels = data\n",
    "    \n",
    "    all_labels.extend(labels.flatten().detach().numpy())\n",
    "    \n",
    "    \n",
    "    outputs = cnn(inputs)    \n",
    "    num_correct += (outputs.round() == labels).sum()\n",
    "    \n",
    "    all_preds.extend(outputs.round().flatten().detach().numpy())\n"
   ]
  },
  {
   "cell_type": "code",
   "execution_count": 50,
   "metadata": {},
   "outputs": [
    {
     "data": {
      "text/plain": [
       "0.21347464042392128"
      ]
     },
     "execution_count": 50,
     "metadata": {},
     "output_type": "execute_result"
    }
   ],
   "source": [
    "num_correct.item()/(len(validset))"
   ]
  },
  {
   "cell_type": "code",
   "execution_count": 51,
   "metadata": {},
   "outputs": [
    {
     "data": {
      "text/plain": [
       "(array([0., 1.], dtype=float32), array([ 564, 2078]))"
      ]
     },
     "execution_count": 51,
     "metadata": {},
     "output_type": "execute_result"
    }
   ],
   "source": [
    "np.unique(all_labels,return_counts=True)"
   ]
  },
  {
   "cell_type": "code",
   "execution_count": 52,
   "metadata": {},
   "outputs": [
    {
     "data": {
      "text/plain": [
       "(array([0.], dtype=float32), array([2642]))"
      ]
     },
     "execution_count": 52,
     "metadata": {},
     "output_type": "execute_result"
    }
   ],
   "source": [
    "np.unique(all_preds,return_counts=True)"
   ]
  },
  {
   "cell_type": "code",
   "execution_count": 53,
   "metadata": {},
   "outputs": [],
   "source": [
    "from sklearn.metrics import f1_score,precision_score,recall_score"
   ]
  },
  {
   "cell_type": "code",
   "execution_count": 54,
   "metadata": {},
   "outputs": [
    {
     "data": {
      "text/plain": [
       "0.0"
      ]
     },
     "execution_count": 54,
     "metadata": {},
     "output_type": "execute_result"
    }
   ],
   "source": [
    "f1_score(all_labels,all_preds)"
   ]
  },
  {
   "cell_type": "code",
   "execution_count": 55,
   "metadata": {},
   "outputs": [
    {
     "data": {
      "text/plain": [
       "0.21347464042392128"
      ]
     },
     "execution_count": 55,
     "metadata": {},
     "output_type": "execute_result"
    }
   ],
   "source": [
    "precision_score(all_labels,all_preds,pos_label=0)"
   ]
  },
  {
   "cell_type": "code",
   "execution_count": 56,
   "metadata": {},
   "outputs": [
    {
     "data": {
      "text/plain": [
       "1.0"
      ]
     },
     "execution_count": 56,
     "metadata": {},
     "output_type": "execute_result"
    }
   ],
   "source": [
    "recall_score(all_labels,all_preds,pos_label=0)"
   ]
  },
  {
   "cell_type": "code",
   "execution_count": null,
   "metadata": {},
   "outputs": [],
   "source": []
  }
 ],
 "metadata": {
  "kernelspec": {
   "display_name": "Python 3",
   "language": "python",
   "name": "python3"
  },
  "language_info": {
   "codemirror_mode": {
    "name": "ipython",
    "version": 3
   },
   "file_extension": ".py",
   "mimetype": "text/x-python",
   "name": "python",
   "nbconvert_exporter": "python",
   "pygments_lexer": "ipython3",
   "version": "3.6.13"
  }
 },
 "nbformat": 4,
 "nbformat_minor": 4
}

{
 "cells": [
  {
   "cell_type": "code",
   "execution_count": 1,
   "metadata": {},
   "outputs": [],
   "source": [
    "import numpy as np \n",
    "import pandas as pd \n",
    "import pdb \n",
    "import progressbar\n",
    "from time import sleep\n"
   ]
  },
  {
   "cell_type": "code",
   "execution_count": 2,
   "metadata": {},
   "outputs": [],
   "source": [
    "A = pd.read_csv('training_6091_nsubs.csv', header = None, index_col=0)"
   ]
  },
  {
   "cell_type": "code",
   "execution_count": 3,
   "metadata": {},
   "outputs": [
    {
     "data": {
      "text/html": [
       "<div>\n",
       "<style scoped>\n",
       "    .dataframe tbody tr th:only-of-type {\n",
       "        vertical-align: middle;\n",
       "    }\n",
       "\n",
       "    .dataframe tbody tr th {\n",
       "        vertical-align: top;\n",
       "    }\n",
       "\n",
       "    .dataframe thead th {\n",
       "        text-align: right;\n",
       "    }\n",
       "</style>\n",
       "<table border=\"1\" class=\"dataframe\">\n",
       "  <thead>\n",
       "    <tr style=\"text-align: right;\">\n",
       "      <th></th>\n",
       "      <th>1</th>\n",
       "      <th>2</th>\n",
       "    </tr>\n",
       "    <tr>\n",
       "      <th>0</th>\n",
       "      <th></th>\n",
       "      <th></th>\n",
       "    </tr>\n",
       "  </thead>\n",
       "  <tbody>\n",
       "    <tr>\n",
       "      <th>Q8L3C9@SwissProt</th>\n",
       "      <td>MLPKTMKAAVIREFGSLLKIEEVEVKRPGRNEILVKVIASGVCHTD...</td>\n",
       "      <td>12</td>\n",
       "    </tr>\n",
       "    <tr>\n",
       "      <th>P39462@UniProt</th>\n",
       "      <td>MRAVRLVEIGKPLSLQEIGVPKPKGPQVLIKVEAAGVCHSDVHMRQ...</td>\n",
       "      <td>29</td>\n",
       "    </tr>\n",
       "    <tr>\n",
       "      <th>Q76HN6@UniProt</th>\n",
       "      <td>MEFDYLIVGAGSAGCVLANRLSADPSVTVCLLEAGPEDRSPLIHTP...</td>\n",
       "      <td>19</td>\n",
       "    </tr>\n",
       "    <tr>\n",
       "      <th>B2KJ46@UniProt</th>\n",
       "      <td>MGEIESYCNKELGPLPTKAPTLSKNVLDLFSLKGKVASVTGSSGGI...</td>\n",
       "      <td>11</td>\n",
       "    </tr>\n",
       "    <tr>\n",
       "      <th>Q9P6C8@SwissProt</th>\n",
       "      <td>MPQFEIPEQQWAQVVEKKGGPVVFKQIPVQKPGPDEVLINVKYSGV...</td>\n",
       "      <td>1</td>\n",
       "    </tr>\n",
       "  </tbody>\n",
       "</table>\n",
       "</div>"
      ],
      "text/plain": [
       "                                                                  1   2\n",
       "0                                                                      \n",
       "Q8L3C9@SwissProt  MLPKTMKAAVIREFGSLLKIEEVEVKRPGRNEILVKVIASGVCHTD...  12\n",
       "P39462@UniProt    MRAVRLVEIGKPLSLQEIGVPKPKGPQVLIKVEAAGVCHSDVHMRQ...  29\n",
       "Q76HN6@UniProt    MEFDYLIVGAGSAGCVLANRLSADPSVTVCLLEAGPEDRSPLIHTP...  19\n",
       "B2KJ46@UniProt    MGEIESYCNKELGPLPTKAPTLSKNVLDLFSLKGKVASVTGSSGGI...  11\n",
       "Q9P6C8@SwissProt  MPQFEIPEQQWAQVVEKKGGPVVFKQIPVQKPGPDEVLINVKYSGV...   1"
      ]
     },
     "execution_count": 3,
     "metadata": {},
     "output_type": "execute_result"
    }
   ],
   "source": [
    "A.head()"
   ]
  },
  {
   "cell_type": "code",
   "execution_count": 4,
   "metadata": {},
   "outputs": [
    {
     "data": {
      "text/plain": [
       "'Q76HN6@UniProt'"
      ]
     },
     "execution_count": 4,
     "metadata": {},
     "output_type": "execute_result"
    }
   ],
   "source": [
    "A.index[2]"
   ]
  },
  {
   "cell_type": "code",
   "execution_count": 6,
   "metadata": {},
   "outputs": [
    {
     "name": "stderr",
     "output_type": "stream",
     "text": [
      "[========================================================================] 100%\n"
     ]
    }
   ],
   "source": [
    "bar = progressbar.ProgressBar(maxval=len(A), \\\n",
    "    widgets=[progressbar.Bar('=', '[', ']'), ' ', progressbar.Percentage()])\n",
    "\n",
    "\n",
    "Pro_dis = 5\n",
    "\n",
    "seqLength = []\n",
    "Main_dict = {}\n",
    "csv_out_dict = {}\n",
    "Mega_pro_sigs = []\n",
    "\n",
    "len_data = len(A)\n",
    "\n",
    "bar.start()\n",
    "for i  in range(len_data):\n",
    "    ID = A.index[i]\n",
    "    Sequence = A[1][i]\n",
    "    SubstrateNumber = A[2][i]\n",
    "    \n",
    "    seq_len = len(Sequence)\n",
    "    pro_sigs = [] \n",
    "    \n",
    "    for seqi in range(seq_len):\n",
    "        if seqi < Pro_dis:\n",
    "            pro_sigs.append(Sequence[0:seqi+Pro_dis+1])\n",
    "        elif seq_len - seqi <= Pro_dis:\n",
    "            pro_sigs.append(Sequence[seqi-Pro_dis:seq_len])\n",
    "        else:\n",
    "            pro_sigs.append(Sequence[seqi-Pro_dis:seqi+Pro_dis+1])\n",
    "    \n",
    "    Mega_pro_sigs = Mega_pro_sigs + pro_sigs\n",
    "    sigs_dict = {}\n",
    "    seqLength.append(seq_len)\n",
    "    sigs_dict['ID'] = ID\n",
    "    sigs_dict['seq'] = Sequence\n",
    "    sigs_dict['sub_num'] = SubstrateNumber\n",
    "    sigs_dict['pro_sign'] = pro_sigs\n",
    "    \n",
    "    Main_dict[ID] = sigs_dict\n",
    "    csv_out_dict[ID] = pro_sigs\n",
    "    \n",
    "    bar.update(i)\n",
    "    sleep(0.1)\n",
    "bar.finish()\n"
   ]
  },
  {
   "cell_type": "code",
   "execution_count": null,
   "metadata": {},
   "outputs": [],
   "source": [
    "csv"
   ]
  },
  {
   "cell_type": "code",
   "execution_count": 40,
   "metadata": {},
   "outputs": [],
   "source": [
    "out_csv_df = pd.DataFrame.from_dict(csv_out_dict, orient='index')"
   ]
  },
  {
   "cell_type": "code",
   "execution_count": 41,
   "metadata": {},
   "outputs": [],
   "source": [
    "out_csv_df.to_csv('Protein_signature_rad_5.csv')"
   ]
  },
  {
   "cell_type": "code",
   "execution_count": 53,
   "metadata": {},
   "outputs": [],
   "source": [
    "aaa = []\n",
    "bb = [1, 2, 3]\n",
    "for i in range(3):\n",
    "    b = []\n",
    "    b.append('lo')\n",
    "    b.append(i)\n",
    "    aaa = aaa + b"
   ]
  },
  {
   "cell_type": "code",
   "execution_count": 54,
   "metadata": {},
   "outputs": [
    {
     "data": {
      "text/plain": [
       "['lo', 0, 'lo', 1, 'lo', 2]"
      ]
     },
     "execution_count": 54,
     "metadata": {},
     "output_type": "execute_result"
    }
   ],
   "source": [
    "aaa"
   ]
  },
  {
   "cell_type": "code",
   "execution_count": 52,
   "metadata": {},
   "outputs": [
    {
     "data": {
      "text/plain": [
       "{2, 'lo'}"
      ]
     },
     "execution_count": 52,
     "metadata": {},
     "output_type": "execute_result"
    }
   ],
   "source": []
  },
  {
   "cell_type": "code",
   "execution_count": 7,
   "metadata": {},
   "outputs": [],
   "source": [
    "try_id = A.index[1]\n",
    "try_seq = A[1][1]\n",
    "try_subs = A[2][1]"
   ]
  },
  {
   "cell_type": "code",
   "execution_count": 8,
   "metadata": {},
   "outputs": [
    {
     "data": {
      "text/plain": [
       "'MRAVRLVEIGKPLSLQEIGVPKPKGPQVLIKVEAAGVCHSDVHMRQGRFGNLRIVEDLGVKLPVTLGHEIAGKIEEVGDEVVGYSKGDLVAVNPWQGEGNCYYCRIGEEHLCDSPRWLGINFDGAYAEYVIVPHYKYMYKLRRLNAVEAAPLTCSGITTYRAVRKASLDPTKTLLVVGAGGGLGTMAVQIAKAVSGATIIGVDVREEAVEAAKRAGADYVINASMQDPLAEIRRITESKGVDAVIDLNNSEKTLSVYPKALAKQGKYVMVGLFGADLHYHAPLITLSEIQFVGSLVGNQSDFLGIMRLAEAGKVKPMITKTMKLEEANEAIDNLENFKAIGRQVLIP'"
      ]
     },
     "execution_count": 8,
     "metadata": {},
     "output_type": "execute_result"
    }
   ],
   "source": [
    "try_seq"
   ]
  },
  {
   "cell_type": "code",
   "execution_count": 9,
   "metadata": {},
   "outputs": [
    {
     "data": {
      "text/plain": [
       "347"
      ]
     },
     "execution_count": 9,
     "metadata": {},
     "output_type": "execute_result"
    }
   ],
   "source": [
    "len(try_seq)"
   ]
  },
  {
   "cell_type": "code",
   "execution_count": 11,
   "metadata": {},
   "outputs": [],
   "source": [
    "try_psig = []\n",
    "\n",
    "p_distance = 5\n",
    "len_seq = len(try_seq)\n",
    "\n",
    "\n",
    "for i in range(len_seq):\n",
    "    if i < p_distance:\n",
    "#         pdb.set_trace()\n",
    "        try_psig.append(try_seq[0:i+p_distance + 1])\n",
    "    elif len_seq - i <= p_distance:\n",
    "        try_psig.append(try_seq[i-p_distance:len_seq])\n",
    "    else:\n",
    "        try_psig.append(try_seq[i-p_distance:i+p_distance + 1])\n",
    "    \n",
    "    \n",
    "    \n",
    "        "
   ]
  },
  {
   "cell_type": "code",
   "execution_count": null,
   "metadata": {},
   "outputs": [],
   "source": [
    "try_psig"
   ]
  },
  {
   "cell_type": "code",
   "execution_count": 2,
   "metadata": {},
   "outputs": [],
   "source": []
  },
  {
   "cell_type": "code",
   "execution_count": null,
   "metadata": {},
   "outputs": [],
   "source": [
    "import progressbar\n",
    "from time import sleep\n",
    "bar = progressbar.ProgressBar(maxval=20, \\\n",
    "    widgets=[progressbar.Bar('=', '[', ']'), ' ', progressbar.Percentage()])\n",
    "bar.start()\n",
    "for i in xrange(20):\n",
    "    bar.update(i+1)\n",
    "    sleep(0.1)\n",
    "bar.finish()"
   ]
  },
  {
   "cell_type": "code",
   "execution_count": null,
   "metadata": {},
   "outputs": [],
   "source": []
  }
 ],
 "metadata": {
  "kernelspec": {
   "display_name": "Python 3",
   "language": "python",
   "name": "python3"
  },
  "language_info": {
   "codemirror_mode": {
    "name": "ipython",
    "version": 3
   },
   "file_extension": ".py",
   "mimetype": "text/x-python",
   "name": "python",
   "nbconvert_exporter": "python",
   "pygments_lexer": "ipython3",
   "version": "3.9.2"
  }
 },
 "nbformat": 4,
 "nbformat_minor": 4
}

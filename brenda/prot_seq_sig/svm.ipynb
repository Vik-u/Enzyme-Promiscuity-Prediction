{
 "cells": [
  {
   "cell_type": "code",
   "execution_count": 1,
   "id": "26b816dd",
   "metadata": {},
   "outputs": [],
   "source": [
    "import pandas as pd"
   ]
  },
  {
   "cell_type": "code",
   "execution_count": 2,
   "id": "d2e444e4",
   "metadata": {},
   "outputs": [],
   "source": [
    "import numpy as np"
   ]
  },
  {
   "cell_type": "code",
   "execution_count": 3,
   "id": "2a01ab5a",
   "metadata": {},
   "outputs": [],
   "source": [
    "from scipy.sparse import csr_matrix"
   ]
  },
  {
   "cell_type": "markdown",
   "id": "85fd59d7",
   "metadata": {},
   "source": [
    "# Import data"
   ]
  },
  {
   "cell_type": "code",
   "execution_count": 4,
   "id": "c3c3792c",
   "metadata": {},
   "outputs": [],
   "source": [
    "datafile = './Protein_signature_rad_5.csv'"
   ]
  },
  {
   "cell_type": "code",
   "execution_count": 5,
   "id": "4c60a22a",
   "metadata": {},
   "outputs": [],
   "source": [
    "df = pd.read_csv(datafile, low_memory=False)"
   ]
  },
  {
   "cell_type": "code",
   "execution_count": 6,
   "id": "66e4896a",
   "metadata": {},
   "outputs": [
    {
     "data": {
      "text/html": [
       "<div>\n",
       "<style scoped>\n",
       "    .dataframe tbody tr th:only-of-type {\n",
       "        vertical-align: middle;\n",
       "    }\n",
       "\n",
       "    .dataframe tbody tr th {\n",
       "        vertical-align: top;\n",
       "    }\n",
       "\n",
       "    .dataframe thead th {\n",
       "        text-align: right;\n",
       "    }\n",
       "</style>\n",
       "<table border=\"1\" class=\"dataframe\">\n",
       "  <thead>\n",
       "    <tr style=\"text-align: right;\">\n",
       "      <th></th>\n",
       "      <th>Unnamed: 0</th>\n",
       "      <th>0</th>\n",
       "      <th>1</th>\n",
       "      <th>2</th>\n",
       "      <th>3</th>\n",
       "      <th>4</th>\n",
       "      <th>5</th>\n",
       "      <th>6</th>\n",
       "      <th>7</th>\n",
       "      <th>8</th>\n",
       "      <th>...</th>\n",
       "      <th>7063</th>\n",
       "      <th>7064</th>\n",
       "      <th>7065</th>\n",
       "      <th>7066</th>\n",
       "      <th>7067</th>\n",
       "      <th>7068</th>\n",
       "      <th>7069</th>\n",
       "      <th>7070</th>\n",
       "      <th>7071</th>\n",
       "      <th>7072</th>\n",
       "    </tr>\n",
       "  </thead>\n",
       "  <tbody>\n",
       "    <tr>\n",
       "      <th>0</th>\n",
       "      <td>Q8L3C9@SwissProt</td>\n",
       "      <td>MLPKTM</td>\n",
       "      <td>MLPKTMK</td>\n",
       "      <td>MLPKTMKA</td>\n",
       "      <td>MLPKTMKAA</td>\n",
       "      <td>MLPKTMKAAV</td>\n",
       "      <td>MLPKTMKAAVI</td>\n",
       "      <td>LPKTMKAAVIR</td>\n",
       "      <td>PKTMKAAVIRE</td>\n",
       "      <td>KTMKAAVIREF</td>\n",
       "      <td>...</td>\n",
       "      <td>NaN</td>\n",
       "      <td>NaN</td>\n",
       "      <td>NaN</td>\n",
       "      <td>NaN</td>\n",
       "      <td>NaN</td>\n",
       "      <td>NaN</td>\n",
       "      <td>NaN</td>\n",
       "      <td>NaN</td>\n",
       "      <td>NaN</td>\n",
       "      <td>NaN</td>\n",
       "    </tr>\n",
       "    <tr>\n",
       "      <th>1</th>\n",
       "      <td>P39462@UniProt</td>\n",
       "      <td>MRAVRL</td>\n",
       "      <td>MRAVRLV</td>\n",
       "      <td>MRAVRLVE</td>\n",
       "      <td>MRAVRLVEI</td>\n",
       "      <td>MRAVRLVEIG</td>\n",
       "      <td>MRAVRLVEIGK</td>\n",
       "      <td>RAVRLVEIGKP</td>\n",
       "      <td>AVRLVEIGKPL</td>\n",
       "      <td>VRLVEIGKPLS</td>\n",
       "      <td>...</td>\n",
       "      <td>NaN</td>\n",
       "      <td>NaN</td>\n",
       "      <td>NaN</td>\n",
       "      <td>NaN</td>\n",
       "      <td>NaN</td>\n",
       "      <td>NaN</td>\n",
       "      <td>NaN</td>\n",
       "      <td>NaN</td>\n",
       "      <td>NaN</td>\n",
       "      <td>NaN</td>\n",
       "    </tr>\n",
       "    <tr>\n",
       "      <th>2</th>\n",
       "      <td>Q76HN6@UniProt</td>\n",
       "      <td>MEFDYL</td>\n",
       "      <td>MEFDYLI</td>\n",
       "      <td>MEFDYLIV</td>\n",
       "      <td>MEFDYLIVG</td>\n",
       "      <td>MEFDYLIVGA</td>\n",
       "      <td>MEFDYLIVGAG</td>\n",
       "      <td>EFDYLIVGAGS</td>\n",
       "      <td>FDYLIVGAGSA</td>\n",
       "      <td>DYLIVGAGSAG</td>\n",
       "      <td>...</td>\n",
       "      <td>NaN</td>\n",
       "      <td>NaN</td>\n",
       "      <td>NaN</td>\n",
       "      <td>NaN</td>\n",
       "      <td>NaN</td>\n",
       "      <td>NaN</td>\n",
       "      <td>NaN</td>\n",
       "      <td>NaN</td>\n",
       "      <td>NaN</td>\n",
       "      <td>NaN</td>\n",
       "    </tr>\n",
       "    <tr>\n",
       "      <th>3</th>\n",
       "      <td>B2KJ46@UniProt</td>\n",
       "      <td>MGEIES</td>\n",
       "      <td>MGEIESY</td>\n",
       "      <td>MGEIESYC</td>\n",
       "      <td>MGEIESYCN</td>\n",
       "      <td>MGEIESYCNK</td>\n",
       "      <td>MGEIESYCNKE</td>\n",
       "      <td>GEIESYCNKEL</td>\n",
       "      <td>EIESYCNKELG</td>\n",
       "      <td>IESYCNKELGP</td>\n",
       "      <td>...</td>\n",
       "      <td>NaN</td>\n",
       "      <td>NaN</td>\n",
       "      <td>NaN</td>\n",
       "      <td>NaN</td>\n",
       "      <td>NaN</td>\n",
       "      <td>NaN</td>\n",
       "      <td>NaN</td>\n",
       "      <td>NaN</td>\n",
       "      <td>NaN</td>\n",
       "      <td>NaN</td>\n",
       "    </tr>\n",
       "    <tr>\n",
       "      <th>4</th>\n",
       "      <td>Q9P6C8@SwissProt</td>\n",
       "      <td>MPQFEI</td>\n",
       "      <td>MPQFEIP</td>\n",
       "      <td>MPQFEIPE</td>\n",
       "      <td>MPQFEIPEQ</td>\n",
       "      <td>MPQFEIPEQQ</td>\n",
       "      <td>MPQFEIPEQQW</td>\n",
       "      <td>PQFEIPEQQWA</td>\n",
       "      <td>QFEIPEQQWAQ</td>\n",
       "      <td>FEIPEQQWAQV</td>\n",
       "      <td>...</td>\n",
       "      <td>NaN</td>\n",
       "      <td>NaN</td>\n",
       "      <td>NaN</td>\n",
       "      <td>NaN</td>\n",
       "      <td>NaN</td>\n",
       "      <td>NaN</td>\n",
       "      <td>NaN</td>\n",
       "      <td>NaN</td>\n",
       "      <td>NaN</td>\n",
       "      <td>NaN</td>\n",
       "    </tr>\n",
       "  </tbody>\n",
       "</table>\n",
       "<p>5 rows × 7074 columns</p>\n",
       "</div>"
      ],
      "text/plain": [
       "         Unnamed: 0       0        1         2          3           4  \\\n",
       "0  Q8L3C9@SwissProt  MLPKTM  MLPKTMK  MLPKTMKA  MLPKTMKAA  MLPKTMKAAV   \n",
       "1    P39462@UniProt  MRAVRL  MRAVRLV  MRAVRLVE  MRAVRLVEI  MRAVRLVEIG   \n",
       "2    Q76HN6@UniProt  MEFDYL  MEFDYLI  MEFDYLIV  MEFDYLIVG  MEFDYLIVGA   \n",
       "3    B2KJ46@UniProt  MGEIES  MGEIESY  MGEIESYC  MGEIESYCN  MGEIESYCNK   \n",
       "4  Q9P6C8@SwissProt  MPQFEI  MPQFEIP  MPQFEIPE  MPQFEIPEQ  MPQFEIPEQQ   \n",
       "\n",
       "             5            6            7            8  ... 7063 7064 7065  \\\n",
       "0  MLPKTMKAAVI  LPKTMKAAVIR  PKTMKAAVIRE  KTMKAAVIREF  ...  NaN  NaN  NaN   \n",
       "1  MRAVRLVEIGK  RAVRLVEIGKP  AVRLVEIGKPL  VRLVEIGKPLS  ...  NaN  NaN  NaN   \n",
       "2  MEFDYLIVGAG  EFDYLIVGAGS  FDYLIVGAGSA  DYLIVGAGSAG  ...  NaN  NaN  NaN   \n",
       "3  MGEIESYCNKE  GEIESYCNKEL  EIESYCNKELG  IESYCNKELGP  ...  NaN  NaN  NaN   \n",
       "4  MPQFEIPEQQW  PQFEIPEQQWA  QFEIPEQQWAQ  FEIPEQQWAQV  ...  NaN  NaN  NaN   \n",
       "\n",
       "  7066 7067 7068 7069 7070 7071 7072  \n",
       "0  NaN  NaN  NaN  NaN  NaN  NaN  NaN  \n",
       "1  NaN  NaN  NaN  NaN  NaN  NaN  NaN  \n",
       "2  NaN  NaN  NaN  NaN  NaN  NaN  NaN  \n",
       "3  NaN  NaN  NaN  NaN  NaN  NaN  NaN  \n",
       "4  NaN  NaN  NaN  NaN  NaN  NaN  NaN  \n",
       "\n",
       "[5 rows x 7074 columns]"
      ]
     },
     "execution_count": 6,
     "metadata": {},
     "output_type": "execute_result"
    }
   ],
   "source": [
    "df.head()"
   ]
  },
  {
   "cell_type": "code",
   "execution_count": 7,
   "id": "69ecd6d4",
   "metadata": {},
   "outputs": [],
   "source": [
    "labelfile = './training_6091_nsubs.csv'\n",
    "df_label = pd.read_csv(labelfile, header=None)"
   ]
  },
  {
   "cell_type": "code",
   "execution_count": 8,
   "id": "77b6936c",
   "metadata": {},
   "outputs": [],
   "source": [
    "y = df_label[2].values"
   ]
  },
  {
   "cell_type": "markdown",
   "id": "a7309efe",
   "metadata": {},
   "source": [
    "# Generate a set of all signatures"
   ]
  },
  {
   "cell_type": "code",
   "execution_count": 9,
   "id": "b71e022e",
   "metadata": {},
   "outputs": [
    {
     "data": {
      "text/plain": [
       "array(['MLPKTM', 'MLPKTMK', 'MLPKTMKA', ..., nan, nan, nan], dtype=object)"
      ]
     },
     "execution_count": 9,
     "metadata": {},
     "output_type": "execute_result"
    }
   ],
   "source": [
    "df.iloc[0,:].values[1:]"
   ]
  },
  {
   "cell_type": "code",
   "execution_count": 10,
   "id": "205b973f",
   "metadata": {},
   "outputs": [],
   "source": [
    "main_sig_set = set()\n",
    "\n",
    "def get_sigs(row):\n",
    "    return set(row.dropna().values[1:])\n",
    "\n",
    "for ind_set in df.apply(get_sigs, axis=1).values:\n",
    "    main_sig_set.update(ind_set)"
   ]
  },
  {
   "cell_type": "code",
   "execution_count": 11,
   "id": "38c6f1c2",
   "metadata": {},
   "outputs": [
    {
     "data": {
      "text/plain": [
       "2718772"
      ]
     },
     "execution_count": 11,
     "metadata": {},
     "output_type": "execute_result"
    }
   ],
   "source": [
    "len(main_sig_set)"
   ]
  },
  {
   "cell_type": "code",
   "execution_count": 12,
   "id": "ad51dcfa",
   "metadata": {},
   "outputs": [],
   "source": [
    "main_sig_dict = dict(zip(main_sig_set, range(len(main_sig_set))))"
   ]
  },
  {
   "cell_type": "code",
   "execution_count": 13,
   "id": "db099596",
   "metadata": {},
   "outputs": [],
   "source": [
    "data = []\n",
    "row = []\n",
    "col = []\n",
    "for idx,ind_set in enumerate(df.apply(get_sigs, axis=1).values):\n",
    "    for sig in ind_set:\n",
    "        col_val = main_sig_dict[sig]\n",
    "#        X[idx, col_val] = 1\n",
    "        data.append(1)\n",
    "        row.append(idx)\n",
    "        col.append(col_val)"
   ]
  },
  {
   "cell_type": "code",
   "execution_count": 14,
   "id": "9b4ecbd4",
   "metadata": {},
   "outputs": [],
   "source": [
    "X = csr_matrix((data, (row, col)), shape=(len(df), len(main_sig_dict)))"
   ]
  },
  {
   "cell_type": "code",
   "execution_count": 18,
   "id": "b34f5821",
   "metadata": {},
   "outputs": [],
   "source": [
    "y_poisson = y"
   ]
  },
  {
   "cell_type": "code",
   "execution_count": 19,
   "id": "fb05943c",
   "metadata": {},
   "outputs": [],
   "source": [
    "y_binary = y>1\n",
    "y_binary = y_binary.astype(int)"
   ]
  },
  {
   "cell_type": "code",
   "execution_count": 20,
   "id": "bdaea54d",
   "metadata": {},
   "outputs": [
    {
     "data": {
      "text/plain": [
       "(array([0, 1]), array([2280, 3811]))"
      ]
     },
     "execution_count": 20,
     "metadata": {},
     "output_type": "execute_result"
    }
   ],
   "source": [
    "np.unique(y_binary, return_counts=True)"
   ]
  },
  {
   "cell_type": "code",
   "execution_count": 21,
   "id": "74f44115",
   "metadata": {},
   "outputs": [],
   "source": [
    "from sklearn.model_selection import train_test_split"
   ]
  },
  {
   "cell_type": "code",
   "execution_count": 32,
   "id": "7bb4e58e",
   "metadata": {},
   "outputs": [],
   "source": [
    "X_train, X_test, y_train, y_test, y_train_p, y_test_p = train_test_split(X, y_binary, y_poisson)"
   ]
  },
  {
   "cell_type": "code",
   "execution_count": 52,
   "id": "5168e722",
   "metadata": {},
   "outputs": [
    {
     "data": {
      "text/plain": [
       "SVC(C=0.1, gamma='auto', kernel='linear')"
      ]
     },
     "execution_count": 52,
     "metadata": {},
     "output_type": "execute_result"
    }
   ],
   "source": [
    "from sklearn.svm import SVC\n",
    "clf = SVC(C=0.1, kernel='linear', gamma='auto')\n",
    "clf.fit(X_train, y_train)"
   ]
  },
  {
   "cell_type": "code",
   "execution_count": 53,
   "id": "47147afc",
   "metadata": {},
   "outputs": [
    {
     "data": {
      "text/plain": [
       "0.6257386736703874"
      ]
     },
     "execution_count": 53,
     "metadata": {},
     "output_type": "execute_result"
    }
   ],
   "source": [
    "clf.score(X_test, y_test)"
   ]
  },
  {
   "cell_type": "code",
   "execution_count": 54,
   "id": "a1072bb0",
   "metadata": {},
   "outputs": [],
   "source": [
    "y_test_hat = clf.predict(X_test)"
   ]
  },
  {
   "cell_type": "code",
   "execution_count": 55,
   "id": "2a2a04b3",
   "metadata": {},
   "outputs": [],
   "source": [
    "from sklearn.metrics import f1_score, precision_score, recall_score"
   ]
  },
  {
   "cell_type": "code",
   "execution_count": 56,
   "id": "a3ca9b09",
   "metadata": {},
   "outputs": [
    {
     "data": {
      "text/plain": [
       "0.7632890365448505"
      ]
     },
     "execution_count": 56,
     "metadata": {},
     "output_type": "execute_result"
    }
   ],
   "source": [
    "f1_score(y_test, y_test_hat)"
   ]
  },
  {
   "cell_type": "code",
   "execution_count": 57,
   "id": "19eb22fb",
   "metadata": {},
   "outputs": [
    {
     "data": {
      "text/plain": [
       "0.5230769230769231"
      ]
     },
     "execution_count": 57,
     "metadata": {},
     "output_type": "execute_result"
    }
   ],
   "source": [
    "precision_score(y_test, y_test_hat, labels=[0], average='micro')"
   ]
  },
  {
   "cell_type": "code",
   "execution_count": 58,
   "id": "6f7388c9",
   "metadata": {},
   "outputs": [
    {
     "data": {
      "text/plain": [
       "0.059336823734729496"
      ]
     },
     "execution_count": 58,
     "metadata": {},
     "output_type": "execute_result"
    }
   ],
   "source": [
    "recall_score(y_test, y_test_hat, labels=[0], average='micro')"
   ]
  },
  {
   "cell_type": "code",
   "execution_count": 50,
   "id": "307d5ab4",
   "metadata": {},
   "outputs": [],
   "source": [
    "from sklearn.linear_model import PoissonRegressor"
   ]
  },
  {
   "cell_type": "code",
   "execution_count": 51,
   "id": "c12f1def",
   "metadata": {},
   "outputs": [
    {
     "data": {
      "text/plain": [
       "PoissonRegressor()"
      ]
     },
     "execution_count": 51,
     "metadata": {},
     "output_type": "execute_result"
    }
   ],
   "source": [
    "reg = PoissonRegressor()\n",
    "reg.fit(X_train, y_train_p)"
   ]
  },
  {
   "cell_type": "code",
   "execution_count": 34,
   "id": "c03924ed",
   "metadata": {},
   "outputs": [],
   "source": [
    "y_test_hat_p = reg.predict(X_test)"
   ]
  },
  {
   "cell_type": "code",
   "execution_count": 38,
   "id": "2fcdc723",
   "metadata": {},
   "outputs": [],
   "source": [
    "from sklearn.metrics import mean_squared_error, r2_score"
   ]
  },
  {
   "cell_type": "code",
   "execution_count": 37,
   "id": "2992a87f",
   "metadata": {},
   "outputs": [
    {
     "data": {
      "text/plain": [
       "78.96356519585113"
      ]
     },
     "execution_count": 37,
     "metadata": {},
     "output_type": "execute_result"
    }
   ],
   "source": [
    "mean_squared_error(y_test_p, y_test_hat_p)"
   ]
  },
  {
   "cell_type": "code",
   "execution_count": 39,
   "id": "d63ed935",
   "metadata": {},
   "outputs": [
    {
     "data": {
      "text/plain": [
       "-0.004454109299340425"
      ]
     },
     "execution_count": 39,
     "metadata": {},
     "output_type": "execute_result"
    }
   ],
   "source": [
    "r2_score(y_test_p, y_test_hat_p)"
   ]
  }
 ],
 "metadata": {
  "kernelspec": {
   "display_name": "Python 3",
   "language": "python",
   "name": "python3"
  },
  "language_info": {
   "codemirror_mode": {
    "name": "ipython",
    "version": 3
   },
   "file_extension": ".py",
   "mimetype": "text/x-python",
   "name": "python",
   "nbconvert_exporter": "python",
   "pygments_lexer": "ipython3",
   "version": "3.9.2"
  }
 },
 "nbformat": 4,
 "nbformat_minor": 5
}

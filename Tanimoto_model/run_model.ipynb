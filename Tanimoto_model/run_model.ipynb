{
 "cells": [
  {
   "cell_type": "code",
   "execution_count": 1,
   "id": "c70c92c0",
   "metadata": {},
   "outputs": [
    {
     "name": "stdout",
     "output_type": "stream",
     "text": [
      "usage: Tanimoto_model.py [-h] [-t EST] [-T SST] [-l] [-s START] [-e END]\r\n",
      "                         tr_dti tr_enz tr_sub va_dti va_enz va_sub\r\n",
      "\r\n",
      "positional arguments:\r\n",
      "  tr_dti                training file with enz-subs interactions\r\n",
      "  tr_enz                training file with enz-sequence mappings\r\n",
      "  tr_sub                training file with subs-fingerprint mappings\r\n",
      "  va_dti                validation file with enz-subs interactions\r\n",
      "  va_enz                validation file with enz-sequence mappings\r\n",
      "  va_sub                validation file with subs-fingerprint mappings\r\n",
      "\r\n",
      "optional arguments:\r\n",
      "  -h, --help            show this help message and exit\r\n",
      "  -t EST, --est EST     enzyme similarity threshold\r\n",
      "  -T SST, --sst SST     substrate similarity threshold\r\n",
      "  -l, --labels          True if validation file contains labels\r\n",
      "  -s START, --start START\r\n",
      "                        validation file prediction start\r\n",
      "  -e END, --end END     validation file prediction end\r\n"
     ]
    }
   ],
   "source": [
    "!python Tanimoto_model.py -h"
   ]
  },
  {
   "cell_type": "markdown",
   "id": "330e180a",
   "metadata": {},
   "source": [
    "# Validation Dataset"
   ]
  },
  {
   "cell_type": "code",
   "execution_count": 2,
   "id": "3fb39d03",
   "metadata": {},
   "outputs": [
    {
     "name": "stdout",
     "output_type": "stream",
     "text": [
      "[16:34:40] WARNING: not removing hydrogen atom without neighbors\n",
      "[16:34:40] WARNING: not removing hydrogen atom without neighbors\n",
      "[16:34:40] WARNING: not removing hydrogen atom without neighbors\n",
      "[16:34:40] WARNING: not removing hydrogen atom without neighbors\n",
      "[16:34:41] WARNING: not removing hydrogen atom without neighbors\n",
      "[16:34:41] WARNING: not removing hydrogen atom without neighbors\n",
      "[16:34:41] WARNING: not removing hydrogen atom without neighbors\n",
      "[16:34:41] WARNING: not removing hydrogen atom without neighbors\n",
      "[16:34:43] WARNING: not removing hydrogen atom without neighbors\n",
      "[16:34:43] WARNING: not removing hydrogen atom without neighbors\n",
      "[16:34:43] WARNING: not removing hydrogen atom without neighbors\n",
      "[16:34:43] WARNING: not removing hydrogen atom without neighbors\n",
      "[16:34:44] WARNING: not removing hydrogen atom without neighbors\n",
      "[16:34:44] WARNING: not removing hydrogen atom without neighbors\n",
      "[16:34:44] WARNING: not removing hydrogen atom without neighbors\n",
      "[16:34:44] WARNING: not removing hydrogen atom without neighbors\n"
     ]
    }
   ],
   "source": [
    "!python Tanimoto_model.py ../../DeepConv-DTI/epp_examples/training_dataset/training_dti.csv ../../DeepConv-DTI/epp_examples/training_dataset/training_protein.csv ../../DeepConv-DTI/epp_examples/training_dataset/training_compound.csv ../../DeepConv-DTI/epp_examples/validation_dataset/validation_dti.csv ../../DeepConv-DTI/epp_examples/validation_dataset/validation_protein.csv ../../DeepConv-DTI/epp_examples/validation_dataset/validation_compound.csv -l -s 0 -e 4"
   ]
  },
  {
   "cell_type": "markdown",
   "id": "645d1e9e",
   "metadata": {},
   "source": [
    "# Test Dataset"
   ]
  },
  {
   "cell_type": "code",
   "execution_count": 3,
   "id": "0c80ba3f",
   "metadata": {},
   "outputs": [
    {
     "name": "stdout",
     "output_type": "stream",
     "text": [
      "[17:40:47] WARNING: not removing hydrogen atom without neighbors\n",
      "[17:40:47] WARNING: not removing hydrogen atom without neighbors\n",
      "[17:40:47] WARNING: not removing hydrogen atom without neighbors\n",
      "[17:40:47] WARNING: not removing hydrogen atom without neighbors\n",
      "[17:40:48] WARNING: not removing hydrogen atom without neighbors\n",
      "[17:40:48] WARNING: not removing hydrogen atom without neighbors\n",
      "[17:40:48] WARNING: not removing hydrogen atom without neighbors\n",
      "[17:40:48] WARNING: not removing hydrogen atom without neighbors\n",
      "[17:40:50] WARNING: not removing hydrogen atom without neighbors\n",
      "[17:40:50] WARNING: not removing hydrogen atom without neighbors\n",
      "[17:40:50] WARNING: not removing hydrogen atom without neighbors\n",
      "[17:40:50] WARNING: not removing hydrogen atom without neighbors\n",
      "[17:40:51] WARNING: not removing hydrogen atom without neighbors\n",
      "[17:40:51] WARNING: not removing hydrogen atom without neighbors\n",
      "[17:40:51] WARNING: not removing hydrogen atom without neighbors\n",
      "[17:40:51] WARNING: not removing hydrogen atom without neighbors\n"
     ]
    }
   ],
   "source": [
    "!python Tanimoto_model.py ../../DeepConv-DTI/epp_examples/training_dataset/training_dti.csv ../../DeepConv-DTI/epp_examples/training_dataset/training_protein.csv ../../DeepConv-DTI/epp_examples/training_dataset/training_compound.csv ../../DeepConv-DTI/epp_examples/test_dataset/kegg_dti.csv ../../DeepConv-DTI/epp_examples/test_dataset/kegg_protein.csv ../../DeepConv-DTI/epp_examples/test_dataset/kegg_compound.csv -s 0 -e 4"
   ]
  },
  {
   "cell_type": "code",
   "execution_count": null,
   "id": "85aff6e9",
   "metadata": {},
   "outputs": [],
   "source": []
  }
 ],
 "metadata": {
  "kernelspec": {
   "display_name": "Python 3 (ipykernel)",
   "language": "python",
   "name": "python3"
  },
  "language_info": {
   "codemirror_mode": {
    "name": "ipython",
    "version": 3
   },
   "file_extension": ".py",
   "mimetype": "text/x-python",
   "name": "python",
   "nbconvert_exporter": "python",
   "pygments_lexer": "ipython3",
   "version": "3.9.6"
  }
 },
 "nbformat": 4,
 "nbformat_minor": 5
}

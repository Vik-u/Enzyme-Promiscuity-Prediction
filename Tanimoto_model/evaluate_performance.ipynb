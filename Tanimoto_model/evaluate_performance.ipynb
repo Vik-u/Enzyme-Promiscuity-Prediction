{
 "cells": [
  {
   "cell_type": "code",
   "execution_count": 1,
   "id": "f7a848f5",
   "metadata": {},
   "outputs": [],
   "source": [
    "import numpy as np\n",
    "import os"
   ]
  },
  {
   "cell_type": "code",
   "execution_count": 2,
   "id": "fbe9c6ae",
   "metadata": {},
   "outputs": [],
   "source": [
    "# validation performance\n",
    "\n",
    "valid_dir = \"./valid-results/\"\n",
    "\n",
    "def check_performance_valid(valid_dir):\n",
    "    all_pred = []\n",
    "    all_true = []\n",
    "\n",
    "    for file in os.scandir(valid_dir):\n",
    "        if file.name.endswith(\".csv\"):\n",
    "            filename = os.path.join(valid_dir, file.name)\n",
    "            with open(filename) as f:\n",
    "                values = [list(map(int, line.strip().split(\",\"))) for line in f.readlines()]\n",
    "                pred = np.array(values[0])\n",
    "                true = np.array(values[1])\n",
    "                all_pred.append(pred)\n",
    "                all_true.append(true)\n",
    "\n",
    "    preds = np.concatenate(all_pred)\n",
    "    trues = np.concatenate(all_true)\n",
    "    print(len(preds), len(trues))\n",
    "    return preds, trues, sum(preds==trues)/len(preds)"
   ]
  },
  {
   "cell_type": "code",
   "execution_count": 3,
   "id": "282f48a3",
   "metadata": {},
   "outputs": [
    {
     "name": "stdout",
     "output_type": "stream",
     "text": [
      "998 998\n"
     ]
    }
   ],
   "source": [
    "p, t, a = check_performance_valid(valid_dir)"
   ]
  },
  {
   "cell_type": "code",
   "execution_count": 4,
   "id": "408dac5e",
   "metadata": {},
   "outputs": [],
   "source": [
    "p_pos = p[np.where(t==1)]"
   ]
  },
  {
   "cell_type": "code",
   "execution_count": 5,
   "id": "91b31d70",
   "metadata": {},
   "outputs": [
    {
     "data": {
      "text/plain": [
       "0.8023483365949119"
      ]
     },
     "execution_count": 5,
     "metadata": {},
     "output_type": "execute_result"
    }
   ],
   "source": [
    "sum(p_pos)/len(p_pos)"
   ]
  },
  {
   "cell_type": "code",
   "execution_count": 6,
   "id": "33db1dcf",
   "metadata": {},
   "outputs": [],
   "source": [
    "p_neg = p[np.where(t==0)]"
   ]
  },
  {
   "cell_type": "code",
   "execution_count": 7,
   "id": "fea4a316",
   "metadata": {},
   "outputs": [
    {
     "data": {
      "text/plain": [
       "0.6735112936344969"
      ]
     },
     "execution_count": 7,
     "metadata": {},
     "output_type": "execute_result"
    }
   ],
   "source": [
    "sum(p_neg==0)/len(p_neg)"
   ]
  },
  {
   "cell_type": "code",
   "execution_count": 8,
   "id": "12b35cd2",
   "metadata": {},
   "outputs": [
    {
     "data": {
      "text/plain": [
       "(511, 487)"
      ]
     },
     "execution_count": 8,
     "metadata": {},
     "output_type": "execute_result"
    }
   ],
   "source": [
    "len(p_pos), len(p_neg)"
   ]
  },
  {
   "cell_type": "code",
   "execution_count": 9,
   "id": "855b3062",
   "metadata": {},
   "outputs": [
    {
     "name": "stdout",
     "output_type": "stream",
     "text": [
      "987\n"
     ]
    },
    {
     "data": {
      "text/plain": [
       "0.6828774062816616"
      ]
     },
     "execution_count": 9,
     "metadata": {},
     "output_type": "execute_result"
    }
   ],
   "source": [
    "test_dir = \"./kegg-results/\"\n",
    "\n",
    "def check_performance_test(test_dir):\n",
    "    all_pred = []\n",
    "\n",
    "    for file in os.scandir(test_dir):\n",
    "        if file.name.endswith(\".csv\"):\n",
    "            filename = os.path.join(test_dir, file.name)\n",
    "            with open(filename) as f:\n",
    "                values = [list(map(int, line.strip().split(\",\"))) for line in f.readlines()]\n",
    "                pred = np.array(values[0])\n",
    "\n",
    "                all_pred.append(pred)\n",
    "\n",
    "    preds = np.concatenate(all_pred)\n",
    "\n",
    "    print(len(preds))\n",
    "    return sum(preds)/len(preds)\n",
    "\n",
    "\n",
    "check_performance_test(test_dir)"
   ]
  }
 ],
 "metadata": {
  "kernelspec": {
   "display_name": "Python 3 (ipykernel)",
   "language": "python",
   "name": "python3"
  },
  "language_info": {
   "codemirror_mode": {
    "name": "ipython",
    "version": 3
   },
   "file_extension": ".py",
   "mimetype": "text/x-python",
   "name": "python",
   "nbconvert_exporter": "python",
   "pygments_lexer": "ipython3",
   "version": "3.9.6"
  }
 },
 "nbformat": 4,
 "nbformat_minor": 5
}

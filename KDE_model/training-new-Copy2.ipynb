{
 "cells": [
  {
   "cell_type": "code",
   "execution_count": 1,
   "id": "6d36584b",
   "metadata": {},
   "outputs": [],
   "source": [
    "import pandas as pd\n",
    "import numpy as np\n",
    "from sklearn.neighbors import KernelDensity\n",
    "from ifeatpro.features import get_feature\n",
    "import multiprocessing as mp"
   ]
  },
  {
   "cell_type": "markdown",
   "id": "f624e0ff",
   "metadata": {},
   "source": [
    "1. Get training data\n",
    "2. Create DDE encoding for protein sequences\n",
    "3. Get morgan_r2 for substrates\n",
    "4. Concatenate into a single vector using dti data\n",
    "5. Train KDE model\n",
    "6. Evaluate model"
   ]
  },
  {
   "cell_type": "code",
   "execution_count": null,
   "id": "8981e5c9",
   "metadata": {},
   "outputs": [],
   "source": [
    "# training data files\n",
    "\n",
    "esitrain_file = \"../../DeepConv-DTI/epp_examples/training_dataset/training_dti.csv\"\n",
    "prottrain_file = \"../../DeepConv-DTI/epp_examples/training_dataset/training_protein.csv\"\n",
    "substrain_file = \"../../DeepConv-DTI/epp_examples/training_dataset/training_compound.csv\""
   ]
  },
  {
   "cell_type": "markdown",
   "id": "3a3c1b5e",
   "metadata": {},
   "source": [
    "# Sequence Encoding\n",
    "\n",
    "**encode them as all ifeature encodings**"
   ]
  },
  {
   "cell_type": "code",
   "execution_count": null,
   "id": "b6eb2707",
   "metadata": {
    "scrolled": true
   },
   "outputs": [],
   "source": [
    "help(get_feature)"
   ]
  },
  {
   "cell_type": "code",
   "execution_count": null,
   "id": "8dc531cf",
   "metadata": {},
   "outputs": [],
   "source": [
    "# creating fasta file for ifeatpro\n",
    "prot_train_df = pd.read_csv(prottrain_file, usecols=[1, 2])"
   ]
  },
  {
   "cell_type": "code",
   "execution_count": null,
   "id": "0b94d279",
   "metadata": {},
   "outputs": [],
   "source": [
    "def create_fasta(df, fastafilename):\n",
    "    with open(fastafilename, \"w\") as f:\n",
    "        for index, row in df.iterrows():\n",
    "            f.write(\">\" + row[0] + \"\\n\")\n",
    "            f.write(row[1] + \"\\n\")\n",
    "    return "
   ]
  },
  {
   "cell_type": "code",
   "execution_count": null,
   "id": "5fa74262",
   "metadata": {},
   "outputs": [],
   "source": [
    "create_fasta(prot_train_df, \"./data/brenda_train_fasta.fa\")"
   ]
  },
  {
   "cell_type": "code",
   "execution_count": null,
   "id": "d3275fc3",
   "metadata": {},
   "outputs": [],
   "source": [
    "# create dde encoding for the train enzymes in brenda\n",
    "get_feature(\"./data/brenda_train_fasta.fa\", \"dde\", \"./data/brenda_trainenz_ifeatures/\")"
   ]
  },
  {
   "cell_type": "code",
   "execution_count": null,
   "id": "9c020353",
   "metadata": {},
   "outputs": [],
   "source": [
    "prot_trainenc_df = pd.read_csv(\"./data/brenda_trainenz_ifeatures/dde.csv\", header=None, index_col=0) "
   ]
  },
  {
   "cell_type": "code",
   "execution_count": null,
   "id": "06a9300c",
   "metadata": {},
   "outputs": [],
   "source": [
    "prot_trainenc_df.head(2)"
   ]
  },
  {
   "cell_type": "markdown",
   "id": "ade60d59",
   "metadata": {},
   "source": [
    "# Substrate Encoding"
   ]
  },
  {
   "cell_type": "code",
   "execution_count": null,
   "id": "9da9856b",
   "metadata": {},
   "outputs": [],
   "source": [
    "subs_trainenc_df = pd.read_csv(substrain_file, usecols=[1,3], index_col=0)"
   ]
  },
  {
   "cell_type": "markdown",
   "id": "3d3edfaf",
   "metadata": {},
   "source": [
    "# Concatenation of vectors"
   ]
  },
  {
   "cell_type": "code",
   "execution_count": 2,
   "id": "34d0cce0",
   "metadata": {},
   "outputs": [
    {
     "ename": "NameError",
     "evalue": "name 'esitrain_file' is not defined",
     "output_type": "error",
     "traceback": [
      "\u001b[0;31m---------------------------------------------------------------------------\u001b[0m",
      "\u001b[0;31mNameError\u001b[0m                                 Traceback (most recent call last)",
      "\u001b[0;32m/tmp/ipykernel_3629/1920040199.py\u001b[0m in \u001b[0;36m<module>\u001b[0;34m\u001b[0m\n\u001b[1;32m      1\u001b[0m \u001b[0;31m# Training concatenation of sequences and substrates\u001b[0m\u001b[0;34m\u001b[0m\u001b[0;34m\u001b[0m\u001b[0;34m\u001b[0m\u001b[0m\n\u001b[1;32m      2\u001b[0m \u001b[0;34m\u001b[0m\u001b[0m\n\u001b[0;32m----> 3\u001b[0;31m \u001b[0mdti_train_df\u001b[0m \u001b[0;34m=\u001b[0m \u001b[0mpd\u001b[0m\u001b[0;34m.\u001b[0m\u001b[0mread_csv\u001b[0m\u001b[0;34m(\u001b[0m\u001b[0mesitrain_file\u001b[0m\u001b[0;34m,\u001b[0m \u001b[0musecols\u001b[0m\u001b[0;34m=\u001b[0m\u001b[0;34m[\u001b[0m\u001b[0;36m1\u001b[0m\u001b[0;34m,\u001b[0m\u001b[0;36m2\u001b[0m\u001b[0;34m,\u001b[0m\u001b[0;36m3\u001b[0m\u001b[0;34m]\u001b[0m\u001b[0;34m)\u001b[0m\u001b[0;34m\u001b[0m\u001b[0;34m\u001b[0m\u001b[0m\n\u001b[0m",
      "\u001b[0;31mNameError\u001b[0m: name 'esitrain_file' is not defined"
     ]
    }
   ],
   "source": [
    "# Training concatenation of sequences and substrates\n",
    "\n",
    "dti_train_df = pd.read_csv(esitrain_file, usecols=[1,2,3])"
   ]
  },
  {
   "cell_type": "code",
   "execution_count": 12,
   "id": "fd97093a",
   "metadata": {},
   "outputs": [
    {
     "data": {
      "text/html": [
       "<div>\n",
       "<style scoped>\n",
       "    .dataframe tbody tr th:only-of-type {\n",
       "        vertical-align: middle;\n",
       "    }\n",
       "\n",
       "    .dataframe tbody tr th {\n",
       "        vertical-align: top;\n",
       "    }\n",
       "\n",
       "    .dataframe thead th {\n",
       "        text-align: right;\n",
       "    }\n",
       "</style>\n",
       "<table border=\"1\" class=\"dataframe\">\n",
       "  <thead>\n",
       "    <tr style=\"text-align: right;\">\n",
       "      <th></th>\n",
       "      <th>Protein_ID</th>\n",
       "      <th>Compound_ID</th>\n",
       "      <th>Label</th>\n",
       "    </tr>\n",
       "  </thead>\n",
       "  <tbody>\n",
       "    <tr>\n",
       "      <th>0</th>\n",
       "      <td>P20960</td>\n",
       "      <td>SUB-7737</td>\n",
       "      <td>0</td>\n",
       "    </tr>\n",
       "    <tr>\n",
       "      <th>1</th>\n",
       "      <td>O43915</td>\n",
       "      <td>SUB-5159</td>\n",
       "      <td>0</td>\n",
       "    </tr>\n",
       "  </tbody>\n",
       "</table>\n",
       "</div>"
      ],
      "text/plain": [
       "  Protein_ID Compound_ID  Label\n",
       "0     P20960    SUB-7737      0\n",
       "1     O43915    SUB-5159      0"
      ]
     },
     "execution_count": 12,
     "metadata": {},
     "output_type": "execute_result"
    }
   ],
   "source": [
    "dti_train_df.head(2)"
   ]
  },
  {
   "cell_type": "code",
   "execution_count": 13,
   "id": "5d840d52",
   "metadata": {},
   "outputs": [],
   "source": [
    "dti_train_df = dti_train_df.drop_duplicates(subset=[\"Protein_ID\", \"Compound_ID\"], keep=False)"
   ]
  },
  {
   "cell_type": "code",
   "execution_count": 14,
   "id": "d0137b35",
   "metadata": {},
   "outputs": [
    {
     "data": {
      "text/plain": [
       "(8783, 2448)"
      ]
     },
     "execution_count": 14,
     "metadata": {},
     "output_type": "execute_result"
    }
   ],
   "source": [
    "dtipos_train_df = dti_train_df.loc[dti_train_df.Label==1]\n",
    "\n",
    "prot_enctrain_array = prot_trainenc_df.loc[dtipos_train_df.Protein_ID.values, :].values\n",
    "\n",
    "subs_enctrain_array_raw = subs_trainenc_df.loc[dtipos_train_df.Compound_ID.values, :].values\n",
    "\n",
    "subs_enctrain_array = np.apply_along_axis(lambda x: x[0].split(\"\\t\"), axis=1 , arr=subs_enctrain_array_raw).astype(\"float32\")\n",
    "\n",
    "enctrain_array = np.concatenate([prot_enctrain_array, subs_enctrain_array], axis = 1)\n",
    "\n",
    "enctrain_array.shape"
   ]
  },
  {
   "cell_type": "markdown",
   "id": "a532ec35",
   "metadata": {},
   "source": [
    "# Model training"
   ]
  },
  {
   "cell_type": "code",
   "execution_count": 15,
   "id": "fca1247e",
   "metadata": {},
   "outputs": [],
   "source": [
    "class EnzymeRanker:\n",
    "    def __init__(self, X_tr_pos, kern=\"gaussian\", bw=0.35):\n",
    "        \"\"\"\n",
    "        X_tr_pos: An array of concatenated enzyme and substrate feature vectors required for model training\n",
    "        kernel: kde model kernel\n",
    "        bw: bandwidth of the kde model\n",
    "        \"\"\"\n",
    "        self.kern =  kern\n",
    "        self.bw = bw\n",
    "        self.model = self._get_model()\n",
    "        self.model.fit(X_tr_pos)\n",
    "    \n",
    "    def _get_model(self):\n",
    "        return KernelDensity(kernel=self.kern, bandwidth=self.bw)\n",
    "    \n",
    "    def get_pos_acc(self, X_va_pos):\n",
    "        scores_valid = self.model.score_samples(X_va_pos)\n",
    "        correct_frac = len(np.where(scores_valid>=0)[0])/len(scores_valid)\n",
    "        return correct_frac, scores_valid\n",
    "    \n",
    "    def get_neg_acc(self, X_va_neg):\n",
    "        scores_valid = self.model.score_samples(X_va_neg)\n",
    "        correct_frac = len(np.where(scores_valid<0)[0])/len(scores_valid)\n",
    "        return correct_frac, scores_valid\n",
    "    "
   ]
  },
  {
   "cell_type": "code",
   "execution_count": 16,
   "id": "72ad2155",
   "metadata": {},
   "outputs": [
    {
     "name": "stdout",
     "output_type": "stream",
     "text": [
      "CPU times: user 1.71 s, sys: 5.62 ms, total: 1.72 s\n",
      "Wall time: 1.72 s\n"
     ]
    }
   ],
   "source": [
    "%%time\n",
    "kde = EnzymeRanker(enctrain_array, bw=0.39290333420962714)"
   ]
  },
  {
   "cell_type": "code",
   "execution_count": 17,
   "id": "de6b6dd6",
   "metadata": {},
   "outputs": [
    {
     "data": {
      "text/plain": [
       "1136.386128978344"
      ]
     },
     "execution_count": 17,
     "metadata": {},
     "output_type": "execute_result"
    }
   ],
   "source": [
    "kde.model.score(enctrain_array[:40])"
   ]
  },
  {
   "cell_type": "markdown",
   "id": "5da10a3d",
   "metadata": {},
   "source": [
    "# Evaluate model\n",
    "\n",
    "1. Get validation data\n",
    "2. Create DDE encoding for protein sequences\n",
    "3. Get morgan_r2 for substrates\n",
    "4. Concatenate into a single vector using dti data\n",
    "5. Predict using KDE model\n",
    "6. Evaluate"
   ]
  },
  {
   "cell_type": "code",
   "execution_count": 18,
   "id": "b9a1137b",
   "metadata": {},
   "outputs": [],
   "source": [
    "# Validation files\n",
    "\n",
    "esivalid_file = \"../../DeepConv-DTI/epp_examples/validation_dataset/validation_dti.csv\"\n",
    "protvalid_file = \"../../DeepConv-DTI/epp_examples/validation_dataset/validation_protein.csv\"\n",
    "subsvalid_file = \"../../DeepConv-DTI/epp_examples/validation_dataset/validation_compound.csv\""
   ]
  },
  {
   "cell_type": "markdown",
   "id": "7da5eb9c",
   "metadata": {},
   "source": [
    "## Sequence encoding for validation data"
   ]
  },
  {
   "cell_type": "code",
   "execution_count": 19,
   "id": "8f3c9372",
   "metadata": {},
   "outputs": [],
   "source": [
    "# creating fasta file for ifeatpro\n",
    "prot_valid_df = pd.read_csv(protvalid_file, usecols=[1, 2])"
   ]
  },
  {
   "cell_type": "code",
   "execution_count": 20,
   "id": "2f5de7c6",
   "metadata": {},
   "outputs": [],
   "source": [
    "create_fasta(prot_valid_df, \"./data/brenda_valid_fasta.fa\")"
   ]
  },
  {
   "cell_type": "code",
   "execution_count": 21,
   "id": "0765cd75",
   "metadata": {},
   "outputs": [
    {
     "name": "stdout",
     "output_type": "stream",
     "text": [
      "Descriptor type: dde\n"
     ]
    },
    {
     "data": {
      "text/plain": [
       "'./data/brenda_validenz_ifeatures/dde.csv'"
      ]
     },
     "execution_count": 21,
     "metadata": {},
     "output_type": "execute_result"
    }
   ],
   "source": [
    "# create dde encoding for the valid enzymes in brenda\n",
    "get_feature(\"./data/brenda_valid_fasta.fa\", \"dde\", \"./data/brenda_validenz_ifeatures/\")"
   ]
  },
  {
   "cell_type": "code",
   "execution_count": 22,
   "id": "7c432315",
   "metadata": {},
   "outputs": [],
   "source": [
    "prot_validenc_df = pd.read_csv(\"./data/brenda_validenz_ifeatures/dde.csv\", header=None, index_col=0) "
   ]
  },
  {
   "cell_type": "code",
   "execution_count": 23,
   "id": "bbe193ec",
   "metadata": {},
   "outputs": [
    {
     "data": {
      "text/html": [
       "<div>\n",
       "<style scoped>\n",
       "    .dataframe tbody tr th:only-of-type {\n",
       "        vertical-align: middle;\n",
       "    }\n",
       "\n",
       "    .dataframe tbody tr th {\n",
       "        vertical-align: top;\n",
       "    }\n",
       "\n",
       "    .dataframe thead th {\n",
       "        text-align: right;\n",
       "    }\n",
       "</style>\n",
       "<table border=\"1\" class=\"dataframe\">\n",
       "  <thead>\n",
       "    <tr style=\"text-align: right;\">\n",
       "      <th></th>\n",
       "      <th>1</th>\n",
       "      <th>2</th>\n",
       "      <th>3</th>\n",
       "      <th>4</th>\n",
       "      <th>5</th>\n",
       "      <th>6</th>\n",
       "      <th>7</th>\n",
       "      <th>8</th>\n",
       "      <th>9</th>\n",
       "      <th>10</th>\n",
       "      <th>...</th>\n",
       "      <th>391</th>\n",
       "      <th>392</th>\n",
       "      <th>393</th>\n",
       "      <th>394</th>\n",
       "      <th>395</th>\n",
       "      <th>396</th>\n",
       "      <th>397</th>\n",
       "      <th>398</th>\n",
       "      <th>399</th>\n",
       "      <th>400</th>\n",
       "    </tr>\n",
       "    <tr>\n",
       "      <th>0</th>\n",
       "      <th></th>\n",
       "      <th></th>\n",
       "      <th></th>\n",
       "      <th></th>\n",
       "      <th></th>\n",
       "      <th></th>\n",
       "      <th></th>\n",
       "      <th></th>\n",
       "      <th></th>\n",
       "      <th></th>\n",
       "      <th></th>\n",
       "      <th></th>\n",
       "      <th></th>\n",
       "      <th></th>\n",
       "      <th></th>\n",
       "      <th></th>\n",
       "      <th></th>\n",
       "      <th></th>\n",
       "      <th></th>\n",
       "      <th></th>\n",
       "      <th></th>\n",
       "    </tr>\n",
       "  </thead>\n",
       "  <tbody>\n",
       "    <tr>\n",
       "      <th>P04335</th>\n",
       "      <td>1.672597</td>\n",
       "      <td>1.181430</td>\n",
       "      <td>0.119057</td>\n",
       "      <td>2.243803</td>\n",
       "      <td>0.119057</td>\n",
       "      <td>-1.335491</td>\n",
       "      <td>-0.943317</td>\n",
       "      <td>-1.155945</td>\n",
       "      <td>-0.943317</td>\n",
       "      <td>0.821345</td>\n",
       "      <td>...</td>\n",
       "      <td>-0.471278</td>\n",
       "      <td>0.834948</td>\n",
       "      <td>0.119057</td>\n",
       "      <td>-0.666667</td>\n",
       "      <td>1.447730</td>\n",
       "      <td>0.579839</td>\n",
       "      <td>-0.943317</td>\n",
       "      <td>-0.943317</td>\n",
       "      <td>1.651754</td>\n",
       "      <td>0.834948</td>\n",
       "    </tr>\n",
       "    <tr>\n",
       "      <th>P0A111</th>\n",
       "      <td>0.053169</td>\n",
       "      <td>-0.982475</td>\n",
       "      <td>1.057586</td>\n",
       "      <td>1.057586</td>\n",
       "      <td>1.057586</td>\n",
       "      <td>1.497267</td>\n",
       "      <td>0.037556</td>\n",
       "      <td>0.462671</td>\n",
       "      <td>2.077617</td>\n",
       "      <td>-1.115187</td>\n",
       "      <td>...</td>\n",
       "      <td>-0.490841</td>\n",
       "      <td>0.747424</td>\n",
       "      <td>0.037556</td>\n",
       "      <td>2.189189</td>\n",
       "      <td>1.295971</td>\n",
       "      <td>-0.370629</td>\n",
       "      <td>-0.982475</td>\n",
       "      <td>0.037556</td>\n",
       "      <td>-0.490841</td>\n",
       "      <td>-0.694341</td>\n",
       "    </tr>\n",
       "  </tbody>\n",
       "</table>\n",
       "<p>2 rows × 400 columns</p>\n",
       "</div>"
      ],
      "text/plain": [
       "             1         2         3         4         5         6         7    \\\n",
       "0                                                                              \n",
       "P04335  1.672597  1.181430  0.119057  2.243803  0.119057 -1.335491 -0.943317   \n",
       "P0A111  0.053169 -0.982475  1.057586  1.057586  1.057586  1.497267  0.037556   \n",
       "\n",
       "             8         9         10   ...       391       392       393  \\\n",
       "0                                     ...                                 \n",
       "P04335 -1.155945 -0.943317  0.821345  ... -0.471278  0.834948  0.119057   \n",
       "P0A111  0.462671  2.077617 -1.115187  ... -0.490841  0.747424  0.037556   \n",
       "\n",
       "             394       395       396       397       398       399       400  \n",
       "0                                                                             \n",
       "P04335 -0.666667  1.447730  0.579839 -0.943317 -0.943317  1.651754  0.834948  \n",
       "P0A111  2.189189  1.295971 -0.370629 -0.982475  0.037556 -0.490841 -0.694341  \n",
       "\n",
       "[2 rows x 400 columns]"
      ]
     },
     "execution_count": 23,
     "metadata": {},
     "output_type": "execute_result"
    }
   ],
   "source": [
    "prot_validenc_df.head(2)"
   ]
  },
  {
   "cell_type": "markdown",
   "id": "6b0f1e29",
   "metadata": {},
   "source": [
    "## Substrate encoding"
   ]
  },
  {
   "cell_type": "code",
   "execution_count": 24,
   "id": "2fbc3495",
   "metadata": {},
   "outputs": [],
   "source": [
    "subs_validenc_df = pd.read_csv(subsvalid_file, usecols=[1,3], index_col=0)"
   ]
  },
  {
   "cell_type": "markdown",
   "id": "9231af2a",
   "metadata": {},
   "source": [
    "## Concatenation of validation vectors"
   ]
  },
  {
   "cell_type": "code",
   "execution_count": 25,
   "id": "2aa07a04",
   "metadata": {},
   "outputs": [],
   "source": [
    "# Validation concatenation of sequences and substrates\n",
    "\n",
    "dti_valid_df = pd.read_csv(esivalid_file, usecols=[1,2,3])"
   ]
  },
  {
   "cell_type": "code",
   "execution_count": 26,
   "id": "9a65ccd7",
   "metadata": {},
   "outputs": [
    {
     "data": {
      "text/html": [
       "<div>\n",
       "<style scoped>\n",
       "    .dataframe tbody tr th:only-of-type {\n",
       "        vertical-align: middle;\n",
       "    }\n",
       "\n",
       "    .dataframe tbody tr th {\n",
       "        vertical-align: top;\n",
       "    }\n",
       "\n",
       "    .dataframe thead th {\n",
       "        text-align: right;\n",
       "    }\n",
       "</style>\n",
       "<table border=\"1\" class=\"dataframe\">\n",
       "  <thead>\n",
       "    <tr style=\"text-align: right;\">\n",
       "      <th></th>\n",
       "      <th>Protein_ID</th>\n",
       "      <th>Compound_ID</th>\n",
       "      <th>Label</th>\n",
       "    </tr>\n",
       "  </thead>\n",
       "  <tbody>\n",
       "    <tr>\n",
       "      <th>0</th>\n",
       "      <td>P49012</td>\n",
       "      <td>SUB-3806</td>\n",
       "      <td>1</td>\n",
       "    </tr>\n",
       "    <tr>\n",
       "      <th>1</th>\n",
       "      <td>P31658</td>\n",
       "      <td>SUB-3515</td>\n",
       "      <td>1</td>\n",
       "    </tr>\n",
       "  </tbody>\n",
       "</table>\n",
       "</div>"
      ],
      "text/plain": [
       "  Protein_ID Compound_ID  Label\n",
       "0     P49012    SUB-3806      1\n",
       "1     P31658    SUB-3515      1"
      ]
     },
     "execution_count": 26,
     "metadata": {},
     "output_type": "execute_result"
    }
   ],
   "source": [
    "dti_valid_df.head(2)"
   ]
  },
  {
   "cell_type": "code",
   "execution_count": 27,
   "id": "a4a44b4c",
   "metadata": {},
   "outputs": [],
   "source": [
    "dti_valid_df = dti_valid_df.drop_duplicates(subset=[\"Protein_ID\", \"Compound_ID\"], keep=False)"
   ]
  },
  {
   "cell_type": "code",
   "execution_count": 28,
   "id": "5a86e759",
   "metadata": {},
   "outputs": [
    {
     "data": {
      "text/plain": [
       "(3060, 2448)"
      ]
     },
     "execution_count": 28,
     "metadata": {},
     "output_type": "execute_result"
    }
   ],
   "source": [
    "dtipos_valid_df = dti_valid_df.loc[dti_valid_df.Label==1]\n",
    "\n",
    "protpos_encvalid_array = prot_validenc_df.loc[dtipos_valid_df.Protein_ID.values, :].values\n",
    "\n",
    "subspos_encvalid_array_raw = subs_validenc_df.loc[dtipos_valid_df.Compound_ID.values, :].values\n",
    "\n",
    "subspos_encvalid_array = np.apply_along_axis(lambda x: x[0].split(\"\\t\"), axis=1 , arr=subspos_encvalid_array_raw).astype(\"float32\")\n",
    "\n",
    "pos_encvalid_array = np.concatenate([protpos_encvalid_array, subspos_encvalid_array], axis = 1)\n",
    "\n",
    "pos_encvalid_array.shape"
   ]
  },
  {
   "cell_type": "code",
   "execution_count": 29,
   "id": "d6b316bb",
   "metadata": {},
   "outputs": [
    {
     "data": {
      "text/plain": [
       "(3147, 2448)"
      ]
     },
     "execution_count": 29,
     "metadata": {},
     "output_type": "execute_result"
    }
   ],
   "source": [
    "dtineg_valid_df = dti_valid_df.loc[dti_valid_df.Label==0]\n",
    "\n",
    "protneg_encvalid_array = prot_validenc_df.loc[dtineg_valid_df.Protein_ID.values, :].values\n",
    "\n",
    "subsneg_encvalid_array_raw = subs_validenc_df.loc[dtineg_valid_df.Compound_ID.values, :].values\n",
    "\n",
    "subsneg_encvalid_array = np.apply_along_axis(lambda x: x[0].split(\"\\t\"), axis=1 , arr=subsneg_encvalid_array_raw).astype(\"float32\")\n",
    "\n",
    "neg_encvalid_array = np.concatenate([protneg_encvalid_array, subsneg_encvalid_array], axis = 1)\n",
    "\n",
    "neg_encvalid_array.shape"
   ]
  },
  {
   "cell_type": "markdown",
   "id": "17e8ad9c",
   "metadata": {},
   "source": [
    "## Model evaluation"
   ]
  },
  {
   "cell_type": "code",
   "execution_count": 30,
   "id": "4e7219be",
   "metadata": {},
   "outputs": [
    {
     "name": "stdout",
     "output_type": "stream",
     "text": [
      "CPU times: user 1min 4s, sys: 269 ms, total: 1min 4s\n",
      "Wall time: 1min 3s\n"
     ]
    },
    {
     "data": {
      "text/plain": [
       "(0.5013071895424837,\n",
       " array([ 28.2590965 ,   0.47388854,   2.08813599, ..., -55.95250443,\n",
       "        -61.33164654,  -0.88953706]))"
      ]
     },
     "execution_count": 30,
     "metadata": {},
     "output_type": "execute_result"
    }
   ],
   "source": [
    "%%time\n",
    "kde.get_pos_acc(pos_encvalid_array)"
   ]
  },
  {
   "cell_type": "code",
   "execution_count": 31,
   "id": "de044dd6",
   "metadata": {},
   "outputs": [
    {
     "name": "stdout",
     "output_type": "stream",
     "text": [
      "CPU times: user 1min 5s, sys: 343 ms, total: 1min 5s\n",
      "Wall time: 1min 5s\n"
     ]
    },
    {
     "data": {
      "text/plain": [
       "(0.5684779154750557,\n",
       " array([ -72.14704307, -117.49175126, -272.95932222, ...,   -4.12997586,\n",
       "           0.98658036, -143.36307275]))"
      ]
     },
     "execution_count": 31,
     "metadata": {},
     "output_type": "execute_result"
    }
   ],
   "source": [
    "%%time\n",
    "kde.get_neg_acc(neg_encvalid_array)"
   ]
  },
  {
   "cell_type": "code",
   "execution_count": 32,
   "id": "4970268c",
   "metadata": {},
   "outputs": [
    {
     "data": {
      "text/plain": [
       "24"
      ]
     },
     "execution_count": 32,
     "metadata": {},
     "output_type": "execute_result"
    }
   ],
   "source": [
    "mp.cpu_count()"
   ]
  },
  {
   "cell_type": "code",
   "execution_count": 33,
   "id": "20a76b81",
   "metadata": {},
   "outputs": [],
   "source": [
    "bws_ = np.logspace(-0.41, -0.405, 50)"
   ]
  },
  {
   "cell_type": "code",
   "execution_count": 34,
   "id": "2424a373",
   "metadata": {},
   "outputs": [],
   "source": [
    "def bandwidth_hpopt(bw):\n",
    "    kde = EnzymeRanker(enctrain_array, bw=bw)\n",
    "    acc_pos, _ = kde.get_pos_acc(pos_encvalid_array)\n",
    "    acc_neg, _ = kde.get_neg_acc(neg_encvalid_array)\n",
    "    return bw, acc_pos, acc_neg\n",
    "\n",
    "\n",
    "def multi_func(bws):\n",
    "    pool = mp.Pool(mp.cpu_count())\n",
    "    info = pool.map(bandwidth_hpopt, bws)\n",
    "    return info\n"
   ]
  },
  {
   "cell_type": "code",
   "execution_count": 35,
   "id": "1d51ab4a",
   "metadata": {},
   "outputs": [
    {
     "name": "stdout",
     "output_type": "stream",
     "text": [
      "CPU times: user 76.6 ms, sys: 95.8 ms, total: 172 ms\n",
      "Wall time: 9min 8s\n"
     ]
    }
   ],
   "source": [
    "%%time\n",
    "scores = multi_func(bws_)"
   ]
  },
  {
   "cell_type": "code",
   "execution_count": 36,
   "id": "57dcab50",
   "metadata": {
    "scrolled": true
   },
   "outputs": [
    {
     "data": {
      "text/plain": [
       "[(0.3890451449942806, 0.7143790849673203, 0.4617095646647601),\n",
       " (0.3891365648716548, 0.7189542483660131, 0.46266285351128056),\n",
       " (0.3892280062313534, 0.7029411764705882, 0.47823323800444867),\n",
       " (0.3893194690784243, 0.7183006535947712, 0.43946615824594853),\n",
       " (0.3894109534179167, 0.7127450980392157, 0.47569113441372735),\n",
       " (0.38950245925488114, 0.7450980392156863, 0.4277089291388624),\n",
       " (0.3895939865943691, 0.6892156862745098, 0.4899904671115348),\n",
       " (0.3896855354414334, 0.6892156862745098, 0.46647600889736257),\n",
       " (0.389777105801128, 0.696078431372549, 0.47251350492532573),\n",
       " (0.38986869767850807, 0.7019607843137254, 0.4613918017159199),\n",
       " (0.3899603110786299, 0.7176470588235294, 0.4429615506831903),\n",
       " (0.390051946006551, 0.7016339869281045, 0.4489990467111535),\n",
       " (0.3901436024673302, 0.6767973856209151, 0.4547187797902765),\n",
       " (0.3902352804660273, 0.6823529411764706, 0.4632983794089609),\n",
       " (0.3903269800077034, 0.6748366013071896, 0.45662535748331745),\n",
       " (0.39041870109742083, 0.6898692810457516, 0.4356530028598665),\n",
       " (0.3905104437402431, 0.6852941176470588, 0.46012074992055924),\n",
       " (0.39060220794123474, 0.6895424836601307, 0.4496345726088338),\n",
       " (0.3906939937054617, 0.6800653594771242, 0.46933587543692407),\n",
       " (0.390785801037991, 0.6735294117647059, 0.45821417222751826),\n",
       " (0.39087762994389086, 0.6774509803921569, 0.45567206863679693),\n",
       " (0.3909694804282307, 0.6627450980392157, 0.46298061646012073),\n",
       " (0.3910613524960812, 0.6650326797385621, 0.46679377184620274),\n",
       " (0.39115324615251407, 0.6526143790849673, 0.47664442326024786),\n",
       " (0.3912451614026024, 0.65, 0.46298061646012073),\n",
       " (0.3913370982514203, 0.634640522875817, 0.4677470606927232),\n",
       " (0.3914290567040432, 0.6473856209150327, 0.4563075945344773),\n",
       " (0.3915210367655477, 0.6516339869281046, 0.44836352081347314),\n",
       " (0.39161303844101153, 0.6395424836601307, 0.4474102319669527),\n",
       " (0.3917050617355136, 0.6281045751633987, 0.4804575786463298),\n",
       " (0.3917971066541342, 0.6189542483660131, 0.4690181124880839),\n",
       " (0.39188917320195454, 0.6300653594771242, 0.4572608833809978),\n",
       " (0.39198126138405726, 0.6294117647058823, 0.47378455672068637),\n",
       " (0.39207337120552604, 0.6205882352941177, 0.451858913250715),\n",
       " (0.39216550267144584, 0.6294117647058823, 0.46202732761360027),\n",
       " (0.3922576557869028, 0.6186274509803922, 0.4652049571020019),\n",
       " (0.3923498305569842, 0.6032679738562091, 0.4515411503018748),\n",
       " (0.39244202698677855, 0.5986928104575163, 0.478868763902129),\n",
       " (0.39253424508137563, 0.5754901960784313, 0.48395297108357166),\n",
       " (0.3926264848458664, 0.6, 0.4744200826183667),\n",
       " (0.39271874628534276, 0.5624183006535948, 0.5284397839211948),\n",
       " (0.3928110294048982, 0.5277777777777778, 0.5303463616142358),\n",
       " (0.39290333420962714, 0.5013071895424837, 0.5684779154750557),\n",
       " (0.39299566070462527, 0.44575163398692813, 0.6183666984429615),\n",
       " (0.3930880088949895, 0.38562091503267976, 0.709564664760089),\n",
       " (0.39318037878581796, 0.3183006535947712, 0.7816968541468065),\n",
       " (0.39327277038220987, 0.2696078431372549, 0.8353987925007944),\n",
       " (0.39336518368926576, 0.20555555555555555, 0.8741658722592945),\n",
       " (0.39345761871208734, 0.19477124183006536, 0.8805211312360979),\n",
       " (0.3935500754557774, 0.19411764705882353, 0.8814744200826183)]"
      ]
     },
     "execution_count": 36,
     "metadata": {},
     "output_type": "execute_result"
    }
   ],
   "source": [
    "scores"
   ]
  },
  {
   "cell_type": "markdown",
   "id": "04dcf24e",
   "metadata": {},
   "source": [
    "# Performance on test data"
   ]
  },
  {
   "cell_type": "markdown",
   "id": "dfbfbe64",
   "metadata": {},
   "source": [
    "1. train model using the best bandwidth\n",
    "2. evaluate on kegg data"
   ]
  },
  {
   "cell_type": "code",
   "execution_count": 34,
   "id": "502cdd8d",
   "metadata": {},
   "outputs": [],
   "source": [
    "# kegg data input\n",
    "\n",
    "dti_file = \"../../DeepConv-DTI/epp_examples/test_dataset/kegg_dti.csv\"\n",
    "protein_file = \"../../DeepConv-DTI/epp_examples/test_dataset/kegg_protein.csv\"\n",
    "compound_file = \"../../DeepConv-DTI/epp_examples/test_dataset/kegg_compound.csv\""
   ]
  },
  {
   "cell_type": "code",
   "execution_count": 35,
   "id": "7469e5ec",
   "metadata": {},
   "outputs": [],
   "source": [
    "dti_df = pd.read_csv(dti_file, usecols=[1, 2])\n",
    "prot_df = pd.read_csv(protein_file, usecols=[1, 2])\n",
    "subs_df = pd.read_csv(compound_file, usecols=[1, 3], index_col=0)"
   ]
  },
  {
   "cell_type": "code",
   "execution_count": 36,
   "id": "365c5a50",
   "metadata": {},
   "outputs": [],
   "source": [
    "prot_enctest_file = \"./data/enz_ifeatures/dde.csv\"\n",
    "prot_enctest_df_raw = pd.read_csv(prot_enctest_file, index_col=0)"
   ]
  },
  {
   "cell_type": "code",
   "execution_count": 37,
   "id": "af4115e0",
   "metadata": {},
   "outputs": [],
   "source": [
    "prot_enctest_df = prot_enctest_df_raw.loc[prot_df.Protein_ID.values, :]"
   ]
  },
  {
   "cell_type": "code",
   "execution_count": 38,
   "id": "9f68e5f1",
   "metadata": {},
   "outputs": [],
   "source": [
    "prot_enctest_array = prot_enctest_df.loc[dti_df.Protein_ID.values, :].values"
   ]
  },
  {
   "cell_type": "code",
   "execution_count": 39,
   "id": "6841f2f2",
   "metadata": {},
   "outputs": [
    {
     "data": {
      "text/plain": [
       "(69409, 2448)"
      ]
     },
     "execution_count": 39,
     "metadata": {},
     "output_type": "execute_result"
    }
   ],
   "source": [
    "subs_enctest_array_raw = subs_df.loc[dti_df.Compound_ID.values, :].values\n",
    "\n",
    "subs_enctest_array = np.apply_along_axis(lambda x: x[0].split(\"\\t\"), axis=1 , arr=subs_enctest_array_raw).astype(\"float32\")\n",
    "\n",
    "enctest_array = np.concatenate([prot_enctest_array, subs_enctest_array], axis = 1)\n",
    "\n",
    "enctest_array.shape"
   ]
  },
  {
   "cell_type": "code",
   "execution_count": 40,
   "id": "9160331c",
   "metadata": {},
   "outputs": [
    {
     "data": {
      "text/plain": [
       "(8783, 2448)"
      ]
     },
     "execution_count": 40,
     "metadata": {},
     "output_type": "execute_result"
    }
   ],
   "source": [
    "enctrain_array.shape"
   ]
  },
  {
   "cell_type": "code",
   "execution_count": 41,
   "id": "7d18cf23",
   "metadata": {},
   "outputs": [],
   "source": [
    "kde = EnzymeRanker(enctrain_array, bw=0.39290333420962714)"
   ]
  },
  {
   "cell_type": "code",
   "execution_count": 42,
   "id": "737c8886",
   "metadata": {},
   "outputs": [
    {
     "name": "stdout",
     "output_type": "stream",
     "text": [
      "CPU times: user 26min 5s, sys: 2.43 s, total: 26min 8s\n",
      "Wall time: 26min 4s\n"
     ]
    },
    {
     "data": {
      "text/plain": [
       "(0.3579795127433042,\n",
       " array([ 2.44022821e+00,  4.86108182e-01,  2.43961014e+00, ...,\n",
       "        -2.95347252e+03, -2.97047195e+03, -2.94693927e+03]))"
      ]
     },
     "execution_count": 42,
     "metadata": {},
     "output_type": "execute_result"
    }
   ],
   "source": [
    "%%time\n",
    "kde.get_pos_acc(enctest_array)"
   ]
  },
  {
   "cell_type": "code",
   "execution_count": null,
   "id": "c44368e8",
   "metadata": {},
   "outputs": [],
   "source": []
  }
 ],
 "metadata": {
  "kernelspec": {
   "display_name": "Python 3 (ipykernel)",
   "language": "python",
   "name": "python3"
  },
  "language_info": {
   "codemirror_mode": {
    "name": "ipython",
    "version": 3
   },
   "file_extension": ".py",
   "mimetype": "text/x-python",
   "name": "python",
   "nbconvert_exporter": "python",
   "pygments_lexer": "ipython3",
   "version": "3.9.6"
  }
 },
 "nbformat": 4,
 "nbformat_minor": 5
}

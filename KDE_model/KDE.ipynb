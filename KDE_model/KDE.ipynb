{
 "cells": [
  {
   "cell_type": "code",
   "execution_count": 1,
   "id": "6d36584b",
   "metadata": {},
   "outputs": [],
   "source": [
    "import pandas as pd\n",
    "import numpy as np\n",
    "from sklearn.neighbors import KernelDensity\n",
    "from ifeatpro.features import get_feature\n",
    "import multiprocessing as mp\n",
    "import tempfile\n",
    "import os\n",
    "from sklearn.metrics import accuracy_score, matthews_corrcoef"
   ]
  },
  {
   "cell_type": "code",
   "execution_count": 2,
   "id": "8981e5c9",
   "metadata": {},
   "outputs": [],
   "source": [
    "# training data files\n",
    "\n",
    "esitrain_file = \"../../DeepConv-DTI/epp_examples/training_dataset/training_dti.csv\"\n",
    "prottrain_file = \"../../DeepConv-DTI/epp_examples/training_dataset/training_protein.csv\"\n",
    "substrain_file = \"../../DeepConv-DTI/epp_examples/training_dataset/training_compound.csv\"\n",
    "\n",
    "\n",
    "# Validation files\n",
    "\n",
    "esivalid_file = \"../../DeepConv-DTI/epp_examples/validation_dataset/validation_dti.csv\"\n",
    "protvalid_file = \"../../DeepConv-DTI/epp_examples/validation_dataset/validation_protein.csv\"\n",
    "subsvalid_file = \"../../DeepConv-DTI/epp_examples/validation_dataset/validation_compound.csv\"\n",
    "\n",
    "\n",
    "# Kegg file\n",
    "\n",
    "dti_file = \"../../DeepConv-DTI/epp_examples/test_dataset/kegg_dti.csv\"\n",
    "protein_file = \"../../DeepConv-DTI/epp_examples/test_dataset/kegg_protein.csv\"\n",
    "compound_file = \"../../DeepConv-DTI/epp_examples/test_dataset/kegg_compound.csv\""
   ]
  },
  {
   "cell_type": "code",
   "execution_count": 3,
   "id": "956bd01e",
   "metadata": {},
   "outputs": [],
   "source": [
    "class KDE:\n",
    "    def __init__(self, train_dti, train_enz, train_sub,\n",
    "                valid_dti, valid_enz, valid_sub,\n",
    "                with_label=True, kern=\"gaussian\", bw=0.35,\n",
    "                start=0, end=-1):\n",
    "\n",
    "        \n",
    "        # read training data\n",
    "        self.train_dti_df_ = self._read_csv(train_dti, columns=[0,1,2,3])\n",
    "        self.train_enz_df = self._read_csv(train_enz, columns=[1,2])\n",
    "        self.train_sub_df = self._read_csv(train_sub, columns=[1,2,3])\n",
    "        \n",
    "        # get rid of illegal sequences from training\n",
    "        illegal_proteins = list(self.train_enz_df.loc[self.train_enz_df.Sequence.str.contains(\"B|J|X|Z|O|U\", regex=True)].index)\n",
    "        self.train_dti_df = self.train_dti_df_.loc[~self.train_dti_df_.Protein_ID.isin(illegal_proteins)]\n",
    "        \n",
    "        # read validation data\n",
    "        if with_label:\n",
    "            self.valid_dti_df_ = self._read_csv(valid_dti, columns=[0,1,2,3]).iloc[start:end, :]\n",
    "        else:\n",
    "            self.valid_dti_df_ = self._read_csv(valid_dti, columns=[0,1,2]).iloc[start:end, :]\n",
    "\n",
    "        self.valid_enz_df = self._read_csv(valid_enz, columns=[1,2])\n",
    "        self.valid_sub_df = self._read_csv(valid_sub, columns=[1,2,3])\n",
    "        \n",
    "        # get rid of illegal sequences from validation\n",
    "        illegal_proteins = list(self.valid_enz_df.loc[self.valid_enz_df.Sequence.str.contains(\"B|J|X|Z|O|U\", regex=True)].index)\n",
    "        self.valid_dti_df = self.valid_dti_df_.loc[~self.valid_dti_df_.Protein_ID.isin(illegal_proteins)]\n",
    "        \n",
    "        # modify training interaction data to include only positive data\n",
    "        self.pos_train_dti_df = self.train_dti_df.loc[self.train_dti_df.Label==1].drop_duplicates()\n",
    "        \n",
    "        # create features for train and validation enzymes\n",
    "        self.train_enz_encdf = self._create_enzyme_features(self.train_enz_df)\n",
    "        self.valid_enz_encdf = self._create_enzyme_features(self.valid_enz_df)\n",
    "        \n",
    "        # get the substrate encodings\n",
    "        self.train_sub_encdf = self.train_sub_df.iloc[:, [1]]\n",
    "        self.valid_sub_encdf = self.valid_sub_df.iloc[:, [1]]\n",
    "        \n",
    "        # concatenate the two enzyme and substrate features\n",
    "        self.train_enc = self._concat_features(self.pos_train_dti_df, self.train_enz_encdf, self.train_sub_encdf)\n",
    "        self.valid_enc = self._concat_features(self.valid_dti_df, self.valid_enz_encdf, self.valid_sub_encdf)\n",
    "        \n",
    "        # define hyperparameters\n",
    "        self.kern = kern\n",
    "        self.bw = bw\n",
    "        \n",
    "        pass\n",
    "        \n",
    "        \n",
    "    def _read_csv(self, filename, columns):\n",
    "        df = pd.read_csv(filename, index_col=0, usecols=columns)\n",
    "        return df\n",
    "\n",
    "    \n",
    "    def _create_fasta(self, df, fastafilename):\n",
    "        with open(fastafilename, \"w\") as f:\n",
    "            for index, row in df.iterrows():\n",
    "                f.write(\">\" + index + \"\\n\")\n",
    "                f.write(row[0] + \"\\n\")\n",
    "        return \n",
    "\n",
    "    \n",
    "    def _create_enzyme_features(self, enz_df, feat_type=\"dde\"):\n",
    "        # create temporary fastafile\n",
    "        self._create_fasta(enz_df, \"temp.fa\")\n",
    "        \n",
    "        # read filename created as fasta file\n",
    "        get_feature(\"temp.fa\", feat_type, \"./\")\n",
    "        \n",
    "        enz_enc_df = pd.read_csv(f\"./{feat_type}.csv\", header=None, index_col=0)\n",
    "        \n",
    "        os.remove(os.path.join(\"./\", \"temp.fa\"))\n",
    "        os.remove(os.path.join(\"./\", f\"{feat_type}.csv\"))\n",
    "\n",
    "        return enz_enc_df\n",
    "    \n",
    "    \n",
    "    def _concat_features(self, dti_df, enz_encdf, sub_encdf):\n",
    "        enz_encarr = enz_encdf.loc[dti_df.Protein_ID.values, :].values\n",
    "        sub_encarr_ = sub_encdf.loc[dti_df.Compound_ID.values, :].values\n",
    "        sub_encarr = np.apply_along_axis(lambda x: x[0].split(\"\\t\"), axis=1 , arr=sub_encarr_).astype(\"float32\")\n",
    "        enc_arr = np.concatenate([enz_encarr, sub_encarr], axis=1)\n",
    "        return enc_arr\n",
    "    \n",
    "    \n",
    "    def train(self, kern=\"gaussian\", bw=\"0.35\"):\n",
    "        self.model = KernelDensity(kernel=kern, bandwidth=bw)\n",
    "        self.model.fit(self.train_enc)\n",
    "        return\n",
    "    \n",
    "    \n",
    "    def predict(self, X_va):\n",
    "        return self.model.score_samples(X_va)\n",
    "    \n",
    "    \n",
    "    def evaluate(self, scores):\n",
    "        preds = scores>=0\n",
    "        preds = preds.astype(int)\n",
    "        trues = self.valid_dti_df.Label.values\n",
    "        acc = accuracy_score(trues, preds)\n",
    "        mcc = matthews_corrcoef(trues, preds)\n",
    "        pos_idx = np.where(trues==1)[0]\n",
    "        pacc = sum(preds[pos_idx])/len(pos_idx)\n",
    "        neg_idx = np.where(trues==0)[0]\n",
    "        nacc = sum(preds[pos_idx]==0)/len(neg_idx)\n",
    "        return acc, mcc, pacc, len(pos_idx), nacc, len(neg_idx)\n",
    "    \n",
    "    \n",
    "    def _opt_bw_helper(self, bw):\n",
    "        kde = KernelDensity(kernel=self.kern, bandwidth=bw)\n",
    "        kde.fit(self.train_enc)\n",
    "        scores = kde.score_samples(self.valid_enc)\n",
    "        preds_bool = scores>=0\n",
    "        preds = preds_bool.astype(int)\n",
    "        trues = self.valid_dti_df.Label.values\n",
    "        return matthews_corrcoef(trues, preds)\n",
    "        \n",
    "        \n",
    "        \n",
    "    def opt_bw(self, bws):\n",
    "        pool = mp.Pool(mp.cpu_count())\n",
    "        res = pool.map(self._opt_bw_helper, bws)\n",
    "        return zip(bws, res) "
   ]
  },
  {
   "cell_type": "code",
   "execution_count": 4,
   "id": "a6ac509d",
   "metadata": {},
   "outputs": [
    {
     "name": "stdout",
     "output_type": "stream",
     "text": [
      "Descriptor type: dde\n",
      "Descriptor type: dde\n"
     ]
    }
   ],
   "source": [
    "kde = KDE(esitrain_file, prottrain_file, substrain_file, esivalid_file, protvalid_file, subsvalid_file)"
   ]
  },
  {
   "cell_type": "code",
   "execution_count": 5,
   "id": "8d2f322d",
   "metadata": {},
   "outputs": [],
   "source": [
    "bws = np.logspace(-0.41, -0.405, 48)"
   ]
  },
  {
   "cell_type": "code",
   "execution_count": 6,
   "id": "c44368e8",
   "metadata": {},
   "outputs": [
    {
     "name": "stdout",
     "output_type": "stream",
     "text": [
      "CPU times: user 7.67 s, sys: 11.2 s, total: 18.8 s\n",
      "Wall time: 4min 12s\n"
     ]
    }
   ],
   "source": [
    "%%time\n",
    "opt_res = list(kde.opt_bw(bws))"
   ]
  },
  {
   "cell_type": "code",
   "execution_count": 7,
   "id": "780df00c",
   "metadata": {},
   "outputs": [],
   "source": [
    "best_opt = sorted(list(opt_res), key=lambda x:x[1], reverse=True)[0][0]"
   ]
  },
  {
   "cell_type": "code",
   "execution_count": 8,
   "id": "32760a3c",
   "metadata": {},
   "outputs": [],
   "source": [
    "kde.train(bw=best_opt)"
   ]
  },
  {
   "cell_type": "code",
   "execution_count": 9,
   "id": "9a608cfc",
   "metadata": {},
   "outputs": [
    {
     "name": "stdout",
     "output_type": "stream",
     "text": [
      "CPU times: user 1min 36s, sys: 117 ms, total: 1min 36s\n",
      "Wall time: 1min 36s\n"
     ]
    }
   ],
   "source": [
    "%%time\n",
    "scores = kde.predict(kde.valid_enc)"
   ]
  },
  {
   "cell_type": "code",
   "execution_count": 10,
   "id": "75b62f57",
   "metadata": {
    "scrolled": true
   },
   "outputs": [
    {
     "data": {
      "text/plain": [
       "(0.6217371737173717,\n",
       " 0.3498292539141778,\n",
       " 0.23399355135882083,\n",
       " 2171,\n",
       " 0.7316322041355038,\n",
       " 2273)"
      ]
     },
     "execution_count": 10,
     "metadata": {},
     "output_type": "execute_result"
    }
   ],
   "source": [
    "kde.evaluate(scores)"
   ]
  },
  {
   "cell_type": "code",
   "execution_count": 12,
   "id": "89a59d2a",
   "metadata": {},
   "outputs": [
    {
     "name": "stdout",
     "output_type": "stream",
     "text": [
      "Descriptor type: dde\n",
      "Descriptor type: dde\n"
     ]
    }
   ],
   "source": [
    "kde_kegg = KDE(esitrain_file, prottrain_file, substrain_file, dti_file, protein_file, compound_file, with_label=False)"
   ]
  },
  {
   "cell_type": "code",
   "execution_count": 13,
   "id": "4c020307",
   "metadata": {},
   "outputs": [],
   "source": [
    "kde_kegg.train(bw=best_opt)"
   ]
  },
  {
   "cell_type": "code",
   "execution_count": 14,
   "id": "f06501af",
   "metadata": {},
   "outputs": [
    {
     "name": "stdout",
     "output_type": "stream",
     "text": [
      "CPU times: user 23min 45s, sys: 2.76 s, total: 23min 48s\n",
      "Wall time: 23min 43s\n"
     ]
    }
   ],
   "source": [
    "%%time\n",
    "test_scores = kde_kegg.predict(kde_kegg.valid_enc)"
   ]
  },
  {
   "cell_type": "code",
   "execution_count": 15,
   "id": "6a631807",
   "metadata": {},
   "outputs": [
    {
     "data": {
      "text/plain": [
       "604"
      ]
     },
     "execution_count": 15,
     "metadata": {},
     "output_type": "execute_result"
    }
   ],
   "source": [
    "sum(test_scores>=0)"
   ]
  },
  {
   "cell_type": "code",
   "execution_count": 16,
   "id": "103a8cac",
   "metadata": {},
   "outputs": [
    {
     "data": {
      "text/plain": [
       "0.008997065526641146"
      ]
     },
     "execution_count": 16,
     "metadata": {},
     "output_type": "execute_result"
    }
   ],
   "source": [
    "sum(test_scores>=0)/len(test_scores)"
   ]
  }
 ],
 "metadata": {
  "kernelspec": {
   "display_name": "Python 3 (ipykernel)",
   "language": "python",
   "name": "python3"
  },
  "language_info": {
   "codemirror_mode": {
    "name": "ipython",
    "version": 3
   },
   "file_extension": ".py",
   "mimetype": "text/x-python",
   "name": "python",
   "nbconvert_exporter": "python",
   "pygments_lexer": "ipython3",
   "version": "3.9.6"
  }
 },
 "nbformat": 4,
 "nbformat_minor": 5
}

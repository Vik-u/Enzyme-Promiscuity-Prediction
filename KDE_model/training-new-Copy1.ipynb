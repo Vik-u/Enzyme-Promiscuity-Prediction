{
 "cells": [
  {
   "cell_type": "code",
   "execution_count": 1,
   "id": "0bc7f20f",
   "metadata": {},
   "outputs": [],
   "source": [
    "from sklearn.model_selection import train_test_split\n",
    "import pandas as pd\n",
    "import numpy as np\n",
    "from scipy.sparse import coo_matrix\n",
    "from sklearn.neighbors import KernelDensity\n",
    "# from ifeatpro.features import get_feature, get_all_features\n",
    "import multiprocessing as mp"
   ]
  },
  {
   "cell_type": "markdown",
   "id": "bcf9c2ef",
   "metadata": {},
   "source": [
    "1. Get training data\n",
    "2. Create training and validation set\n",
    "3. Create molecular signature for train protein sequences\n",
    "4. Get substrate molecular signature file\n",
    "5. Get substrate molecular signature\n",
    "6. Encode into a single vector\n",
    "7. Train KDE model\n",
    "8. Create random substrate-enzyme pairs\n",
    "9. Evaluate model"
   ]
  },
  {
   "cell_type": "code",
   "execution_count": 2,
   "id": "18ce5110",
   "metadata": {},
   "outputs": [],
   "source": [
    "# substrate encoding\n",
    "subs_encoding_file= \"./data/MolecularSignatureKEGGComp/mol_sig_matrix_kegg_comp.csv\"\n",
    "df_subs = pd.read_csv(subs_encoding_file, index_col=0).T"
   ]
  },
  {
   "cell_type": "markdown",
   "id": "b6e089a5",
   "metadata": {},
   "source": [
    "# Sequence Encoding\n",
    "\n",
    "1. encode them as all ifeature encodings"
   ]
  },
  {
   "cell_type": "code",
   "execution_count": 3,
   "id": "2117101a",
   "metadata": {
    "scrolled": true
   },
   "outputs": [],
   "source": [
    "# help(get_feature)"
   ]
  },
  {
   "cell_type": "code",
   "execution_count": 4,
   "id": "56964ad4",
   "metadata": {},
   "outputs": [
    {
     "data": {
      "text/plain": [
       "'\\nmoran - done\\ngeary - done\\nnmbroto - done\\nctdc - done\\nctdt - done\\nctdd - done\\nctriad - done\\nksctriad - done\\nsocnumber - done\\nqsorder - done\\npaac - done\\napaac - done\\n'"
      ]
     },
     "execution_count": 4,
     "metadata": {},
     "output_type": "execute_result"
    }
   ],
   "source": [
    "\"\"\"\n",
    "moran - done\n",
    "geary - done\n",
    "nmbroto - done\n",
    "ctdc - done\n",
    "ctdt - done\n",
    "ctdd - done\n",
    "ctriad - done\n",
    "ksctriad - done\n",
    "socnumber - done\n",
    "qsorder - done\n",
    "paac - done\n",
    "apaac - done\n",
    "\"\"\"\n",
    "\n",
    "# get_feature(\"./data/training_fasta.fa\", \"dde\", \"./data/enz_ifeatures/\")"
   ]
  },
  {
   "cell_type": "code",
   "execution_count": 5,
   "id": "b4c65b4c",
   "metadata": {
    "scrolled": true
   },
   "outputs": [],
   "source": [
    "# get_all_features(\"./data/training_fasta.fa\", \"./data/enz_ifeatures/\")"
   ]
  },
  {
   "cell_type": "code",
   "execution_count": 6,
   "id": "809c3231",
   "metadata": {},
   "outputs": [],
   "source": [
    "train_filepath = \"./data/training_raw.csv\"\n",
    "train_file = open(train_filepath, \"r\")\n",
    "\n",
    "X_raw = []\n",
    "for i,line in enumerate(train_file):\n",
    "    name, seq, subs = line.strip().split(\",\")\n",
    "    X_raw.append((name, seq, subs))\n"
   ]
  },
  {
   "cell_type": "code",
   "execution_count": 7,
   "id": "04ff1bab",
   "metadata": {},
   "outputs": [],
   "source": [
    "X_train, X_valid = train_test_split(X_raw, random_state=10)"
   ]
  },
  {
   "cell_type": "code",
   "execution_count": 8,
   "id": "8aaa04b3",
   "metadata": {},
   "outputs": [],
   "source": [
    "# filter X_train and X_valid\n",
    "X_train = [x for x in X_train if x[2] in df_subs.index]\n",
    "X_valid = [x for x in X_valid if x[2] in df_subs.index]"
   ]
  },
  {
   "cell_type": "code",
   "execution_count": 9,
   "id": "80551ace",
   "metadata": {},
   "outputs": [
    {
     "data": {
      "text/plain": [
       "51994"
      ]
     },
     "execution_count": 9,
     "metadata": {},
     "output_type": "execute_result"
    }
   ],
   "source": [
    "len(X_train)"
   ]
  },
  {
   "cell_type": "code",
   "execution_count": 10,
   "id": "8509b28f",
   "metadata": {},
   "outputs": [
    {
     "data": {
      "text/plain": [
       "17415"
      ]
     },
     "execution_count": 10,
     "metadata": {},
     "output_type": "execute_result"
    }
   ],
   "source": [
    "len(X_valid)"
   ]
  },
  {
   "cell_type": "code",
   "execution_count": 11,
   "id": "0da31e64",
   "metadata": {},
   "outputs": [],
   "source": [
    "X_train_name = [x[0] for x in X_train]\n",
    "X_train_seq = [x[1] for x in X_train]\n",
    "X_train_subs = [x[2] for x in X_train]\n",
    "\n",
    "X_valid_name = [x[0] for x in X_valid]\n",
    "X_valid_seq = [x[1] for x in X_valid]\n",
    "X_valid_subs = [x[2] for x in X_valid]"
   ]
  },
  {
   "cell_type": "code",
   "execution_count": 12,
   "id": "64316409",
   "metadata": {},
   "outputs": [],
   "source": [
    "X_enc = pd.read_csv(\"./data/enz_ifeatures/dde.csv\", index_col=0)"
   ]
  },
  {
   "cell_type": "code",
   "execution_count": 13,
   "id": "83711010",
   "metadata": {},
   "outputs": [],
   "source": [
    "X_enc_train = X_enc.loc[X_train_name, :]\n",
    "X_enc_valid = X_enc.loc[X_valid_name, :]"
   ]
  },
  {
   "cell_type": "code",
   "execution_count": 14,
   "id": "b6470de5",
   "metadata": {
    "scrolled": true
   },
   "outputs": [
    {
     "data": {
      "text/html": [
       "<div>\n",
       "<style scoped>\n",
       "    .dataframe tbody tr th:only-of-type {\n",
       "        vertical-align: middle;\n",
       "    }\n",
       "\n",
       "    .dataframe tbody tr th {\n",
       "        vertical-align: top;\n",
       "    }\n",
       "\n",
       "    .dataframe thead th {\n",
       "        text-align: right;\n",
       "    }\n",
       "</style>\n",
       "<table border=\"1\" class=\"dataframe\">\n",
       "  <thead>\n",
       "    <tr style=\"text-align: right;\">\n",
       "      <th></th>\n",
       "      <th>AA</th>\n",
       "      <th>AC</th>\n",
       "      <th>AD</th>\n",
       "      <th>AE</th>\n",
       "      <th>AF</th>\n",
       "      <th>AG</th>\n",
       "      <th>AH</th>\n",
       "      <th>AI</th>\n",
       "      <th>AK</th>\n",
       "      <th>AL</th>\n",
       "      <th>...</th>\n",
       "      <th>YM</th>\n",
       "      <th>YN</th>\n",
       "      <th>YP</th>\n",
       "      <th>YQ</th>\n",
       "      <th>YR</th>\n",
       "      <th>YS</th>\n",
       "      <th>YT</th>\n",
       "      <th>YV</th>\n",
       "      <th>YW</th>\n",
       "      <th>YY</th>\n",
       "    </tr>\n",
       "    <tr>\n",
       "      <th>#</th>\n",
       "      <th></th>\n",
       "      <th></th>\n",
       "      <th></th>\n",
       "      <th></th>\n",
       "      <th></th>\n",
       "      <th></th>\n",
       "      <th></th>\n",
       "      <th></th>\n",
       "      <th></th>\n",
       "      <th></th>\n",
       "      <th></th>\n",
       "      <th></th>\n",
       "      <th></th>\n",
       "      <th></th>\n",
       "      <th></th>\n",
       "      <th></th>\n",
       "      <th></th>\n",
       "      <th></th>\n",
       "      <th></th>\n",
       "      <th></th>\n",
       "      <th></th>\n",
       "    </tr>\n",
       "  </thead>\n",
       "  <tbody>\n",
       "    <tr>\n",
       "      <th>hsa:4976_3.6.5.5</th>\n",
       "      <td>-0.061009</td>\n",
       "      <td>-0.740270</td>\n",
       "      <td>-0.740270</td>\n",
       "      <td>2.048437</td>\n",
       "      <td>-0.043093</td>\n",
       "      <td>-1.541540</td>\n",
       "      <td>-0.740270</td>\n",
       "      <td>1.086292</td>\n",
       "      <td>-0.043093</td>\n",
       "      <td>0.731969</td>\n",
       "      <td>...</td>\n",
       "      <td>0.675085</td>\n",
       "      <td>-0.030455</td>\n",
       "      <td>-0.740270</td>\n",
       "      <td>1.940397</td>\n",
       "      <td>-1.191906</td>\n",
       "      <td>-1.191906</td>\n",
       "      <td>-0.740270</td>\n",
       "      <td>-1.437447</td>\n",
       "      <td>0.675085</td>\n",
       "      <td>0.954971</td>\n",
       "    </tr>\n",
       "    <tr>\n",
       "      <th>ggo:101128753_2.5.1.18</th>\n",
       "      <td>0.037596</td>\n",
       "      <td>-0.694715</td>\n",
       "      <td>-0.694715</td>\n",
       "      <td>-0.694715</td>\n",
       "      <td>0.747826</td>\n",
       "      <td>0.037596</td>\n",
       "      <td>0.747826</td>\n",
       "      <td>1.505623</td>\n",
       "      <td>-0.694715</td>\n",
       "      <td>-0.371230</td>\n",
       "      <td>...</td>\n",
       "      <td>-0.347077</td>\n",
       "      <td>-0.490973</td>\n",
       "      <td>-0.694715</td>\n",
       "      <td>-0.490973</td>\n",
       "      <td>-0.851307</td>\n",
       "      <td>0.327158</td>\n",
       "      <td>0.747826</td>\n",
       "      <td>-0.694715</td>\n",
       "      <td>2.535677</td>\n",
       "      <td>-0.490973</td>\n",
       "    </tr>\n",
       "    <tr>\n",
       "      <th>ptr:457477_2.5.1.18</th>\n",
       "      <td>0.442999</td>\n",
       "      <td>-0.568497</td>\n",
       "      <td>-0.568497</td>\n",
       "      <td>-0.568497</td>\n",
       "      <td>1.194317</td>\n",
       "      <td>-0.804844</td>\n",
       "      <td>2.957132</td>\n",
       "      <td>0.743469</td>\n",
       "      <td>-0.568497</td>\n",
       "      <td>1.053129</td>\n",
       "      <td>...</td>\n",
       "      <td>-0.284019</td>\n",
       "      <td>-0.401772</td>\n",
       "      <td>2.957132</td>\n",
       "      <td>-0.401772</td>\n",
       "      <td>-0.696639</td>\n",
       "      <td>0.743469</td>\n",
       "      <td>1.194317</td>\n",
       "      <td>-0.568497</td>\n",
       "      <td>-0.284019</td>\n",
       "      <td>2.089882</td>\n",
       "    </tr>\n",
       "    <tr>\n",
       "      <th>tac:Ta0619_4.1.2.55</th>\n",
       "      <td>3.387541</td>\n",
       "      <td>-0.787732</td>\n",
       "      <td>0.484469</td>\n",
       "      <td>0.484469</td>\n",
       "      <td>-0.787732</td>\n",
       "      <td>1.586435</td>\n",
       "      <td>-0.787732</td>\n",
       "      <td>-0.965291</td>\n",
       "      <td>-0.787732</td>\n",
       "      <td>0.104845</td>\n",
       "      <td>...</td>\n",
       "      <td>-0.393548</td>\n",
       "      <td>1.241485</td>\n",
       "      <td>1.756671</td>\n",
       "      <td>-0.556711</td>\n",
       "      <td>-0.965291</td>\n",
       "      <td>0.074017</td>\n",
       "      <td>0.484469</td>\n",
       "      <td>-0.787732</td>\n",
       "      <td>-0.393548</td>\n",
       "      <td>1.241485</td>\n",
       "    </tr>\n",
       "    <tr>\n",
       "      <th>pmex:H4W19_11290_1.5.8.2</th>\n",
       "      <td>3.525268</td>\n",
       "      <td>-0.392928</td>\n",
       "      <td>2.901909</td>\n",
       "      <td>4.549327</td>\n",
       "      <td>-1.216637</td>\n",
       "      <td>0.609874</td>\n",
       "      <td>2.078200</td>\n",
       "      <td>-1.490873</td>\n",
       "      <td>-1.216637</td>\n",
       "      <td>3.607328</td>\n",
       "      <td>...</td>\n",
       "      <td>-0.607827</td>\n",
       "      <td>0.304445</td>\n",
       "      <td>-0.392928</td>\n",
       "      <td>0.304445</td>\n",
       "      <td>-0.145036</td>\n",
       "      <td>-0.817955</td>\n",
       "      <td>0.430781</td>\n",
       "      <td>0.430781</td>\n",
       "      <td>-0.607827</td>\n",
       "      <td>-0.859829</td>\n",
       "    </tr>\n",
       "  </tbody>\n",
       "</table>\n",
       "<p>5 rows × 400 columns</p>\n",
       "</div>"
      ],
      "text/plain": [
       "                                AA        AC        AD        AE        AF  \\\n",
       "#                                                                            \n",
       "hsa:4976_3.6.5.5         -0.061009 -0.740270 -0.740270  2.048437 -0.043093   \n",
       "ggo:101128753_2.5.1.18    0.037596 -0.694715 -0.694715 -0.694715  0.747826   \n",
       "ptr:457477_2.5.1.18       0.442999 -0.568497 -0.568497 -0.568497  1.194317   \n",
       "tac:Ta0619_4.1.2.55       3.387541 -0.787732  0.484469  0.484469 -0.787732   \n",
       "pmex:H4W19_11290_1.5.8.2  3.525268 -0.392928  2.901909  4.549327 -1.216637   \n",
       "\n",
       "                                AG        AH        AI        AK        AL  \\\n",
       "#                                                                            \n",
       "hsa:4976_3.6.5.5         -1.541540 -0.740270  1.086292 -0.043093  0.731969   \n",
       "ggo:101128753_2.5.1.18    0.037596  0.747826  1.505623 -0.694715 -0.371230   \n",
       "ptr:457477_2.5.1.18      -0.804844  2.957132  0.743469 -0.568497  1.053129   \n",
       "tac:Ta0619_4.1.2.55       1.586435 -0.787732 -0.965291 -0.787732  0.104845   \n",
       "pmex:H4W19_11290_1.5.8.2  0.609874  2.078200 -1.490873 -1.216637  3.607328   \n",
       "\n",
       "                          ...        YM        YN        YP        YQ  \\\n",
       "#                         ...                                           \n",
       "hsa:4976_3.6.5.5          ...  0.675085 -0.030455 -0.740270  1.940397   \n",
       "ggo:101128753_2.5.1.18    ... -0.347077 -0.490973 -0.694715 -0.490973   \n",
       "ptr:457477_2.5.1.18       ... -0.284019 -0.401772  2.957132 -0.401772   \n",
       "tac:Ta0619_4.1.2.55       ... -0.393548  1.241485  1.756671 -0.556711   \n",
       "pmex:H4W19_11290_1.5.8.2  ... -0.607827  0.304445 -0.392928  0.304445   \n",
       "\n",
       "                                YR        YS        YT        YV        YW  \\\n",
       "#                                                                            \n",
       "hsa:4976_3.6.5.5         -1.191906 -1.191906 -0.740270 -1.437447  0.675085   \n",
       "ggo:101128753_2.5.1.18   -0.851307  0.327158  0.747826 -0.694715  2.535677   \n",
       "ptr:457477_2.5.1.18      -0.696639  0.743469  1.194317 -0.568497 -0.284019   \n",
       "tac:Ta0619_4.1.2.55      -0.965291  0.074017  0.484469 -0.787732 -0.393548   \n",
       "pmex:H4W19_11290_1.5.8.2 -0.145036 -0.817955  0.430781  0.430781 -0.607827   \n",
       "\n",
       "                                YY  \n",
       "#                                   \n",
       "hsa:4976_3.6.5.5          0.954971  \n",
       "ggo:101128753_2.5.1.18   -0.490973  \n",
       "ptr:457477_2.5.1.18       2.089882  \n",
       "tac:Ta0619_4.1.2.55       1.241485  \n",
       "pmex:H4W19_11290_1.5.8.2 -0.859829  \n",
       "\n",
       "[5 rows x 400 columns]"
      ]
     },
     "execution_count": 14,
     "metadata": {},
     "output_type": "execute_result"
    }
   ],
   "source": [
    "X_enc_train.head()"
   ]
  },
  {
   "cell_type": "code",
   "execution_count": 15,
   "id": "ac7d9aa7",
   "metadata": {},
   "outputs": [
    {
     "data": {
      "text/plain": [
       "(51994, 17415)"
      ]
     },
     "execution_count": 15,
     "metadata": {},
     "output_type": "execute_result"
    }
   ],
   "source": [
    "len(X_enc_train), len(X_enc_valid)"
   ]
  },
  {
   "cell_type": "markdown",
   "id": "02fcdc04",
   "metadata": {},
   "source": [
    "# Substrate Encoding"
   ]
  },
  {
   "cell_type": "code",
   "execution_count": 16,
   "id": "21443708",
   "metadata": {},
   "outputs": [
    {
     "data": {
      "text/plain": [
       "2178"
      ]
     },
     "execution_count": 16,
     "metadata": {},
     "output_type": "execute_result"
    }
   ],
   "source": [
    "len(set(df_subs.index).intersection(set(X_train_subs)))"
   ]
  },
  {
   "cell_type": "code",
   "execution_count": 17,
   "id": "c2498c83",
   "metadata": {},
   "outputs": [
    {
     "data": {
      "text/plain": [
       "2178"
      ]
     },
     "execution_count": 17,
     "metadata": {},
     "output_type": "execute_result"
    }
   ],
   "source": [
    "len(set(X_train_subs))"
   ]
  },
  {
   "cell_type": "code",
   "execution_count": 18,
   "id": "5e7adf03",
   "metadata": {},
   "outputs": [
    {
     "data": {
      "text/plain": [
       "(1963, 1963)"
      ]
     },
     "execution_count": 18,
     "metadata": {},
     "output_type": "execute_result"
    }
   ],
   "source": [
    "len(set(X_valid_subs)), len(set(df_subs.index).intersection(set(X_valid_subs)))"
   ]
  },
  {
   "cell_type": "code",
   "execution_count": 19,
   "id": "8a8319cf",
   "metadata": {},
   "outputs": [
    {
     "data": {
      "text/html": [
       "<div>\n",
       "<style scoped>\n",
       "    .dataframe tbody tr th:only-of-type {\n",
       "        vertical-align: middle;\n",
       "    }\n",
       "\n",
       "    .dataframe tbody tr th {\n",
       "        vertical-align: top;\n",
       "    }\n",
       "\n",
       "    .dataframe thead th {\n",
       "        text-align: right;\n",
       "    }\n",
       "</style>\n",
       "<table border=\"1\" class=\"dataframe\">\n",
       "  <thead>\n",
       "    <tr style=\"text-align: right;\">\n",
       "      <th></th>\n",
       "      <th>O</th>\n",
       "      <th>cN</th>\n",
       "      <th>cc(n)N</th>\n",
       "      <th>cc(c)n</th>\n",
       "      <th>cnc</th>\n",
       "      <th>ncn</th>\n",
       "      <th>cn(c)C</th>\n",
       "      <th>C[C@H](n)O</th>\n",
       "      <th>COC</th>\n",
       "      <th>C[C@H](C)O</th>\n",
       "      <th>...</th>\n",
       "      <th>[NH]N</th>\n",
       "      <th>[N]=N[NH]</th>\n",
       "      <th>CC(=C)[N+]</th>\n",
       "      <th>C/C(=C)N</th>\n",
       "      <th>co[nH]</th>\n",
       "      <th>c[nH]o</th>\n",
       "      <th>CS(=c)[O-]</th>\n",
       "      <th>CS(=c)O</th>\n",
       "      <th>[NH3+]CS</th>\n",
       "      <th>CC([n+])O</th>\n",
       "    </tr>\n",
       "  </thead>\n",
       "  <tbody>\n",
       "    <tr>\n",
       "      <th>C00001</th>\n",
       "      <td>1.0</td>\n",
       "      <td>0.0</td>\n",
       "      <td>0.0</td>\n",
       "      <td>0.0</td>\n",
       "      <td>0.0</td>\n",
       "      <td>0.0</td>\n",
       "      <td>0.0</td>\n",
       "      <td>0.0</td>\n",
       "      <td>0.0</td>\n",
       "      <td>0.0</td>\n",
       "      <td>...</td>\n",
       "      <td>0.0</td>\n",
       "      <td>0.0</td>\n",
       "      <td>0.0</td>\n",
       "      <td>0.0</td>\n",
       "      <td>0.0</td>\n",
       "      <td>0.0</td>\n",
       "      <td>0.0</td>\n",
       "      <td>0.0</td>\n",
       "      <td>0.0</td>\n",
       "      <td>0.0</td>\n",
       "    </tr>\n",
       "    <tr>\n",
       "      <th>C00002</th>\n",
       "      <td>0.0</td>\n",
       "      <td>1.0</td>\n",
       "      <td>1.0</td>\n",
       "      <td>1.0</td>\n",
       "      <td>3.0</td>\n",
       "      <td>2.0</td>\n",
       "      <td>1.0</td>\n",
       "      <td>1.0</td>\n",
       "      <td>1.0</td>\n",
       "      <td>3.0</td>\n",
       "      <td>...</td>\n",
       "      <td>0.0</td>\n",
       "      <td>0.0</td>\n",
       "      <td>0.0</td>\n",
       "      <td>0.0</td>\n",
       "      <td>0.0</td>\n",
       "      <td>0.0</td>\n",
       "      <td>0.0</td>\n",
       "      <td>0.0</td>\n",
       "      <td>0.0</td>\n",
       "      <td>0.0</td>\n",
       "    </tr>\n",
       "  </tbody>\n",
       "</table>\n",
       "<p>2 rows × 1439 columns</p>\n",
       "</div>"
      ],
      "text/plain": [
       "          O   cN  cc(n)N  cc(c)n  cnc  ncn  cn(c)C  C[C@H](n)O  COC  \\\n",
       "C00001  1.0  0.0     0.0     0.0  0.0  0.0     0.0         0.0  0.0   \n",
       "C00002  0.0  1.0     1.0     1.0  3.0  2.0     1.0         1.0  1.0   \n",
       "\n",
       "        C[C@H](C)O  ...  [NH]N  [N]=N[NH]  CC(=C)[N+]  C/C(=C)N  co[nH]  \\\n",
       "C00001         0.0  ...    0.0        0.0         0.0       0.0     0.0   \n",
       "C00002         3.0  ...    0.0        0.0         0.0       0.0     0.0   \n",
       "\n",
       "        c[nH]o  CS(=c)[O-]  CS(=c)O  [NH3+]CS  CC([n+])O  \n",
       "C00001     0.0         0.0      0.0       0.0        0.0  \n",
       "C00002     0.0         0.0      0.0       0.0        0.0  \n",
       "\n",
       "[2 rows x 1439 columns]"
      ]
     },
     "execution_count": 19,
     "metadata": {},
     "output_type": "execute_result"
    }
   ],
   "source": [
    "df_subs.head(2)"
   ]
  },
  {
   "cell_type": "code",
   "execution_count": 20,
   "id": "b99b5c4b",
   "metadata": {},
   "outputs": [
    {
     "data": {
      "text/plain": [
       "51994"
      ]
     },
     "execution_count": 20,
     "metadata": {},
     "output_type": "execute_result"
    }
   ],
   "source": [
    "len(X_train_subs)"
   ]
  },
  {
   "cell_type": "code",
   "execution_count": 21,
   "id": "d74403e0",
   "metadata": {},
   "outputs": [
    {
     "data": {
      "text/plain": [
       "['C00001', 'C19586', 'C11088', 'C01286', 'C00565']"
      ]
     },
     "execution_count": 21,
     "metadata": {},
     "output_type": "execute_result"
    }
   ],
   "source": [
    "X_train_subs[:5]"
   ]
  },
  {
   "cell_type": "code",
   "execution_count": 22,
   "id": "49dd124c",
   "metadata": {
    "scrolled": true
   },
   "outputs": [],
   "source": [
    "X_train_subs_molsig = df_subs.loc[X_train_subs, :]\n",
    "X_valid_subs_molsig = df_subs.loc[X_valid_subs, :]"
   ]
  },
  {
   "cell_type": "code",
   "execution_count": 23,
   "id": "cf795ae5",
   "metadata": {},
   "outputs": [
    {
     "data": {
      "text/html": [
       "<div>\n",
       "<style scoped>\n",
       "    .dataframe tbody tr th:only-of-type {\n",
       "        vertical-align: middle;\n",
       "    }\n",
       "\n",
       "    .dataframe tbody tr th {\n",
       "        vertical-align: top;\n",
       "    }\n",
       "\n",
       "    .dataframe thead th {\n",
       "        text-align: right;\n",
       "    }\n",
       "</style>\n",
       "<table border=\"1\" class=\"dataframe\">\n",
       "  <thead>\n",
       "    <tr style=\"text-align: right;\">\n",
       "      <th></th>\n",
       "      <th>O</th>\n",
       "      <th>cN</th>\n",
       "      <th>cc(n)N</th>\n",
       "      <th>cc(c)n</th>\n",
       "      <th>cnc</th>\n",
       "      <th>ncn</th>\n",
       "      <th>cn(c)C</th>\n",
       "      <th>C[C@H](n)O</th>\n",
       "      <th>COC</th>\n",
       "      <th>C[C@H](C)O</th>\n",
       "      <th>...</th>\n",
       "      <th>[NH]N</th>\n",
       "      <th>[N]=N[NH]</th>\n",
       "      <th>CC(=C)[N+]</th>\n",
       "      <th>C/C(=C)N</th>\n",
       "      <th>co[nH]</th>\n",
       "      <th>c[nH]o</th>\n",
       "      <th>CS(=c)[O-]</th>\n",
       "      <th>CS(=c)O</th>\n",
       "      <th>[NH3+]CS</th>\n",
       "      <th>CC([n+])O</th>\n",
       "    </tr>\n",
       "  </thead>\n",
       "  <tbody>\n",
       "    <tr>\n",
       "      <th>C00001</th>\n",
       "      <td>1.0</td>\n",
       "      <td>0.0</td>\n",
       "      <td>0.0</td>\n",
       "      <td>0.0</td>\n",
       "      <td>0.0</td>\n",
       "      <td>0.0</td>\n",
       "      <td>0.0</td>\n",
       "      <td>0.0</td>\n",
       "      <td>0.0</td>\n",
       "      <td>0.0</td>\n",
       "      <td>...</td>\n",
       "      <td>0.0</td>\n",
       "      <td>0.0</td>\n",
       "      <td>0.0</td>\n",
       "      <td>0.0</td>\n",
       "      <td>0.0</td>\n",
       "      <td>0.0</td>\n",
       "      <td>0.0</td>\n",
       "      <td>0.0</td>\n",
       "      <td>0.0</td>\n",
       "      <td>0.0</td>\n",
       "    </tr>\n",
       "    <tr>\n",
       "      <th>C19586</th>\n",
       "      <td>0.0</td>\n",
       "      <td>0.0</td>\n",
       "      <td>0.0</td>\n",
       "      <td>0.0</td>\n",
       "      <td>0.0</td>\n",
       "      <td>0.0</td>\n",
       "      <td>0.0</td>\n",
       "      <td>0.0</td>\n",
       "      <td>2.0</td>\n",
       "      <td>0.0</td>\n",
       "      <td>...</td>\n",
       "      <td>0.0</td>\n",
       "      <td>0.0</td>\n",
       "      <td>0.0</td>\n",
       "      <td>0.0</td>\n",
       "      <td>0.0</td>\n",
       "      <td>0.0</td>\n",
       "      <td>0.0</td>\n",
       "      <td>0.0</td>\n",
       "      <td>0.0</td>\n",
       "      <td>0.0</td>\n",
       "    </tr>\n",
       "  </tbody>\n",
       "</table>\n",
       "<p>2 rows × 1439 columns</p>\n",
       "</div>"
      ],
      "text/plain": [
       "          O   cN  cc(n)N  cc(c)n  cnc  ncn  cn(c)C  C[C@H](n)O  COC  \\\n",
       "C00001  1.0  0.0     0.0     0.0  0.0  0.0     0.0         0.0  0.0   \n",
       "C19586  0.0  0.0     0.0     0.0  0.0  0.0     0.0         0.0  2.0   \n",
       "\n",
       "        C[C@H](C)O  ...  [NH]N  [N]=N[NH]  CC(=C)[N+]  C/C(=C)N  co[nH]  \\\n",
       "C00001         0.0  ...    0.0        0.0         0.0       0.0     0.0   \n",
       "C19586         0.0  ...    0.0        0.0         0.0       0.0     0.0   \n",
       "\n",
       "        c[nH]o  CS(=c)[O-]  CS(=c)O  [NH3+]CS  CC([n+])O  \n",
       "C00001     0.0         0.0      0.0       0.0        0.0  \n",
       "C19586     0.0         0.0      0.0       0.0        0.0  \n",
       "\n",
       "[2 rows x 1439 columns]"
      ]
     },
     "execution_count": 23,
     "metadata": {},
     "output_type": "execute_result"
    }
   ],
   "source": [
    "X_train_subs_molsig.head(2)"
   ]
  },
  {
   "cell_type": "code",
   "execution_count": 24,
   "id": "db571584",
   "metadata": {},
   "outputs": [],
   "source": [
    "# Training and Validation Concatenation of sequences and substrates\n",
    "\n",
    "X_tr = np.concatenate((X_enc_train.values, X_train_subs_molsig.values), axis=1)\n",
    "X_va = np.concatenate((X_enc_valid.values, X_valid_subs_molsig.values), axis=1)"
   ]
  },
  {
   "cell_type": "code",
   "execution_count": 25,
   "id": "a39b2e18",
   "metadata": {},
   "outputs": [
    {
     "data": {
      "text/plain": [
       "((51994, 1839), (17415, 1839))"
      ]
     },
     "execution_count": 25,
     "metadata": {},
     "output_type": "execute_result"
    }
   ],
   "source": [
    "X_tr.shape, X_va.shape"
   ]
  },
  {
   "cell_type": "code",
   "execution_count": 26,
   "id": "5cf72730",
   "metadata": {},
   "outputs": [],
   "source": [
    "# creating random enzymes with replacement of size twice that of validation\n",
    "\n",
    "X_valid_name_rand = np.random.choice(X_valid_name, size=2*len(X_valid_name))\n",
    "X_valid_subs_rand = np.random.choice(X_valid_subs, size=2*len(X_valid_subs))"
   ]
  },
  {
   "cell_type": "code",
   "execution_count": 27,
   "id": "4027d918",
   "metadata": {},
   "outputs": [
    {
     "name": "stdout",
     "output_type": "stream",
     "text": [
      "('micc:AUP74_02544_1.12.1.5', 'C00003')\n",
      "('azi:AzCIB_4622_1.3.7.8', 'C00001')\n",
      "('psk:U771_11545_1.1.3.47', 'C00001')\n",
      "('pps:100973371_2.7.11.25', 'C00002')\n",
      "('nle:100596642_2.4.1.17', 'C05302')\n",
      "('eba:ebA5287_1.3.7.8', 'C00002')\n",
      "('qsu:111995922_3.6.1.10', 'C00001')\n",
      "('pon:100171657_3.3.2.6', 'C00001')\n",
      "('nle:100596640_2.7.11.14', 'C00002')\n",
      "('pon:100441255_3.1.3.16', 'C00001')\n",
      "('ppr:PBPRB0650_1.7.7.2', 'C00001')\n",
      "('pon:100171524_2.6.1.44', 'C00026')\n",
      "('pon:100440274_3.5.2.17', 'C00001')\n",
      "('ptr:468438_1.14.11.68', 'C00007')\n",
      "('pps:100970340_3.4.17.23', 'C00001')\n",
      "('tbr:Tb927.8.2210_1.5.1.33', 'C00006')\n",
      "('dji:CH75_12785_3.1.2.29', 'C00001')\n",
      "('crb:17880559_2.7.1.71', 'C00002')\n",
      "('hsa:55031_3.4.19.12', 'C00001')\n",
      "('epa:110238942_1.5.3.14', 'C00001')\n",
      "('pam:PANA_3819_1.14.11.75', 'C00026')\n",
      "('mthi:C7M52_04028_1.21.4.4', 'C00001')\n",
      "('kpe:KPK_1712_1.18.6.1', 'C00002')\n",
      "('hsa:25862_3.4.19.12', 'C00001')\n",
      "('ptr:743223_6.3.4.5', 'C00002')\n",
      "('spu:584984_1.10.3.2', 'C00007')\n",
      "('aly:9314456_2.1.2.11', 'C00001')\n",
      "('hsa:5778_3.1.3.48', 'C00001')\n",
      "('ebw:BWG_1558_3.5.3.23', 'C00001')\n",
      "('ggo:101125565_2.5.1.6', 'C00002')\n",
      "('hsa:111_4.6.1.1', 'C00002')\n",
      "('ptr:467257_3.2.1.31', 'C00001')\n",
      "('ggo:101141374_2.4.1.17', 'C00001')\n",
      "('dfa:DFA_03467_3.5.4.28', 'C00001')\n",
      "('syc:syc0596_c_1.4.3.25', 'C00001')\n",
      "('hsa:6897_6.1.1.3', 'C00002')\n",
      "('alt:ambt_17890_1.14.12.12', 'C11348')\n",
      "('csat:104723216_6.6.1.1', 'C00002')\n",
      "('ptr:462033_1.2.1.3', 'C00001')\n",
      "('kpz:KPNIH27_24960_1.13.11.57', 'C00007')\n",
      "('kpu:KP1_0775_1.14.13.2', 'C00007')\n",
      "('mdh:AYM39_15930_1.14.99.44', 'C00007')\n",
      "('csat:104793558_3.2.1.2', 'C00001')\n",
      "('mfs:MFS40622_0425_2.8.4.1', 'C04628')\n",
      "('ptr:747683_2.7.1.78', 'C00002')\n",
      "('nle:100583350_3.1.3.48', 'C00001')\n",
      "('pon:100447519_2.4.1.17', 'C00001')\n",
      "('ggo:101138620_1.2.1.3', 'C00001')\n",
      "('pps:100969833_3.1.3.48', 'C00001')\n",
      "('nle:100595934_1.3.3.6', 'C01832')\n",
      "('pan:PODANSg3830_1.11.1.21', 'C00007')\n",
      "('dre:100002865_3.1.1.90', 'C00001')\n",
      "('reb:XU06_28640_3.5.2.1', 'C00001')\n",
      "('pon:100459133_2.7.11.24', 'C00002')\n",
      "('ptr:465251_3.1.3.48', 'C00001')\n",
      "('pon:100174528_1.8.4.12', 'C00001')\n",
      "('ggo:101145509_2.7.11.22', 'C00002')\n",
      "('sply:Q5A_021600_1.14.19.9', 'C00698')\n",
      "('ptr:452219_6.3.4.14', 'C00002')\n",
      "('pps:100980394_3.1.3.5', 'C01185')\n",
      "('ggo:115930140_1.1.1.1', 'C00006')\n",
      "('cps:CPS_4929_1.8.2.1', 'C00001')\n",
      "('aly:9320030_1.2.1.38', 'C00006')\n",
      "('ddr:Deide_08830_3.1.3.60', 'C00001')\n",
      "('ggo:101139341_6.4.1.4', 'C00002')\n",
      "('pon:100437501_1.5.1.3', 'C00006')\n",
      "('pps:100967261_3.6.5.5', 'C00001')\n",
      "('hsa:111_4.6.1.1', 'C00002')\n",
      "('vag:N646_3801_3.5.4.44', 'C00001')\n",
      "('pon:100433847_2.7.4.6', 'C00361')\n",
      "('crb:17881574_2.7.2.4', 'C00002')\n",
      "('pps:100994628_3.1.1.5', 'C00001')\n",
      "('sol:Ssol_0468_7.1.1.4', 'C00007')\n",
      "('mkm:Mkms_1687_1.2.1.78', 'C00003')\n",
      "('mcb:Mycch_5445_1.8.1.5', 'C00006')\n",
      "('kom:HR38_27865_3.5.3.3', 'C00001')\n",
      "('ptr:457097_3.1.3.16', 'C00001')\n",
      "('pps:100978487_2.7.11.13', 'C00002')\n",
      "('ggo:101127998_1.14.14.1', 'C14813')\n",
      "('cic:CICLE_v10014693mg_1.10.3.1', 'C00007')\n",
      "('brp:103830076_1.14.13.81', 'C00007')\n",
      "('csat:104785716_4.1.99.5', 'C00007')\n",
      "('eba:ebA748_1.3.7.8', 'C00001')\n",
      "('ece:Z5703_2.7.8.37', 'C00002')\n",
      "('nle:100597244_2.7.10.1', 'C00002')\n",
      "('ath:AT3G18680_2.7.4.22', 'C00002')\n",
      "('pon:100171600_4.1.2.50', 'C00001')\n",
      "('pon:100451109_2.5.1.18', 'C19586')\n",
      "('mfb:MFUL124B02_07575_2.7.2.17', 'C00002')\n",
      "('hsa:7367_2.4.1.17', 'C00001')\n",
      "('ptr:107976786_3.6.5.5', 'C00001')\n",
      "('hsa:5780_3.1.3.48', 'C00001')\n",
      "('ptr:100616514_1.14.14.1', 'C01598')\n",
      "('brp:103838464_1.14.11.12', 'C00007')\n",
      "('pps:100984166_2.4.1.17', 'C00001')\n",
      "('ptr:457746_6.1.1.17', 'C00002')\n",
      "('ath:AT3G27820_1.6.5.4', 'C00072')\n",
      "('eus:EUTSA_v10024845mg_2.7.6.3', 'C00002')\n",
      "('eus:EUTSA_v10012582mg_2.7.1.46', 'C00002')\n",
      "('pps:100992034_2.5.1.18', 'C14840')\n",
      "('csat:104750505_4.1.1.39', 'C00001')\n",
      "('hsa:8836_3.4.19.9', 'C00001')\n",
      "('pman:OU5_0887_1.3.99.8', 'C00001')\n",
      "('nhl:Nhal_1612_1.17.4.2', 'C00131')\n",
      "('rop:ROP_27570_1.5.99.4', 'C00001')\n",
      "('ptr:466626_2.7.1.28', 'C00002')\n",
      "('csat:104720179_1.14.18.10', 'C00007')\n",
      "('ptr:453993_2.7.11.13', 'C00002')\n",
      "('hsa:728400_3.4.19.12', 'C00001')\n",
      "('ptr:455026_1.14.13.39', 'C00007')\n",
      "('nmel:110402651_4.6.1.13', 'C00001')\n",
      "('ggo:101131865_3.1.3.48', 'C00001')\n",
      "('pap:PSPA7_3191_1.13.12.2', 'C00007')\n",
      "('adf:107334112_2.7.1.50', 'C00002')\n",
      "('pon:100431690_3.4.19.12', 'C00001')\n",
      "('ptr:451042_1.14.14.24', 'C00001')\n",
      "('pon:100432978_6.5.1.6', 'C00002')\n",
      "('pps:100982928_2.7.11.22', 'C00002')\n",
      "('ecj:JW2956_6.3.1.8', 'C00002')\n",
      "('pon:100458998_1.4.1.21', 'C00001')\n",
      "('nle:105740088_3.4.19.14', 'C00001')\n",
      "('pon:100461334_2.4.1.17', 'C00486')\n",
      "('ptr:457477_2.5.1.18', 'C14859')\n",
      "('pps:100986136_1.5.8.3', 'C00001')\n",
      "('hsa:22921_1.8.4.12', 'C00001')\n",
      "('mthd:A3224_01560_6.2.1.25', 'C00002')\n",
      "('ecok:ECMDS42_0723_1.2.5.1', 'C00001')\n",
      "('ggo:101141476_1.8.1.9', 'C00001')\n",
      "('ggo:101146100_2.7.8.1', 'C00055')\n",
      "('ecd:ECDH10B_0555_3.3.2.1', 'C00001')\n",
      "('brp:103828653_3.2.1.2', 'C00001')\n",
      "('aae:aq_1520_6.4.1.7', 'C00002')\n",
      "('pon:100447840_1.14.14.1', 'C01598')\n",
      "('ptr:462033_1.2.1.3', 'C00001')\n",
      "('crb:17874733_6.3.2.1', 'C00002')\n",
      "('aly:9303300_1.13.11.70', 'C00007')\n",
      "('ptr:746336_3.1.3.16', 'C00001')\n",
      "('ecle:ECNIH2_19645_1.2.1.46', 'C00001')\n",
      "('eus:EUTSA_v10005707mg_1.14.14.48', 'C00007')\n",
      "('ggo:101140594_3.1.3.16', 'C00001')\n",
      "('aly:110225136_1.3.1.42', 'C04780')\n",
      "('hsa:57834_1.14.14.1', 'C01598')\n",
      "('pps:100970620_2.7.11.2', 'C00002')\n",
      "('ggo:101132085_1.14.11.66', 'C00007')\n",
      "('mii:BTJ40_01805_6.2.1.27', 'C00010')\n",
      "('kpu:KP1_2743_3.1.1.15', 'C00001')\n",
      "('ggo:101149577_1.5.1.3', 'C00006')\n",
      "('llx:NCDO2118_1274_1.1.3.21', 'C00007')\n",
      "('nle:100604049_3.4.19.12', 'C00001')\n",
      "('hsu:HLASF_0242_1.8.1.13', 'C00006')\n",
      "('aly:9327015_3.5.4.19', 'C00001')\n",
      "('hmg:100199130_3.5.3.8', 'C00001')\n",
      "('nle:100581492_6.1.1.4', 'C00002')\n",
      "('plu:plu0145_1.3.1.32', 'C00006')\n",
      "('hsa:8836_3.4.19.9', 'C00001')\n",
      "('pps:100967261_3.6.5.5', 'C00001')\n",
      "('pps:100991597_3.2.1.49', 'C00001')\n",
      "('aplc:110990939_1.5.3.14', 'C00001')\n",
      "('ggo:115935849_2.7.11.22', 'C00002')\n",
      "('ggo:109026149_3.6.1.62', 'C00001')\n",
      "('mmt:Metme_3773_1.2.99.10', 'C00001')\n",
      "('ptr:464979_2.7.10.2', 'C00002')\n",
      "('pps:100970385_3.1.2.12', 'C00001')\n",
      "('pon:100456639_3.1.3.16', 'C00001')\n",
      "('pon:100174294_6.1.1.4', 'C00002')\n",
      "('ptr:452195_1.5.1.6', 'C00001')\n",
      "('pps:100974387_2.4.1.17', 'C00001')\n",
      "('mfe:Mefer_1336_6.3.4.22', 'C00001')\n",
      "('ggo:101135980_2.4.1.17', 'C00001')\n",
      "('ggo:101143146_6.3.2.17', 'C00002')\n",
      "('ecd:ECDH10B_2024_3.1.1.61', 'C00001')\n",
      "('pps:100990675_3.4.19.12', 'C00001')\n",
      "('csat:104785229_1.5.99.12', 'C00001')\n",
      "('nle:100587725_1.4.1.3', 'C00003')\n",
      "('ptr:466462_3.1.3.48', 'C00001')\n",
      "('hsa:29785_1.14.14.1', 'C00535')\n",
      "('mja:MJ_0837_3.1.4.56', 'C00001')\n",
      "('ggo:101145236_3.2.1.45', 'C00001')\n",
      "('aly:9321041_1.14.11.61', 'C00007')\n",
      "('crb:17879840_3.2.2.16', 'C00001')\n",
      "('ptr:741095_1.8.4.12', 'C00001')\n",
      "('ece:Z1068_3.6.1.27', 'C00001')\n",
      "('cama:F384_17445_3.1.1.57', 'C00001')\n",
      "('stt:t0840_6.3.5.9', 'C00001')\n",
      "('brp:103833135_1.14.11.12', 'C06095')\n",
      "('bcl:ABC1389_1.11.1.1', 'C00004')\n",
      "('rbd:ALSL_1087_1.14.12.25', 'C00007')\n",
      "('rca:Rcas_2929_1.2.1.75', 'C00006')\n",
      "('ggo:101128011_2.7.1.30', 'C00002')\n",
      "('aly:9319644_1.14.14.59', 'C00007')\n",
      "('hsa:79799_2.4.1.17', 'C00535')\n",
      "('pon:103889977_3.1.3.74', 'C00001')\n",
      "('pon:100173339_1.14.14.18', 'C00007')\n",
      "('sej:STMUK_4416_3.7.1.22', 'C00001')\n",
      "('hsa:9563_1.1.1.47', 'C00003')\n",
      "('pon:100456044_3.6.1.1', 'C00001')\n",
      "('bfo:118425701_1.1.3.10', 'C00007')\n",
      "('lagg:B0E33_17115_1.2.3.3', 'C00009')\n",
      "('hsa:5780_3.1.3.48', 'C00001')\n",
      "('dds:Ddes_0118_1.21.4.4', 'C00001')\n",
      "('csat:104720927_2.5.1.54', 'C00001')\n",
      "('hsa:11072_3.1.3.16', 'C00001')\n",
      "('ath:AT1G07890_1.11.1.11', 'C00072')\n",
      "('pon:100174528_1.8.4.12', 'C00001')\n",
      "('pps:100992747_1.5.3.1', 'C00007')\n",
      "('pps:100979842_2.7.6.1', 'C00002')\n",
      "('pon:100173734_3.6.1.9', 'C00003')\n",
      "('ggo:101152175_2.3.2.2', 'C00001')\n",
      "('sra:SerAS13_4158_3.1.3.85', 'C00001')\n",
      "('epr:EPYR_03198_3.1.3.92', 'C00001')\n",
      "('bmy:Bm1_10645_2.7.1.95', 'C00002')\n",
      "('nle:100597430_6.3.2.17', 'C00025')\n",
      "('ptr:743177_3.1.3.5', 'C00365')\n",
      "('pps:100988980_2.7.11.24', 'C00002')\n",
      "('csat:104740946_2.5.1.54', 'C00001')\n",
      "('vpd:VAPA_2c11770_3.11.1.3', 'C00001')\n",
      "('csat:104793342_1.17.1.8', 'C00003')\n",
      "('ptr:104003820_2.7.11.24', 'C00002')\n",
      "('qsu:112000604_1.13.11.59', 'C00007')\n",
      "('kph:KPNIH24_13365_3.5.4.32', 'C00001')\n",
      "('eus:EUTSA_v10006894mg_6.6.1.1', 'C00001')\n",
      "('rsn:RSPO_m01407_6.3.2.54', 'C00002')\n",
      "('pps:100993449_3.1.3.1', 'C00001')\n",
      "('mfe:Mefer_0471_6.3.2.36', 'C00002')\n",
      "('ggo:101154602_2.3.1.48', 'C00024')\n",
      "('pon:100450021_4.3.1.17', 'C00001')\n",
      "('pon:100436584_1.14.13.39', 'C00007')\n",
      "('slo:Shew_0076_1.14.99.57', 'C00032')\n",
      "('nau:109214804_4.2.3.61', 'C00448')\n",
      "('apro:CP73_p070_1.3.7.7', 'C00009')\n",
      "('ptr:740124_1.14.11.7', 'C00007')\n",
      "('bna:106437444_4.2.3.27', 'C00235')\n",
      "('kpu:KP1_2559_3.1.1.24', 'C00001')\n",
      "('pps:100993597_2.7.3.2', 'C00002')\n",
      "('ppr:PBPRB0650_1.7.7.2', 'C00001')\n",
      "('pps:100988699_3.1.3.48', 'C00001')\n",
      "('gga:101751271_4.6.1.13', 'C00001')\n",
      "('hmg:100199130_3.5.3.8', 'C00001')\n",
      "('aly:9303608_4.3.2.10', 'C00001')\n",
      "('ecd:ECDH10B_0555_3.3.2.1', 'C00001')\n",
      "('hmi:soil367_16665_3.5.2.15', 'C00001')\n",
      "('pmum:103341413_3.6.1.68', 'C00001')\n",
      "('ggo:115930140_1.1.1.1', 'C00006')\n",
      "('azi:AzCIB_4492_1.3.7.8', 'C00014')\n",
      "('ptr:461951_6.1.1.3', 'C00002')\n",
      "('mtm:MYCTH_2094824_1.13.11.62', 'C00007')\n",
      "('pps:100984736_3.1.1.5', 'C00001')\n",
      "('pps:100980786_3.4.19.12', 'C00001')\n",
      "('ptr:450629_1.2.1.41', 'C00006')\n",
      "('pps:100970731_1.2.1.8', 'C00006')\n",
      "('ggo:101137792_3.1.3.48', 'C00001')\n",
      "('pps:100994569_3.1.3.16', 'C00001')\n",
      "('ath:AT4G00570_1.1.1.39', 'C00003')\n",
      "('hsa:4597_4.1.1.33', 'C00002')\n",
      "('crb:17881420_1.14.19.11', 'C00007')\n",
      "('nle:100582016_3.4.19.12', 'C00001')\n",
      "('pps:100989422_2.7.11.24', 'C00002')\n",
      "('ecj:JW5282_1.2.1.71', 'C00003')\n",
      "('ggo:101129249_2.7.7.84', 'C00002')\n",
      "('ath:AT3G55800_3.1.3.37', 'C00001')\n",
      "('pon:100174528_1.8.4.12', 'C00001')\n",
      "('ppx:T1E_4266_1.14.12.11', 'C00001')\n",
      "('pps:100981745_3.1.3.16', 'C00001')\n",
      "('ptr:468069_4.1.1.33', 'C00002')\n",
      "('nle:100599443_2.4.2.30', 'C00003')\n",
      "('hsa:1160_2.7.3.2', 'C00002')\n",
      "('pps:100981372_2.4.2.30', 'C00003')\n",
      "('pps:100992171_3.4.19.12', 'C00001')\n",
      "('pon:100453198_1.14.14.1', 'C16756')\n",
      "('ggo:101142144_3.6.1.55', 'C00001')\n",
      "('syu:M744_11970_1.4.3.25', 'C00001')\n",
      "('ptr:460265_3.1.3.16', 'C00001')\n",
      "('eco:b1815_3.1.4.52', 'C00001')\n",
      "('vra:106774503_3.7.1.27', 'C00001')\n",
      "('shd:SUTH_01645_1.3.7.8', 'C00001')\n",
      "('alv:Alvin_1252_1.8.99.5', 'C00001')\n",
      "('ggo:101140059_3.1.3.48', 'C00001')\n",
      "('pon:100449346_3.1.4.44', 'C00001')\n",
      "('pon:100434572_1.14.11.67', 'C00007')\n",
      "('hsa:6609_3.1.4.12', 'C00001')\n",
      "('nle:100597701_2.3.1.85', 'C00001')\n",
      "('ptr:464074_3.1.3.76', 'C00001')\n",
      "('pps:100983951_3.1.3.48', 'C00001')\n",
      "('ecv:APECO1_O1R35_6.6.1.2', 'C00002')\n",
      "('nle:100582385_2.7.7.6', 'C00002')\n",
      "('nle:100599562_3.1.1.84', 'C00001')\n",
      "('pps:100970184_1.14.14.1', 'C00280')\n",
      "('mop:Mesop_5739_6.3.4.12', 'C00002')\n",
      "('pps:100969607_3.1.3.48', 'C00001')\n",
      "('ccx:COCOR_07379_4.2.3.22', 'C00001')\n",
      "('acan:ACA1_112610_3.5.4.28', 'C00001')\n",
      "('ggo:101131418_3.1.3.74', 'C00001')\n",
      "('hsa:79799_2.4.1.17', 'C00001')\n",
      "('smp:SMAC_09034_1.11.1.21', 'C00007')\n",
      "('ror:RORB6_24330_3.5.3.17', 'C00001')\n",
      "('pman:OU5_0888_1.3.99.8', 'C00001')\n",
      "('stek:AXG53_13620_3.4.15.6', 'C00001')\n",
      "('ggo:101133194_1.14.11.65', 'C00007')\n",
      "('bsr:I33_1596_2.3.1.89', 'C00001')\n",
      "('aak:AA2016_6032_1.14.14.10', 'C00007')\n",
      "('ggo:101150370_2.7.1.68', 'C00002')\n",
      "('pps:100984930_2.7.11.25', 'C00002')\n",
      "('nle:115834336_3.1.3.16', 'C00001')\n",
      "('ptr:459885_2.7.11.30', 'C00002')\n",
      "('nle:100596311_2.4.1.17', 'C05141')\n",
      "('nle:100598804_2.4.1.17', 'C00001')\n",
      "('axe:P40_10395_4.1.2.44', 'C00001')\n",
      "('pcb:PCHAS_112620_4.1.2.60', 'C04895')\n",
      "('nle:100588910_1.14.14.1', 'C16756')\n",
      "('spoi:IMCC21906_02698_1.3.7.8', 'C00002')\n",
      "('aaf:AURANDRAFT_25066_4.2.1.84', 'C02693')\n",
      "('def:CNY67_08750_1.3.1.86', 'C00006')\n",
      "('ptr:461515_3.4.19.12', 'C00001')\n",
      "('hsa:1159_2.7.3.2', 'C00002')\n",
      "('ptr:458016_3.1.3.48', 'C00001')\n",
      "('rgl:CS053_01730_1.14.15.30', 'C00007')\n",
      "('csat:104783162_3.2.1.2', 'C00001')\n",
      "('ptr:745779_1.5.1.34', 'C00005')\n",
      "('ptr:471633_3.1.3.16', 'C00001')\n",
      "('pps:100989185_3.4.19.12', 'C00001')\n",
      "('ggo:101148044_2.7.11.25', 'C00002')\n",
      "('hsa:5141_3.1.4.53', 'C00001')\n",
      "('eclz:LI64_18130_1.2.1.46', 'C00001')\n",
      "('eco:b1740_6.3.1.5', 'C00002')\n",
      "('ggo:101128576_2.4.1.41', 'C00203')\n",
      "('pon:100459417_3.6.1.43', 'C00001')\n",
      "('nle:100597714_2.7.7.6', 'C00002')\n",
      "('nle:100590102_2.7.10.1', 'C00002')\n",
      "('ggo:101128719_6.1.1.19', 'C00002')\n",
      "('ggo:101132889_3.2.1.21', 'C00001')\n",
      "('ggo:115936314_1.14.11.66', 'C00007')\n",
      "('crb:17883727_1.16.1.7', 'C14818')\n",
      "('hsa:79799_2.4.1.17', 'C00001')\n",
      "('paq:PAGR_g0215_1.14.11.74', 'C00007')\n",
      "('nle:100582638_3.1.3.74', 'C00001')\n",
      "('ath:AT1G44090_1.14.11.12', 'C06094')\n",
      "('ecj:JW1579_1.97.1.9', 'C00001')\n",
      "('ehi:EHI_140240_3.5.4.13', 'C00063')\n",
      "('lak:106154406_1.5.1.23', 'C00001')\n",
      "('pps:100972071_3.1.1.5', 'C00001')\n",
      "('pps:100974820_6.3.1.17', 'C00002')\n",
      "('nle:100604778_6.1.1.19', 'C00002')\n",
      "('bsan:CHH28_03570_3.1.2.29', 'C00001')\n",
      "('ggo:101153919_6.3.1.14', 'C00002')\n",
      "('csat:104769886_1.14.19.26', 'C00007')\n",
      "('ggo:101133141_2.7.11.24', 'C00002')\n",
      "('ncr:NCU05770_1.11.1.21', 'C00007')\n",
      "('kph:KPNIH24_13365_3.5.4.32', 'C00001')\n",
      "('ath:AT1G77760_1.7.1.1', 'C00001')\n",
      "('pon:100453309_2.7.11.25', 'C00002')\n",
      "('dpte:113791671_2.7.7.48', 'C00002')\n",
      "('mun:110550800_3.2.2.5', 'C00001')\n",
      "('nle:100599005_3.1.1.1', 'C16561')\n",
      "('crb:17880263_1.13.11.70', 'C00007')\n",
      "('ptr:466787_3.4.19.12', 'C00001')\n",
      "('psj:PSJM300_07535_3.1.2.29', 'C00001')\n",
      "('spoi:IMCC21906_00682_1.3.7.8', 'C00001')\n",
      "('brp:103843406_4.2.1.51', 'C00826')\n",
      "('nle:105740088_3.4.19.14', 'C00001')\n",
      "('eba:ebA5282_1.3.7.8', 'C00001')\n",
      "('bfo:118420943_2.7.7.48', 'C00075')\n",
      "('eus:EUTSA_v10023837mg_1.14.11.12', 'C11857')\n",
      "('spoi:IMCC21906_02701_1.3.7.8', 'C00001')\n",
      "('hsa:223_1.2.1.47', 'C00001')\n",
      "('pps:100991340_3.1.3.48', 'C00001')\n",
      "('eco:b3441_2.3.1.53', 'C00024')\n",
      "('ecoo:ECRM13514_5374_3.7.1.20', 'C00001')\n",
      "('ece:Z4561_3.1.3.45', 'C00001')\n",
      "('pgb:H744_1c1276_1.21.4.3', 'C00001')\n",
      "('csat:104781590_1.14.13.81', 'C00007')\n",
      "('ggo:101132889_3.2.1.21', 'C00001')\n",
      "('ptr:456859_2.7.7.52', 'C00075')\n",
      "('sgu:SGLAU_01170_3.1.3.39', 'C00001')\n",
      "('ece:Z3512_2.4.2.53', 'C17556')\n",
      "('dpp:DICPUDRAFT_57796_3.5.4.28', 'C00001')\n",
      "('stm:STM2035_6.3.5.9', 'C00002')\n",
      "('pps:100975837_1.14.14.1', 'C01598')\n",
      "('csat:104701308_4.1.1.39', 'C00007')\n",
      "('csat:104723224_3.1.2.28', 'C00001')\n",
      "('pon:100453694_3.6.1.56', 'C00001')\n",
      "('qsu:111990066_3.1.1.65', 'C00001')\n",
      "('ptr:745723_2.5.1.18', 'C07645')\n",
      "('ggo:101151419_2.6.1.7', 'C00001')\n",
      "('ptr:453968_3.1.4.44', 'C00001')\n",
      "('cic:CICLE_v10014693mg_1.10.3.1', 'C00355')\n",
      "('aly:9314456_2.1.2.11', 'C00001')\n",
      "('mjh:JH146_1173_1.5.3.22', 'C00007')\n",
      "('csat:104766577_1.3.1.42', 'C00006')\n",
      "('hsa:8836_3.4.19.9', 'C00001')\n",
      "('pon:112130665_2.3.2.2', 'C00001')\n",
      "('smal:SMALA_8314_3.3.2.13', 'C00001')\n",
      "('kom:HR38_11985_3.2.1.82', 'C00001')\n",
      "('pps:100975751_2.4.1.17', 'C00001')\n",
      "('aly:9325021_4.3.3.2', 'C00001')\n",
      "('pon:100445423_2.4.1.17', 'C04373')\n",
      "('tvo:TVG1076124_1.2.1.89', 'C00001')\n",
      "('pps:100970662_3.5.3.18', 'C00001')\n",
      "('hsa:54576_2.4.1.17', 'C00001')\n",
      "('pps:100989185_3.4.19.12', 'C00001')\n",
      "('nle:100597701_2.3.1.85', 'C00001')\n",
      "('crb:17893265_1.3.1.42', 'C00006')\n",
      "('pps:100978184_2.7.1.23', 'C00002')\n",
      "('ggo:101139180_2.7.9.3', 'C00002')\n",
      "('syu:M744_11970_1.4.3.25', 'C00001')\n",
      "('nle:100583420_2.5.1.18', 'C14851')\n",
      "('bfo:118420943_2.7.7.48', 'C00002')\n",
      "('csat:104729039_1.14.11.12', 'C00007')\n",
      "('crb:17886246_3.1.3.37', 'C00001')\n",
      "('hsa:1573_1.14.14.1', 'C16546')\n",
      "('hsa:8824_3.1.1.84', 'C00001')\n",
      "('pon:100458998_1.4.1.21', 'C00001')\n",
      "('nle:100603928_3.6.1.9', 'C00003')\n",
      "('csat:104767516_4.1.1.31', 'C00036')\n",
      "('csat:104757423_6.2.1.26', 'C00002')\n",
      "('pon:100438346_3.1.1.5', 'C00001')\n",
      "('csat:104729987_1.13.11.69', 'C00007')\n",
      "('pon:100452401_6.2.1.3', 'C00249')\n",
      "('hsa:51_1.3.3.6', 'C02593')\n",
      "('pps:100977237_1.8.1.9', 'C00001')\n",
      "('hsa:219333_3.4.19.12', 'C00001')\n",
      "('ebf:D782_1283_1.13.11.2', 'C00001')\n",
      "('dsr:110182778_1.14.99.22', 'C00007')\n",
      "('pon:100434182_3.1.3.48', 'C00001')\n",
      "('nle:100590020_4.2.3.2', 'C00001')\n",
      "('ptr:469457_2.7.11.22', 'C00002')\n",
      "('hsa:8975_3.4.19.12', 'C00001')\n",
      "('ggo:101134159_3.5.3.15', 'C00001')\n",
      "('brp:103873062_1.14.15.17', 'C00001')\n",
      "('pps:100984148_1.14.14.1', 'C07108')\n",
      "('hsa:160428_1.5.1.6', 'C00001')\n",
      "('vfu:vfu_A02015_1.4.9.1', 'C00001')\n",
      "('ptr:464979_2.7.10.2', 'C00002')\n",
      "('hsa:8564_1.14.13.9', 'C00007')\n",
      "('nle:100589304_4.6.1.1', 'C00002')\n",
      "('nle:100583682_2.7.11.30', 'C00002')\n",
      "('pre:PCA10_13380_1.13.11.25', 'C00007')\n",
      "('nle:100590810_6.1.1.18', 'C00002')\n",
      "('ehi:EHI_140240_3.5.4.13', 'C00063')\n",
      "('pps:100989541_3.2.1.21', 'C00001')\n",
      "('hsa:9563_1.1.1.47', 'C00003')\n",
      "('ecs:ECs2593_3.1.1.61', 'C00001')\n",
      "('nle:100587129_6.3.5.7', 'C00025')\n",
      "('nle:100587670_1.5.1.6', 'C00001')\n",
      "('bfo:118415418_1.5.3.14', 'C00001')\n",
      "('pps:807881_7.1.1.2', 'C00004')\n",
      "('ptr:473278_4.6.1.1', 'C00002')\n",
      "('ggo:101135156_2.4.1.17', 'C00001')\n",
      "('kmx:KLMA_80299_1.2.1.95', 'C00005')\n",
      "('ecd:ECDH10B_0555_3.3.2.1', 'C00001')\n",
      "('pps:100979081_3.4.19.12', 'C00001')\n",
      "('brp:103860785_2.7.9.1', 'C00022')\n",
      "('ptr:454003_1.14.11.73', 'C00007')\n",
      "('ptr:107973969_2.4.1.17', 'C00001')\n",
      "('psco:LY89DRAFT_94304_4.3.1.15', 'C00001')\n",
      "('ptr:457485_3.1.3.48', 'C00001')\n",
      "('hsa:9150_3.1.3.16', 'C00001')\n",
      "('pps:100972306_2.7.11.26', 'C00002')\n",
      "('ath:AT5G23980_1.16.1.7', 'C00003')\n",
      "('azi:AzCIB_1604_1.3.7.8', 'C00009')\n",
      "('csat:104723224_3.1.2.28', 'C00001')\n",
      "('hsa:5430_2.7.7.6', 'C00044')\n",
      "('brp:103846459_1.4.3.16', 'C00001')\n",
      "('ggo:101141727_2.4.1.17', 'C00001')\n",
      "('csat:104764488_4.2.1.51', 'C00254')\n",
      "('dsu:Dsui_0145_1.13.11.49', 'C00007')\n",
      "('mgr:MGG_10500_4.3.1.15', 'C00001')\n",
      "('ggo:101134717_3.1.6.2', 'C00001')\n",
      "('qsu:112003226_1.2.1.20', 'C00001')\n",
      "('pps:100986136_1.5.8.3', 'C00001')\n",
      "('pon:100438589_2.7.11.12', 'C00002')\n",
      "('pps:100970340_3.4.17.23', 'C00001')\n",
      "('pon:100174202_2.4.1.17', 'C00001')\n",
      "('ggo:101147693_1.18.1.6', 'C00006')\n",
      "('ecok:ECMDS42_3224_5.1.3.14', 'C00001')\n",
      "('brp:103830076_1.14.13.81', 'C00007')\n",
      "('csat:104712356_1.14.13.81', 'C00007')\n",
      "('ggo:101135980_2.4.1.17', 'C00001')\n",
      "('pps:100968738_2.7.7.6', 'C00002')\n",
      "('pmot:X970_19620_1.2.1.83', 'C00001')\n",
      "('ptr:461974_1.14.17.3', 'C00007')\n",
      "('ptr:464827_1.14.17.1', 'C00007')\n",
      "('crb:17877088_1.14.11.12', 'C00007')\n",
      "('pps:100996034_1.14.14.53', 'C00007')\n",
      "('csat:104750724_3.5.4.33', 'C00001')\n",
      "('rop:ROP_27570_1.5.99.4', 'C00001')\n",
      "('eus:EUTSA_v10000878mg_6.6.1.1', 'C00001')\n",
      "('adf:107352195_1.5.3.14', 'C00007')\n",
      "('ecd:ECDH10B_0555_3.3.2.1', 'C00001')\n",
      "('hsa:79814_3.5.3.11', 'C00001')\n",
      "('ecok:ECMDS42_0419_3.6.1.54', 'C00001')\n",
      "('cama:F384_17445_3.1.1.57', 'C00001')\n",
      "('pon:100450908_2.7.9.3', 'C00002')\n",
      "('ptr:459259_2.7.7.19', 'C00002')\n",
      "('ptr:112204126_2.7.11.11', 'C00002')\n",
      "('hsa:54577_2.4.1.17', 'C00001')\n",
      "('qsu:112018202_1.2.1.95', 'C00013')\n",
      "('pps:100978561_1.14.14.1', 'C00535')\n",
      "('pon:100442886_2.5.1.18', 'C11088')\n",
      "('pge:LG71_02985_3.7.1.26', 'C00001')\n",
      "('ggo:101139967_1.3.8.7', 'C00154')\n",
      "('hsa:23399_3.1.3.16', 'C00001')\n",
      "('ecok:ECMDS42_2858_3.1.1.85', 'C00001')\n",
      "('ece:Z4561_3.1.3.45', 'C00001')\n",
      "('nle:100598804_2.4.1.17', 'C00001')\n",
      "('pao:Pat9b_5317_6.3.3.6', 'C00002')\n",
      "('aly:9303608_4.3.2.10', 'C00001')\n",
      "('hsa:31_6.3.4.14', 'C00002')\n",
      "('amg:AMEC673_04890_2.5.1.97', 'C00001')\n",
      "('sma:SAVERM_2995_1.14.11.36', 'C00007')\n",
      "('ggo:115931924_3.1.3.74', 'C00001')\n",
      "('buf:D8682_02815_3.5.2.14', 'C00002')\n",
      "('psk:U771_11545_1.1.3.47', 'C00001')\n",
      "('hsa:25796_3.1.1.31', 'C00001')\n",
      "('cit:102625572_1.10.3.1', 'C00007')\n",
      "('mci:Mesci_2030_3.1.1.27', 'C00001')\n",
      "('pps:100989128_1.14.18.1', 'C00090')\n",
      "('aly:32283168_1.10.3.9', 'C00001')\n",
      "('sfa:Sfla_0557_3.5.3.22', 'C00001')\n",
      "('pon:100431942_3.6.5.5', 'C00001')\n",
      "('eus:EUTSA_v10013824mg_1.14.11.12', 'C00026')\n",
      "('pps:100977227_2.7.10.1', 'C00002')\n",
      "('ptr:748442_1.14.14.1', 'C19490')\n",
      "('ggo:101135855_1.17.99.3', 'C00001')\n",
      "('eus:EUTSA_v10013978mg_2.4.2.60', 'C00003')\n",
      "('pps:100995228_2.7.11.10', 'C00002')\n",
      "('ptr:455026_1.14.13.39', 'C00007')\n",
      "('pon:100434256_3.1.3.48', 'C00001')\n",
      "('kla:KLLA0_A05071g_1.3.1.71', 'C00006')\n",
      "('ptr:453090_3.1.3.48', 'C00001')\n",
      "('brp:41704095_1.10.3.9', 'C00001')\n",
      "('hsa:54498_1.5.3.16', 'C00001')\n",
      "('amil:114947925_2.7.1.50', 'C00002')\n",
      "('ggo:101127083_3.5.2.7', 'C00001')\n",
      "('pon:100438722_3.1.3.96', 'C00001')\n",
      "('pmot:X970_10590_1.14.12.3', 'C00007')\n",
      "('ggo:101131418_3.1.3.74', 'C00001')\n",
      "('hsa:3055_2.7.10.2', 'C00002')\n",
      "('csat:104741179_1.14.14.48', 'C00007')\n",
      "('nle:100605147_3.1.3.48', 'C00001')\n",
      "('mjh:JH146_0545_6.3.3.7', 'C00001')\n",
      "('kpu:KP1_2559_3.1.1.24', 'C00001')\n",
      "('cpap:110817816_1.10.3.1', 'C00007')\n",
      "('ptr:452025_2.7.11.22', 'C00002')\n",
      "('nle:100591888_3.1.3.16', 'C00001')\n",
      "('plu:plu0145_1.3.1.32', 'C00006')\n",
      "('ptr:744567_3.1.1.64', 'C00001')\n",
      "('xhy:FZ025_04800_1.17.9.2', 'C00001')\n",
      "('nle:100593753_3.1.4.12', 'C00001')\n",
      "('ddr:Deide_08830_3.1.3.60', 'C00001')\n",
      "('csat:104757423_6.2.1.26', 'C00002')\n",
      "('pps:100991484_4.2.1.17', 'C16329')\n",
      "('ggo:101126541_1.14.11.51', 'C00007')\n",
      "('nve:5513911_1.5.3.14', 'C00007')\n",
      "('nle:100607400_2.7.7.6', 'C00044')\n",
      "('hsa:51_1.3.3.6', 'C00154')\n",
      "('pon:100171657_3.3.2.6', 'C00001')\n",
      "('pap:PSPA7_4398_3.1.2.32', 'C00001')\n",
      "('ptr:737374_1.14.14.1', 'C16546')\n",
      "('pps:100989541_3.2.1.21', 'C00001')\n",
      "('xsa:SB85_14035_6.2.1.34', 'C00002')\n",
      "('sly:101250025_1.14.14.64', 'C00007')\n",
      "('dji:CH75_03055_1.16.3.3', 'C00001')\n",
      "('ptr:450543_2.7.7.6', 'C00002')\n",
      "('pps:100975656_2.5.1.18', 'C14851')\n",
      "('dja:HY57_09055_1.16.3.3', 'C00001')\n",
      "('nle:100584430_6.3.5.3', 'C00001')\n",
      "('ptr:107966459_2.3.2.2', 'C00001')\n",
      "('btab:109043609_1.1.3.9', 'C00001')\n",
      "('eco:b0444_6.3.4.20', 'C00002')\n",
      "('brp:103859361_3.2.1.55', 'C00001')\n",
      "('ggo:101128782_6.2.1.5', 'C00042')\n",
      "('cpap:110822377_1.14.14.89', 'C00007')\n",
      "('eus:EUTSA_v10015332mg_2.5.1.48', 'C00001')\n",
      "('hsa:284541_1.14.14.1', 'C16756')\n",
      "('aly:9328557_2.5.1.43', 'C00019')\n",
      "('ggo:101141727_2.4.1.17', 'C00001')\n",
      "('pon:100172878_1.17.4.1', 'C00206')\n",
      "('brp:103851645_1.1.1.82', 'C00006')\n",
      "('pmum:103341413_3.6.1.68', 'C00001')\n",
      "('pps:100984216_4.6.1.17', 'C00001')\n",
      "('hsa:22921_1.8.4.12', 'C00001')\n",
      "('ptm:GSPATT00012595001_3.5.3.8', 'C00001')\n",
      "('hja:BST95_13295_6.2.1.42', 'C00002')\n",
      "('mop:Mesop_0095_3.5.2.20', 'C00001')\n",
      "('rer:RER_58820_3.5.2.1', 'C00001')\n",
      "('csat:104766577_1.3.1.42', 'C00006')\n",
      "('hro:HELRODRAFT_192312_3.1.4.46', 'C01233')\n",
      "('ggo:101153328_1.5.1.34', 'C00003')\n",
      "('eus:EUTSA_v10011285mg_2.7.6.5', 'C00002')\n",
      "('pps:100990426_2.7.11.25', 'C00002')\n",
      "('eus:EUTSA_v10002460mg_3.2.1.2', 'C00001')\n",
      "('bxb:DR64_5992_3.5.2.18', 'C00001')\n",
      "('eus:EUTSA_v10004349mg_1.2.1.13', 'C00006')\n",
      "('ecj:JW5376_3.1.3.22', 'C00001')\n",
      "('csat:104772032_3.5.1.10', 'C00001')\n",
      "('csat:104738981_1.2.3.7', 'C00001')\n",
      "('hsa:79799_2.4.1.17', 'C00001')\n",
      "('pps:100988847_1.14.11.7', 'C00007')\n",
      "('csat:104706986_4.4.1.28', 'C00097')\n",
      "('rao:DSD31_13200_1.13.11.2', 'C00001')\n",
      "('pon:100437483_6.4.1.4', 'C00002')\n",
      "('ece:Z1068_3.6.1.27', 'C00001')\n",
      "('mca:MCA1740_6.2.1.9', 'C00002')\n",
      "('hsa:54576_2.4.1.17', 'C00001')\n",
      "('ptr:450572_2.7.11.30', 'C00002')\n",
      "('nle:100589502_2.7.1.82', 'C00002')\n",
      "('aec:105150353_1.10.3.2', 'C00007')\n",
      "('aza:AZKH_2138_1.3.7.8', 'C00001')\n",
      "('gho:AL542_00990_1.7.2.6', 'C00001')\n",
      "('ggo:101135980_2.4.1.17', 'C00001')\n",
      "('nle:100580884_3.1.3.16', 'C00001')\n",
      "('hsa:8897_3.1.3.48', 'C00001')\n",
      "('pmot:X970_10585_1.14.12.11', 'C00001')\n",
      "('ptr:464383_1.14.14.17', 'C00007')\n",
      "('lth:KLTH0C08998g_1.13.12.16', 'C00007')\n",
      "('pps:100973092_1.14.11.65', 'C00007')\n",
      "('pon:100457813_2.7.10.1', 'C00002')\n",
      "('ece:Z1415_1.7.2.3', 'C00001')\n",
      "('ggo:101136600_2.7.10.2', 'C00002')\n",
      "('pps:100969075_2.5.1.18', 'C19586')\n",
      "('ptr:456530_3.5.3.15', 'C00001')\n",
      "('gra:105772676_1.10.3.1', 'C00007')\n",
      "('lcp:LC55x_4407_6.3.2.29', 'C00002')\n",
      "('ssck:SPSK_04249_1.1.1.67', 'C00003')\n",
      "('ptr:461412_1.1.1.30', 'C00003')\n",
      "('pps:100986504_2.3.1.16', 'C02593')\n",
      "('lth:KLTH0H04488g_1.14.19.18', 'C00007')\n",
      "('vvu:VV2_0698_3.5.1.82', 'C00001')\n",
      "('hmi:soil367_16665_3.5.2.15', 'C00001')\n",
      "('ggo:101143387_2.7.11.2', 'C00002')\n",
      "('csat:104709121_6.6.1.1', 'C00002')\n",
      "('ebw:BWG_2715_1.12.99.6', 'C16396')\n",
      "('amg:AMEC673_04890_2.5.1.97', 'C00001')\n",
      "('mjh:JH146_0545_6.3.3.7', 'C00001')\n",
      "('pstt:CH92_11535_1.3.99.8', 'C00001')\n",
      "('pps:100977742_3.1.3.48', 'C00001')\n",
      "('lak:106154406_1.5.1.23', 'C00001')\n",
      "('pon:100441773_2.7.1.67', 'C00002')\n",
      "('pps:100994225_3.1.3.48', 'C00001')\n",
      "('crb:17877299_6.6.1.1', 'C00001')\n",
      "('csat:104735553_2.5.1.48', 'C00001')\n",
      "('hsa:1312_2.1.1.6', 'C00090')\n",
      "('nle:100584842_3.1.3.48', 'C00001')\n",
      "('aly:9303300_1.13.11.70', 'C00007')\n",
      "('ggo:101128595_3.1.3.16', 'C00001')\n",
      "('hsa:5431_2.7.7.6', 'C00002')\n",
      "('vta:A0944_1.20.2.1', 'C00001')\n",
      "('nle:100594745_2.7.11.18', 'C00002')\n"
     ]
    }
   ],
   "source": [
    "# getting rid of any possible positive pairs\n",
    "\n",
    "positive_valid_set = set(zip(X_valid_name, X_valid_subs))\n",
    "\n",
    "potential_negative_valid = []\n",
    "\n",
    "for enz,sub in zip(X_valid_name_rand, X_valid_subs_rand):\n",
    "    if (enz,sub) in positive_valid_set:\n",
    "        print((enz,sub))\n",
    "    else:\n",
    "        potential_negative_valid.append((enz,sub))"
   ]
  },
  {
   "cell_type": "code",
   "execution_count": 28,
   "id": "b5fdcdd0",
   "metadata": {},
   "outputs": [
    {
     "data": {
      "text/plain": [
       "34182"
      ]
     },
     "execution_count": 28,
     "metadata": {},
     "output_type": "execute_result"
    }
   ],
   "source": [
    "len(potential_negative_valid)"
   ]
  },
  {
   "cell_type": "code",
   "execution_count": 29,
   "id": "7a1141c9",
   "metadata": {},
   "outputs": [],
   "source": [
    "X_valid_name_neg = [pn[0] for pn in potential_negative_valid]\n",
    "X_valid_subs_neg = [pn[1] for pn in potential_negative_valid]\n",
    "\n",
    "X_enc_valid_neg = X_enc.loc[X_valid_name_neg, :]\n",
    "X_valid_subs_molsig_neg = df_subs.loc[X_valid_subs_neg, :]\n",
    "\n",
    "X_va_neg = np.concatenate((X_enc_valid_neg.values, X_valid_subs_molsig_neg.values), axis=1)"
   ]
  },
  {
   "cell_type": "code",
   "execution_count": 30,
   "id": "f7e45e5e",
   "metadata": {},
   "outputs": [],
   "source": [
    "class EnzymeRanker:\n",
    "    def __init__(self, X_tr_pos, kern=\"gaussian\", bw=0.35):\n",
    "        \"\"\"\n",
    "        X_tr_pos: An array of concatenated enzyme and substrate feature vectors required for model training\n",
    "        kernel: kde model kernel\n",
    "        bw: bandwidth of the kde model\n",
    "        \"\"\"\n",
    "        self.kern =  kern\n",
    "        self.bw = bw\n",
    "        self.model = self._get_model()\n",
    "        self.model.fit(X_tr_pos)\n",
    "    \n",
    "    def _get_model(self):\n",
    "        return KernelDensity(kernel=self.kern, bandwidth=self.bw)\n",
    "    \n",
    "    def get_pos_acc(self, X_va_pos):\n",
    "        scores_valid = self.model.score_samples(X_va_pos)\n",
    "        correct_frac = len(np.where(scores_valid>0)[0])/len(scores_valid)\n",
    "        return correct_frac, scores_valid\n",
    "    \n",
    "    def get_neg_acc(self, X_va_neg):\n",
    "        scores_valid = self.model.score_samples(X_va_neg)\n",
    "        correct_frac = len(np.where(scores_valid<0)[0])/len(scores_valid)\n",
    "        return correct_frac, scores_valid\n",
    "    "
   ]
  },
  {
   "cell_type": "code",
   "execution_count": 31,
   "id": "ddb7ccd2",
   "metadata": {},
   "outputs": [],
   "source": [
    "def bandwidth_hpopt(bw):\n",
    "    kde = EnzymeRanker(X_tr, bw=bw)\n",
    "    acc_pos, _ = kde.get_pos_acc(X_va)\n",
    "    acc_neg, _ = kde.get_neg_acc(X_va_neg)\n",
    "    return bw, acc_pos, acc_neg"
   ]
  },
  {
   "cell_type": "code",
   "execution_count": 32,
   "id": "64f71a6f",
   "metadata": {},
   "outputs": [
    {
     "data": {
      "text/plain": [
       "24"
      ]
     },
     "execution_count": 32,
     "metadata": {},
     "output_type": "execute_result"
    }
   ],
   "source": [
    "mp.cpu_count()"
   ]
  },
  {
   "cell_type": "code",
   "execution_count": 33,
   "id": "2cf31bf3",
   "metadata": {},
   "outputs": [],
   "source": [
    "def multi_func(bws):\n",
    "    pool = mp.Pool(mp.cpu_count())\n",
    "    info = pool.map(bandwidth_hpopt, bws)\n",
    "    return info"
   ]
  },
  {
   "cell_type": "code",
   "execution_count": 44,
   "id": "674ee815",
   "metadata": {},
   "outputs": [],
   "source": [
    "bws_ = np.logspace(-0.41, -0.405, 50)"
   ]
  },
  {
   "cell_type": "code",
   "execution_count": 45,
   "id": "474b38d5",
   "metadata": {},
   "outputs": [
    {
     "name": "stdout",
     "output_type": "stream",
     "text": [
      "CPU times: user 1.02 s, sys: 415 ms, total: 1.44 s\n",
      "Wall time: 5h 35min 43s\n"
     ]
    }
   ],
   "source": [
    "%%time\n",
    "scores = multi_func(bws_)"
   ]
  },
  {
   "cell_type": "code",
   "execution_count": 46,
   "id": "9252beaf",
   "metadata": {},
   "outputs": [
    {
     "data": {
      "text/plain": [
       "[(0.3890451449942806, 0.7444731553258686, 0.5619916915335557),\n",
       " (0.3891365648716548, 0.7594028136663795, 0.5219121174887368),\n",
       " (0.3892280062313534, 0.7912718920470858, 0.4293487800596805),\n",
       " (0.3893194690784243, 0.7552110249784668, 0.5193376630975367),\n",
       " (0.3894109534179167, 0.7475739305196669, 0.553419928617401),\n",
       " (0.38950245925488114, 0.7405684754521964, 0.5393774501199462),\n",
       " (0.3895939865943691, 0.7519954062589721, 0.5262126265285823),\n",
       " (0.3896855354414334, 0.7480907263853, 0.524983909660055),\n",
       " (0.389777105801128, 0.7626758541487224, 0.4915160025744544),\n",
       " (0.38986869767850807, 0.7374677002583979, 0.5390556433210462),\n",
       " (0.3899603110786299, 0.7101923629055412, 0.5965420396700017),\n",
       " (0.390051946006551, 0.7099052540913006, 0.5902229243461471),\n",
       " (0.3901436024673302, 0.7444157335630204, 0.5322684453806097),\n",
       " (0.3902352804660273, 0.7489520528280218, 0.5087180387338365),\n",
       " (0.3903269800077034, 0.7541774332472007, 0.5158562986367093),\n",
       " (0.39041870109742083, 0.7335055986218777, 0.5418348838570007),\n",
       " (0.3905104437402431, 0.7335630203847258, 0.5521912117488736),\n",
       " (0.39060220794123474, 0.7080103359173127, 0.6054063542215201),\n",
       " (0.3906939937054617, 0.7137525122021247, 0.5826458369902288),\n",
       " (0.390785801037991, 0.7220212460522538, 0.5618454157158739),\n",
       " (0.39087762994389086, 0.6791271892047086, 0.6477970861857117),\n",
       " (0.3909694804282307, 0.6738443870226816, 0.662834240243403),\n",
       " (0.3910613524960812, 0.6426643697961527, 0.7043473173015037),\n",
       " (0.39115324615251407, 0.6118288831467126, 0.7622725411035047),\n",
       " (0.3912451614026024, 0.5838644846396784, 0.816599379790533),\n",
       " (0.3913370982514203, 0.5607809359747344, 0.856678953835352),\n",
       " (0.3914290567040432, 0.5304622451909273, 0.9039845532736528),\n",
       " (0.3915210367655477, 0.5208153890324433, 0.9217424375402259),\n",
       " (0.39161303844101153, 0.5151306345104795, 0.9308700485635715),\n",
       " (0.3917050617355136, 0.5035888601780074, 0.935170557603417),\n",
       " (0.3917971066541342, 0.491817398794143, 0.9384763910830262),\n",
       " (0.39188917320195454, 0.48762561010623023, 0.939266280498508),\n",
       " (0.39198126138405726, 0.4856732701693942, 0.9400269147504534),\n",
       " (0.39207337120552604, 0.4841803043353431, 0.9404072318764262),\n",
       " (0.39216550267144584, 0.48228538616135513, 0.9405827628576444),\n",
       " (0.3922576557869028, 0.48067757680160783, 0.9406705283482535),\n",
       " (0.3923498305569842, 0.478840080390468, 0.9406997835117898),\n",
       " (0.39244202698677855, 0.4571346540338788, 0.94552688549529),\n",
       " (0.39253424508137563, 0.45529715762273903, 0.94552688549529),\n",
       " (0.3926264848458664, 0.4464542061441286, 0.9463167749107717),\n",
       " (0.39271874628534276, 0.4424921045076084, 0.9467556023638172),\n",
       " (0.3928110294048982, 0.4404249210450761, 0.9468433678544264),\n",
       " (0.39290333420962714, 0.43921906402526556, 0.9468726230179627),\n",
       " (0.39299566070462527, 0.43801320700545504, 0.9469018781814991),\n",
       " (0.3930880088949895, 0.4362905541200115, 0.9469018781814991),\n",
       " (0.39318037878581796, 0.410106230261269, 0.9646012521209993),\n",
       " (0.39327277038220987, 0.40734998564455926, 0.9684921888713358),\n",
       " (0.39336518368926576, 0.4053402239448751, 0.9701597331929086),\n",
       " (0.39345761871208734, 0.4037898363479759, 0.971242174243754),\n",
       " (0.3935500754557774, 0.4024691358024691, 0.9717395120238722)]"
      ]
     },
     "execution_count": 46,
     "metadata": {},
     "output_type": "execute_result"
    }
   ],
   "source": [
    "scores"
   ]
  },
  {
   "cell_type": "code",
   "execution_count": null,
   "id": "1a74f28b",
   "metadata": {},
   "outputs": [],
   "source": [
    "%%time\n",
    "kde = EnzymeRanker(X_tr, bw=0.39290333)"
   ]
  },
  {
   "cell_type": "code",
   "execution_count": 55,
   "id": "a5e92ca6",
   "metadata": {},
   "outputs": [
    {
     "data": {
      "text/plain": [
       "1241.42743560511"
      ]
     },
     "execution_count": 55,
     "metadata": {},
     "output_type": "execute_result"
    }
   ],
   "source": [
    "kde.model.score(X_tr[:40])"
   ]
  },
  {
   "cell_type": "code",
   "execution_count": 56,
   "id": "ab24bfe7",
   "metadata": {},
   "outputs": [
    {
     "name": "stdout",
     "output_type": "stream",
     "text": [
      "CPU times: user 25min 44s, sys: 1.3 s, total: 25min 46s\n",
      "Wall time: 25min 43s\n"
     ]
    }
   ],
   "source": [
    "%%time\n",
    "acc_pos, scores_pos = kde.get_pos_acc(X_va)"
   ]
  },
  {
   "cell_type": "code",
   "execution_count": 57,
   "id": "0e4e6038",
   "metadata": {},
   "outputs": [
    {
     "name": "stdout",
     "output_type": "stream",
     "text": [
      "CPU times: user 50min 49s, sys: 4.95 s, total: 50min 54s\n",
      "Wall time: 50min 45s\n"
     ]
    }
   ],
   "source": [
    "%%time\n",
    "acc_neg, scores_neg = kde.get_neg_acc(X_va_neg)"
   ]
  },
  {
   "cell_type": "code",
   "execution_count": 58,
   "id": "2c83950a",
   "metadata": {},
   "outputs": [
    {
     "name": "stdout",
     "output_type": "stream",
     "text": [
      "0.7444731553258686 0.5399683766690091\n"
     ]
    }
   ],
   "source": [
    "print(acc_pos, acc_neg)"
   ]
  },
  {
   "cell_type": "code",
   "execution_count": 59,
   "id": "d34be008",
   "metadata": {},
   "outputs": [
    {
     "data": {
      "text/plain": [
       "(-466.0266034021124,\n",
       " -18.478406064283842,\n",
       " 974.5862666819726,\n",
       " -8900.24583571762,\n",
       " 33.396207987457814)"
      ]
     },
     "execution_count": 59,
     "metadata": {},
     "output_type": "execute_result"
    }
   ],
   "source": [
    "return_statistics(scores_neg)"
   ]
  },
  {
   "cell_type": "code",
   "execution_count": 60,
   "id": "43e5f66e",
   "metadata": {},
   "outputs": [
    {
     "data": {
      "text/plain": [
       "(-86.70315477234887,\n",
       " 7.856755167973606,\n",
       " 434.42926400412193,\n",
       " -7584.30051998923,\n",
       " 33.396207987457814)"
      ]
     },
     "execution_count": 60,
     "metadata": {},
     "output_type": "execute_result"
    }
   ],
   "source": [
    "return_statistics(scores_pos)"
   ]
  },
  {
   "cell_type": "code",
   "execution_count": 34,
   "id": "62b58ebd",
   "metadata": {},
   "outputs": [],
   "source": [
    "with open(\"positive_pair_scores.csv\", \"w\") as f:\n",
    "    for enz,subs,score in zip(X_valid_name, X_valid_subs, scores_pos):\n",
    "        f.write(f\"{enz},{subs},{score}\\n\")"
   ]
  },
  {
   "cell_type": "code",
   "execution_count": 35,
   "id": "4ce86817",
   "metadata": {},
   "outputs": [],
   "source": [
    "with open(\"negative_pair_scores.csv\", \"w\") as f:\n",
    "    for enz,subs,score in zip(X_valid_name_neg, X_valid_subs_neg, scores_neg):\n",
    "        f.write(f\"{enz},{subs},{score}\\n\")"
   ]
  },
  {
   "cell_type": "markdown",
   "id": "ed6419cf",
   "metadata": {},
   "source": [
    "# Validation Score statistics"
   ]
  },
  {
   "cell_type": "code",
   "execution_count": 45,
   "id": "56e0295d",
   "metadata": {},
   "outputs": [],
   "source": [
    "def return_statistics(scores):\n",
    "    return np.mean(scores), np.median(scores), np.std(scores), np.min(scores), np.max(scores)"
   ]
  },
  {
   "cell_type": "code",
   "execution_count": 46,
   "id": "5d968df9",
   "metadata": {},
   "outputs": [
    {
     "data": {
      "text/plain": [
       "(-7877.43221164863,\n",
       " 1185.1128031780004,\n",
       " 17520.357731976044,\n",
       " -133308.01546518086,\n",
       " 2536.232089203827)"
      ]
     },
     "execution_count": 46,
     "metadata": {},
     "output_type": "execute_result"
    }
   ],
   "source": [
    "return_statistics(scores_neg)"
   ]
  },
  {
   "cell_type": "code",
   "execution_count": 37,
   "id": "9d4a8b05",
   "metadata": {
    "scrolled": true
   },
   "outputs": [
    {
     "data": {
      "text/plain": [
       "(70.60164939712396,\n",
       " 205.34652975492108,\n",
       " 575.5400247500572,\n",
       " -9225.360232914447,\n",
       " 232.40099014084677)"
      ]
     },
     "execution_count": 37,
     "metadata": {},
     "output_type": "execute_result"
    }
   ],
   "source": [
    "return_statistics(scores_valid)"
   ]
  },
  {
   "cell_type": "code",
   "execution_count": 38,
   "id": "50270969",
   "metadata": {},
   "outputs": [
    {
     "data": {
      "text/plain": [
       "(-456.35403101636416,\n",
       " 148.896534902722,\n",
       " 1279.0112968122646,\n",
       " -9736.00232334976,\n",
       " 232.40099014084677)"
      ]
     },
     "execution_count": 38,
     "metadata": {},
     "output_type": "execute_result"
    }
   ],
   "source": [
    "return_statistics(scores_valid_neg)"
   ]
  },
  {
   "cell_type": "markdown",
   "id": "3a84147a",
   "metadata": {},
   "source": [
    "## Scores with very low activity predicted (<1)"
   ]
  },
  {
   "cell_type": "code",
   "execution_count": 39,
   "id": "0185a349",
   "metadata": {},
   "outputs": [
    {
     "data": {
      "text/plain": [
       "(1732, 11871)"
      ]
     },
     "execution_count": 39,
     "metadata": {},
     "output_type": "execute_result"
    }
   ],
   "source": [
    "len(np.where(scores_valid<1)[0]), len(np.where(scores_valid_neg<1)[0])"
   ]
  },
  {
   "cell_type": "markdown",
   "id": "b41c1cc5",
   "metadata": {},
   "source": [
    "# Model Evaluation"
   ]
  },
  {
   "cell_type": "markdown",
   "id": "2599fa0e",
   "metadata": {},
   "source": [
    "# Tanimoto index comparison\n",
    "\n",
    "Main idea: When compared to a given substrate, if a similar substrate interacts with an enzyme, then the given substrate will also interact with that enzyme. \n",
    "\n",
    "Given an enzyme-substrate pair:\n",
    "\n",
    "- Look at the substrate name\n",
    "- Select a threshold\n",
    "- Find substrates which are known to be similar based on that threshold\n",
    "- Find enzymes known to react with that substrate\n",
    "- Is the given enzyme present in that list? \n",
    "    - Yes: Enzyme reacts with that substrate.\n",
    "    - No: It does not react with that substrate."
   ]
  },
  {
   "cell_type": "code",
   "execution_count": 40,
   "id": "73fe5b4a",
   "metadata": {},
   "outputs": [],
   "source": [
    "def get_tanimoto_index(sub1, sub2):\n",
    "    \"\"\"\n",
    "    Tanimoto index calculator: requires substrate 1 and 2 features/signatures\n",
    "    \"\"\"\n",
    "    bool_sub1 = set(np.where(sub1>=1)[0])\n",
    "    bool_sub2 = set(np.where(sub2>=1)[0])\n",
    "    Num_feat_sub1 = len(bool_sub1)\n",
    "    Num_feat_sub2 = len(bool_sub2)\n",
    "    Num_common = len(bool_sub1.intersection(bool_sub2))\n",
    "    return Num_common/(Num_feat_sub1 + Num_feat_sub2 - Num_common)"
   ]
  },
  {
   "cell_type": "code",
   "execution_count": 41,
   "id": "2ee3df7d",
   "metadata": {},
   "outputs": [],
   "source": [
    "# Multiple thresholds for the Tanimoto model\n",
    "thres = [0.1, 0.33, 0.5, 0.66, 0.9]\n",
    "\n"
   ]
  },
  {
   "cell_type": "code",
   "execution_count": 42,
   "id": "c6313223",
   "metadata": {},
   "outputs": [],
   "source": [
    "# sort the database by substrate name and then enzyme name\n",
    "X_tani_database = sorted(list(zip(X_train_name,  X_train_subs)), key=lambda x: (x[1], x[0]))"
   ]
  },
  {
   "cell_type": "code",
   "execution_count": 43,
   "id": "a80a0d34",
   "metadata": {},
   "outputs": [],
   "source": [
    "import itertools"
   ]
  },
  {
   "cell_type": "code",
   "execution_count": 44,
   "id": "02795517",
   "metadata": {},
   "outputs": [],
   "source": [
    "tani_iterator = itertools.groupby(X_tani_database, lambda x : x[1])\n",
    "tani_data_dir = dict()\n",
    "  \n",
    "for key, group in tani_iterator:\n",
    "    tani_data_dir[key] = [g[0] for g in group]\n"
   ]
  },
  {
   "cell_type": "code",
   "execution_count": 45,
   "id": "94d7a7f7",
   "metadata": {},
   "outputs": [
    {
     "data": {
      "text/html": [
       "<div>\n",
       "<style scoped>\n",
       "    .dataframe tbody tr th:only-of-type {\n",
       "        vertical-align: middle;\n",
       "    }\n",
       "\n",
       "    .dataframe tbody tr th {\n",
       "        vertical-align: top;\n",
       "    }\n",
       "\n",
       "    .dataframe thead th {\n",
       "        text-align: right;\n",
       "    }\n",
       "</style>\n",
       "<table border=\"1\" class=\"dataframe\">\n",
       "  <thead>\n",
       "    <tr style=\"text-align: right;\">\n",
       "      <th></th>\n",
       "      <th>O</th>\n",
       "      <th>cN</th>\n",
       "      <th>cc(n)N</th>\n",
       "      <th>cc(c)n</th>\n",
       "      <th>cnc</th>\n",
       "      <th>ncn</th>\n",
       "      <th>cn(c)C</th>\n",
       "      <th>C[C@H](n)O</th>\n",
       "      <th>COC</th>\n",
       "      <th>C[C@H](C)O</th>\n",
       "      <th>...</th>\n",
       "      <th>[NH]N</th>\n",
       "      <th>[N]=N[NH]</th>\n",
       "      <th>CC(=C)[N+]</th>\n",
       "      <th>C/C(=C)N</th>\n",
       "      <th>co[nH]</th>\n",
       "      <th>c[nH]o</th>\n",
       "      <th>CS(=c)[O-]</th>\n",
       "      <th>CS(=c)O</th>\n",
       "      <th>[NH3+]CS</th>\n",
       "      <th>CC([n+])O</th>\n",
       "    </tr>\n",
       "  </thead>\n",
       "  <tbody>\n",
       "    <tr>\n",
       "      <th>C00001</th>\n",
       "      <td>1.0</td>\n",
       "      <td>0.0</td>\n",
       "      <td>0.0</td>\n",
       "      <td>0.0</td>\n",
       "      <td>0.0</td>\n",
       "      <td>0.0</td>\n",
       "      <td>0.0</td>\n",
       "      <td>0.0</td>\n",
       "      <td>0.0</td>\n",
       "      <td>0.0</td>\n",
       "      <td>...</td>\n",
       "      <td>0.0</td>\n",
       "      <td>0.0</td>\n",
       "      <td>0.0</td>\n",
       "      <td>0.0</td>\n",
       "      <td>0.0</td>\n",
       "      <td>0.0</td>\n",
       "      <td>0.0</td>\n",
       "      <td>0.0</td>\n",
       "      <td>0.0</td>\n",
       "      <td>0.0</td>\n",
       "    </tr>\n",
       "    <tr>\n",
       "      <th>C00002</th>\n",
       "      <td>0.0</td>\n",
       "      <td>1.0</td>\n",
       "      <td>1.0</td>\n",
       "      <td>1.0</td>\n",
       "      <td>3.0</td>\n",
       "      <td>2.0</td>\n",
       "      <td>1.0</td>\n",
       "      <td>1.0</td>\n",
       "      <td>1.0</td>\n",
       "      <td>3.0</td>\n",
       "      <td>...</td>\n",
       "      <td>0.0</td>\n",
       "      <td>0.0</td>\n",
       "      <td>0.0</td>\n",
       "      <td>0.0</td>\n",
       "      <td>0.0</td>\n",
       "      <td>0.0</td>\n",
       "      <td>0.0</td>\n",
       "      <td>0.0</td>\n",
       "      <td>0.0</td>\n",
       "      <td>0.0</td>\n",
       "    </tr>\n",
       "  </tbody>\n",
       "</table>\n",
       "<p>2 rows × 1439 columns</p>\n",
       "</div>"
      ],
      "text/plain": [
       "          O   cN  cc(n)N  cc(c)n  cnc  ncn  cn(c)C  C[C@H](n)O  COC  \\\n",
       "C00001  1.0  0.0     0.0     0.0  0.0  0.0     0.0         0.0  0.0   \n",
       "C00002  0.0  1.0     1.0     1.0  3.0  2.0     1.0         1.0  1.0   \n",
       "\n",
       "        C[C@H](C)O  ...  [NH]N  [N]=N[NH]  CC(=C)[N+]  C/C(=C)N  co[nH]  \\\n",
       "C00001         0.0  ...    0.0        0.0         0.0       0.0     0.0   \n",
       "C00002         3.0  ...    0.0        0.0         0.0       0.0     0.0   \n",
       "\n",
       "        c[nH]o  CS(=c)[O-]  CS(=c)O  [NH3+]CS  CC([n+])O  \n",
       "C00001     0.0         0.0      0.0       0.0        0.0  \n",
       "C00002     0.0         0.0      0.0       0.0        0.0  \n",
       "\n",
       "[2 rows x 1439 columns]"
      ]
     },
     "execution_count": 45,
     "metadata": {},
     "output_type": "execute_result"
    }
   ],
   "source": [
    "df_subs.head(2)"
   ]
  },
  {
   "cell_type": "code",
   "execution_count": 46,
   "id": "a2fcae27",
   "metadata": {},
   "outputs": [
    {
     "data": {
      "text/plain": [
       "array([1., 0., 0., ..., 0., 0., 0.])"
      ]
     },
     "execution_count": 46,
     "metadata": {},
     "output_type": "execute_result"
    }
   ],
   "source": [
    "df_subs.loc[\"C00001\", :].values"
   ]
  },
  {
   "cell_type": "code",
   "execution_count": 54,
   "id": "dfb6ac25",
   "metadata": {},
   "outputs": [
    {
     "name": "stdout",
     "output_type": "stream",
     "text": [
      "*********CPU times: user 2h 13min 12s, sys: 3.85 s, total: 2h 13min 16s\n",
      "Wall time: 2h 13min 15s\n"
     ]
    }
   ],
   "source": [
    "%%time\n",
    "correct = 0\n",
    "thresh = 0.33\n",
    "k=5000\n",
    "i=0\n",
    "\n",
    "# iterate through validation data pairs\n",
    "for enz,subs in zip(X_valid_name[:k], X_valid_subs[:k]):\n",
    "    # get given substrate feature\n",
    "    sub_feat = df_subs.loc[subs,:].values\n",
    "    i += 1\n",
    "    progress=i/k \n",
    "    if progress in [0.1, 0.2, 0.3, 0.4, 0.5, 0.6, 0.7, 0.8, 0.9]:\n",
    "        print(\"*\",end=\"\")\n",
    "    \n",
    "    # iterate through all other substrates in df_subs\n",
    "    for nat_sub in df_subs.index:\n",
    "        if nat_sub != subs:\n",
    "            nat_sub_feat = df_subs.loc[nat_sub,:].values\n",
    "            # get tanimoto index between native and given substrate\n",
    "            tani_idx = get_tanimoto_index(sub_feat, nat_sub_feat)\n",
    "            # if tani is greater than threshold\n",
    "            if tani_idx >= thresh:\n",
    "                if nat_sub in tani_data_dir:\n",
    "                    reacting_enz_list = tani_data_dir[nat_sub]\n",
    "                    if enz in reacting_enz_list:\n",
    "                        correct += 1\n",
    "                        break"
   ]
  },
  {
   "cell_type": "code",
   "execution_count": 55,
   "id": "b1ddbca6",
   "metadata": {},
   "outputs": [
    {
     "data": {
      "text/plain": [
       "0.3974"
      ]
     },
     "execution_count": 55,
     "metadata": {},
     "output_type": "execute_result"
    }
   ],
   "source": [
    "correct/k"
   ]
  },
  {
   "cell_type": "code",
   "execution_count": 56,
   "id": "fa37870e",
   "metadata": {},
   "outputs": [
    {
     "data": {
      "text/plain": [
       "0.9062"
      ]
     },
     "execution_count": 56,
     "metadata": {},
     "output_type": "execute_result"
    }
   ],
   "source": [
    "len(np.where(scores_valid[:k]>1)[0])/k"
   ]
  },
  {
   "cell_type": "code",
   "execution_count": 57,
   "id": "26d8f515",
   "metadata": {},
   "outputs": [
    {
     "name": "stdout",
     "output_type": "stream",
     "text": [
      "*********CPU times: user 2h 52min 55s, sys: 3.44 s, total: 2h 52min 58s\n",
      "Wall time: 2h 52min 57s\n"
     ]
    }
   ],
   "source": [
    "%%time\n",
    "incorrect = 0\n",
    "thresh = 0.33\n",
    "k=5000\n",
    "i=0\n",
    "\n",
    "# iterate through validation data pairs\n",
    "for enz,subs in zip(X_valid_name_neg[:k], X_valid_subs_neg[:k]):\n",
    "    # get given substrate feature\n",
    "    sub_feat = df_subs.loc[subs,:].values\n",
    "    i += 1\n",
    "    progress=i/k \n",
    "    if progress in [0.1, 0.2, 0.3, 0.4, 0.5, 0.6, 0.7, 0.8, 0.9]:\n",
    "        print(\"*\",end=\"\")\n",
    "    \n",
    "    # iterate through all other substrates in df_subs\n",
    "    for nat_sub in df_subs.index:\n",
    "        if nat_sub != subs:\n",
    "            nat_sub_feat = df_subs.loc[nat_sub,:].values\n",
    "            # get tanimoto index between native and given substrate\n",
    "            tani_idx = get_tanimoto_index(sub_feat, nat_sub_feat)\n",
    "            # if tani is greater than threshold\n",
    "            if tani_idx >= thresh:\n",
    "                if nat_sub in tani_data_dir:\n",
    "                    reacting_enz_list = tani_data_dir[nat_sub]\n",
    "                    if enz in reacting_enz_list:\n",
    "                        incorrect += 1\n",
    "                        break"
   ]
  },
  {
   "cell_type": "code",
   "execution_count": 58,
   "id": "a6206e65",
   "metadata": {},
   "outputs": [
    {
     "data": {
      "text/plain": [
       "0.8884"
      ]
     },
     "execution_count": 58,
     "metadata": {},
     "output_type": "execute_result"
    }
   ],
   "source": [
    "(k-incorrect)/k"
   ]
  },
  {
   "cell_type": "code",
   "execution_count": 59,
   "id": "61d5bf28",
   "metadata": {},
   "outputs": [
    {
     "data": {
      "text/plain": [
       "0.3486"
      ]
     },
     "execution_count": 59,
     "metadata": {},
     "output_type": "execute_result"
    }
   ],
   "source": [
    "len(np.where(scores_valid_neg[:k]<1)[0])/k"
   ]
  },
  {
   "cell_type": "code",
   "execution_count": null,
   "id": "a6f03897",
   "metadata": {},
   "outputs": [],
   "source": []
  }
 ],
 "metadata": {
  "kernelspec": {
   "display_name": "Python 3 (ipykernel)",
   "language": "python",
   "name": "python3"
  },
  "language_info": {
   "codemirror_mode": {
    "name": "ipython",
    "version": 3
   },
   "file_extension": ".py",
   "mimetype": "text/x-python",
   "name": "python",
   "nbconvert_exporter": "python",
   "pygments_lexer": "ipython3",
   "version": "3.9.6"
  }
 },
 "nbformat": 4,
 "nbformat_minor": 5
}

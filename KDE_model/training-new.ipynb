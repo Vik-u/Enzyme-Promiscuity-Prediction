{
 "cells": [
  {
   "cell_type": "code",
   "execution_count": 1,
   "metadata": {},
   "outputs": [],
   "source": [
    "from sklearn.model_selection import train_test_split\n",
    "import pandas as pd\n",
    "import numpy as np\n",
    "from scipy.sparse import coo_matrix\n",
    "from sklearn.neighbors import KernelDensity\n",
    "# from ifeatpro.features import get_feature, get_all_features\n",
    "import multiprocessing as mp"
   ]
  },
  {
   "cell_type": "markdown",
   "metadata": {},
   "source": [
    "1. Get training data\n",
    "2. Create training and validation set\n",
    "3. Create molecular signature for train protein sequences\n",
    "4. Get substrate molecular signature file\n",
    "5. Get substrate molecular signature\n",
    "6. Encode into a single vector\n",
    "7. Train KDE model\n",
    "8. Create random substrate-enzyme pairs\n",
    "9. Evaluate model"
   ]
  },
  {
   "cell_type": "code",
   "execution_count": 2,
   "metadata": {},
   "outputs": [],
   "source": [
    "# substrate encoding\n",
    "subs_encoding_file= \"./data/MolecularSignatureKEGGComp/mol_sig_matrix_kegg_comp.csv\"\n",
    "df_subs = pd.read_csv(subs_encoding_file, index_col=0).T"
   ]
  },
  {
   "cell_type": "markdown",
   "metadata": {},
   "source": [
    "# Sequence Encoding\n",
    "\n",
    "1. encode them as all ifeature encodings"
   ]
  },
  {
   "cell_type": "code",
   "execution_count": 3,
   "metadata": {
    "scrolled": true
   },
   "outputs": [],
   "source": [
    "# help(get_feature)"
   ]
  },
  {
   "cell_type": "code",
   "execution_count": 4,
   "metadata": {},
   "outputs": [
    {
     "data": {
      "text/plain": [
       "'\\nmoran - done\\ngeary - done\\nnmbroto - done\\nctdc - done\\nctdt - done\\nctdd - done\\nctriad - done\\nksctriad - done\\nsocnumber - done\\nqsorder - done\\npaac - done\\napaac - done\\n'"
      ]
     },
     "execution_count": 4,
     "metadata": {},
     "output_type": "execute_result"
    }
   ],
   "source": [
    "\"\"\"\n",
    "moran - done\n",
    "geary - done\n",
    "nmbroto - done\n",
    "ctdc - done\n",
    "ctdt - done\n",
    "ctdd - done\n",
    "ctriad - done\n",
    "ksctriad - done\n",
    "socnumber - done\n",
    "qsorder - done\n",
    "paac - done\n",
    "apaac - done\n",
    "\"\"\"\n",
    "\n",
    "# get_feature(\"./data/training_fasta.fa\", \"dde\", \"./data/enz_ifeatures/\")"
   ]
  },
  {
   "cell_type": "code",
   "execution_count": 5,
   "metadata": {
    "scrolled": true
   },
   "outputs": [],
   "source": [
    "# get_all_features(\"./data/training_fasta.fa\", \"./data/enz_ifeatures/\")"
   ]
  },
  {
   "cell_type": "code",
   "execution_count": 6,
   "metadata": {},
   "outputs": [],
   "source": [
    "train_filepath = \"./data/training_raw.csv\"\n",
    "train_file = open(train_filepath, \"r\")\n",
    "\n",
    "X_raw = []\n",
    "for i,line in enumerate(train_file):\n",
    "    name, seq, subs = line.strip().split(\",\")\n",
    "    X_raw.append((name, seq, subs))\n"
   ]
  },
  {
   "cell_type": "code",
   "execution_count": 7,
   "metadata": {},
   "outputs": [],
   "source": [
    "X_train, X_valid = train_test_split(X_raw, random_state=10)"
   ]
  },
  {
   "cell_type": "code",
   "execution_count": 8,
   "metadata": {},
   "outputs": [],
   "source": [
    "# filter X_train and X_valid\n",
    "X_train = [x for x in X_train if x[2] in df_subs.index]\n",
    "X_valid = [x for x in X_valid if x[2] in df_subs.index]"
   ]
  },
  {
   "cell_type": "code",
   "execution_count": 9,
   "metadata": {},
   "outputs": [
    {
     "data": {
      "text/plain": [
       "51994"
      ]
     },
     "execution_count": 9,
     "metadata": {},
     "output_type": "execute_result"
    }
   ],
   "source": [
    "len(X_train)"
   ]
  },
  {
   "cell_type": "code",
   "execution_count": 10,
   "metadata": {},
   "outputs": [
    {
     "data": {
      "text/plain": [
       "17415"
      ]
     },
     "execution_count": 10,
     "metadata": {},
     "output_type": "execute_result"
    }
   ],
   "source": [
    "len(X_valid)"
   ]
  },
  {
   "cell_type": "code",
   "execution_count": 11,
   "metadata": {},
   "outputs": [],
   "source": [
    "X_train_name = [x[0] for x in X_train]\n",
    "X_train_seq = [x[1] for x in X_train]\n",
    "X_train_subs = [x[2] for x in X_train]\n",
    "\n",
    "X_valid_name = [x[0] for x in X_valid]\n",
    "X_valid_seq = [x[1] for x in X_valid]\n",
    "X_valid_subs = [x[2] for x in X_valid]"
   ]
  },
  {
   "cell_type": "code",
   "execution_count": 12,
   "metadata": {},
   "outputs": [],
   "source": [
    "X_enc = pd.read_csv(\"./data/enz_ifeatures/dde.csv\", index_col=0)"
   ]
  },
  {
   "cell_type": "code",
   "execution_count": 13,
   "metadata": {},
   "outputs": [],
   "source": [
    "X_enc_train = X_enc.loc[X_train_name, :]\n",
    "X_enc_valid = X_enc.loc[X_valid_name, :]"
   ]
  },
  {
   "cell_type": "code",
   "execution_count": 14,
   "metadata": {
    "scrolled": true
   },
   "outputs": [
    {
     "data": {
      "text/html": [
       "<div>\n",
       "<style scoped>\n",
       "    .dataframe tbody tr th:only-of-type {\n",
       "        vertical-align: middle;\n",
       "    }\n",
       "\n",
       "    .dataframe tbody tr th {\n",
       "        vertical-align: top;\n",
       "    }\n",
       "\n",
       "    .dataframe thead th {\n",
       "        text-align: right;\n",
       "    }\n",
       "</style>\n",
       "<table border=\"1\" class=\"dataframe\">\n",
       "  <thead>\n",
       "    <tr style=\"text-align: right;\">\n",
       "      <th></th>\n",
       "      <th>AA</th>\n",
       "      <th>AC</th>\n",
       "      <th>AD</th>\n",
       "      <th>AE</th>\n",
       "      <th>AF</th>\n",
       "      <th>AG</th>\n",
       "      <th>AH</th>\n",
       "      <th>AI</th>\n",
       "      <th>AK</th>\n",
       "      <th>AL</th>\n",
       "      <th>...</th>\n",
       "      <th>YM</th>\n",
       "      <th>YN</th>\n",
       "      <th>YP</th>\n",
       "      <th>YQ</th>\n",
       "      <th>YR</th>\n",
       "      <th>YS</th>\n",
       "      <th>YT</th>\n",
       "      <th>YV</th>\n",
       "      <th>YW</th>\n",
       "      <th>YY</th>\n",
       "    </tr>\n",
       "    <tr>\n",
       "      <th>#</th>\n",
       "      <th></th>\n",
       "      <th></th>\n",
       "      <th></th>\n",
       "      <th></th>\n",
       "      <th></th>\n",
       "      <th></th>\n",
       "      <th></th>\n",
       "      <th></th>\n",
       "      <th></th>\n",
       "      <th></th>\n",
       "      <th></th>\n",
       "      <th></th>\n",
       "      <th></th>\n",
       "      <th></th>\n",
       "      <th></th>\n",
       "      <th></th>\n",
       "      <th></th>\n",
       "      <th></th>\n",
       "      <th></th>\n",
       "      <th></th>\n",
       "      <th></th>\n",
       "    </tr>\n",
       "  </thead>\n",
       "  <tbody>\n",
       "    <tr>\n",
       "      <th>hsa:4976_3.6.5.5</th>\n",
       "      <td>-0.061009</td>\n",
       "      <td>-0.740270</td>\n",
       "      <td>-0.740270</td>\n",
       "      <td>2.048437</td>\n",
       "      <td>-0.043093</td>\n",
       "      <td>-1.541540</td>\n",
       "      <td>-0.740270</td>\n",
       "      <td>1.086292</td>\n",
       "      <td>-0.043093</td>\n",
       "      <td>0.731969</td>\n",
       "      <td>...</td>\n",
       "      <td>0.675085</td>\n",
       "      <td>-0.030455</td>\n",
       "      <td>-0.740270</td>\n",
       "      <td>1.940397</td>\n",
       "      <td>-1.191906</td>\n",
       "      <td>-1.191906</td>\n",
       "      <td>-0.740270</td>\n",
       "      <td>-1.437447</td>\n",
       "      <td>0.675085</td>\n",
       "      <td>0.954971</td>\n",
       "    </tr>\n",
       "    <tr>\n",
       "      <th>ggo:101128753_2.5.1.18</th>\n",
       "      <td>0.037596</td>\n",
       "      <td>-0.694715</td>\n",
       "      <td>-0.694715</td>\n",
       "      <td>-0.694715</td>\n",
       "      <td>0.747826</td>\n",
       "      <td>0.037596</td>\n",
       "      <td>0.747826</td>\n",
       "      <td>1.505623</td>\n",
       "      <td>-0.694715</td>\n",
       "      <td>-0.371230</td>\n",
       "      <td>...</td>\n",
       "      <td>-0.347077</td>\n",
       "      <td>-0.490973</td>\n",
       "      <td>-0.694715</td>\n",
       "      <td>-0.490973</td>\n",
       "      <td>-0.851307</td>\n",
       "      <td>0.327158</td>\n",
       "      <td>0.747826</td>\n",
       "      <td>-0.694715</td>\n",
       "      <td>2.535677</td>\n",
       "      <td>-0.490973</td>\n",
       "    </tr>\n",
       "    <tr>\n",
       "      <th>ptr:457477_2.5.1.18</th>\n",
       "      <td>0.442999</td>\n",
       "      <td>-0.568497</td>\n",
       "      <td>-0.568497</td>\n",
       "      <td>-0.568497</td>\n",
       "      <td>1.194317</td>\n",
       "      <td>-0.804844</td>\n",
       "      <td>2.957132</td>\n",
       "      <td>0.743469</td>\n",
       "      <td>-0.568497</td>\n",
       "      <td>1.053129</td>\n",
       "      <td>...</td>\n",
       "      <td>-0.284019</td>\n",
       "      <td>-0.401772</td>\n",
       "      <td>2.957132</td>\n",
       "      <td>-0.401772</td>\n",
       "      <td>-0.696639</td>\n",
       "      <td>0.743469</td>\n",
       "      <td>1.194317</td>\n",
       "      <td>-0.568497</td>\n",
       "      <td>-0.284019</td>\n",
       "      <td>2.089882</td>\n",
       "    </tr>\n",
       "    <tr>\n",
       "      <th>tac:Ta0619_4.1.2.55</th>\n",
       "      <td>3.387541</td>\n",
       "      <td>-0.787732</td>\n",
       "      <td>0.484469</td>\n",
       "      <td>0.484469</td>\n",
       "      <td>-0.787732</td>\n",
       "      <td>1.586435</td>\n",
       "      <td>-0.787732</td>\n",
       "      <td>-0.965291</td>\n",
       "      <td>-0.787732</td>\n",
       "      <td>0.104845</td>\n",
       "      <td>...</td>\n",
       "      <td>-0.393548</td>\n",
       "      <td>1.241485</td>\n",
       "      <td>1.756671</td>\n",
       "      <td>-0.556711</td>\n",
       "      <td>-0.965291</td>\n",
       "      <td>0.074017</td>\n",
       "      <td>0.484469</td>\n",
       "      <td>-0.787732</td>\n",
       "      <td>-0.393548</td>\n",
       "      <td>1.241485</td>\n",
       "    </tr>\n",
       "    <tr>\n",
       "      <th>pmex:H4W19_11290_1.5.8.2</th>\n",
       "      <td>3.525268</td>\n",
       "      <td>-0.392928</td>\n",
       "      <td>2.901909</td>\n",
       "      <td>4.549327</td>\n",
       "      <td>-1.216637</td>\n",
       "      <td>0.609874</td>\n",
       "      <td>2.078200</td>\n",
       "      <td>-1.490873</td>\n",
       "      <td>-1.216637</td>\n",
       "      <td>3.607328</td>\n",
       "      <td>...</td>\n",
       "      <td>-0.607827</td>\n",
       "      <td>0.304445</td>\n",
       "      <td>-0.392928</td>\n",
       "      <td>0.304445</td>\n",
       "      <td>-0.145036</td>\n",
       "      <td>-0.817955</td>\n",
       "      <td>0.430781</td>\n",
       "      <td>0.430781</td>\n",
       "      <td>-0.607827</td>\n",
       "      <td>-0.859829</td>\n",
       "    </tr>\n",
       "  </tbody>\n",
       "</table>\n",
       "<p>5 rows × 400 columns</p>\n",
       "</div>"
      ],
      "text/plain": [
       "                                AA        AC        AD        AE        AF  \\\n",
       "#                                                                            \n",
       "hsa:4976_3.6.5.5         -0.061009 -0.740270 -0.740270  2.048437 -0.043093   \n",
       "ggo:101128753_2.5.1.18    0.037596 -0.694715 -0.694715 -0.694715  0.747826   \n",
       "ptr:457477_2.5.1.18       0.442999 -0.568497 -0.568497 -0.568497  1.194317   \n",
       "tac:Ta0619_4.1.2.55       3.387541 -0.787732  0.484469  0.484469 -0.787732   \n",
       "pmex:H4W19_11290_1.5.8.2  3.525268 -0.392928  2.901909  4.549327 -1.216637   \n",
       "\n",
       "                                AG        AH        AI        AK        AL  \\\n",
       "#                                                                            \n",
       "hsa:4976_3.6.5.5         -1.541540 -0.740270  1.086292 -0.043093  0.731969   \n",
       "ggo:101128753_2.5.1.18    0.037596  0.747826  1.505623 -0.694715 -0.371230   \n",
       "ptr:457477_2.5.1.18      -0.804844  2.957132  0.743469 -0.568497  1.053129   \n",
       "tac:Ta0619_4.1.2.55       1.586435 -0.787732 -0.965291 -0.787732  0.104845   \n",
       "pmex:H4W19_11290_1.5.8.2  0.609874  2.078200 -1.490873 -1.216637  3.607328   \n",
       "\n",
       "                          ...        YM        YN        YP        YQ  \\\n",
       "#                         ...                                           \n",
       "hsa:4976_3.6.5.5          ...  0.675085 -0.030455 -0.740270  1.940397   \n",
       "ggo:101128753_2.5.1.18    ... -0.347077 -0.490973 -0.694715 -0.490973   \n",
       "ptr:457477_2.5.1.18       ... -0.284019 -0.401772  2.957132 -0.401772   \n",
       "tac:Ta0619_4.1.2.55       ... -0.393548  1.241485  1.756671 -0.556711   \n",
       "pmex:H4W19_11290_1.5.8.2  ... -0.607827  0.304445 -0.392928  0.304445   \n",
       "\n",
       "                                YR        YS        YT        YV        YW  \\\n",
       "#                                                                            \n",
       "hsa:4976_3.6.5.5         -1.191906 -1.191906 -0.740270 -1.437447  0.675085   \n",
       "ggo:101128753_2.5.1.18   -0.851307  0.327158  0.747826 -0.694715  2.535677   \n",
       "ptr:457477_2.5.1.18      -0.696639  0.743469  1.194317 -0.568497 -0.284019   \n",
       "tac:Ta0619_4.1.2.55      -0.965291  0.074017  0.484469 -0.787732 -0.393548   \n",
       "pmex:H4W19_11290_1.5.8.2 -0.145036 -0.817955  0.430781  0.430781 -0.607827   \n",
       "\n",
       "                                YY  \n",
       "#                                   \n",
       "hsa:4976_3.6.5.5          0.954971  \n",
       "ggo:101128753_2.5.1.18   -0.490973  \n",
       "ptr:457477_2.5.1.18       2.089882  \n",
       "tac:Ta0619_4.1.2.55       1.241485  \n",
       "pmex:H4W19_11290_1.5.8.2 -0.859829  \n",
       "\n",
       "[5 rows x 400 columns]"
      ]
     },
     "execution_count": 14,
     "metadata": {},
     "output_type": "execute_result"
    }
   ],
   "source": [
    "X_enc_train.head()"
   ]
  },
  {
   "cell_type": "code",
   "execution_count": 15,
   "metadata": {},
   "outputs": [
    {
     "data": {
      "text/plain": [
       "(51994, 17415)"
      ]
     },
     "execution_count": 15,
     "metadata": {},
     "output_type": "execute_result"
    }
   ],
   "source": [
    "len(X_enc_train), len(X_enc_valid)"
   ]
  },
  {
   "cell_type": "markdown",
   "metadata": {},
   "source": [
    "# Substrate Encoding"
   ]
  },
  {
   "cell_type": "code",
   "execution_count": 16,
   "metadata": {},
   "outputs": [
    {
     "data": {
      "text/plain": [
       "2178"
      ]
     },
     "execution_count": 16,
     "metadata": {},
     "output_type": "execute_result"
    }
   ],
   "source": [
    "len(set(df_subs.index).intersection(set(X_train_subs)))"
   ]
  },
  {
   "cell_type": "code",
   "execution_count": 17,
   "metadata": {},
   "outputs": [
    {
     "data": {
      "text/plain": [
       "2178"
      ]
     },
     "execution_count": 17,
     "metadata": {},
     "output_type": "execute_result"
    }
   ],
   "source": [
    "len(set(X_train_subs))"
   ]
  },
  {
   "cell_type": "code",
   "execution_count": 18,
   "metadata": {},
   "outputs": [
    {
     "data": {
      "text/plain": [
       "(1963, 1963)"
      ]
     },
     "execution_count": 18,
     "metadata": {},
     "output_type": "execute_result"
    }
   ],
   "source": [
    "len(set(X_valid_subs)), len(set(df_subs.index).intersection(set(X_valid_subs)))"
   ]
  },
  {
   "cell_type": "code",
   "execution_count": 19,
   "metadata": {},
   "outputs": [
    {
     "data": {
      "text/html": [
       "<div>\n",
       "<style scoped>\n",
       "    .dataframe tbody tr th:only-of-type {\n",
       "        vertical-align: middle;\n",
       "    }\n",
       "\n",
       "    .dataframe tbody tr th {\n",
       "        vertical-align: top;\n",
       "    }\n",
       "\n",
       "    .dataframe thead th {\n",
       "        text-align: right;\n",
       "    }\n",
       "</style>\n",
       "<table border=\"1\" class=\"dataframe\">\n",
       "  <thead>\n",
       "    <tr style=\"text-align: right;\">\n",
       "      <th></th>\n",
       "      <th>O</th>\n",
       "      <th>cN</th>\n",
       "      <th>cc(n)N</th>\n",
       "      <th>cc(c)n</th>\n",
       "      <th>cnc</th>\n",
       "      <th>ncn</th>\n",
       "      <th>cn(c)C</th>\n",
       "      <th>C[C@H](n)O</th>\n",
       "      <th>COC</th>\n",
       "      <th>C[C@H](C)O</th>\n",
       "      <th>...</th>\n",
       "      <th>[NH]N</th>\n",
       "      <th>[N]=N[NH]</th>\n",
       "      <th>CC(=C)[N+]</th>\n",
       "      <th>C/C(=C)N</th>\n",
       "      <th>co[nH]</th>\n",
       "      <th>c[nH]o</th>\n",
       "      <th>CS(=c)[O-]</th>\n",
       "      <th>CS(=c)O</th>\n",
       "      <th>[NH3+]CS</th>\n",
       "      <th>CC([n+])O</th>\n",
       "    </tr>\n",
       "  </thead>\n",
       "  <tbody>\n",
       "    <tr>\n",
       "      <th>C00001</th>\n",
       "      <td>1.0</td>\n",
       "      <td>0.0</td>\n",
       "      <td>0.0</td>\n",
       "      <td>0.0</td>\n",
       "      <td>0.0</td>\n",
       "      <td>0.0</td>\n",
       "      <td>0.0</td>\n",
       "      <td>0.0</td>\n",
       "      <td>0.0</td>\n",
       "      <td>0.0</td>\n",
       "      <td>...</td>\n",
       "      <td>0.0</td>\n",
       "      <td>0.0</td>\n",
       "      <td>0.0</td>\n",
       "      <td>0.0</td>\n",
       "      <td>0.0</td>\n",
       "      <td>0.0</td>\n",
       "      <td>0.0</td>\n",
       "      <td>0.0</td>\n",
       "      <td>0.0</td>\n",
       "      <td>0.0</td>\n",
       "    </tr>\n",
       "    <tr>\n",
       "      <th>C00002</th>\n",
       "      <td>0.0</td>\n",
       "      <td>1.0</td>\n",
       "      <td>1.0</td>\n",
       "      <td>1.0</td>\n",
       "      <td>3.0</td>\n",
       "      <td>2.0</td>\n",
       "      <td>1.0</td>\n",
       "      <td>1.0</td>\n",
       "      <td>1.0</td>\n",
       "      <td>3.0</td>\n",
       "      <td>...</td>\n",
       "      <td>0.0</td>\n",
       "      <td>0.0</td>\n",
       "      <td>0.0</td>\n",
       "      <td>0.0</td>\n",
       "      <td>0.0</td>\n",
       "      <td>0.0</td>\n",
       "      <td>0.0</td>\n",
       "      <td>0.0</td>\n",
       "      <td>0.0</td>\n",
       "      <td>0.0</td>\n",
       "    </tr>\n",
       "  </tbody>\n",
       "</table>\n",
       "<p>2 rows × 1439 columns</p>\n",
       "</div>"
      ],
      "text/plain": [
       "          O   cN  cc(n)N  cc(c)n  cnc  ncn  cn(c)C  C[C@H](n)O  COC  \\\n",
       "C00001  1.0  0.0     0.0     0.0  0.0  0.0     0.0         0.0  0.0   \n",
       "C00002  0.0  1.0     1.0     1.0  3.0  2.0     1.0         1.0  1.0   \n",
       "\n",
       "        C[C@H](C)O  ...  [NH]N  [N]=N[NH]  CC(=C)[N+]  C/C(=C)N  co[nH]  \\\n",
       "C00001         0.0  ...    0.0        0.0         0.0       0.0     0.0   \n",
       "C00002         3.0  ...    0.0        0.0         0.0       0.0     0.0   \n",
       "\n",
       "        c[nH]o  CS(=c)[O-]  CS(=c)O  [NH3+]CS  CC([n+])O  \n",
       "C00001     0.0         0.0      0.0       0.0        0.0  \n",
       "C00002     0.0         0.0      0.0       0.0        0.0  \n",
       "\n",
       "[2 rows x 1439 columns]"
      ]
     },
     "execution_count": 19,
     "metadata": {},
     "output_type": "execute_result"
    }
   ],
   "source": [
    "df_subs.head(2)"
   ]
  },
  {
   "cell_type": "code",
   "execution_count": 20,
   "metadata": {},
   "outputs": [
    {
     "data": {
      "text/plain": [
       "51994"
      ]
     },
     "execution_count": 20,
     "metadata": {},
     "output_type": "execute_result"
    }
   ],
   "source": [
    "len(X_train_subs)"
   ]
  },
  {
   "cell_type": "code",
   "execution_count": 21,
   "metadata": {},
   "outputs": [
    {
     "data": {
      "text/plain": [
       "['C00001', 'C19586', 'C11088', 'C01286', 'C00565']"
      ]
     },
     "execution_count": 21,
     "metadata": {},
     "output_type": "execute_result"
    }
   ],
   "source": [
    "X_train_subs[:5]"
   ]
  },
  {
   "cell_type": "code",
   "execution_count": 22,
   "metadata": {
    "scrolled": true
   },
   "outputs": [],
   "source": [
    "X_train_subs_molsig = df_subs.loc[X_train_subs, :]\n",
    "X_valid_subs_molsig = df_subs.loc[X_valid_subs, :]"
   ]
  },
  {
   "cell_type": "code",
   "execution_count": 23,
   "metadata": {},
   "outputs": [
    {
     "data": {
      "text/html": [
       "<div>\n",
       "<style scoped>\n",
       "    .dataframe tbody tr th:only-of-type {\n",
       "        vertical-align: middle;\n",
       "    }\n",
       "\n",
       "    .dataframe tbody tr th {\n",
       "        vertical-align: top;\n",
       "    }\n",
       "\n",
       "    .dataframe thead th {\n",
       "        text-align: right;\n",
       "    }\n",
       "</style>\n",
       "<table border=\"1\" class=\"dataframe\">\n",
       "  <thead>\n",
       "    <tr style=\"text-align: right;\">\n",
       "      <th></th>\n",
       "      <th>O</th>\n",
       "      <th>cN</th>\n",
       "      <th>cc(n)N</th>\n",
       "      <th>cc(c)n</th>\n",
       "      <th>cnc</th>\n",
       "      <th>ncn</th>\n",
       "      <th>cn(c)C</th>\n",
       "      <th>C[C@H](n)O</th>\n",
       "      <th>COC</th>\n",
       "      <th>C[C@H](C)O</th>\n",
       "      <th>...</th>\n",
       "      <th>[NH]N</th>\n",
       "      <th>[N]=N[NH]</th>\n",
       "      <th>CC(=C)[N+]</th>\n",
       "      <th>C/C(=C)N</th>\n",
       "      <th>co[nH]</th>\n",
       "      <th>c[nH]o</th>\n",
       "      <th>CS(=c)[O-]</th>\n",
       "      <th>CS(=c)O</th>\n",
       "      <th>[NH3+]CS</th>\n",
       "      <th>CC([n+])O</th>\n",
       "    </tr>\n",
       "  </thead>\n",
       "  <tbody>\n",
       "    <tr>\n",
       "      <th>C00001</th>\n",
       "      <td>1.0</td>\n",
       "      <td>0.0</td>\n",
       "      <td>0.0</td>\n",
       "      <td>0.0</td>\n",
       "      <td>0.0</td>\n",
       "      <td>0.0</td>\n",
       "      <td>0.0</td>\n",
       "      <td>0.0</td>\n",
       "      <td>0.0</td>\n",
       "      <td>0.0</td>\n",
       "      <td>...</td>\n",
       "      <td>0.0</td>\n",
       "      <td>0.0</td>\n",
       "      <td>0.0</td>\n",
       "      <td>0.0</td>\n",
       "      <td>0.0</td>\n",
       "      <td>0.0</td>\n",
       "      <td>0.0</td>\n",
       "      <td>0.0</td>\n",
       "      <td>0.0</td>\n",
       "      <td>0.0</td>\n",
       "    </tr>\n",
       "    <tr>\n",
       "      <th>C19586</th>\n",
       "      <td>0.0</td>\n",
       "      <td>0.0</td>\n",
       "      <td>0.0</td>\n",
       "      <td>0.0</td>\n",
       "      <td>0.0</td>\n",
       "      <td>0.0</td>\n",
       "      <td>0.0</td>\n",
       "      <td>0.0</td>\n",
       "      <td>2.0</td>\n",
       "      <td>0.0</td>\n",
       "      <td>...</td>\n",
       "      <td>0.0</td>\n",
       "      <td>0.0</td>\n",
       "      <td>0.0</td>\n",
       "      <td>0.0</td>\n",
       "      <td>0.0</td>\n",
       "      <td>0.0</td>\n",
       "      <td>0.0</td>\n",
       "      <td>0.0</td>\n",
       "      <td>0.0</td>\n",
       "      <td>0.0</td>\n",
       "    </tr>\n",
       "  </tbody>\n",
       "</table>\n",
       "<p>2 rows × 1439 columns</p>\n",
       "</div>"
      ],
      "text/plain": [
       "          O   cN  cc(n)N  cc(c)n  cnc  ncn  cn(c)C  C[C@H](n)O  COC  \\\n",
       "C00001  1.0  0.0     0.0     0.0  0.0  0.0     0.0         0.0  0.0   \n",
       "C19586  0.0  0.0     0.0     0.0  0.0  0.0     0.0         0.0  2.0   \n",
       "\n",
       "        C[C@H](C)O  ...  [NH]N  [N]=N[NH]  CC(=C)[N+]  C/C(=C)N  co[nH]  \\\n",
       "C00001         0.0  ...    0.0        0.0         0.0       0.0     0.0   \n",
       "C19586         0.0  ...    0.0        0.0         0.0       0.0     0.0   \n",
       "\n",
       "        c[nH]o  CS(=c)[O-]  CS(=c)O  [NH3+]CS  CC([n+])O  \n",
       "C00001     0.0         0.0      0.0       0.0        0.0  \n",
       "C19586     0.0         0.0      0.0       0.0        0.0  \n",
       "\n",
       "[2 rows x 1439 columns]"
      ]
     },
     "execution_count": 23,
     "metadata": {},
     "output_type": "execute_result"
    }
   ],
   "source": [
    "X_train_subs_molsig.head(2)"
   ]
  },
  {
   "cell_type": "code",
   "execution_count": 24,
   "metadata": {},
   "outputs": [],
   "source": [
    "# Training and Validation Concatenation of sequences and substrates\n",
    "\n",
    "X_tr = np.concatenate((X_enc_train.values, X_train_subs_molsig.values), axis=1)\n",
    "X_va = np.concatenate((X_enc_valid.values, X_valid_subs_molsig.values), axis=1)"
   ]
  },
  {
   "cell_type": "code",
   "execution_count": 25,
   "metadata": {},
   "outputs": [
    {
     "data": {
      "text/plain": [
       "((51994, 1839), (17415, 1839))"
      ]
     },
     "execution_count": 25,
     "metadata": {},
     "output_type": "execute_result"
    }
   ],
   "source": [
    "X_tr.shape, X_va.shape"
   ]
  },
  {
   "cell_type": "code",
   "execution_count": 26,
   "metadata": {},
   "outputs": [],
   "source": [
    "# creating random enzymes with replacement of size twice that of validation\n",
    "\n",
    "X_valid_name_rand = np.random.choice(X_valid_name, size=2*len(X_valid_name))\n",
    "X_valid_subs_rand = np.random.choice(X_valid_subs, size=2*len(X_valid_subs))"
   ]
  },
  {
   "cell_type": "code",
   "execution_count": 27,
   "metadata": {},
   "outputs": [
    {
     "name": "stdout",
     "output_type": "stream",
     "text": [
      "('sem:STMDT12_C45580_2.7.1.92', 'C00002')\n",
      "('sty:STY2240_6.3.5.9', 'C00001')\n",
      "('brp:103847081_1.14.11.12', 'C00007')\n",
      "('epa:110238942_1.5.3.14', 'C00001')\n",
      "('pps:100968738_2.7.7.6', 'C00002')\n",
      "('ecoo:ECRM13514_1293_1.14.13.59', 'C00007')\n",
      "('nve:5507796_1.5.3.14', 'C00001')\n",
      "('csat:104770558_3.5.5.4', 'C00001')\n",
      "('ath:AT5G22300_3.5.5.4', 'C00001')\n",
      "('crb:17885855_4.4.1.28', 'C00001')\n",
      "('ptr:455080_3.4.19.12', 'C00001')\n",
      "('eba:ebA5282_1.3.7.8', 'C00001')\n",
      "('mab:MAB_4321_1.4.3.10', 'C00001')\n",
      "('pon:112130665_2.3.2.2', 'C00001')\n",
      "('rsl:RPSI07_0329_1.13.12.9', 'C00007')\n",
      "('kpp:A79E_0056_1.13.11.57', 'C00007')\n",
      "('kpu:KP1_2559_3.1.1.24', 'C00001')\n",
      "('kpk:A593_14040_1.2.1.26', 'C00001')\n",
      "('eus:EUTSA_v10019199mg_4.1.1.39', 'C00007')\n",
      "('dya:Dyak_GE24618_3.5.1.28', 'C00001')\n",
      "('pon:100459133_2.7.11.24', 'C00002')\n",
      "('qsu:111990066_3.1.1.65', 'C00001')\n",
      "('kqv:B8P98_13910_4.1.99.2', 'C00001')\n",
      "('nle:100597714_2.7.7.6', 'C00002')\n",
      "('pps:100971586_1.14.15.4', 'C00007')\n",
      "('ggo:101149660_2.5.1.6', 'C00001')\n",
      "('ptr:463610_2.7.10.1', 'C00002')\n",
      "('ggo:101141476_1.8.1.9', 'C00001')\n",
      "('qsu:111999790_1.7.1.4', 'C00003')\n",
      "('ahp:V429_14935_6.3.5.13', 'C00001')\n",
      "('nle:100605147_3.1.3.48', 'C00001')\n",
      "('eoh:ECO103_4836_2.7.1.55', 'C00002')\n",
      "('ggo:101125212_3.1.3.5', 'C00360')\n",
      "('aqu:100641153_2.7.1.76', 'C00002')\n",
      "('hsa:7048_2.7.11.30', 'C00002')\n",
      "('ggo:101148545_1.2.1.3', 'C00001')\n",
      "('pon:100438769_3.1.3.48', 'C00001')\n",
      "('ptr:469222_3.2.1.51', 'C00001')\n",
      "('crb:17885855_4.4.1.28', 'C00001')\n",
      "('pap:PSPA7_2248_1.14.13.83', 'C00004')\n",
      "('brp:103853097_1.7.1.3', 'C00006')\n",
      "('pps:100990739_2.7.10.1', 'C00002')\n",
      "('dja:HY57_09055_1.16.3.3', 'C00001')\n",
      "('pps:100979842_2.7.6.1', 'C00002')\n",
      "('dme:Dmel_CG6781_1.5.4.1', 'C00001')\n",
      "('hsa:284716_6.3.2.42', 'C00002')\n",
      "('dji:CH75_03055_1.16.3.3', 'C00001')\n",
      "('epa:110238942_1.5.3.14', 'C00001')\n",
      "('ggo:101152925_2.7.1.68', 'C00002')\n",
      "('sct:SCAT_0296_1.14.15.11', 'C00007')\n",
      "('aly:9303300_1.13.11.70', 'C00007')\n",
      "('hps:HPSH_01390_3.5.4.40', 'C00001')\n",
      "('eoj:ECO26_2002_6.2.1.30', 'C00002')\n",
      "('gai:IMCC3135_06255_3.5.2.18', 'C00001')\n",
      "('pon:100436566_1.14.99.1', 'C00001')\n",
      "('crb:17874907_3.5.4.25', 'C00001')\n",
      "('csat:104737873_1.14.11.12', 'C00007')\n",
      "('crb:17900474_2.6.1.99', 'C00022')\n",
      "('ath:AT1G04580_1.2.3.7', 'C00007')\n",
      "('kpp:A79E_0056_1.13.11.57', 'C00007')\n",
      "('nle:100594879_1.8.1.9', 'C00001')\n",
      "('kco:BWI95_06505_2.7.9.6', 'C00002')\n",
      "('ecj:JW0987_3.1.3.10', 'C00001')\n",
      "('sct:SCAT_0296_1.14.15.11', 'C00007')\n",
      "('stt:t0840_6.3.5.11', 'C00002')\n",
      "('aly:9325208_1.11.1.11', 'C00072')\n",
      "('hsa:5789_3.1.3.48', 'C00001')\n",
      "('crb:17890234_4.1.99.5', 'C00007')\n",
      "('bsl:A7A1_1018_3.9.1.2', 'C00001')\n",
      "('mtf:TBFG_12295_1.14.15.27', 'C00007')\n",
      "('hsa:27231_2.7.1.22', 'C00002')\n",
      "('pon:100453622_2.5.1.18', 'C14840')\n",
      "('ptr:746950_1.2.1.32', 'C00001')\n",
      "('pps:100985758_3.1.4.12', 'C00001')\n",
      "('hsa:272_3.5.4.6', 'C00001')\n",
      "('sso:SSO2658_7.1.1.4', 'C00007')\n",
      "('brp:103865622_4.1.99.5', 'C00007')\n",
      "('pon:100442727_6.3.4.16', 'C00001')\n",
      "('ddq:DDI_0143_1.13.12.3', 'C00007')\n",
      "('pao:Pat9b_0059_1.1.3.46', 'C00007')\n",
      "('ggo:101150906_1.2.1.3', 'C00001')\n",
      "('mein:methR_P0891_1.8.2.1', 'C00001')\n",
      "('csat:104766847_1.2.1.38', 'C00006')\n",
      "('pmot:X970_10515_1.3.1.58', 'C00003')\n",
      "('ath:AT3G58830_3.1.3.27', 'C00001')\n",
      "('hsa:7367_2.4.1.17', 'C00001')\n",
      "('hsa:5264_1.14.11.18', 'C00007')\n",
      "('ggo:101152080_1.14.14.19', 'C00001')\n",
      "('nle:115830958_1.14.11.69', 'C00007')\n",
      "('hsa:64087_6.4.1.4', 'C00002')\n",
      "('ptr:455080_3.4.19.12', 'C00001')\n",
      "('avl:AvCA_04490_1.2.7.4', 'C00001')\n",
      "('sma:SAVERM_2999_1.14.15.32', 'C00007')\n",
      "('pps:100983625_2.4.2.8', 'C00144')\n",
      "('nle:100591370_1.1.1.1', 'C00006')\n",
      "('azd:CDA09_09005_1.17.99.10', 'C00001')\n",
      "('scz:ABE83_01200_1.10.3.4', 'C00007')\n",
      "('kas:KATP_46070_3.13.1.8', 'C00001')\n",
      "('hsa:51144_1.1.1.62', 'C18075')\n",
      "('pps:103784121_2.5.1.18', 'C06790')\n",
      "('crb:17882378_2.7.7.27', 'C00103')\n",
      "('cre:CHLREDRAFT_144745_1.13.11.75', 'C00007')\n",
      "('pon:100454483_2.5.1.18', 'C14859')\n",
      "('ggo:101125439_2.7.7.6', 'C00002')\n",
      "('nle:100594027_6.1.1.17', 'C00002')\n",
      "('pon:100174227_1.8.3.4', 'C00001')\n",
      "('eus:EUTSA_v10006894mg_6.6.1.1', 'C00001')\n",
      "('pps:100994346_3.4.19.12', 'C00001')\n",
      "('bsu:BSU36930_3.9.1.2', 'C00001')\n",
      "('ggo:101133328_2.7.11.25', 'C00002')\n",
      "('pps:100989124_4.3.1.19', 'C00001')\n",
      "('ggo:101125226_3.1.3.16', 'C00001')\n",
      "('pps:100984402_2.3.1.9', 'C00024')\n",
      "('pon:100174202_2.4.1.17', 'C00001')\n",
      "('mgo:AFA91_16300_3.13.1.3', 'C00001')\n",
      "('spe:Spro_2312_1.13.11.9', 'C00007')\n",
      "('dda:Dd703_1794_1.5.1.28', 'C00003')\n",
      "('cthr:CTHT_0068920_1.14.99.56', 'C00007')\n",
      "('pps:100982050_3.1.3.48', 'C00001')\n",
      "('ggo:101136600_2.7.10.2', 'C00002')\n",
      "('pps:100982284_1.8.1.9', 'C00001')\n",
      "('ppi:ND056_1.14.12.23', 'C00007')\n",
      "('ggo:109025468_1.3.1.93', 'C00006')\n",
      "('sbi:8070754_1.14.11.59', 'C00007')\n",
      "('ptr:450875_2.7.7.19', 'C00002')\n",
      "('pstt:CH92_11535_1.3.99.8', 'C00001')\n",
      "('ppx:T1E_4243_1.14.15.25', 'C00007')\n",
      "('cls:CXIVA_16390_3.7.1.4', 'C00001')\n",
      "('ggo:101148545_1.2.1.31', 'C00001')\n",
      "('qsu:111995922_3.6.1.10', 'C00001')\n",
      "('brp:103850857_2.7.2.4', 'C00002')\n",
      "('hsa:5230_2.7.2.3', 'C00002')\n",
      "('eus:EUTSA_v10020875mg_1.14.19.26', 'C00007')\n",
      "('ggo:101143063_2.7.7.6', 'C00002')\n",
      "('ggo:101144006_2.7.11.23', 'C00002')\n",
      "('ptr:739089_2.7.1.30', 'C00002')\n",
      "('ptr:462033_1.2.1.3', 'C00001')\n",
      "('ptr:462033_1.2.1.31', 'C00006')\n",
      "('pbut:DTO10_05970_1.14.15.8', 'C00007')\n",
      "('pps:100969607_3.1.3.48', 'C00001')\n",
      "('nle:100587670_1.5.1.6', 'C00006')\n",
      "('hsa:728419_3.4.19.12', 'C00001')\n",
      "('pps:100994569_3.1.3.16', 'C00001')\n",
      "('pps:100989145_3.1.1.47', 'C00001')\n",
      "('eus:EUTSA_v10006894mg_6.6.1.1', 'C00001')\n",
      "('pon:100456639_3.1.3.16', 'C00001')\n",
      "('pon:100431690_3.4.19.12', 'C00001')\n",
      "('pps:100975751_2.4.1.17', 'C00001')\n",
      "('hsa:5495_3.1.3.16', 'C00001')\n",
      "('nle:100596287_2.7.11.21', 'C00002')\n",
      "('mun:110550800_3.2.2.5', 'C00001')\n",
      "('crb:17874907_3.5.4.25', 'C00001')\n",
      "('csat:104738059_1.17.7.3', 'C00001')\n",
      "('ggo:101124484_2.7.11.22', 'C00002')\n",
      "('pps:100969833_3.1.3.48', 'C00001')\n",
      "('ptr:468331_2.7.11.22', 'C00002')\n",
      "('ptr:468271_3.1.3.48', 'C00001')\n",
      "('csat:104713707_2.5.1.48', 'C00001')\n",
      "('nle:105740366_6.5.1.7', 'C00002')\n",
      "('pon:100437483_6.4.1.4', 'C00002')\n",
      "('ptr:460149_3.1.3.95', 'C00001')\n",
      "('nle:100595264_1.5.1.3', 'C00006')\n",
      "('nle:100585363_6.3.3.1', 'C00002')\n",
      "('pon:100454485_6.1.1.3', 'C00002')\n",
      "('pon:112132688_2.7.7.18', 'C01185')\n",
      "('kpu:KP1_2559_3.1.1.24', 'C00001')\n",
      "('ptr:747683_3.1.3.32', 'C00001')\n",
      "('ebw:BWG_2067_3.1.3.50', 'C00001')\n",
      "('pps:100977043_2.4.1.17', 'C00001')\n",
      "('hsa:412_3.1.6.2', 'C00001')\n",
      "('pon:100171415_1.8.3.1', 'C00001')\n",
      "('crb:17879840_3.2.2.16', 'C00001')\n",
      "('ptr:470683_3.1.3.86', 'C00001')\n",
      "('sva:SVA_2686_3.5.5.8', 'C00001')\n",
      "('ecd:ECDH10B_1619_3.4.13.22', 'C00001')\n",
      "('ptr:748542_3.4.19.12', 'C00001')\n",
      "('pps:100988983_3.1.3.78', 'C00001')\n",
      "('svr:CP971_33680_6.3.3.4', 'C00002')\n",
      "('pps:100976729_3.1.3.48', 'C00001')\n",
      "('sply:Q5A_021600_1.14.19.9', 'C00007')\n",
      "('nle:100592158_3.1.3.46', 'C00001')\n",
      "('enf:AKI40_3138_3.5.2.10', 'C00001')\n",
      "('ptr:457097_3.1.3.16', 'C00001')\n",
      "('ecj:JW2368_2.8.3.19', 'C00024')\n",
      "('ptr:743223_6.3.4.5', 'C00002')\n",
      "('mdh:AYM39_08565_6.3.4.24', 'C00002')\n",
      "('nle:100587632_3.1.3.16', 'C00001')\n",
      "('nle:100594899_1.2.1.47', 'C00001')\n",
      "('efe:EFER_3016_1.21.4.3', 'C00001')\n",
      "('pps:100995728_1.14.14.1', 'C19490')\n",
      "('cuh:BJN34_32115_1.2.1.77', 'C00001')\n",
      "('nle:115830370_3.4.19.13', 'C00051')\n",
      "('pps:100980672_2.6.1.7', 'C00001')\n",
      "('ptr:454003_1.14.11.73', 'C00007')\n",
      "('def:CNY67_08750_1.3.1.86', 'C00006')\n",
      "('hsa:220213_3.4.19.12', 'C00001')\n",
      "('shd:SUTH_01628_1.2.1.58', 'C00003')\n",
      "('ptr:472944_2.7.11.11', 'C00002')\n",
      "('ggo:101135163_1.14.18.9', 'C00001')\n",
      "('pon:100451109_2.5.1.18', 'C14851')\n",
      "('pps:100969802_2.3.1.33', 'C00024')\n",
      "('pon:100461213_2.3.1.16', 'C00024')\n",
      "('csat:104707512_1.14.18.10', 'C00007')\n",
      "('pps:100995728_1.14.14.1', 'C00535')\n",
      "('kco:BWI95_06505_2.7.9.6', 'C00002')\n",
      "('csat:104746686_1.10.3.11', 'C00007')\n",
      "('ggo:101152080_1.14.14.19', 'C00001')\n",
      "('pshi:SAMEA2665130_1352_3.1.3.90', 'C00001')\n",
      "('eus:EUTSA_v10004618mg_6.3.2.1', 'C00002')\n",
      "('mmas:MYMAC_005982_4.1.99.16', 'C00001')\n",
      "('ptr:107976786_3.6.5.5', 'C00001')\n",
      "('eus:EUTSA_v10006570mg_1.2.3.7', 'C00007')\n",
      "('ptr:464031_3.1.1.34', 'C00001')\n",
      "('pps:100993597_2.7.3.2', 'C00002')\n",
      "('hsa:80308_2.7.7.2', 'C00002')\n",
      "('pon:100451664_2.7.10.1', 'C00002')\n",
      "('ath:AT1G02190_4.1.99.5', 'C00007')\n",
      "('ggo:101131334_6.5.1.1', 'C00002')\n",
      "('nle:115834336_3.1.3.16', 'C00001')\n",
      "('nle:100601456_3.5.3.4', 'C00001')\n",
      "('mtm:MYCTH_55803_1.14.99.56', 'C00007')\n",
      "('pps:100970340_3.4.17.23', 'C00001')\n",
      "('eus:EUTSA_v10026821mg_3.2.2.16', 'C00001')\n",
      "('aly:9327015_3.5.4.19', 'C00001')\n",
      "('pon:100453694_3.6.1.56', 'C00001')\n",
      "('ggo:101134885_2.7.1.36', 'C00002')\n",
      "('ggo:101137316_3.1.3.48', 'C00001')\n",
      "('hsa:7364_2.4.1.17', 'C00001')\n",
      "('ecd:ECDH10B_1883_3.5.3.23', 'C00001')\n",
      "('vfl:AL536_14010_1.4.9.1', 'C00001')\n",
      "('psuu:Psuf_065240_1.14.11.56', 'C00007')\n",
      "('pps:100992814_2.7.11.13', 'C00002')\n",
      "('ggo:101138473_3.6.5.5', 'C00001')\n",
      "('ehi:EHI_199080_3.1.3.71', 'C00001')\n",
      "('ptr:457687_3.1.3.46', 'C00001')\n",
      "('avl:AvCA_02610_1.18.6.2', 'C00001')\n",
      "('csat:104701308_4.1.1.39', 'C00007')\n",
      "('aor:AO090038000543_6.3.2.26', 'C00001')\n",
      "('strm:M444_02785_4.2.3.96', 'C00001')\n",
      "('ecd:ECDH10B_1619_3.4.13.22', 'C00001')\n",
      "('pon:100451787_1.13.11.53', 'C00007')\n",
      "('mmt:Metme_2270_6.3.4.24', 'C00002')\n",
      "('ggo:101150370_2.7.1.68', 'C00002')\n",
      "('csat:104729039_1.14.11.12', 'C00007')\n",
      "('aho:Ahos_0275_1.2.1.89', 'C00006')\n",
      "('pon:100461388_1.3.1.74', 'C00006')\n",
      "('pps:100991525_3.6.5.5', 'C00001')\n",
      "('cau:Caur_2614_1.2.1.75', 'C00006')\n",
      "('eac:EAL2_c04300_1.17.1.11', 'C00003')\n",
      "('bfo:118420652_5.1.3.6', 'C00167')\n",
      "('ggo:101134717_3.1.6.2', 'C00001')\n",
      "('kpk:A593_02120_1.18.6.1', 'C00002')\n",
      "('pon:112130665_2.3.2.2', 'C00001')\n",
      "('aly:9330167_3.1.2.28', 'C00001')\n",
      "('aza:AZKH_2140_1.3.7.8', 'C00001')\n",
      "('prj:NCTC6933_03276_1.4.1.26', 'C00001')\n",
      "('hsa:54659_2.4.1.17', 'C00001')\n",
      "('csat:104738059_1.17.7.3', 'C00001')\n",
      "('hsa:5792_3.1.3.48', 'C00001')\n",
      "('csat:104724797_6.6.1.1', 'C00001')\n",
      "('ecj:JW1278_3.1.4.52', 'C00001')\n",
      "('ggo:101144162_1.14.11.66', 'C00007')\n",
      "('ggo:101127083_3.5.2.7', 'C00001')\n",
      "('ecok:ECMDS42_1076_3.6.1.27', 'C00001')\n",
      "('pps:100985999_6.4.1.2', 'C00002')\n",
      "('pon:100433169_1.14.15.6', 'C00007')\n",
      "('ath:AT2G43710_1.14.19.11', 'C00007')\n",
      "('nle:100582681_3.4.19.12', 'C00001')\n",
      "('hsa:55230_3.4.19.12', 'C00001')\n",
      "('mra:MRA_3584_1.14.15.29', 'C00007')\n",
      "('ggo:101137199_2.5.1.18', 'C14870')\n",
      "('ptr:456910_2.7.10.1', 'C00002')\n",
      "('aor:AO090038000543_6.3.2.26', 'C00001')\n",
      "('pon:100446356_3.5.2.9', 'C00001')\n",
      "('pon:100460800_3.1.3.16', 'C00001')\n",
      "('pon:100458998_1.4.1.21', 'C00001')\n",
      "('ggo:101148545_1.2.1.31', 'C00003')\n",
      "('mpsy:CEK71_14805_1.14.99.44', 'C00007')\n",
      "('ggo:101141101_3.1.3.48', 'C00001')\n",
      "('hsa:8875_3.5.1.92', 'C00001')\n",
      "('ggo:101152056_3.1.3.16', 'C00001')\n",
      "('pdam:113683789_1.5.1.23', 'C00001')\n",
      "('ptr:457746_6.1.1.17', 'C00002')\n",
      "('btab:109044799_1.1.3.9', 'C00001')\n",
      "('pps:100975504_1.14.19.53', 'C00007')\n",
      "('ptr:107967644_1.2.1.3', 'C00001')\n",
      "('ppp:112287728_3.1.3.99', 'C00001')\n",
      "('mvu:Metvu_0835_6.4.1.9', 'C00002')\n",
      "('ptr:466626_2.7.1.28', 'C00002')\n",
      "('pon:100439160_1.1.1.47', 'C00003')\n",
      "('ptr:100609185_1.14.14.78', 'C00007')\n",
      "('sita:101771563_3.1.7.6', 'C00001')\n",
      "('ptr:467949_2.7.9.3', 'C00001')\n",
      "('pps:100969957_4.2.3.2', 'C00001')\n",
      "('hsa:8897_3.1.3.48', 'C00001')\n",
      "('kpi:D364_24435_3.5.4.22', 'C00001')\n",
      "('ghi:107903500_4.2.3.13', 'C00448')\n",
      "('pps:100980672_2.6.1.7', 'C00001')\n",
      "('nve:5513911_1.5.3.14', 'C00007')\n",
      "('pon:100437483_6.4.1.4', 'C00002')\n",
      "('csat:104758943_1.13.11.58', 'C00007')\n",
      "('kpu:KP1_0775_1.14.13.2', 'C00007')\n",
      "('ggo:101151665_2.7.11.24', 'C00002')\n",
      "('pon:100450681_2.7.11.25', 'C00002')\n",
      "('ptr:112206755_1.14.14.1', 'C16608')\n",
      "('pon:100434182_3.1.3.48', 'C00001')\n",
      "('eus:EUTSA_v10000262mg_2.7.1.71', 'C00002')\n",
      "('ecd:ECDH10B_3975_5.1.3.14', 'C00001')\n",
      "('cpap:110808696_1.14.14.36', 'C00007')\n",
      "('hsa:8875_3.5.1.92', 'C00001')\n",
      "('ptr:748032_3.1.3.48', 'C00001')\n",
      "('bfo:118420943_2.7.7.48', 'C00002')\n",
      "('csat:104730482_1.1.3.20', 'C00007')\n",
      "('nle:105739243_1.14.11.27', 'C00007')\n",
      "('enf:AKI40_3138_3.5.2.10', 'C00001')\n",
      "('ath:AT1G33320_2.5.1.48', 'C00001')\n",
      "('rpln:B1209_13675_1.13.11.2', 'C00001')\n",
      "('csat:104718910_3.2.1.2', 'C00001')\n",
      "('hsa:57103_3.1.3.46', 'C00001')\n",
      "('pps:100980341_6.1.1.9', 'C00002')\n",
      "('hsa:27231_2.7.1.22', 'C00002')\n",
      "('pon:100431837_6.1.1.20', 'C00002')\n",
      "('ece:Z3765_3.6.1.40', 'C00001')\n",
      "('brp:103860785_2.7.9.1', 'C00002')\n",
      "('pon:100461726_1.2.1.3', 'C00001')\n",
      "('kqv:B8P98_13910_4.1.99.2', 'C00001')\n",
      "('pon:100452766_3.4.19.12', 'C00001')\n",
      "('mmt:Metme_2270_6.3.4.24', 'C00002')\n",
      "('ncr:NCU05770_1.11.1.21', 'C00007')\n",
      "('hsa:134510_3.1.3.16', 'C00001')\n",
      "('pon:100444083_2.7.11.26', 'C00002')\n",
      "('psc:A458_06720_1.14.12.24', 'C00007')\n",
      "('apla:113844379_4.6.1.13', 'C00001')\n",
      "('sfa:Sfla_0556_6.3.3.4', 'C00002')\n",
      "('mjl:Mjls_1636_1.2.1.78', 'C00001')\n",
      "('hsa:54576_2.4.1.17', 'C00001')\n",
      "('nle:100588685_3.1.1.64', 'C00001')\n",
      "('pps:100978147_3.1.4.53', 'C00001')\n",
      "('ptr:454673_3.1.4.37', 'C00001')\n",
      "('pmon:X969_19990_1.4.3.24', 'C00001')\n",
      "('ptr:100613803_2.7.1.15', 'C00002')\n",
      "('kox:KOX_13235_3.2.1.82', 'C00001')\n",
      "('han:110898214_1.14.14.95', 'C00007')\n",
      "('ptr:473278_4.6.1.1', 'C00002')\n",
      "('ago:AGOS_AEL300C_2.7.7.87', 'C00002')\n",
      "('pon:100174642_3.1.3.16', 'C00001')\n",
      "('hsa:29101_3.1.3.16', 'C00001')\n",
      "('ecj:JW1938_3.1.3.70', 'C00001')\n",
      "('hsa:152926_3.1.3.16', 'C00001')\n",
      "('nle:100591464_3.1.3.48', 'C00001')\n",
      "('csat:104757423_6.2.1.26', 'C00002')\n",
      "('pps:100982619_1.14.14.94', 'C00007')\n",
      "('ggo:101143090_3.1.3.16', 'C00001')\n",
      "('pon:100445514_2.7.1.23', 'C00002')\n",
      "('bgj:AWC36_10120_3.5.1.77', 'C00001')\n",
      "('ggo:101142154_2.1.2.2', 'C00001')\n",
      "('mgi:Mflv_0643_1.2.1.78', 'C00001')\n",
      "('ece:Z5522_3.5.1.32', 'C00001')\n",
      "('enr:H650_03220_1.18.6.1', 'C00002')\n",
      "('cfm:BJL90_01775_1.17.1.11', 'C00003')\n",
      "('ptr:748644_3.1.4.53', 'C00001')\n",
      "('mtm:MYCTH_2094824_1.13.11.62', 'C00007')\n",
      "('ggo:101150125_2.7.11.8', 'C00002')\n",
      "('ptr:466723_6.1.1.22', 'C00002')\n",
      "('lmb:C9I47_0274_1.13.11.79', 'C00007')\n",
      "('pic:PICST_63908_3.1.1.65', 'C00001')\n",
      "('kpk:A593_14040_1.2.1.26', 'C00001')\n",
      "('nle:100592927_3.1.3.1', 'C00001')\n",
      "('cuu:BKK79_07250_3.13.1.4', 'C00001')\n",
      "('nle:100603928_3.6.1.9', 'C00002')\n",
      "('spe:Spro_2314_1.17.2.1', 'C00001')\n",
      "('pps:100981716_3.4.19.12', 'C00001')\n",
      "('ggo:101128510_2.7.11.30', 'C00002')\n",
      "('hsa:4524_1.5.1.20', 'C00003')\n",
      "('hsa:7046_2.7.11.30', 'C00002')\n",
      "('nle:100591351_2.7.1.28', 'C00002')\n",
      "('nid:NPIRD3C_0595_6.2.1.56', 'C00002')\n",
      "('ggo:101130233_3.4.19.12', 'C00001')\n",
      "('ptr:464031_3.1.1.34', 'C00001')\n",
      "('ftr:NE061598_02215_3.2.2.30', 'C00001')\n",
      "('hsa:256356_2.7.1.30', 'C00002')\n",
      "('ecd:ECDH10B_3053_1.97.1.9', 'C00001')\n",
      "('brp:103842888_1.3.1.78', 'C00006')\n",
      "('ptr:100616514_1.14.14.1', 'C14781')\n",
      "('ggo:101148545_1.2.1.3', 'C00001')\n",
      "('pps:100974387_2.4.1.17', 'C00001')\n",
      "('bbar:RHAL1_00965_2.3.1.89', 'C00001')\n",
      "('nle:100583132_2.6.1.44', 'C00026')\n",
      "('srh:BAY15_1814_3.1.1.57', 'C00001')\n",
      "('csat:104766075_1.13.11.81', 'C00007')\n",
      "('hsa:5430_2.7.7.6', 'C00044')\n",
      "('ppoa:BJK05_14540_6.3.2.58', 'C00002')\n",
      "('smac:SMDB11_2018_1.14.11.58', 'C00007')\n",
      "('eus:EUTSA_v10012443mg_6.6.1.1', 'C00001')\n",
      "('pps:103785458_3.2.1.31', 'C00001')\n",
      "('hsa:57505_6.1.1.7', 'C00002')\n",
      "('ggo:101149427_2.7.10.2', 'C00002')\n",
      "('nle:100597870_2.3.1.67', 'C00024')\n",
      "('ggo:101132763_6.3.2.6', 'C00002')\n",
      "('aor:AO090038000543_6.3.2.26', 'C00001')\n",
      "('brp:103863201_1.14.11.12', 'C00007')\n",
      "('lcq:111685796_1.13.12.16', 'C01847')\n",
      "('pgb:H744_1c1269_1.21.4.2', 'C00001')\n",
      "('sent:TY21A_04260_6.3.5.9', 'C00001')\n",
      "('hsa:57038_6.1.1.19', 'C00002')\n",
      "('csat:104777214_1.14.19.11', 'C00007')\n",
      "('pps:100974379_6.1.1.12', 'C00049')\n",
      "('enf:AKI40_0710_3.5.1.68', 'C00001')\n",
      "('ecok:ECMDS42_2960_3.1.4.52', 'C00001')\n",
      "('ptr:469970_3.1.3.48', 'C00001')\n",
      "('eus:EUTSA_v10013713mg_1.14.19.11', 'C00007')\n",
      "('ptr:453499_3.4.19.12', 'C00001')\n",
      "('qsu:111999790_1.7.1.4', 'C00003')\n",
      "('pon:100450021_4.3.1.17', 'C00001')\n",
      "('ptr:452508_2.7.10.1', 'C00002')\n",
      "('cen:LH86_11520_1.13.11.37', 'C00007')\n",
      "('ddc:Dd586_2579_6.3.2.56', 'C00002')\n",
      "('ypm:YP_1249_1.5.1.52', 'C00006')\n",
      "('ptr:463329_6.1.1.14', 'C00002')\n",
      "('hsa:2687_2.3.2.2', 'C00001')\n",
      "('nle:100583471_2.7.1.23', 'C00002')\n",
      "('nle:100603806_1.13.11.63', 'C00007')\n",
      "('hsa:4842_1.14.13.39', 'C00007')\n",
      "('psom:113322712_1.14.19.54', 'C00007')\n",
      "('efe:EFER_3016_1.21.4.3', 'C00001')\n",
      "('ecd:ECDH10B_3541_1.7.1.15', 'C00001')\n",
      "('ggo:101140115_2.7.10.1', 'C00002')\n",
      "('pps:100981591_3.1.3.48', 'C00001')\n",
      "('crb:17879429_3.5.1.49', 'C00001')\n",
      "('otw:112243693_1.3.1.32', 'C00006')\n",
      "('pon:100454760_6.3.4.14', 'C00002')\n",
      "('pon:100459240_1.14.14.1', 'C16546')\n",
      "('pon:100458012_2.7.10.1', 'C00002')\n",
      "('amil:114947925_2.7.1.50', 'C00002')\n",
      "('vfl:AL536_14010_1.4.9.1', 'C00001')\n",
      "('ecd:ECDH10B_0973_2.3.1.54', 'C00024')\n",
      "('dgo:DGo_CA1494_3.1.3.60', 'C00001')\n",
      "('ecla:ECNIH3_12445_3.2.2.24', 'C00001')\n",
      "('csat:104777710_1.14.11.13', 'C03579')\n",
      "('ggo:101148243_3.1.3.48', 'C00001')\n",
      "('alv:Alvin_1324_1.11.1.17', 'C00027')\n",
      "('ptr:739858_6.3.4.21', 'C00009')\n",
      "('hsa:83875_1.13.11.71', 'C00007')\n",
      "('enf:AKI40_0710_3.5.1.68', 'C00001')\n",
      "('ggo:101134424_2.1.2.1', 'C00001')\n",
      "('ptr:107976786_3.6.5.5', 'C00044')\n",
      "('pon:100446004_3.1.3.16', 'C00001')\n",
      "('pon:100444869_3.1.4.35', 'C00001')\n",
      "('nle:100580627_3.4.19.12', 'C00001')\n",
      "('nle:100595071_3.4.19.12', 'C00001')\n",
      "('bfo:118417884_1.5.4.1', 'C00001')\n",
      "('lcq:111682883_1.2.1.16', 'C00003')\n",
      "('crg:105331805_3.2.1.78', 'C00001')\n",
      "('pau:PA14_26720_6.4.1.5', 'C00002')\n",
      "('pps:100983723_6.3.4.3', 'C00002')\n",
      "('pon:100433169_1.14.15.6', 'C00007')\n",
      "('eus:EUTSA_v10020875mg_1.14.19.26', 'C00007')\n",
      "('ebw:BWG_0153_3.1.5.1', 'C00001')\n",
      "('ptr:461861_2.7.11.21', 'C00002')\n",
      "('ptr:459880_2.7.11.22', 'C00002')\n",
      "('pps:100970419_3.1.3.16', 'C00001')\n",
      "('pps:100976568_3.1.3.48', 'C00001')\n",
      "('nle:100598804_2.4.1.17', 'C00001')\n",
      "('eus:EUTSA_v10000878mg_6.6.1.1', 'C00001')\n",
      "('reu:Reut_A1584_1.5.1.37', 'C00003')\n",
      "('ptr:107967644_1.2.1.3', 'C00001')\n",
      "('ptr:451866_4.6.1.1', 'C00002')\n",
      "('brp:103864755_1.2.3.14', 'C00001')\n",
      "('nle:100602552_3.5.4.10', 'C00001')\n",
      "('gan:UMN179_01047_3.13.1.6', 'C00001')\n",
      "('smo:SELMODRAFT_413967_3.1.3.99', 'C00001')\n",
      "('kpm:KPHS_30210_3.5.2.10', 'C00001')\n",
      "('pon:100460800_3.1.3.48', 'C00001')\n",
      "('ece:Z1415_1.7.2.3', 'C00001')\n",
      "('sply:Q5A_016900_6.3.2.46', 'C00002')\n",
      "('ptr:462378_2.7.11.22', 'C00002')\n",
      "('pgb:H744_1c1273_1.21.4.2', 'C00001')\n",
      "('pfl:PFL_5952_3.7.1.24', 'C00001')\n",
      "('hsa:107987479_1.14.14.1', 'C01598')\n",
      "('hsa:1580_1.14.14.1', 'C14556')\n",
      "('vha:VIBHAR_06241_1.14.14.3', 'C00007')\n",
      "('srh:BAY15_1814_3.1.1.57', 'C00001')\n",
      "('ecok:ECMDS42_1076_3.6.1.27', 'C00001')\n",
      "('dji:CH75_12785_3.1.2.29', 'C00001')\n",
      "('pps:100986274_2.4.2.30', 'C00003')\n",
      "('ggo:109024512_2.5.1.18', 'C14859')\n",
      "('ggo:101140183_3.1.2.2', 'C00154')\n",
      "('ptr:738493_1.14.18.9', 'C00001')\n",
      "('kpe:KPK_1712_1.18.6.1', 'C00002')\n",
      "('brp:103842267_1.2.1.9', 'C00001')\n",
      "('ggo:101132085_1.14.11.66', 'C00007')\n",
      "('brp:103840260_2.7.2.4', 'C00002')\n",
      "('shd:SUTH_01625_1.2.1.58', 'C00003')\n",
      "('kom:HR38_11985_3.2.1.82', 'C00001')\n",
      "('hsa:4830_2.7.4.6', 'C00008')\n",
      "('nve:5507796_1.5.3.14', 'C00001')\n",
      "('avl:AvCA_02610_1.18.6.2', 'C00001')\n",
      "('xsa:SB85_20205_3.1.3.87', 'C00001')\n",
      "('hsa:80347_2.7.7.3', 'C00002')\n",
      "('brp:103853097_1.7.1.3', 'C00001')\n",
      "('ncr:NCU09026_3.1.1.73', 'C00001')\n",
      "('nle:100602552_3.5.4.10', 'C00001')\n",
      "('nle:100583672_3.1.3.16', 'C00001')\n",
      "('ggo:101141692_3.4.19.12', 'C00001')\n",
      "('pps:100971570_3.4.19.12', 'C00001')\n",
      "('pcs:Pc21g21380_1.21.3.1', 'C00007')\n",
      "('pcq:PcP3B5_40420_2.6.1.77', 'C00245')\n",
      "('pon:100455395_3.1.4.12', 'C00001')\n",
      "('pps:100976902_3.6.1.1', 'C00001')\n",
      "('ggo:101140059_3.1.3.48', 'C00001')\n",
      "('nle:100589601_3.1.3.16', 'C00001')\n",
      "('pps:100970018_2.5.1.18', 'C14852')\n",
      "('eco:b1727_3.1.3.50', 'C00001')\n",
      "('ecoo:ECRM13514_1293_1.14.13.59', 'C00007')\n",
      "('ahp:V429_14935_6.3.5.13', 'C00001')\n",
      "('ece:Z3554_3.1.3.50', 'C00001')\n",
      "('mmw:Mmwyl1_3721_1.4.3.20', 'C00001')\n",
      "('nle:100597533_2.7.10.1', 'C00002')\n",
      "('csat:104792207_1.14.11.13', 'C02035')\n",
      "('hsa:79799_2.4.1.17', 'C00001')\n",
      "('pps:100988115_2.7.10.1', 'C00002')\n",
      "('ptr:465756_2.1.1.35', 'C00019')\n",
      "('hsa:6850_2.7.10.2', 'C00002')\n",
      "('ath:AT1G37130_1.7.1.3', 'C00006')\n",
      "('ecok:ECMDS42_0417_6.3.4.18', 'C00002')\n",
      "('csat:104722135_2.1.1.68', 'C10945')\n",
      "('isc:IscW_ISCW002744_2.7.7.48', 'C00002')\n",
      "('sfa:Sfla_0557_3.5.3.22', 'C00001')\n",
      "('nle:100607196_3.4.19.12', 'C00001')\n",
      "('ptr:741095_1.8.4.12', 'C00001')\n",
      "('nle:100587670_1.5.1.6', 'C00001')\n",
      "('lbq:CKQ53_16475_3.5.1.77', 'C00001')\n",
      "('nle:100580544_2.5.1.18', 'C07645')\n",
      "('eba:ebA744_1.3.7.8', 'C00001')\n",
      "('hsa:1545_1.14.14.1', 'C16756')\n",
      "('gur:Gura_3568_1.2.98.1', 'C00001')\n",
      "('pon:100447519_2.4.1.17', 'C00001')\n",
      "('nle:100596423_3.4.19.12', 'C00001')\n",
      "('mjh:JH146_0545_6.3.3.7', 'C00002')\n",
      "('nle:100603928_3.6.1.9', 'C00002')\n",
      "('ptr:449515_1.2.1.24', 'C00001')\n",
      "('mgo:AFA91_16300_3.13.1.3', 'C00001')\n",
      "('nle:100592291_3.5.3.15', 'C00001')\n",
      "('ece:Z0171_3.1.5.1', 'C00001')\n",
      "('ecok:ECMDS42_2960_3.1.4.52', 'C00001')\n",
      "('pps:103782856_3.1.3.48', 'C00001')\n",
      "('mthi:C7M52_00977_1.21.4.3', 'C00001')\n",
      "('ptr:107967129_1.14.11.27', 'C00007')\n",
      "('pon:100435313_6.3.5.1', 'C00001')\n",
      "('osa:4342505_1.14.11.24', 'C00026')\n",
      "('ggo:101147362_1.14.14.1', 'C00535')\n",
      "('pps:100970211_2.7.7.84', 'C00002')\n",
      "('csat:104737873_1.14.11.12', 'C00007')\n",
      "('nle:100579193_1.17.99.3', 'C00001')\n",
      "('nle:100583656_2.7.7.6', 'C00002')\n",
      "('ggo:115930140_1.1.1.1', 'C00006')\n",
      "('nle:100597273_3.1.3.48', 'C00001')\n",
      "('ece:Z1044_3.1.3.23', 'C00001')\n",
      "('ptr:466755_1.14.11.69', 'C00007')\n",
      "('zal:AZF00_12285_6.2.1.42', 'C00002')\n",
      "('pon:100435664_3.4.19.9', 'C00001')\n",
      "('dya:Dyak_GE25798_1.1.5.9', 'C00031')\n",
      "('eus:EUTSA_v10020814mg_2.7.1.44', 'C00002')\n",
      "('bng:EH206_12145_3.5.2.14', 'C00001')\n",
      "('nle:100595636_4.6.1.1', 'C00002')\n",
      "('pps:100968047_3.1.3.95', 'C00001')\n",
      "('mjl:Mjls_1636_1.2.1.78', 'C00001')\n",
      "('csat:104793611_6.3.2.52', 'C00002')\n",
      "('sera:Ser39006_012175_1.5.1.51', 'C00001')\n",
      "('pgb:H744_1c1273_1.21.4.3', 'C00001')\n",
      "('nle:100593871_2.7.11.13', 'C00002')\n",
      "('azi:AzCIB_1066_1.4.1.11', 'C00003')\n",
      "('pps:100972947_6.1.1.7', 'C00002')\n",
      "('aly:110226891_4.1.1.39', 'C00001')\n",
      "('aza:AZKH_1574_1.4.1.11', 'C00001')\n",
      "('aly:9326938_6.2.1.26', 'C00002')\n",
      "('pon:100453309_2.7.11.25', 'C00002')\n",
      "('pps:100973299_1.14.14.24', 'C00001')\n",
      "('ptr:104002294_2.7.1.40', 'C00063')\n",
      "('aza:AZKH_2149_3.7.1.21', 'C00001')\n",
      "('pps:100985387_2.5.1.6', 'C00002')\n",
      "('paev:N297_3275_1.3.1.43', 'C00003')\n",
      "('ecly:LI62_10670_1.3.3.11', 'C00007')\n",
      "('nle:115834336_3.1.3.16', 'C00001')\n",
      "('pon:100458715_3.1.3.16', 'C00001')\n",
      "('pps:100974068_3.1.3.48', 'C00001')\n",
      "('thyd:TTHT_2134_1.8.1.19', 'C00006')\n",
      "('nle:100593753_3.1.4.12', 'C00001')\n",
      "('nle:100604778_6.1.1.19', 'C00002')\n",
      "('ggo:101142144_3.6.1.55', 'C00001')\n",
      "('cls:CXIVA_16390_3.7.1.4', 'C00001')\n",
      "('sgb:WQO_33270_1.14.15.11', 'C00007')\n",
      "('eoj:ECO26_5454_1.5.1.40', 'C00006')\n",
      "('ggo:101141692_3.4.19.12', 'C00001')\n",
      "('tmn:UCRPA7_1978_1.5.3.10', 'C00007')\n",
      "('csat:104777214_1.14.19.11', 'C00007')\n",
      "('ago:AGOS_AFR440C_1.1.3.37', 'C00007')\n",
      "('ggo:101142144_3.6.1.55', 'C00001')\n",
      "('ptr:454499_2.7.11.24', 'C00002')\n",
      "('hsa:25862_3.4.19.12', 'C00001')\n",
      "('nle:115837275_3.4.19.12', 'C00001')\n",
      "('hsa:92235_3.1.3.16', 'C00001')\n",
      "('mtm:MYCTH_2094824_1.13.11.62', 'C00007')\n",
      "('pps:100988435_3.1.3.5', 'C01185')\n",
      "('ggo:101149513_1.14.14.55', 'C00007')\n",
      "('ebw:BWG_0153_3.1.5.1', 'C00001')\n",
      "('stek:AXG53_17280_1.14.99.50', 'C00007')\n",
      "('pon:100174654_1.2.1.3', 'C00001')\n",
      "('hsa:8876_3.5.1.92', 'C00001')\n",
      "('ptr:456602_3.4.19.12', 'C00001')\n",
      "('hsa:5778_3.1.3.48', 'C00001')\n",
      "('kll:BJF97_29060_3.5.3.3', 'C00001')\n",
      "('ptr:456829_1.14.11.66', 'C00007')\n",
      "('serm:CLM71_11810_3.5.4.44', 'C00001')\n",
      "('hsa:80824_3.1.3.16', 'C00001')\n",
      "('ptr:462033_1.2.1.3', 'C00001')\n",
      "('pps:100980257_3.1.3.48', 'C00001')\n",
      "('ggo:101146305_3.1.3.16', 'C00001')\n",
      "('hsr:HSBAA_48220_1.14.12.7', 'C00007')\n",
      "('cre:CHLREDRAFT_144745_1.13.11.75', 'C00007')\n",
      "('dge:Dgeo_0662_3.1.3.60', 'C00001')\n",
      "('pps:100984596_6.3.4.16', 'C00001')\n",
      "('ggo:101134886_3.1.3.95', 'C00001')\n",
      "('csat:104726025_4.1.1.1', 'C00084')\n",
      "('nle:100588910_1.14.14.1', 'C14556')\n",
      "('efe:EFER_3016_1.21.4.3', 'C00001')\n",
      "('lsv:111906167_1.14.14.95', 'C00007')\n",
      "('pon:100455112_3.1.3.16', 'C00001')\n",
      "('ptr:467257_3.2.1.31', 'C00001')\n",
      "('eclc:ECR091_12380_3.2.2.24', 'C00001')\n",
      "('sfr:Sfri_1760_1.1.3.48', 'C00007')\n",
      "('nle:100587670_1.5.1.6', 'C00001')\n",
      "('ptr:465582_3.4.19.12', 'C00001')\n",
      "('sej:STMUK_4416_3.7.1.22', 'C00001')\n",
      "('ptr:470168_3.4.19.14', 'C00001')\n",
      "('pon:100173513_3.1.3.16', 'C00001')\n",
      "('crb:17877995_1.14.15.24', 'C00007')\n",
      "('enr:H650_03220_1.18.6.1', 'C00002')\n",
      "('nle:100596451_3.1.3.96', 'C00001')\n",
      "('dze:Dd1591_2674_6.3.2.55', 'C00002')\n",
      "('smac:SMDB11_2018_1.14.11.58', 'C00007')\n",
      "('ptr:464773_2.7.11.13', 'C00002')\n",
      "('efe:EFER_3016_1.21.4.3', 'C00001')\n",
      "('smar:SM39_0813_1.3.99.16', 'C00001')\n",
      "('nle:100583784_3.1.3.48', 'C00001')\n",
      "('pps:100994212_2.3.1.16', 'C01832')\n",
      "('ptr:460970_1.1.1.30', 'C00003')\n",
      "('pon:100458998_1.4.1.21', 'C00001')\n",
      "('pon:100171600_4.1.2.50', 'C00001')\n",
      "('nle:100591464_3.1.3.48', 'C00001')\n",
      "('ttt:THITE_2120373_3.1.1.74', 'C00001')\n",
      "('ggo:101135855_1.17.99.3', 'C00001')\n",
      "('csat:104744343_1.14.19.11', 'C00007')\n",
      "('pfv:Psefu_2948_3.1.3.69', 'C00001')\n",
      "('pps:100976899_1.14.13.32', 'C00007')\n",
      "('ggo:101138620_1.2.1.3', 'C00001')\n",
      "('csat:104758130_3.1.2.28', 'C00001')\n",
      "('pps:100991340_3.1.3.48', 'C00001')\n",
      "('gra:105772676_1.10.3.1', 'C00355')\n",
      "('ary:ATC04_18335_1.14.13.29', 'C00007')\n",
      "('hsa:27231_2.7.1.22', 'C00002')\n",
      "('mmu:11872_3.2.2.5', 'C00001')\n",
      "('eoj:ECO26_2002_6.2.1.30', 'C00002')\n",
      "('pae:PA0849_4.3.1.9', 'C00001')\n",
      "('pps:100977037_3.1.3.48', 'C00001')\n",
      "('ggo:101152080_1.14.14.19', 'C00001')\n",
      "('isc:IscW_ISCW020789_3.5.4.33', 'C00001')\n",
      "('ptr:464031_3.1.1.34', 'C00001')\n",
      "('serm:CLM71_11810_3.5.4.44', 'C00001')\n",
      "('csat:104762167_1.17.7.3', 'C00001')\n",
      "('ptr:454690_2.7.1.24', 'C00002')\n",
      "('ggo:101133211_3.1.3.48', 'C00001')\n",
      "('pon:100461726_1.2.1.3', 'C00001')\n",
      "('nle:100605811_3.1.3.48', 'C00001')\n",
      "('pon:100439500_2.7.1.29', 'C00002')\n",
      "('crb:17900269_3.1.2.28', 'C00001')\n",
      "('hsa:659_2.7.11.30', 'C00002')\n",
      "('ece:Z5703_2.7.8.37', 'C00002')\n",
      "('pon:100441042_2.3.2.2', 'C00001')\n",
      "('ppb:PPUBIRD1_0774_2.7.3.13', 'C00001')\n",
      "('ats:109780592_3.1.7.6', 'C00001')\n",
      "('ptr:461217_2.7.11.12', 'C00002')\n",
      "('pps:100994715_4.6.1.1', 'C00002')\n",
      "('ptr:744351_6.1.1.17', 'C00002')\n",
      "('pps:100990913_2.7.7.19', 'C00002')\n",
      "('csat:104772032_3.5.1.10', 'C00001')\n",
      "('ath:AT1G15950_1.2.1.44', 'C00005')\n",
      "('bsl:A7A1_2963_2.5.1.30', 'C00448')\n",
      "('hsa:83875_1.13.11.71', 'C00007')\n",
      "('nta:107809914_4.1.1.53', 'C00079')\n",
      "('sgb:WQO_33270_1.14.15.11', 'C00007')\n",
      "('pmon:X969_19990_1.4.3.24', 'C00001')\n",
      "('ecok:ECMDS42_0447_6.3.2.14', 'C00002')\n",
      "('ptr:747942_2.6.1.1', 'C00082')\n",
      "('pps:100970348_3.1.1.5', 'C00001')\n",
      "('ptr:107966145_2.7.10.1', 'C00002')\n",
      "('aza:AZKH_2897_1.2.1.58', 'C00010')\n",
      "('pfs:PFLU_4269_1.14.11.55', 'C00007')\n",
      "('pps:100994346_3.4.19.12', 'C00001')\n",
      "('pps:100978064_2.7.10.2', 'C00002')\n",
      "('ptr:462033_1.2.1.3', 'C00001')\n",
      "('smz:SMD_0765_3.4.15.6', 'C00001')\n",
      "('ecd:ECDH10B_3102_1.2.1.72', 'C00003')\n",
      "('pon:100445062_3.4.19.12', 'C00001')\n",
      "('csat:104770558_3.5.5.4', 'C00001')\n",
      "('pmon:X969_19985_1.2.1.83', 'C00006')\n",
      "('csat:104783051_1.13.11.68', 'C00007')\n",
      "('metu:GNH96_03530_3.5.4.27', 'C00001')\n",
      "('csat:104720179_1.14.18.10', 'C00007')\n",
      "('ptr:463443_3.2.1.31', 'C00001')\n",
      "('ecok:ECMDS42_0456_6.3.2.14', 'C00002')\n",
      "('bsl:A7A1_1759_1.14.99.48', 'C00007')\n",
      "('nfi:NFIA_045530_1.14.11.38', 'C00007')\n",
      "('plu:plu0145_1.3.1.32', 'C00006')\n",
      "('csat:104729959_3.13.1.1', 'C00094')\n",
      "('dse:6604890_1.5.4.1', 'C00001')\n",
      "('tcc:18596897_1.10.3.1', 'C00007')\n",
      "('hsa:6470_2.1.2.1', 'C00143')\n",
      "('ptr:735881_1.14.14.1', 'C14781')\n",
      "('ggo:101131418_3.1.3.74', 'C00001')\n",
      "('ggo:101141727_2.4.1.17', 'C00001')\n",
      "('ncl:C5F47_01010_6.2.1.56', 'C00002')\n",
      "('nle:100607808_3.4.19.12', 'C00001')\n",
      "('ptr:107966459_2.3.2.2', 'C00001')\n",
      "('dsr:110178468_1.1.1.59', 'C00003')\n",
      "('eoi:ECO111_1781_1.2.1.91', 'C00001')\n",
      "('pon:100440914_3.4.19.12', 'C00001')\n",
      "('brp:103830232_1.14.11.12', 'C00026')\n",
      "('ggo:101138620_1.2.1.3', 'C00001')\n",
      "('ggo:101132082_3.5.2.9', 'C00002')\n",
      "('hsa:54961_3.1.3.48', 'C00001')\n",
      "('avd:AvCA6_02600_1.18.6.2', 'C00001')\n",
      "('csat:104719228_1.3.1.78', 'C00006')\n",
      "('lak:106154406_1.5.1.23', 'C00001')\n",
      "('ype:YPO1347_1.5.1.52', 'C00001')\n",
      "('nle:100582638_3.1.3.74', 'C00001')\n",
      "('ptr:463610_2.7.10.1', 'C00002')\n",
      "('mko:MKLM6_3290_1.14.99.44', 'C00007')\n",
      "('nle:100586991_3.4.19.12', 'C00001')\n",
      "('kpu:KP1_2743_3.1.1.15', 'C00001')\n",
      "('bng:EH206_07455_1.2.1.81', 'C00006')\n",
      "('mop:Mesop_5739_6.3.4.12', 'C00002')\n",
      "('ptr:452219_6.3.4.14', 'C00288')\n",
      "('pon:100435313_6.3.5.1', 'C00001')\n",
      "('gan:UMN179_01047_3.13.1.6', 'C00001')\n"
     ]
    }
   ],
   "source": [
    "# getting rid of any possible positive pairs\n",
    "\n",
    "positive_valid_set = set(zip(X_valid_name, X_valid_subs))\n",
    "\n",
    "potential_negative_valid = []\n",
    "\n",
    "for enz,sub in zip(X_valid_name_rand, X_valid_subs_rand):\n",
    "    if (enz,sub) in positive_valid_set:\n",
    "        print((enz,sub))\n",
    "    else:\n",
    "        potential_negative_valid.append((enz,sub))"
   ]
  },
  {
   "cell_type": "code",
   "execution_count": 28,
   "metadata": {},
   "outputs": [
    {
     "data": {
      "text/plain": [
       "34085"
      ]
     },
     "execution_count": 28,
     "metadata": {},
     "output_type": "execute_result"
    }
   ],
   "source": [
    "len(potential_negative_valid)"
   ]
  },
  {
   "cell_type": "code",
   "execution_count": 29,
   "metadata": {},
   "outputs": [],
   "source": [
    "X_valid_name_neg = [pn[0] for pn in potential_negative_valid]\n",
    "X_valid_subs_neg = [pn[1] for pn in potential_negative_valid]\n",
    "\n",
    "X_enc_valid_neg = X_enc.loc[X_valid_name_neg, :]\n",
    "X_valid_subs_molsig_neg = df_subs.loc[X_valid_subs_neg, :]\n",
    "\n",
    "X_va_neg = np.concatenate((X_enc_valid_neg.values, X_valid_subs_molsig_neg.values), axis=1)"
   ]
  },
  {
   "cell_type": "code",
   "execution_count": 30,
   "metadata": {},
   "outputs": [],
   "source": [
    "class EnzymeRanker:\n",
    "    def __init__(self, X_tr_pos, kern=\"gaussian\", bw=0.35):\n",
    "        \"\"\"\n",
    "        X_tr_pos: An array of concatenated enzyme and substrate feature vectors required for model training\n",
    "        kernel: kde model kernel\n",
    "        bw: bandwidth of the kde model\n",
    "        \"\"\"\n",
    "        self.kern =  kern\n",
    "        self.bw = bw\n",
    "        self.model = self._get_model()\n",
    "        self.model.fit(X_tr_pos)\n",
    "    \n",
    "    def _get_model(self):\n",
    "        return KernelDensity(kernel=self.kern, bandwidth=self.bw)\n",
    "    \n",
    "    def get_pos_acc(self, X_va_pos):\n",
    "        scores_valid = self.model.score_samples(X_va_pos)\n",
    "        correct_frac = len(np.where(scores_valid>0)[0])/len(scores_valid)\n",
    "        return correct_frac, scores_valid\n",
    "    \n",
    "    def get_neg_acc(self, X_va_neg):\n",
    "        scores_valid = self.model.score_samples(X_va_neg)\n",
    "        correct_frac = len(np.where(scores_valid<0)[0])/len(scores_valid)\n",
    "        return correct_frac, scores_valid\n",
    "    "
   ]
  },
  {
   "cell_type": "code",
   "execution_count": 31,
   "metadata": {},
   "outputs": [],
   "source": [
    "def bandwidth_hpopt(bw):\n",
    "    kde = EnzymeRanker(X_tr, bw=bw)\n",
    "    acc_pos, _ = kde.get_pos_acc(X_va)\n",
    "    acc_neg, _ = kde.get_neg_acc(X_va_neg)\n",
    "    return bw, acc_pos, acc_neg"
   ]
  },
  {
   "cell_type": "code",
   "execution_count": 32,
   "metadata": {},
   "outputs": [
    {
     "data": {
      "text/plain": [
       "24"
      ]
     },
     "execution_count": 32,
     "metadata": {},
     "output_type": "execute_result"
    }
   ],
   "source": [
    "mp.cpu_count()"
   ]
  },
  {
   "cell_type": "code",
   "execution_count": 33,
   "metadata": {},
   "outputs": [],
   "source": [
    "def multi_func(bws):\n",
    "    pool = mp.Pool(mp.cpu_count())\n",
    "    info = pool.map(bandwidth_hpopt, bws)\n",
    "    return info"
   ]
  },
  {
   "cell_type": "code",
   "execution_count": 74,
   "metadata": {},
   "outputs": [],
   "source": [
    "bws_ = np.logspace(-0.5, -0.39, 50)"
   ]
  },
  {
   "cell_type": "code",
   "execution_count": 75,
   "metadata": {},
   "outputs": [
    {
     "ename": "KeyboardInterrupt",
     "evalue": "",
     "output_type": "error",
     "traceback": [
      "\u001b[0;31m---------------------------------------------------------------------------\u001b[0m",
      "\u001b[0;31mKeyboardInterrupt\u001b[0m                         Traceback (most recent call last)",
      "\u001b[0;32m<timed exec>\u001b[0m in \u001b[0;36m<module>\u001b[0;34m\u001b[0m\n",
      "\u001b[0;32m<ipython-input-33-df9fa3d70be7>\u001b[0m in \u001b[0;36mmulti_func\u001b[0;34m(bws)\u001b[0m\n\u001b[1;32m      1\u001b[0m \u001b[0;32mdef\u001b[0m \u001b[0mmulti_func\u001b[0m\u001b[0;34m(\u001b[0m\u001b[0mbws\u001b[0m\u001b[0;34m)\u001b[0m\u001b[0;34m:\u001b[0m\u001b[0;34m\u001b[0m\u001b[0;34m\u001b[0m\u001b[0m\n\u001b[1;32m      2\u001b[0m     \u001b[0mpool\u001b[0m \u001b[0;34m=\u001b[0m \u001b[0mmp\u001b[0m\u001b[0;34m.\u001b[0m\u001b[0mPool\u001b[0m\u001b[0;34m(\u001b[0m\u001b[0mmp\u001b[0m\u001b[0;34m.\u001b[0m\u001b[0mcpu_count\u001b[0m\u001b[0;34m(\u001b[0m\u001b[0;34m)\u001b[0m\u001b[0;34m)\u001b[0m\u001b[0;34m\u001b[0m\u001b[0;34m\u001b[0m\u001b[0m\n\u001b[0;32m----> 3\u001b[0;31m     \u001b[0minfo\u001b[0m \u001b[0;34m=\u001b[0m \u001b[0mpool\u001b[0m\u001b[0;34m.\u001b[0m\u001b[0mmap\u001b[0m\u001b[0;34m(\u001b[0m\u001b[0mbandwidth_hpopt\u001b[0m\u001b[0;34m,\u001b[0m \u001b[0mbws\u001b[0m\u001b[0;34m)\u001b[0m\u001b[0;34m\u001b[0m\u001b[0;34m\u001b[0m\u001b[0m\n\u001b[0m\u001b[1;32m      4\u001b[0m     \u001b[0;32mreturn\u001b[0m \u001b[0minfo\u001b[0m\u001b[0;34m\u001b[0m\u001b[0;34m\u001b[0m\u001b[0m\n",
      "\u001b[0;32m/opt/aci/sw/anaconda3/2020.07_gcc-4.8.5-bzb/lib/python3.8/multiprocessing/pool.py\u001b[0m in \u001b[0;36mmap\u001b[0;34m(self, func, iterable, chunksize)\u001b[0m\n\u001b[1;32m    362\u001b[0m         \u001b[0;32min\u001b[0m \u001b[0ma\u001b[0m \u001b[0mlist\u001b[0m \u001b[0mthat\u001b[0m \u001b[0;32mis\u001b[0m \u001b[0mreturned\u001b[0m\u001b[0;34m.\u001b[0m\u001b[0;34m\u001b[0m\u001b[0;34m\u001b[0m\u001b[0m\n\u001b[1;32m    363\u001b[0m         '''\n\u001b[0;32m--> 364\u001b[0;31m         \u001b[0;32mreturn\u001b[0m \u001b[0mself\u001b[0m\u001b[0;34m.\u001b[0m\u001b[0m_map_async\u001b[0m\u001b[0;34m(\u001b[0m\u001b[0mfunc\u001b[0m\u001b[0;34m,\u001b[0m \u001b[0miterable\u001b[0m\u001b[0;34m,\u001b[0m \u001b[0mmapstar\u001b[0m\u001b[0;34m,\u001b[0m \u001b[0mchunksize\u001b[0m\u001b[0;34m)\u001b[0m\u001b[0;34m.\u001b[0m\u001b[0mget\u001b[0m\u001b[0;34m(\u001b[0m\u001b[0;34m)\u001b[0m\u001b[0;34m\u001b[0m\u001b[0;34m\u001b[0m\u001b[0m\n\u001b[0m\u001b[1;32m    365\u001b[0m \u001b[0;34m\u001b[0m\u001b[0m\n\u001b[1;32m    366\u001b[0m     \u001b[0;32mdef\u001b[0m \u001b[0mstarmap\u001b[0m\u001b[0;34m(\u001b[0m\u001b[0mself\u001b[0m\u001b[0;34m,\u001b[0m \u001b[0mfunc\u001b[0m\u001b[0;34m,\u001b[0m \u001b[0miterable\u001b[0m\u001b[0;34m,\u001b[0m \u001b[0mchunksize\u001b[0m\u001b[0;34m=\u001b[0m\u001b[0;32mNone\u001b[0m\u001b[0;34m)\u001b[0m\u001b[0;34m:\u001b[0m\u001b[0;34m\u001b[0m\u001b[0;34m\u001b[0m\u001b[0m\n",
      "\u001b[0;32m/opt/aci/sw/anaconda3/2020.07_gcc-4.8.5-bzb/lib/python3.8/multiprocessing/pool.py\u001b[0m in \u001b[0;36mget\u001b[0;34m(self, timeout)\u001b[0m\n\u001b[1;32m    763\u001b[0m \u001b[0;34m\u001b[0m\u001b[0m\n\u001b[1;32m    764\u001b[0m     \u001b[0;32mdef\u001b[0m \u001b[0mget\u001b[0m\u001b[0;34m(\u001b[0m\u001b[0mself\u001b[0m\u001b[0;34m,\u001b[0m \u001b[0mtimeout\u001b[0m\u001b[0;34m=\u001b[0m\u001b[0;32mNone\u001b[0m\u001b[0;34m)\u001b[0m\u001b[0;34m:\u001b[0m\u001b[0;34m\u001b[0m\u001b[0;34m\u001b[0m\u001b[0m\n\u001b[0;32m--> 765\u001b[0;31m         \u001b[0mself\u001b[0m\u001b[0;34m.\u001b[0m\u001b[0mwait\u001b[0m\u001b[0;34m(\u001b[0m\u001b[0mtimeout\u001b[0m\u001b[0;34m)\u001b[0m\u001b[0;34m\u001b[0m\u001b[0;34m\u001b[0m\u001b[0m\n\u001b[0m\u001b[1;32m    766\u001b[0m         \u001b[0;32mif\u001b[0m \u001b[0;32mnot\u001b[0m \u001b[0mself\u001b[0m\u001b[0;34m.\u001b[0m\u001b[0mready\u001b[0m\u001b[0;34m(\u001b[0m\u001b[0;34m)\u001b[0m\u001b[0;34m:\u001b[0m\u001b[0;34m\u001b[0m\u001b[0;34m\u001b[0m\u001b[0m\n\u001b[1;32m    767\u001b[0m             \u001b[0;32mraise\u001b[0m \u001b[0mTimeoutError\u001b[0m\u001b[0;34m\u001b[0m\u001b[0;34m\u001b[0m\u001b[0m\n",
      "\u001b[0;32m/opt/aci/sw/anaconda3/2020.07_gcc-4.8.5-bzb/lib/python3.8/multiprocessing/pool.py\u001b[0m in \u001b[0;36mwait\u001b[0;34m(self, timeout)\u001b[0m\n\u001b[1;32m    760\u001b[0m \u001b[0;34m\u001b[0m\u001b[0m\n\u001b[1;32m    761\u001b[0m     \u001b[0;32mdef\u001b[0m \u001b[0mwait\u001b[0m\u001b[0;34m(\u001b[0m\u001b[0mself\u001b[0m\u001b[0;34m,\u001b[0m \u001b[0mtimeout\u001b[0m\u001b[0;34m=\u001b[0m\u001b[0;32mNone\u001b[0m\u001b[0;34m)\u001b[0m\u001b[0;34m:\u001b[0m\u001b[0;34m\u001b[0m\u001b[0;34m\u001b[0m\u001b[0m\n\u001b[0;32m--> 762\u001b[0;31m         \u001b[0mself\u001b[0m\u001b[0;34m.\u001b[0m\u001b[0m_event\u001b[0m\u001b[0;34m.\u001b[0m\u001b[0mwait\u001b[0m\u001b[0;34m(\u001b[0m\u001b[0mtimeout\u001b[0m\u001b[0;34m)\u001b[0m\u001b[0;34m\u001b[0m\u001b[0;34m\u001b[0m\u001b[0m\n\u001b[0m\u001b[1;32m    763\u001b[0m \u001b[0;34m\u001b[0m\u001b[0m\n\u001b[1;32m    764\u001b[0m     \u001b[0;32mdef\u001b[0m \u001b[0mget\u001b[0m\u001b[0;34m(\u001b[0m\u001b[0mself\u001b[0m\u001b[0;34m,\u001b[0m \u001b[0mtimeout\u001b[0m\u001b[0;34m=\u001b[0m\u001b[0;32mNone\u001b[0m\u001b[0;34m)\u001b[0m\u001b[0;34m:\u001b[0m\u001b[0;34m\u001b[0m\u001b[0;34m\u001b[0m\u001b[0m\n",
      "\u001b[0;32m/opt/aci/sw/anaconda3/2020.07_gcc-4.8.5-bzb/lib/python3.8/threading.py\u001b[0m in \u001b[0;36mwait\u001b[0;34m(self, timeout)\u001b[0m\n\u001b[1;32m    556\u001b[0m             \u001b[0msignaled\u001b[0m \u001b[0;34m=\u001b[0m \u001b[0mself\u001b[0m\u001b[0;34m.\u001b[0m\u001b[0m_flag\u001b[0m\u001b[0;34m\u001b[0m\u001b[0;34m\u001b[0m\u001b[0m\n\u001b[1;32m    557\u001b[0m             \u001b[0;32mif\u001b[0m \u001b[0;32mnot\u001b[0m \u001b[0msignaled\u001b[0m\u001b[0;34m:\u001b[0m\u001b[0;34m\u001b[0m\u001b[0;34m\u001b[0m\u001b[0m\n\u001b[0;32m--> 558\u001b[0;31m                 \u001b[0msignaled\u001b[0m \u001b[0;34m=\u001b[0m \u001b[0mself\u001b[0m\u001b[0;34m.\u001b[0m\u001b[0m_cond\u001b[0m\u001b[0;34m.\u001b[0m\u001b[0mwait\u001b[0m\u001b[0;34m(\u001b[0m\u001b[0mtimeout\u001b[0m\u001b[0;34m)\u001b[0m\u001b[0;34m\u001b[0m\u001b[0;34m\u001b[0m\u001b[0m\n\u001b[0m\u001b[1;32m    559\u001b[0m             \u001b[0;32mreturn\u001b[0m \u001b[0msignaled\u001b[0m\u001b[0;34m\u001b[0m\u001b[0;34m\u001b[0m\u001b[0m\n\u001b[1;32m    560\u001b[0m \u001b[0;34m\u001b[0m\u001b[0m\n",
      "\u001b[0;32m/opt/aci/sw/anaconda3/2020.07_gcc-4.8.5-bzb/lib/python3.8/threading.py\u001b[0m in \u001b[0;36mwait\u001b[0;34m(self, timeout)\u001b[0m\n\u001b[1;32m    300\u001b[0m         \u001b[0;32mtry\u001b[0m\u001b[0;34m:\u001b[0m    \u001b[0;31m# restore state no matter what (e.g., KeyboardInterrupt)\u001b[0m\u001b[0;34m\u001b[0m\u001b[0;34m\u001b[0m\u001b[0m\n\u001b[1;32m    301\u001b[0m             \u001b[0;32mif\u001b[0m \u001b[0mtimeout\u001b[0m \u001b[0;32mis\u001b[0m \u001b[0;32mNone\u001b[0m\u001b[0;34m:\u001b[0m\u001b[0;34m\u001b[0m\u001b[0;34m\u001b[0m\u001b[0m\n\u001b[0;32m--> 302\u001b[0;31m                 \u001b[0mwaiter\u001b[0m\u001b[0;34m.\u001b[0m\u001b[0macquire\u001b[0m\u001b[0;34m(\u001b[0m\u001b[0;34m)\u001b[0m\u001b[0;34m\u001b[0m\u001b[0;34m\u001b[0m\u001b[0m\n\u001b[0m\u001b[1;32m    303\u001b[0m                 \u001b[0mgotit\u001b[0m \u001b[0;34m=\u001b[0m \u001b[0;32mTrue\u001b[0m\u001b[0;34m\u001b[0m\u001b[0;34m\u001b[0m\u001b[0m\n\u001b[1;32m    304\u001b[0m             \u001b[0;32melse\u001b[0m\u001b[0;34m:\u001b[0m\u001b[0;34m\u001b[0m\u001b[0;34m\u001b[0m\u001b[0m\n",
      "\u001b[0;31mKeyboardInterrupt\u001b[0m: "
     ]
    }
   ],
   "source": [
    "%%time\n",
    "scores = multi_func(bws_)"
   ]
  },
  {
   "cell_type": "code",
   "execution_count": 76,
   "metadata": {},
   "outputs": [
    {
     "ename": "NameError",
     "evalue": "name 'scores' is not defined",
     "output_type": "error",
     "traceback": [
      "\u001b[0;31m---------------------------------------------------------------------------\u001b[0m",
      "\u001b[0;31mNameError\u001b[0m                                 Traceback (most recent call last)",
      "\u001b[0;32m<ipython-input-76-fa8cef49474b>\u001b[0m in \u001b[0;36m<module>\u001b[0;34m\u001b[0m\n\u001b[0;32m----> 1\u001b[0;31m \u001b[0mscores\u001b[0m\u001b[0;34m\u001b[0m\u001b[0;34m\u001b[0m\u001b[0m\n\u001b[0m",
      "\u001b[0;31mNameError\u001b[0m: name 'scores' is not defined"
     ]
    }
   ],
   "source": [
    "scores"
   ]
  },
  {
   "cell_type": "code",
   "execution_count": 77,
   "metadata": {},
   "outputs": [
    {
     "data": {
      "text/plain": [
       "array([0.31622777, 0.3178666 , 0.31951393, 0.32116979, 0.32283424,\n",
       "       0.32450731, 0.32618906, 0.32787952, 0.32957874, 0.33128676,\n",
       "       0.33300364, 0.33472941, 0.33646413, 0.33820784, 0.33996059,\n",
       "       0.34172242, 0.34349338, 0.34527351, 0.34706288, 0.34886151,\n",
       "       0.35066947, 0.3524868 , 0.35431354, 0.35614976, 0.35799549,\n",
       "       0.35985078, 0.36171569, 0.36359026, 0.36547455, 0.36736861,\n",
       "       0.36927248, 0.37118621, 0.37310987, 0.37504349, 0.37698714,\n",
       "       0.37894085, 0.3809047 , 0.38287872, 0.38486297, 0.3868575 ,\n",
       "       0.38886237, 0.39087763, 0.39290333, 0.39493954, 0.39698629,\n",
       "       0.39904365, 0.40111168, 0.40319042, 0.40527993, 0.40738028])"
      ]
     },
     "execution_count": 77,
     "metadata": {},
     "output_type": "execute_result"
    }
   ],
   "source": [
    "bws_"
   ]
  },
  {
   "cell_type": "code",
   "execution_count": 43,
   "metadata": {},
   "outputs": [
    {
     "name": "stdout",
     "output_type": "stream",
     "text": [
      "CPU times: user 14.2 s, sys: 23 ms, total: 14.2 s\n",
      "Wall time: 14.2 s\n"
     ]
    }
   ],
   "source": [
    "%%time\n",
    "kde = EnzymeRanker(X_tr, bw=0.39187763)"
   ]
  },
  {
   "cell_type": "code",
   "execution_count": 44,
   "metadata": {},
   "outputs": [
    {
     "data": {
      "text/plain": [
       "888.1283011189337"
      ]
     },
     "execution_count": 44,
     "metadata": {},
     "output_type": "execute_result"
    }
   ],
   "source": [
    "kde.model.score(X_tr[:40])"
   ]
  },
  {
   "cell_type": "code",
   "execution_count": 45,
   "metadata": {},
   "outputs": [
    {
     "name": "stdout",
     "output_type": "stream",
     "text": [
      "CPU times: user 25min 48s, sys: 1.24 s, total: 25min 49s\n",
      "Wall time: 25min 46s\n"
     ]
    }
   ],
   "source": [
    "%%time\n",
    "acc_pos, scores_pos = kde.get_pos_acc(X_va)"
   ]
  },
  {
   "cell_type": "code",
   "execution_count": 46,
   "metadata": {},
   "outputs": [
    {
     "name": "stdout",
     "output_type": "stream",
     "text": [
      "CPU times: user 50min 52s, sys: 4.87 s, total: 50min 57s\n",
      "Wall time: 50min 48s\n"
     ]
    }
   ],
   "source": [
    "%%time\n",
    "acc_neg, scores_neg = kde.get_neg_acc(X_va_neg)"
   ]
  },
  {
   "cell_type": "code",
   "execution_count": 47,
   "metadata": {},
   "outputs": [
    {
     "name": "stdout",
     "output_type": "stream",
     "text": [
      "0.48819982773471143 0.9415285316121461\n"
     ]
    }
   ],
   "source": [
    "print(acc_pos, acc_neg)"
   ]
  },
  {
   "cell_type": "code",
   "execution_count": 59,
   "metadata": {},
   "outputs": [
    {
     "data": {
      "text/plain": [
       "(-466.0266034021124,\n",
       " -18.478406064283842,\n",
       " 974.5862666819726,\n",
       " -8900.24583571762,\n",
       " 33.396207987457814)"
      ]
     },
     "execution_count": 59,
     "metadata": {},
     "output_type": "execute_result"
    }
   ],
   "source": [
    "return_statistics(scores_neg)"
   ]
  },
  {
   "cell_type": "code",
   "execution_count": 60,
   "metadata": {},
   "outputs": [
    {
     "data": {
      "text/plain": [
       "(-86.70315477234887,\n",
       " 7.856755167973606,\n",
       " 434.42926400412193,\n",
       " -7584.30051998923,\n",
       " 33.396207987457814)"
      ]
     },
     "execution_count": 60,
     "metadata": {},
     "output_type": "execute_result"
    }
   ],
   "source": [
    "return_statistics(scores_pos)"
   ]
  },
  {
   "cell_type": "code",
   "execution_count": 34,
   "metadata": {},
   "outputs": [],
   "source": [
    "with open(\"positive_pair_scores.csv\", \"w\") as f:\n",
    "    for enz,subs,score in zip(X_valid_name, X_valid_subs, scores_pos):\n",
    "        f.write(f\"{enz},{subs},{score}\\n\")"
   ]
  },
  {
   "cell_type": "code",
   "execution_count": 35,
   "metadata": {},
   "outputs": [],
   "source": [
    "with open(\"negative_pair_scores.csv\", \"w\") as f:\n",
    "    for enz,subs,score in zip(X_valid_name_neg, X_valid_subs_neg, scores_neg):\n",
    "        f.write(f\"{enz},{subs},{score}\\n\")"
   ]
  },
  {
   "cell_type": "markdown",
   "metadata": {},
   "source": [
    "# Validation Score statistics"
   ]
  },
  {
   "cell_type": "code",
   "execution_count": 45,
   "metadata": {},
   "outputs": [],
   "source": [
    "def return_statistics(scores):\n",
    "    return np.mean(scores), np.median(scores), np.std(scores), np.min(scores), np.max(scores)"
   ]
  },
  {
   "cell_type": "code",
   "execution_count": 46,
   "metadata": {},
   "outputs": [
    {
     "data": {
      "text/plain": [
       "(-7877.43221164863,\n",
       " 1185.1128031780004,\n",
       " 17520.357731976044,\n",
       " -133308.01546518086,\n",
       " 2536.232089203827)"
      ]
     },
     "execution_count": 46,
     "metadata": {},
     "output_type": "execute_result"
    }
   ],
   "source": [
    "return_statistics(scores_neg)"
   ]
  },
  {
   "cell_type": "code",
   "execution_count": 37,
   "metadata": {
    "scrolled": true
   },
   "outputs": [
    {
     "data": {
      "text/plain": [
       "(70.60164939712396,\n",
       " 205.34652975492108,\n",
       " 575.5400247500572,\n",
       " -9225.360232914447,\n",
       " 232.40099014084677)"
      ]
     },
     "execution_count": 37,
     "metadata": {},
     "output_type": "execute_result"
    }
   ],
   "source": [
    "return_statistics(scores_valid)"
   ]
  },
  {
   "cell_type": "code",
   "execution_count": 38,
   "metadata": {},
   "outputs": [
    {
     "data": {
      "text/plain": [
       "(-456.35403101636416,\n",
       " 148.896534902722,\n",
       " 1279.0112968122646,\n",
       " -9736.00232334976,\n",
       " 232.40099014084677)"
      ]
     },
     "execution_count": 38,
     "metadata": {},
     "output_type": "execute_result"
    }
   ],
   "source": [
    "return_statistics(scores_valid_neg)"
   ]
  },
  {
   "cell_type": "markdown",
   "metadata": {},
   "source": [
    "## Scores with very low activity predicted (<1)"
   ]
  },
  {
   "cell_type": "code",
   "execution_count": 39,
   "metadata": {},
   "outputs": [
    {
     "data": {
      "text/plain": [
       "(1732, 11871)"
      ]
     },
     "execution_count": 39,
     "metadata": {},
     "output_type": "execute_result"
    }
   ],
   "source": [
    "len(np.where(scores_valid<1)[0]), len(np.where(scores_valid_neg<1)[0])"
   ]
  },
  {
   "cell_type": "markdown",
   "metadata": {},
   "source": [
    "# Model Evaluation"
   ]
  },
  {
   "cell_type": "markdown",
   "metadata": {},
   "source": [
    "# Tanimoto index comparison\n",
    "\n",
    "Main idea: When compared to a given substrate, if a similar substrate interacts with an enzyme, then the given substrate will also interact with that enzyme. \n",
    "\n",
    "Given an enzyme-substrate pair:\n",
    "\n",
    "- Look at the substrate name\n",
    "- Select a threshold\n",
    "- Find substrates which are known to be similar based on that threshold\n",
    "- Find enzymes known to react with that substrate\n",
    "- Is the given enzyme present in that list? \n",
    "    - Yes: Enzyme reacts with that substrate.\n",
    "    - No: It does not react with that substrate."
   ]
  },
  {
   "cell_type": "code",
   "execution_count": 40,
   "metadata": {},
   "outputs": [],
   "source": [
    "def get_tanimoto_index(sub1, sub2):\n",
    "    \"\"\"\n",
    "    Tanimoto index calculator: requires substrate 1 and 2 features/signatures\n",
    "    \"\"\"\n",
    "    bool_sub1 = set(np.where(sub1>=1)[0])\n",
    "    bool_sub2 = set(np.where(sub2>=1)[0])\n",
    "    Num_feat_sub1 = len(bool_sub1)\n",
    "    Num_feat_sub2 = len(bool_sub2)\n",
    "    Num_common = len(bool_sub1.intersection(bool_sub2))\n",
    "    return Num_common/(Num_feat_sub1 + Num_feat_sub2 - Num_common)"
   ]
  },
  {
   "cell_type": "code",
   "execution_count": 41,
   "metadata": {},
   "outputs": [],
   "source": [
    "# Multiple thresholds for the Tanimoto model\n",
    "thres = [0.1, 0.33, 0.5, 0.66, 0.9]\n",
    "\n"
   ]
  },
  {
   "cell_type": "code",
   "execution_count": 42,
   "metadata": {},
   "outputs": [],
   "source": [
    "# sort the database by substrate name and then enzyme name\n",
    "X_tani_database = sorted(list(zip(X_train_name,  X_train_subs)), key=lambda x: (x[1], x[0]))"
   ]
  },
  {
   "cell_type": "code",
   "execution_count": 43,
   "metadata": {},
   "outputs": [],
   "source": [
    "import itertools"
   ]
  },
  {
   "cell_type": "code",
   "execution_count": 44,
   "metadata": {},
   "outputs": [],
   "source": [
    "tani_iterator = itertools.groupby(X_tani_database, lambda x : x[1])\n",
    "tani_data_dir = dict()\n",
    "  \n",
    "for key, group in tani_iterator:\n",
    "    tani_data_dir[key] = [g[0] for g in group]\n"
   ]
  },
  {
   "cell_type": "code",
   "execution_count": 45,
   "metadata": {},
   "outputs": [
    {
     "data": {
      "text/html": [
       "<div>\n",
       "<style scoped>\n",
       "    .dataframe tbody tr th:only-of-type {\n",
       "        vertical-align: middle;\n",
       "    }\n",
       "\n",
       "    .dataframe tbody tr th {\n",
       "        vertical-align: top;\n",
       "    }\n",
       "\n",
       "    .dataframe thead th {\n",
       "        text-align: right;\n",
       "    }\n",
       "</style>\n",
       "<table border=\"1\" class=\"dataframe\">\n",
       "  <thead>\n",
       "    <tr style=\"text-align: right;\">\n",
       "      <th></th>\n",
       "      <th>O</th>\n",
       "      <th>cN</th>\n",
       "      <th>cc(n)N</th>\n",
       "      <th>cc(c)n</th>\n",
       "      <th>cnc</th>\n",
       "      <th>ncn</th>\n",
       "      <th>cn(c)C</th>\n",
       "      <th>C[C@H](n)O</th>\n",
       "      <th>COC</th>\n",
       "      <th>C[C@H](C)O</th>\n",
       "      <th>...</th>\n",
       "      <th>[NH]N</th>\n",
       "      <th>[N]=N[NH]</th>\n",
       "      <th>CC(=C)[N+]</th>\n",
       "      <th>C/C(=C)N</th>\n",
       "      <th>co[nH]</th>\n",
       "      <th>c[nH]o</th>\n",
       "      <th>CS(=c)[O-]</th>\n",
       "      <th>CS(=c)O</th>\n",
       "      <th>[NH3+]CS</th>\n",
       "      <th>CC([n+])O</th>\n",
       "    </tr>\n",
       "  </thead>\n",
       "  <tbody>\n",
       "    <tr>\n",
       "      <th>C00001</th>\n",
       "      <td>1.0</td>\n",
       "      <td>0.0</td>\n",
       "      <td>0.0</td>\n",
       "      <td>0.0</td>\n",
       "      <td>0.0</td>\n",
       "      <td>0.0</td>\n",
       "      <td>0.0</td>\n",
       "      <td>0.0</td>\n",
       "      <td>0.0</td>\n",
       "      <td>0.0</td>\n",
       "      <td>...</td>\n",
       "      <td>0.0</td>\n",
       "      <td>0.0</td>\n",
       "      <td>0.0</td>\n",
       "      <td>0.0</td>\n",
       "      <td>0.0</td>\n",
       "      <td>0.0</td>\n",
       "      <td>0.0</td>\n",
       "      <td>0.0</td>\n",
       "      <td>0.0</td>\n",
       "      <td>0.0</td>\n",
       "    </tr>\n",
       "    <tr>\n",
       "      <th>C00002</th>\n",
       "      <td>0.0</td>\n",
       "      <td>1.0</td>\n",
       "      <td>1.0</td>\n",
       "      <td>1.0</td>\n",
       "      <td>3.0</td>\n",
       "      <td>2.0</td>\n",
       "      <td>1.0</td>\n",
       "      <td>1.0</td>\n",
       "      <td>1.0</td>\n",
       "      <td>3.0</td>\n",
       "      <td>...</td>\n",
       "      <td>0.0</td>\n",
       "      <td>0.0</td>\n",
       "      <td>0.0</td>\n",
       "      <td>0.0</td>\n",
       "      <td>0.0</td>\n",
       "      <td>0.0</td>\n",
       "      <td>0.0</td>\n",
       "      <td>0.0</td>\n",
       "      <td>0.0</td>\n",
       "      <td>0.0</td>\n",
       "    </tr>\n",
       "  </tbody>\n",
       "</table>\n",
       "<p>2 rows × 1439 columns</p>\n",
       "</div>"
      ],
      "text/plain": [
       "          O   cN  cc(n)N  cc(c)n  cnc  ncn  cn(c)C  C[C@H](n)O  COC  \\\n",
       "C00001  1.0  0.0     0.0     0.0  0.0  0.0     0.0         0.0  0.0   \n",
       "C00002  0.0  1.0     1.0     1.0  3.0  2.0     1.0         1.0  1.0   \n",
       "\n",
       "        C[C@H](C)O  ...  [NH]N  [N]=N[NH]  CC(=C)[N+]  C/C(=C)N  co[nH]  \\\n",
       "C00001         0.0  ...    0.0        0.0         0.0       0.0     0.0   \n",
       "C00002         3.0  ...    0.0        0.0         0.0       0.0     0.0   \n",
       "\n",
       "        c[nH]o  CS(=c)[O-]  CS(=c)O  [NH3+]CS  CC([n+])O  \n",
       "C00001     0.0         0.0      0.0       0.0        0.0  \n",
       "C00002     0.0         0.0      0.0       0.0        0.0  \n",
       "\n",
       "[2 rows x 1439 columns]"
      ]
     },
     "execution_count": 45,
     "metadata": {},
     "output_type": "execute_result"
    }
   ],
   "source": [
    "df_subs.head(2)"
   ]
  },
  {
   "cell_type": "code",
   "execution_count": 46,
   "metadata": {},
   "outputs": [
    {
     "data": {
      "text/plain": [
       "array([1., 0., 0., ..., 0., 0., 0.])"
      ]
     },
     "execution_count": 46,
     "metadata": {},
     "output_type": "execute_result"
    }
   ],
   "source": [
    "df_subs.loc[\"C00001\", :].values"
   ]
  },
  {
   "cell_type": "code",
   "execution_count": 54,
   "metadata": {},
   "outputs": [
    {
     "name": "stdout",
     "output_type": "stream",
     "text": [
      "*********CPU times: user 2h 13min 12s, sys: 3.85 s, total: 2h 13min 16s\n",
      "Wall time: 2h 13min 15s\n"
     ]
    }
   ],
   "source": [
    "%%time\n",
    "correct = 0\n",
    "thresh = 0.33\n",
    "k=5000\n",
    "i=0\n",
    "\n",
    "# iterate through validation data pairs\n",
    "for enz,subs in zip(X_valid_name[:k], X_valid_subs[:k]):\n",
    "    # get given substrate feature\n",
    "    sub_feat = df_subs.loc[subs,:].values\n",
    "    i += 1\n",
    "    progress=i/k \n",
    "    if progress in [0.1, 0.2, 0.3, 0.4, 0.5, 0.6, 0.7, 0.8, 0.9]:\n",
    "        print(\"*\",end=\"\")\n",
    "    \n",
    "    # iterate through all other substrates in df_subs\n",
    "    for nat_sub in df_subs.index:\n",
    "        if nat_sub != subs:\n",
    "            nat_sub_feat = df_subs.loc[nat_sub,:].values\n",
    "            # get tanimoto index between native and given substrate\n",
    "            tani_idx = get_tanimoto_index(sub_feat, nat_sub_feat)\n",
    "            # if tani is greater than threshold\n",
    "            if tani_idx >= thresh:\n",
    "                if nat_sub in tani_data_dir:\n",
    "                    reacting_enz_list = tani_data_dir[nat_sub]\n",
    "                    if enz in reacting_enz_list:\n",
    "                        correct += 1\n",
    "                        break"
   ]
  },
  {
   "cell_type": "code",
   "execution_count": 55,
   "metadata": {},
   "outputs": [
    {
     "data": {
      "text/plain": [
       "0.3974"
      ]
     },
     "execution_count": 55,
     "metadata": {},
     "output_type": "execute_result"
    }
   ],
   "source": [
    "correct/k"
   ]
  },
  {
   "cell_type": "code",
   "execution_count": 56,
   "metadata": {},
   "outputs": [
    {
     "data": {
      "text/plain": [
       "0.9062"
      ]
     },
     "execution_count": 56,
     "metadata": {},
     "output_type": "execute_result"
    }
   ],
   "source": [
    "len(np.where(scores_valid[:k]>1)[0])/k"
   ]
  },
  {
   "cell_type": "code",
   "execution_count": 57,
   "metadata": {},
   "outputs": [
    {
     "name": "stdout",
     "output_type": "stream",
     "text": [
      "*********CPU times: user 2h 52min 55s, sys: 3.44 s, total: 2h 52min 58s\n",
      "Wall time: 2h 52min 57s\n"
     ]
    }
   ],
   "source": [
    "%%time\n",
    "incorrect = 0\n",
    "thresh = 0.33\n",
    "k=5000\n",
    "i=0\n",
    "\n",
    "# iterate through validation data pairs\n",
    "for enz,subs in zip(X_valid_name_neg[:k], X_valid_subs_neg[:k]):\n",
    "    # get given substrate feature\n",
    "    sub_feat = df_subs.loc[subs,:].values\n",
    "    i += 1\n",
    "    progress=i/k \n",
    "    if progress in [0.1, 0.2, 0.3, 0.4, 0.5, 0.6, 0.7, 0.8, 0.9]:\n",
    "        print(\"*\",end=\"\")\n",
    "    \n",
    "    # iterate through all other substrates in df_subs\n",
    "    for nat_sub in df_subs.index:\n",
    "        if nat_sub != subs:\n",
    "            nat_sub_feat = df_subs.loc[nat_sub,:].values\n",
    "            # get tanimoto index between native and given substrate\n",
    "            tani_idx = get_tanimoto_index(sub_feat, nat_sub_feat)\n",
    "            # if tani is greater than threshold\n",
    "            if tani_idx >= thresh:\n",
    "                if nat_sub in tani_data_dir:\n",
    "                    reacting_enz_list = tani_data_dir[nat_sub]\n",
    "                    if enz in reacting_enz_list:\n",
    "                        incorrect += 1\n",
    "                        break"
   ]
  },
  {
   "cell_type": "code",
   "execution_count": 58,
   "metadata": {},
   "outputs": [
    {
     "data": {
      "text/plain": [
       "0.8884"
      ]
     },
     "execution_count": 58,
     "metadata": {},
     "output_type": "execute_result"
    }
   ],
   "source": [
    "(k-incorrect)/k"
   ]
  },
  {
   "cell_type": "code",
   "execution_count": 59,
   "metadata": {},
   "outputs": [
    {
     "data": {
      "text/plain": [
       "0.3486"
      ]
     },
     "execution_count": 59,
     "metadata": {},
     "output_type": "execute_result"
    }
   ],
   "source": [
    "len(np.where(scores_valid_neg[:k]<1)[0])/k"
   ]
  },
  {
   "cell_type": "code",
   "execution_count": null,
   "metadata": {},
   "outputs": [],
   "source": []
  }
 ],
 "metadata": {
  "kernelspec": {
   "display_name": "Python 3",
   "language": "python",
   "name": "python3"
  },
  "language_info": {
   "codemirror_mode": {
    "name": "ipython",
    "version": 3
   },
   "file_extension": ".py",
   "mimetype": "text/x-python",
   "name": "python",
   "nbconvert_exporter": "python",
   "pygments_lexer": "ipython3",
   "version": "3.8.3"
  }
 },
 "nbformat": 4,
 "nbformat_minor": 5
}

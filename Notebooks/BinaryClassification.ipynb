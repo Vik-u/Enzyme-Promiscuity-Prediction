{
 "cells": [
  {
   "cell_type": "code",
   "execution_count": 1,
   "metadata": {},
   "outputs": [],
   "source": [
    "# modules\n",
    "import os\n",
    "import sys\n",
    "sys.path.append('../')\n",
    "import pandas as pd\n",
    "from sklearn.model_selection import train_test_split\n",
    "from IndModels.ModelsEdited import NGModel,GAACModel\n",
    "import numpy as np\n",
    "from mySVM.model import SVM\n",
    "from GBClassifier.model import GBC\n",
    "from Ensemble.model import Ensemble\n",
    "import multiprocessing as mp\n",
    "from sklearn.metrics import precision_score"
   ]
  },
  {
   "cell_type": "code",
   "execution_count": 2,
   "metadata": {},
   "outputs": [],
   "source": [
    "class EClassification:\n",
    "    \n",
    "    def __init__(self,enzymedata,ifeaturefilenames,ifeaturelabelfile,random_seed=None):\n",
    "        \n",
    "        self.random_seed = random_seed\n",
    "        \n",
    "        # original data based on which everything is obtained\n",
    "        self.df = pd.read_csv(enzymedata,header=None).iloc[np.random.randint(low=0,high=6052,size=6000),:]\n",
    "        self.enz_names = self.df[0].values\n",
    "        self.X = self.df.iloc[:,1].values\n",
    "        self.y = self.df.iloc[:,-1].values\n",
    "        \n",
    "        # training and testing data for kmer and gaakmer - will be used for others as well\n",
    "        self.X_train, self.X_test, self.y_train, self.y_test,self.enz_train,self.enz_test = train_test_split(self.X, self.y,self.enz_names, test_size=0.5, random_state=self.random_seed)\n",
    "        \n",
    "        #ng and gaang model\n",
    "#         self.ngmodel = NGModel(self.X_train,self.X_test,self.y_train,self.y_test,random_seed=self.random_seed,pca_components=75,kernparam='rbf',regCparam=5)\n",
    "#         self.gmodel = GAACModel(self.X_train,self.X_test,self.y_train,self.y_test,random_seed=self.random_seed,pca_components=75,kernparam='rbf',regCparam=5)\n",
    "        \n",
    "        self.ngmodel = NGModel(self.X_train,self.X_test,self.y_train,self.y_test,random_seed=self.random_seed,pca_components=75,SVM=False,GBC=True,nestparam=250,lrateparam=0.1,mdepthparam=5,ssampleparam=1)\n",
    "        self.gmodel = GAACModel(self.X_train,self.X_test,self.y_train,self.y_test,random_seed=self.random_seed,pca_components=75,SVM=False,GBC=True,nestparam=250,lrateparam=0.1,mdepthparam=5,ssampleparam=1)\n",
    "\n",
    "        \n",
    "        self.ifeat_label_file = ifeaturelabelfile\n",
    "        \n",
    "        #multiprocessing \n",
    "#         pool = mp.Pool(mp.cpu_count())\n",
    "        \n",
    "        # getting all SVM objects together \n",
    "        self.SVMobjects = list(map(self.get_model_ifeat,ifeaturefilenames))\n",
    "#         self.SVMobjects.extend([self.ngmodel.SVMobject,self.gmodel.SVMobject])\n",
    "        self.SVMobjects.extend([self.ngmodel.GBCobject,self.gmodel.GBCobject])\n",
    "        \n",
    "        self.model_names = [ifeatname.replace('../data/feat_vec/','').replace('.csv','') for ifeatname in ifeaturefilenames]\n",
    "        self.model_names.extend(['ngmodel','gmodel'])\n",
    "        \n",
    "        # select only the best models based on training\n",
    "        self.best_idx,self.best_models = self.select_top_models(self.SVMobjects)\n",
    "        self.best_model_names = np.array(self.model_names)[self.best_idx]\n",
    "        \n",
    "        # getting all model predictions together\n",
    "        self.all_model_preds = [svmo.ypredtest for svmo in self.best_models]\n",
    "        self.en = Ensemble(self.all_model_preds,self.y_test)\n",
    "        self.precision = precision_score(self.y_test,self.en.preds)\n",
    "        \n",
    "        pass\n",
    "    \n",
    "    \n",
    "    def get_model_ifeat(self,ifeatfilename):\n",
    "        df1 = pd.read_csv(ifeatfilename,header=None)\n",
    "        df2 = pd.read_csv(self.ifeat_label_file,header=None)\n",
    "        df_feat = df1.merge(df2,on=0).set_index(0)\n",
    "        enz_name_train = self.enz_train\n",
    "        enz_name_test = self.enz_test\n",
    "        df_feat_train = df_feat.loc[enz_name_train]\n",
    "        df_feat_test = df_feat.loc[enz_name_test]\n",
    "        X_train_feat,y_train_feat = df_feat_train.iloc[:,0:-1].values,df_feat_train.iloc[:,-1].values\n",
    "        X_test_feat,y_test_feat = df_feat_test.iloc[:,0:-1].values,df_feat_test.iloc[:,-1].values\n",
    "        if X_train_feat.shape[1]<75:\n",
    "            n_comp = int(0.75*X_train_feat.shape[1])\n",
    "        else:\n",
    "            n_comp=75\n",
    "#         svm = SVM(X_train_feat,X_test_feat,y_train_feat,y_test_feat,verbose=False,optimize=False, pca_comp=n_comp,random_seed=self.random_seed,kern='rbf',regC=5)\n",
    "        svm = GBC(X_train_feat,X_test_feat,y_train_feat,y_test_feat,verbose=False,optimize=False, pca_comp=n_comp,random_seed=self.random_seed,nest=250,lrate=0.1,mdepth=5,ssample=1)\n",
    "        return svm\n",
    "        \n",
    "    def select_top_models(self,SVMOs):\n",
    "        svm_train_accs = [svmo.acc_train for svmo in SVMOs]\n",
    "        sorted_idx = np.argsort(svm_train_accs)[::-1]\n",
    "        best_idx = sorted_idx[:]\n",
    "        return best_idx,np.array(SVMOs)[best_idx]\n",
    "        "
   ]
  },
  {
   "cell_type": "code",
   "execution_count": 3,
   "metadata": {},
   "outputs": [
    {
     "name": "stdout",
     "output_type": "stream",
     "text": [
      "CPU times: user 9min 8s, sys: 11.3 s, total: 9min 20s\n",
      "Wall time: 9min 19s\n"
     ]
    }
   ],
   "source": [
    "%%time\n",
    "if __name__=='__main__':\n",
    "    datadir = '../data/'\n",
    "    enz_file = datadir + 'Enzyme_Dataset.csv'\n",
    "    \n",
    "\n",
    "\n",
    "    # Feature files for iFeature \n",
    "    ifeatdatadir = '../data/feat_vec/'\n",
    "    ifeature_files = [ifeatdatadir+f.name for f in os.scandir(ifeatdatadir)]\n",
    "    ifeatlabelfile = '../data/ifeat_labels.csv'\n",
    "\n",
    "    ec = EClassification(enz_file,ifeature_files,ifeatlabelfile)\n",
    "    "
   ]
  },
  {
   "cell_type": "code",
   "execution_count": 4,
   "metadata": {},
   "outputs": [
    {
     "data": {
      "text/plain": [
       "0.787"
      ]
     },
     "execution_count": 4,
     "metadata": {},
     "output_type": "execute_result"
    }
   ],
   "source": [
    "ec.en.acc"
   ]
  },
  {
   "cell_type": "code",
   "execution_count": 5,
   "metadata": {
    "scrolled": true
   },
   "outputs": [
    {
     "data": {
      "text/plain": [
       "array(['gmodel', 'TPC', 'CTDD', 'QSOrder', 'GTPC', 'CKSAAP', 'CKSAAGP',\n",
       "       'APAAC', 'SOCNumber', 'CTDT', 'Moran', 'GDPC', 'CTriad', 'NMBroto',\n",
       "       'CTDC', 'AAC', 'PAAC', 'KSCTriad', 'Geary', 'DPC', 'DDE',\n",
       "       'ngmodel', 'GAAC'], dtype='<U9')"
      ]
     },
     "execution_count": 5,
     "metadata": {},
     "output_type": "execute_result"
    }
   ],
   "source": [
    "ec.best_model_names"
   ]
  },
  {
   "cell_type": "code",
   "execution_count": 6,
   "metadata": {},
   "outputs": [],
   "source": [
    "test_accs =  [so.acc_test for so in np.array(ec.SVMobjects)[ec.best_idx]]"
   ]
  },
  {
   "cell_type": "code",
   "execution_count": 7,
   "metadata": {},
   "outputs": [],
   "source": [
    "train_accs =  [so.acc_train for so in np.array(ec.SVMobjects)[ec.best_idx]]"
   ]
  },
  {
   "cell_type": "code",
   "execution_count": 8,
   "metadata": {},
   "outputs": [
    {
     "data": {
      "text/plain": [
       "(1.0, 0.9266666666666666, 0.9927826086956525)"
      ]
     },
     "execution_count": 8,
     "metadata": {},
     "output_type": "execute_result"
    }
   ],
   "source": [
    "max(train_accs),min(train_accs),np.mean(train_accs)"
   ]
  },
  {
   "cell_type": "code",
   "execution_count": 9,
   "metadata": {},
   "outputs": [
    {
     "data": {
      "text/plain": [
       "(0.777, 0.7346666666666667, 0.7583623188405796)"
      ]
     },
     "execution_count": 9,
     "metadata": {},
     "output_type": "execute_result"
    }
   ],
   "source": [
    "max(test_accs),min(test_accs),np.mean(test_accs)"
   ]
  },
  {
   "cell_type": "code",
   "execution_count": null,
   "metadata": {},
   "outputs": [],
   "source": []
  }
 ],
 "metadata": {
  "kernelspec": {
   "display_name": "Python 3",
   "language": "python",
   "name": "python3"
  },
  "language_info": {
   "codemirror_mode": {
    "name": "ipython",
    "version": 3
   },
   "file_extension": ".py",
   "mimetype": "text/x-python",
   "name": "python",
   "nbconvert_exporter": "python",
   "pygments_lexer": "ipython3",
   "version": "3.6.7"
  }
 },
 "nbformat": 4,
 "nbformat_minor": 4
}

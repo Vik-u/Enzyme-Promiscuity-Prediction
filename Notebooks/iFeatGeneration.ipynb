{
 "cells": [
  {
   "cell_type": "code",
   "execution_count": 1,
   "metadata": {},
   "outputs": [],
   "source": [
    "import os\n",
    "import pandas as pd\n",
    "import multiprocessing as mp"
   ]
  },
  {
   "cell_type": "code",
   "execution_count": 8,
   "metadata": {},
   "outputs": [],
   "source": [
    "enz_filename = '../data/Enzyme_Dataset.csv'\n",
    "fastafile = '../data/training_fasta_seq.fa'\n",
    "\n",
    "def file2fasta(seqfile,newfile):\n",
    "    with open(seqfile,'r') as f:\n",
    "        with open(newfile,'w') as nf:\n",
    "\n",
    "            for lines in f:\n",
    "                enz_vals = lines.strip('\\n').split(',')\n",
    "                nf.write(f'>{enz_vals[0]}')\n",
    "                nf.write('\\n')\n",
    "                nf.write(enz_vals[1])\n",
    "                nf.write('\\n')\n",
    "\n",
    "    return "
   ]
  },
  {
   "cell_type": "code",
   "execution_count": 3,
   "metadata": {},
   "outputs": [],
   "source": [
    "output_dir = '../data/feat_file/'\n",
    "ifeature_filepath = '../../iFeature/iFeature.py'\n",
    "featvec_out_dir = '../data/feat_vec/'"
   ]
  },
  {
   "cell_type": "code",
   "execution_count": 4,
   "metadata": {},
   "outputs": [],
   "source": [
    "ftypes = ['AAC','CKSAAP','TPC','DPC','DDE','GAAC','CKSAAGP',\n",
    "          'GTPC','GDPC','Moran','Geary','NMBroto','CTDC','CTDT',\n",
    "          'CTDD','CTriad','KSCTriad','SOCNumber','QSOrder',\n",
    "          'PAAC','APAAC']"
   ]
  },
  {
   "cell_type": "code",
   "execution_count": 5,
   "metadata": {},
   "outputs": [],
   "source": [
    "def bash_func(ftype):\n",
    "    output_filename = output_dir+ftype+'.tsv'\n",
    "    !python $ifeature_filepath --file $fastafile --type $ftype --out $output_filename\n",
    "    return"
   ]
  },
  {
   "cell_type": "code",
   "execution_count": 6,
   "metadata": {},
   "outputs": [
    {
     "name": "stdout",
     "output_type": "stream",
     "text": [
      "saving to ../data/feat_file/\n",
      "Descriptor type: AAC\n",
      "Descriptor type: CKSAAP\n",
      "Descriptor type: DPC\n",
      "Descriptor type: DDE\n",
      "Descriptor type: GAAC\n",
      "Descriptor type: CKSAAGP\n",
      "Descriptor type: TPC\n",
      "Descriptor type: GTPC\n",
      "Descriptor type: GDPC\n",
      "Descriptor type: Moran\n",
      "Descriptor type: Geary\n",
      "Descriptor type: NMBroto\n",
      "Descriptor type: CTDC\n",
      "Descriptor type: CTDT\n",
      "Descriptor type: CTDD\n",
      "Descriptor type: CTriad\n",
      "Descriptor type: KSCTriad\n",
      "Descriptor type: SOCNumber\n",
      "Descriptor type: QSOrder\n",
      "Descriptor type: PAAC\n",
      "Descriptor type: APAAC\n"
     ]
    }
   ],
   "source": [
    "if __name__=='__main__':\n",
    "    file2fasta(enz_filename,fastafile)\n",
    "    !mkdir -p $output_dir\n",
    "    !echo 'saving to '$output_dir\n",
    "    \n",
    "    pool = mp.Pool(mp.cpu_count())\n",
    "    pool.map(bash_func,ftypes)\n",
    "    \n",
    "    !mkdir -p $featvec_out_dir\n",
    "\n",
    "    for f in list(os.scandir(output_dir)):\n",
    "        if f.name.endswith('.tsv'):\n",
    "            filename = f.name\n",
    "            df = pd.read_csv(output_dir+filename,sep='\\t',header=None,skiprows=1)\n",
    "            new_filename = filename.replace('.tsv','.csv')\n",
    "            df.to_csv(featvec_out_dir+new_filename,header=False,index=False)\n",
    "    \n",
    "    "
   ]
  },
  {
   "cell_type": "code",
   "execution_count": 9,
   "metadata": {},
   "outputs": [],
   "source": [
    "#iFeat Label Generation\n",
    "enz_df = pd.read_csv(enz_filename,header=None)"
   ]
  },
  {
   "cell_type": "code",
   "execution_count": 11,
   "metadata": {},
   "outputs": [],
   "source": [
    "enz_df.iloc[:,[0,2]].to_csv('../data/ifeat_labels.csv',index=False,header=False)"
   ]
  },
  {
   "cell_type": "code",
   "execution_count": null,
   "metadata": {},
   "outputs": [],
   "source": []
  }
 ],
 "metadata": {
  "kernelspec": {
   "display_name": "Python 3",
   "language": "python",
   "name": "python3"
  },
  "language_info": {
   "codemirror_mode": {
    "name": "ipython",
    "version": 3
   },
   "file_extension": ".py",
   "mimetype": "text/x-python",
   "name": "python",
   "nbconvert_exporter": "python",
   "pygments_lexer": "ipython3",
   "version": "3.7.9"
  }
 },
 "nbformat": 4,
 "nbformat_minor": 4
}

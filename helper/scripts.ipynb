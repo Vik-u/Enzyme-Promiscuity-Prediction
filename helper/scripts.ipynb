{
 "cells": [
  {
   "cell_type": "code",
   "execution_count": 1,
   "metadata": {},
   "outputs": [],
   "source": [
    "import numpy as np"
   ]
  },
  {
   "cell_type": "code",
   "execution_count": 2,
   "metadata": {},
   "outputs": [],
   "source": [
    "def read_fasta(filename):\n",
    "    names = []\n",
    "    sequences = []\n",
    "    with open(filename,'r') as f:\n",
    "        for lines in f:\n",
    "            if lines.startswith('>'):\n",
    "                names.append(lines.strip().replace('>',''))\n",
    "            else:\n",
    "                sequences.append(lines.strip())\n",
    "    return names,sequences"
   ]
  },
  {
   "cell_type": "code",
   "execution_count": 3,
   "metadata": {},
   "outputs": [],
   "source": [
    "def read_pssm_profile(filename):\n",
    "    matrix = []\n",
    "    with open(filename,'r') as f:\n",
    "        all_lines = f.readlines()\n",
    "        for i,line in enumerate(all_lines):\n",
    "            if i>2 and i<(len(all_lines)-6):\n",
    "                matrix.append(line.strip().split())\n",
    "    return np.array(matrix)"
   ]
  }
 ],
 "metadata": {
  "kernelspec": {
   "display_name": "Python 3",
   "language": "python",
   "name": "python3"
  },
  "language_info": {
   "codemirror_mode": {
    "name": "ipython",
    "version": 3
   },
   "file_extension": ".py",
   "mimetype": "text/x-python",
   "name": "python",
   "nbconvert_exporter": "python",
   "pygments_lexer": "ipython3",
   "version": "3.8.3"
  }
 },
 "nbformat": 4,
 "nbformat_minor": 4
}
